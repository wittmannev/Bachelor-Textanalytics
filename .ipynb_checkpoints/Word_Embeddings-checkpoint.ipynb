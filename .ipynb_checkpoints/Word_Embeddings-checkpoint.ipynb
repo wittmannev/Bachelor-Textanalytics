{
 "cells": [
  {
   "cell_type": "markdown",
   "metadata": {
    "toc": true
   },
   "source": [
    "<h1>Table of Contents<span class=\"tocSkip\"></span></h1>\n",
    "<div class=\"toc\"><ul class=\"toc-item\"><li><span><a href=\"#Word-Embeddings-zu-Entscheidungsgründen\" data-toc-modified-id=\"Word-Embeddings-zu-Entscheidungsgründen-1\"><span class=\"toc-item-num\">1&nbsp;&nbsp;</span>Word Embeddings zu Entscheidungsgründen</a></span><ul class=\"toc-item\"><li><span><a href=\"#Datenvorbereitung\" data-toc-modified-id=\"Datenvorbereitung-1.1\"><span class=\"toc-item-num\">1.1&nbsp;&nbsp;</span>Datenvorbereitung</a></span><ul class=\"toc-item\"><li><span><a href=\"#Datenimport\" data-toc-modified-id=\"Datenimport-1.1.1\"><span class=\"toc-item-num\">1.1.1&nbsp;&nbsp;</span>Datenimport</a></span></li><li><span><a href=\"#Datenaufbereitung\" data-toc-modified-id=\"Datenaufbereitung-1.1.2\"><span class=\"toc-item-num\">1.1.2&nbsp;&nbsp;</span>Datenaufbereitung</a></span></li></ul></li><li><span><a href=\"#Training-der-Word-Embeddings\" data-toc-modified-id=\"Training-der-Word-Embeddings-1.2\"><span class=\"toc-item-num\">1.2&nbsp;&nbsp;</span>Training der Word Embeddings</a></span></li><li><span><a href=\"#Similarity-Queries\" data-toc-modified-id=\"Similarity-Queries-1.3\"><span class=\"toc-item-num\">1.3&nbsp;&nbsp;</span>Similarity-Queries</a></span></li><li><span><a href=\"#Visualisierung\" data-toc-modified-id=\"Visualisierung-1.4\"><span class=\"toc-item-num\">1.4&nbsp;&nbsp;</span>Visualisierung</a></span></li><li><span><a href=\"#Fazit\" data-toc-modified-id=\"Fazit-1.5\"><span class=\"toc-item-num\">1.5&nbsp;&nbsp;</span>Fazit</a></span></li></ul></li><li><span><a href=\"#Word-Embeddings-zu-Verbesserungsvorschlägen\" data-toc-modified-id=\"Word-Embeddings-zu-Verbesserungsvorschlägen-2\"><span class=\"toc-item-num\">2&nbsp;&nbsp;</span>Word Embeddings zu Verbesserungsvorschlägen</a></span><ul class=\"toc-item\"><li><span><a href=\"#Datenvorbereitung\" data-toc-modified-id=\"Datenvorbereitung-2.1\"><span class=\"toc-item-num\">2.1&nbsp;&nbsp;</span>Datenvorbereitung</a></span><ul class=\"toc-item\"><li><span><a href=\"#Datenimport\" data-toc-modified-id=\"Datenimport-2.1.1\"><span class=\"toc-item-num\">2.1.1&nbsp;&nbsp;</span>Datenimport</a></span></li><li><span><a href=\"#Datenaufbereitung\" data-toc-modified-id=\"Datenaufbereitung-2.1.2\"><span class=\"toc-item-num\">2.1.2&nbsp;&nbsp;</span>Datenaufbereitung</a></span></li></ul></li><li><span><a href=\"#Training-der-Word-Embeddings\" data-toc-modified-id=\"Training-der-Word-Embeddings-2.2\"><span class=\"toc-item-num\">2.2&nbsp;&nbsp;</span>Training der Word Embeddings</a></span></li><li><span><a href=\"#Similarity-Queries\" data-toc-modified-id=\"Similarity-Queries-2.3\"><span class=\"toc-item-num\">2.3&nbsp;&nbsp;</span>Similarity-Queries</a></span></li><li><span><a href=\"#Visualisierung\" data-toc-modified-id=\"Visualisierung-2.4\"><span class=\"toc-item-num\">2.4&nbsp;&nbsp;</span>Visualisierung</a></span></li><li><span><a href=\"#Fazit\" data-toc-modified-id=\"Fazit-2.5\"><span class=\"toc-item-num\">2.5&nbsp;&nbsp;</span>Fazit</a></span></li></ul></li></ul></div>"
   ]
  },
  {
   "cell_type": "code",
   "execution_count": 1,
   "metadata": {
    "ExecuteTime": {
     "end_time": "2020-02-15T21:04:35.534011Z",
     "start_time": "2020-02-15T21:04:27.243333Z"
    }
   },
   "outputs": [],
   "source": [
    "%%capture\n",
    "# import pandas, numpy\n",
    "import pandas as pd\n",
    "import numpy as np\n",
    "\n",
    "# adjust pandas display\n",
    "pd.options.display.max_columns = 30\n",
    "pd.options.display.max_rows = 100\n",
    "pd.options.display.float_format = '{:.2f}'.format\n",
    "pd.options.display.precision = 2\n",
    "pd.options.display.max_colwidth = -1\n",
    "\n",
    "%precision 4"
   ]
  },
  {
   "cell_type": "code",
   "execution_count": 2,
   "metadata": {
    "ExecuteTime": {
     "end_time": "2020-02-15T21:04:35.540935Z",
     "start_time": "2020-02-15T21:04:35.535947Z"
    }
   },
   "outputs": [],
   "source": [
    "# for pretty printing\n",
    "import pprint as pp\n",
    "\n",
    "# IPython (Jupyter) setting: \n",
    "# Print out every value instead of just \"last_expr\" (default)\n",
    "from IPython.core.interactiveshell import InteractiveShell\n",
    "InteractiveShell.ast_node_interactivity = \"all\"\n",
    "\n",
    "# Warnungen unterdrücken\n",
    "import warnings;\n",
    "warnings.filterwarnings('ignore');"
   ]
  },
  {
   "cell_type": "markdown",
   "metadata": {},
   "source": [
    "# Word Embeddings zu Entscheidungsgründen"
   ]
  },
  {
   "cell_type": "markdown",
   "metadata": {},
   "source": [
    "Um die Entscheidungsgründe nach dem Clustering genauer zu identifizieren werden nun Word Embeddings auf den geschriebenen Texten gebildet."
   ]
  },
  {
   "cell_type": "markdown",
   "metadata": {},
   "source": [
    "## Datenvorbereitung"
   ]
  },
  {
   "cell_type": "markdown",
   "metadata": {},
   "source": [
    "### Datenimport"
   ]
  },
  {
   "cell_type": "code",
   "execution_count": 3,
   "metadata": {
    "ExecuteTime": {
     "end_time": "2020-02-15T21:04:37.953641Z",
     "start_time": "2020-02-15T21:04:36.664980Z"
    }
   },
   "outputs": [
    {
     "data": {
      "text/html": [
       "<div>\n",
       "<style scoped>\n",
       "    .dataframe tbody tr th:only-of-type {\n",
       "        vertical-align: middle;\n",
       "    }\n",
       "\n",
       "    .dataframe tbody tr th {\n",
       "        vertical-align: top;\n",
       "    }\n",
       "\n",
       "    .dataframe thead th {\n",
       "        text-align: right;\n",
       "    }\n",
       "</style>\n",
       "<table border=\"1\" class=\"dataframe\">\n",
       "  <thead>\n",
       "    <tr style=\"text-align: right;\">\n",
       "      <th></th>\n",
       "      <th>Gründe</th>\n",
       "    </tr>\n",
       "  </thead>\n",
       "  <tbody>\n",
       "    <tr>\n",
       "      <th>486</th>\n",
       "      <td>Ich wurde von klein auf darin gestärkt das zu tun was mich interessiert. So habe ich bereits im Kindergarten Bagger und Spielzeugautos dem Puppenhaus vorgezogen. Ich wurde nie von irgendjemandem zu 'mädchentypischen' Interessen gedrängt. Vielmehr wurde ich eher gelobt, dass ich mein eigenes Ding mache. das hat sich auch in der Grundschule so fortgesetzt. Am Gymnasium kam ich dann bereits mit ersten Initiativen in Berührung die Mädchen für MINT - Fächer motivieren sollen und dies hat meine Interessen für Physik und Technik gestärkt. Physik hatte ich während der  Oberstufe sogar als Hauptfach und habe eine schriftliche Abiturprüfung darin abgelegt. , Da ich in der Schule immer relativ gut war wurde natürlich auch öfter davon gesprochen ob ich denn nicht Medizin studieren möchte. Da mich der Beruf Arzt wenig gereizt hat, sehr wohl aber medizinische Themen habe ich mich für die Kombination von Medizin und Technik entschieden.</td>\n",
       "    </tr>\n",
       "    <tr>\n",
       "      <th>407</th>\n",
       "      <td>Ich habe es nie in Erwägung gezogen. Zwar finde ich Mathematik, Physik und Chemie sehr interessant, aber dies zu studieren, wollte ich nicht: die Algebra in der Schule (die integraler Bestandteil nicht nur in Mathematik war, sondern oft auch das einzige, was eigentlich in Physik-Klausuren abgeprüft wurde) hat mir nicht gefallen. Ich war schlichtweg zu langsam.</td>\n",
       "    </tr>\n",
       "  </tbody>\n",
       "</table>\n",
       "</div>"
      ],
      "text/plain": [
       "                                                                                                                                                                                                                                                                                                                                                                                                                                                                                                                                                                                                                                                                                                                                                                                                                                                                                                                                                                      Gründe\n",
       "486  Ich wurde von klein auf darin gestärkt das zu tun was mich interessiert. So habe ich bereits im Kindergarten Bagger und Spielzeugautos dem Puppenhaus vorgezogen. Ich wurde nie von irgendjemandem zu 'mädchentypischen' Interessen gedrängt. Vielmehr wurde ich eher gelobt, dass ich mein eigenes Ding mache. das hat sich auch in der Grundschule so fortgesetzt. Am Gymnasium kam ich dann bereits mit ersten Initiativen in Berührung die Mädchen für MINT - Fächer motivieren sollen und dies hat meine Interessen für Physik und Technik gestärkt. Physik hatte ich während der  Oberstufe sogar als Hauptfach und habe eine schriftliche Abiturprüfung darin abgelegt. , Da ich in der Schule immer relativ gut war wurde natürlich auch öfter davon gesprochen ob ich denn nicht Medizin studieren möchte. Da mich der Beruf Arzt wenig gereizt hat, sehr wohl aber medizinische Themen habe ich mich für die Kombination von Medizin und Technik entschieden.\n",
       "407  Ich habe es nie in Erwägung gezogen. Zwar finde ich Mathematik, Physik und Chemie sehr interessant, aber dies zu studieren, wollte ich nicht: die Algebra in der Schule (die integraler Bestandteil nicht nur in Mathematik war, sondern oft auch das einzige, was eigentlich in Physik-Klausuren abgeprüft wurde) hat mir nicht gefallen. Ich war schlichtweg zu langsam.                                                                                                                                                                                                                                                                                                                                                                                                                                                                                                                                                                                             "
      ]
     },
     "execution_count": 3,
     "metadata": {},
     "output_type": "execute_result"
    }
   ],
   "source": [
    "import sqlite3\n",
    "import pandas as pd\n",
    "import os.path\n",
    "\n",
    "dbPath = \"database/bachelor_umfrage.db\"\n",
    "\n",
    "def get_embeddings_data(table_name=\"word_embeddings\"):\n",
    "    df = pd.DataFrame()\n",
    "    if os.path.isfile(dbPath):\n",
    "        conn = sqlite3.connect(dbPath)\n",
    "        sql = \"SELECT Gründe FROM \" + table_name\n",
    "        sql += \" WHERE Gründe IS NOT NULL\"\n",
    "        df = pd.read_sql_query(sql, conn)\n",
    "    else:\n",
    "        print(\"Datenbank oder Tabelle konnte nicht gefunden werden.\")\n",
    "    return df\n",
    "\n",
    "reason_df = get_embeddings_data(table_name=\"word_embeddings\")\n",
    "reason_df.sample(2)"
   ]
  },
  {
   "cell_type": "markdown",
   "metadata": {},
   "source": [
    "### Datenaufbereitung"
   ]
  },
  {
   "cell_type": "markdown",
   "metadata": {},
   "source": [
    "Es erfolgt die Datenaufbereitung mit Lemmatisierung und POS-Tagging (bezogen auf Substantive). Die Ergebnisse werden jeweils als Spalte dem Dataframe hinzugefügt."
   ]
  },
  {
   "cell_type": "code",
   "execution_count": 4,
   "metadata": {},
   "outputs": [],
   "source": [
    "import spacy\n",
    "# progress bar\n",
    "from tqdm import tqdm_notebook as tqdm\n",
    "\n",
    "nlp = spacy.load('de')\n",
    "\n",
    "def nlp_process(df, col):    \n",
    "    for i, row in df.iterrows():\n",
    "        \n",
    "        if(row[col] and len(str(row[col])) < 1000000):\n",
    "            spacy_doc = nlp(str(row[col]))\n",
    "            tokens = []\n",
    "            lemmas = []\n",
    "            nouns = []\n",
    "\n",
    "            for token in spacy_doc:\n",
    "                if token.pos_ in ('NOUN', 'PROPN'):\n",
    "                    nouns.append(token.lemma_)\n",
    "                if token.pos_ not in ('PUNCT'):\n",
    "                    lemmas.append(token.lemma_)\n",
    "                    tokens.append(token.text)\n",
    "\n",
    "            df.at[i, \"tokens\"] = \" \".join(tokens)                \n",
    "            df.at[i, \"lemmas\"] = \" \".join(lemmas)                \n",
    "            df.at[i, \"nouns\"] = \" \".join(nouns)\n",
    "            df.at[i, \"no_tokens\"] = len(lemmas)"
   ]
  },
  {
   "cell_type": "code",
   "execution_count": 5,
   "metadata": {},
   "outputs": [],
   "source": [
    "nlp_process(reason_df, 'Gründe')"
   ]
  },
  {
   "cell_type": "code",
   "execution_count": 6,
   "metadata": {},
   "outputs": [
    {
     "data": {
      "text/html": [
       "<div>\n",
       "<style scoped>\n",
       "    .dataframe tbody tr th:only-of-type {\n",
       "        vertical-align: middle;\n",
       "    }\n",
       "\n",
       "    .dataframe tbody tr th {\n",
       "        vertical-align: top;\n",
       "    }\n",
       "\n",
       "    .dataframe thead th {\n",
       "        text-align: right;\n",
       "    }\n",
       "</style>\n",
       "<table border=\"1\" class=\"dataframe\">\n",
       "  <thead>\n",
       "    <tr style=\"text-align: right;\">\n",
       "      <th></th>\n",
       "      <th>Gründe</th>\n",
       "      <th>lemmas</th>\n",
       "      <th>nouns</th>\n",
       "    </tr>\n",
       "  </thead>\n",
       "  <tbody>\n",
       "    <tr>\n",
       "      <th>95</th>\n",
       "      <td>vorherige Ausbildung zur Speditionskauffrau hat Interesse an Logistik und Lagertechnik geweckt, wollte aber nicht mein Leben lang im Schichtdienst arbeiten --&amp;gt; Studium Verkehrsingenieur (Dipl.-Ing.(FH)) , nach Abschluss bereits 5 Jahre im Berufsleben, nun Master als Weiterbildung</td>\n",
       "      <td>vorherig Ausbildung zur Speditionskauffrau haben Interesse an Logistik und Lagertechnik wecken wollen aber nicht meinen Leben langen im Schichtdienst arbeiten --&amp;gt Studium Verkehrsingenieur Dipl.-Ing.(FH nach Abschluss bereits 5 Jahr im Berufsleben nun Master als Weiterbildung</td>\n",
       "      <td>Ausbildung Speditionskauffrau Interesse Logistik Lagertechnik Leben Schichtdienst --&amp;gt Studium Verkehrsingenieur Dipl.-Ing.(FH Abschluss Jahr Berufsleben Master Weiterbildung</td>\n",
       "    </tr>\n",
       "    <tr>\n",
       "      <th>335</th>\n",
       "      <td>Die Existenz objektiver, indiskutabler Tatsachen (Lösung einer Gleichung, Eigenschaften eines Stoffes, Wirkungsprinzip eines physikalischen Vorgangs, Determinismus eines Algorithmuses) sind für mich wichtig, um ein Fachgebiet ernstzunehmen. Z. B. Gesetze, die mir missfallen, könnte ich schwer verfechten., , Des Weiteren begeistert es mich, zu verstehen, warum Dinge naturgesetz- und logikbedingt gut funktionieren.</td>\n",
       "      <td>der Existenz objektiv indiskutabel Tatsache Lösung einer Gleichung Eigenschaft ein Stoff Wirkungsprinzip ein physikalisch Vorgang Determinismus ein Algorithmuses sein für sich wichtig um einen Fachgebiet ernstzunehmen Z. B. Gesetz der sich missfallen können ich schwer verfechten der Weitere begeistern ich sich zu verstehen warum dingen naturgesetz- und logikbedingt gut funktionieren</td>\n",
       "      <td>Existenz Tatsache Lösung Gleichung Eigenschaft Stoff Wirkungsprinzip Vorgang Determinismus Algorithmuses Fachgebiet B. Gesetz Weitere dingen</td>\n",
       "    </tr>\n",
       "  </tbody>\n",
       "</table>\n",
       "</div>"
      ],
      "text/plain": [
       "                                                                                                                                                                                                                                                                                                                                                                                                                               Gründe  \\\n",
       "95   vorherige Ausbildung zur Speditionskauffrau hat Interesse an Logistik und Lagertechnik geweckt, wollte aber nicht mein Leben lang im Schichtdienst arbeiten --&gt; Studium Verkehrsingenieur (Dipl.-Ing.(FH)) , nach Abschluss bereits 5 Jahre im Berufsleben, nun Master als Weiterbildung                                                                                                                                        \n",
       "335  Die Existenz objektiver, indiskutabler Tatsachen (Lösung einer Gleichung, Eigenschaften eines Stoffes, Wirkungsprinzip eines physikalischen Vorgangs, Determinismus eines Algorithmuses) sind für mich wichtig, um ein Fachgebiet ernstzunehmen. Z. B. Gesetze, die mir missfallen, könnte ich schwer verfechten., , Des Weiteren begeistert es mich, zu verstehen, warum Dinge naturgesetz- und logikbedingt gut funktionieren.   \n",
       "\n",
       "                                                                                                                                                                                                                                                                                                                                                                                                lemmas  \\\n",
       "95   vorherig Ausbildung zur Speditionskauffrau haben Interesse an Logistik und Lagertechnik wecken wollen aber nicht meinen Leben langen im Schichtdienst arbeiten --&gt Studium Verkehrsingenieur Dipl.-Ing.(FH nach Abschluss bereits 5 Jahr im Berufsleben nun Master als Weiterbildung                                                                                                              \n",
       "335  der Existenz objektiv indiskutabel Tatsache Lösung einer Gleichung Eigenschaft ein Stoff Wirkungsprinzip ein physikalisch Vorgang Determinismus ein Algorithmuses sein für sich wichtig um einen Fachgebiet ernstzunehmen Z. B. Gesetz der sich missfallen können ich schwer verfechten der Weitere begeistern ich sich zu verstehen warum dingen naturgesetz- und logikbedingt gut funktionieren   \n",
       "\n",
       "                                                                                                                                                                               nouns  \n",
       "95   Ausbildung Speditionskauffrau Interesse Logistik Lagertechnik Leben Schichtdienst --&gt Studium Verkehrsingenieur Dipl.-Ing.(FH Abschluss Jahr Berufsleben Master Weiterbildung  \n",
       "335  Existenz Tatsache Lösung Gleichung Eigenschaft Stoff Wirkungsprinzip Vorgang Determinismus Algorithmuses Fachgebiet B. Gesetz Weitere dingen                                     "
      ]
     },
     "execution_count": 6,
     "metadata": {},
     "output_type": "execute_result"
    }
   ],
   "source": [
    "reason_df[['Gründe', 'lemmas', 'nouns']].sample(2)"
   ]
  },
  {
   "cell_type": "markdown",
   "metadata": {},
   "source": [
    "## Training der Word Embeddings"
   ]
  },
  {
   "cell_type": "markdown",
   "metadata": {},
   "source": [
    "Verewendung der Word2Vec Implementierung in Gensim um das Modell zu Trainieren."
   ]
  },
  {
   "cell_type": "code",
   "execution_count": 7,
   "metadata": {},
   "outputs": [],
   "source": [
    "import gensim\n",
    "\n",
    "# defaults\n",
    "# window: windows size\n",
    "# sg=0: to use skipgram set sg=1\n",
    "# hs=0: use hierarchical softmax for faster training of large datasets\n",
    "# negative=5: number of negative samples\n",
    "# min_count=2: minimal word count\n",
    "# sample=0.001: downsampling of frequent words\n",
    "# iter=5: number of epochs\n",
    "model = gensim.models.Word2Vec(reason_df['lemmas'].str.split(), size=50, window=5, sg=1, negative=5, \n",
    "                               min_count=2, workers=4, iter=25)"
   ]
  },
  {
   "cell_type": "markdown",
   "metadata": {},
   "source": [
    "Speichern des Modells"
   ]
  },
  {
   "cell_type": "code",
   "execution_count": 8,
   "metadata": {},
   "outputs": [],
   "source": [
    "model.save('word2vec_reason_model.bin')"
   ]
  },
  {
   "cell_type": "markdown",
   "metadata": {},
   "source": [
    "Laden des Modells"
   ]
  },
  {
   "cell_type": "code",
   "execution_count": 9,
   "metadata": {},
   "outputs": [],
   "source": [
    "#model = gensim.models.Word2Vec.load('word2vec_reason_model.bin')"
   ]
  },
  {
   "cell_type": "markdown",
   "metadata": {},
   "source": [
    "## Similarity-Queries"
   ]
  },
  {
   "cell_type": "markdown",
   "metadata": {},
   "source": [
    "Im folgenden werden zunächst die Wörter betrachtet, welche beim Clustering besonders häufig vorkamen. Dabei wird versucht durch die Word Embeddings eine genauere Vorstellung der Entscheidungsgründe zu bekommen. Die Wörter waren folgende:\n",
    "- Interesse\n",
    "- Schulen\n",
    "- Fach\n",
    "- Berufsaussichten\n",
    "- Mathe (& Chemie & Physik)\n",
    "- Erwägung\n",
    "- Ausbildung"
   ]
  },
  {
   "cell_type": "code",
   "execution_count": 10,
   "metadata": {},
   "outputs": [
    {
     "data": {
      "text/plain": [
       "[('Allgemeines', 0.9303),\n",
       " ('an', 0.9287),\n",
       " ('Naturwissenschaften', 0.9152),\n",
       " ('seit', 0.9096),\n",
       " ('Erfahrung', 0.9075),\n",
       " ('Fähigkeit', 0.9069),\n",
       " ('groß', 0.9062),\n",
       " ('Realschule', 0.8928),\n",
       " ('vorallem', 0.8846),\n",
       " ('Persönliches', 0.8841),\n",
       " ('Jugend', 0.8832),\n",
       " ('Schon', 0.8825),\n",
       " ('wecken', 0.8820),\n",
       " ('Technik', 0.8781),\n",
       " ('Meine', 0.8743),\n",
       " ('Großes', 0.8737),\n",
       " ('sowie', 0.8735),\n",
       " ('durch', 0.8709),\n",
       " ('Fachliches', 0.8704),\n",
       " ('Generelles', 0.8698)]"
      ]
     },
     "execution_count": 10,
     "metadata": {},
     "output_type": "execute_result"
    }
   ],
   "source": [
    "model.wv.most_similar('Interesse', topn=20)"
   ]
  },
  {
   "cell_type": "code",
   "execution_count": 11,
   "metadata": {},
   "outputs": [
    {
     "data": {
      "text/plain": [
       "[('Naturwissenschaftlichen', 0.9341),\n",
       " ('MINT-Fächern', 0.9087),\n",
       " ('sprechen', 0.9084),\n",
       " ('besonders', 0.8981),\n",
       " ('Leistung', 0.8936),\n",
       " ('schlecht', 0.8907),\n",
       " ('Note', 0.8860),\n",
       " ('Lehrer', 0.8850),\n",
       " ('jeweilig', 0.8844),\n",
       " ('außer', 0.8820),\n",
       " ('zweigen', 0.8806),\n",
       " ('In', 0.8759),\n",
       " ('Unterricht', 0.8709),\n",
       " ('nein', 0.8687),\n",
       " ('naturwissenschaftlichen', 0.8662),\n",
       " ('ziemlich', 0.8649),\n",
       " ('Problem', 0.8580),\n",
       " ('fächern', 0.8578),\n",
       " ('gelegen', 0.8547),\n",
       " ('FOS', 0.8517)]"
      ]
     },
     "execution_count": 11,
     "metadata": {},
     "output_type": "execute_result"
    }
   ],
   "source": [
    "model.wv.most_similar('schulen', topn=20)"
   ]
  },
  {
   "cell_type": "code",
   "execution_count": 12,
   "metadata": {},
   "outputs": [
    {
     "data": {
      "text/plain": [
       "[('naturwissenschaftlichen', 0.8589),\n",
       " ('jeweilig', 0.8479),\n",
       " ('vorhanden', 0.8319),\n",
       " ('Note', 0.8213),\n",
       " ('besonders', 0.8134),\n",
       " ('Naturwissenschaftlichen', 0.8132),\n",
       " ('Unterricht', 0.8089),\n",
       " ('fächern', 0.8071),\n",
       " ('MINT-Fächern', 0.8046),\n",
       " ('bei', 0.8002),\n",
       " ('Leistung', 0.7897),\n",
       " ('zweigen', 0.7806),\n",
       " ('Musik', 0.7786),\n",
       " ('Frage', 0.7762),\n",
       " ('bereits', 0.7762),\n",
       " ('FOS', 0.7749),\n",
       " ('schulen', 0.7735),\n",
       " ('Fachliches', 0.7671),\n",
       " ('auch', 0.7657),\n",
       " ('kommen', 0.7652)]"
      ]
     },
     "execution_count": 12,
     "metadata": {},
     "output_type": "execute_result"
    }
   ],
   "source": [
    "model.wv.most_similar('Fach', topn=20)"
   ]
  },
  {
   "cell_type": "code",
   "execution_count": 13,
   "metadata": {},
   "outputs": [
    {
     "data": {
      "text/plain": [
       "[('absolvieren', 0.9225),\n",
       " ('dadurch', 0.9196),\n",
       " ('&', 0.9133),\n",
       " ('amp', 0.9102),\n",
       " ('teilen', 0.9021),\n",
       " ('relativ', 0.8982),\n",
       " ('Erfahrung', 0.8890),\n",
       " ('Praktikum', 0.8883),\n",
       " ('gewiß', 0.8881),\n",
       " ('Gegensatz', 0.8854),\n",
       " ('Realschule', 0.8850),\n",
       " ('gering', 0.8838),\n",
       " ('zweigen', 0.8832),\n",
       " ('MINT-Bereich', 0.8826),\n",
       " ('FOS', 0.8823),\n",
       " ('Zukunftsaussichten', 0.8814),\n",
       " ('Technisches', 0.8802),\n",
       " ('Freundeskreis', 0.8776),\n",
       " ('Generelles', 0.8766),\n",
       " ('schulisch', 0.8756)]"
      ]
     },
     "execution_count": 13,
     "metadata": {},
     "output_type": "execute_result"
    }
   ],
   "source": [
    "model.wv.most_similar('Berufsaussichten', topn=20)"
   ]
  },
  {
   "cell_type": "code",
   "execution_count": 14,
   "metadata": {},
   "outputs": [
    {
     "data": {
      "text/plain": [
       "[('schlecht', 0.8984),\n",
       " ('Leistung', 0.8813),\n",
       " ('Mathematik', 0.8783),\n",
       " ('Note', 0.8604),\n",
       " ('Physik', 0.8574),\n",
       " ('Naturwissenschaftlichen', 0.8447),\n",
       " ('schulen', 0.8386),\n",
       " ('Schon', 0.8372),\n",
       " ('sowie', 0.8360),\n",
       " ('Lehrer', 0.8339),\n",
       " ('ziemlich', 0.8322),\n",
       " ('Lernen', 0.8318),\n",
       " ('zweigen', 0.8251),\n",
       " ('vorallem', 0.8218),\n",
       " ('Bio', 0.8212),\n",
       " ('Problem', 0.8211),\n",
       " ('sprechen', 0.8205),\n",
       " ('jeweilig', 0.8154),\n",
       " ('stärken', 0.8134),\n",
       " ('Weil', 0.8129)]"
      ]
     },
     "execution_count": 14,
     "metadata": {},
     "output_type": "execute_result"
    }
   ],
   "source": [
    "model.wv.most_similar('Mathe', topn=20)"
   ]
  },
  {
   "cell_type": "code",
   "execution_count": 15,
   "metadata": {},
   "outputs": [
    {
     "data": {
      "text/plain": [
       "[('Betracht', 0.9218),\n",
       " ('ziehen', 0.9212),\n",
       " ('nie', 0.9199),\n",
       " ('einmal', 0.9019),\n",
       " ('ja', 0.9017),\n",
       " ('bewusst', 0.8763),\n",
       " ('hab', 0.8649),\n",
       " ('Lehramt', 0.8613),\n",
       " ('Nicht', 0.8569),\n",
       " ('kurz', 0.8535),\n",
       " ('obwohl', 0.8517),\n",
       " ('Mint-Fach', 0.8480),\n",
       " ('Maschinenbau', 0.8414),\n",
       " ('gar', 0.8386),\n",
       " ('dagegen', 0.8361),\n",
       " ('Einerseits', 0.8334),\n",
       " ('oben', 0.8297),\n",
       " ('aber', 0.8279),\n",
       " ('ob', 0.8270),\n",
       " ('durchaus', 0.8228)]"
      ]
     },
     "execution_count": 15,
     "metadata": {},
     "output_type": "execute_result"
    }
   ],
   "source": [
    "model.wv.most_similar('Erwägung', topn=20)"
   ]
  },
  {
   "cell_type": "code",
   "execution_count": 16,
   "metadata": {},
   "outputs": [
    {
     "data": {
      "text/plain": [
       "[('enden', 0.8208),\n",
       " ('einen', 0.8195),\n",
       " ('abbrechen', 0.8186),\n",
       " ('vor', 0.8107),\n",
       " ('beid', 0.8102),\n",
       " ('zum', 0.8095),\n",
       " ('Fachinformatiker', 0.8043),\n",
       " ('wegen', 0.8032),\n",
       " ('Werkstoffkunde', 0.8018),\n",
       " ('maßgeblich', 0.7993),\n",
       " ('Medieninformatik', 0.7969),\n",
       " ('absolvieren', 0.7969),\n",
       " ('hierbei', 0.7959),\n",
       " ('schulisch', 0.7953),\n",
       " ('Wahl', 0.7920),\n",
       " ('wecken', 0.7907),\n",
       " ('ab', 0.7809),\n",
       " ('Studieren', 0.7806),\n",
       " ('Eltern', 0.7717),\n",
       " ('stehen', 0.7712)]"
      ]
     },
     "execution_count": 16,
     "metadata": {},
     "output_type": "execute_result"
    }
   ],
   "source": [
    "model.wv.most_similar('Ausbildung', topn=20)"
   ]
  },
  {
   "cell_type": "markdown",
   "metadata": {},
   "source": [
    "## Fazit"
   ]
  },
  {
   "cell_type": "markdown",
   "metadata": {},
   "source": [
    "**Interesse**: Naturwissenschaften, Erfahrung, Fähigkeit, Jugend, Technik\n",
    "\n",
    "Aus dieser Ähnlichkeitsverteilung lässt sich schließen, dass viele Studierende ihr Fach aus Interesse an der Thematik gewählt haben (auch sichtbar in der Umfrage: fachliches Interesse bei Wahl sehr wichtig). Auch spielen Erfahrungen und Fähigkeiten im betreffenden Bereich eine wichtige Rolle. Zudem scheinen viele bereits als Jugendliche ihr Interesse entwickelt zu haben.\n",
    "\n",
    "**Schulen**: MINT-Fächer, besonders, schlecht, Note, Lehrer, Unterricht, Problem\n",
    "\n",
    "Diese Verteilung zeigt, dass die Schule eine tragende Rolle bei der Studienwahl einnimmt. Dabei sind die Noten in den MINT-Fächern für viele ausschlaggebend, ob sie ein Fach in diesem Bereich studieren möchten. Die Noten scheinen entweder besonders gut oder schlecht zu sein. Die Lehrer und deren Unterricht spielen ebenfalls eine wichtige Rolle, da sie den Schülern den Lernstoff vermitteln sollen. Anhand der Ähnlichkeiten zu urteilen scheint es bei MINT-Fächern oft Probleme zu geben. Diese beziehen sich vermutlich auf den Unterricht bzw. die Lehrer.\n",
    "\n",
    "**Fach**: Note, Unterricht, Leistung\n",
    "\n",
    "Hier bestätigt sich die Erkenntnis, dass Noten bzw. die Leistung und der Unterricht in den Schulfächern ausschlaggebend bei der Wahl des Studiengangs sind. Viele Studenten scheinen den Studiengang aufgrund ihrer guten Noten in bestimmten Fächern gewählt oder wegen schlechter Noten ausgeschlossen zu haben.\n",
    "\n",
    "**Berufsaussichten**: Erfahrung, Praktikum, Zukunftsaussichten\n",
    "\n",
    "Die Berufsaussichten in der Branche ist für viele Studenten ein entscheidender Faktor. In der Umfrage hat sich bereits ergeben, dass dies nach der Fachinteresse der zweit wichtigste Faktor ist. Auch scheinen einige Studenten bereits Praktika absolviert oder andere Erfahrungen in ihrem zukünftigen Tätigkeitsbereich gesammelt zu haben. Durch die Einsicht in den Berufsalltag haben sie sich möglicherweise für den entsprechenden Studiengang entschieden oder sich in ihrer Entscheidung bestärkt gefühlt.\n",
    "\n",
    "**Mathe**: schlecht, Leistung, Note, Problem, Physik, Bio\n",
    "\n",
    "Mathe ist schon seit längerer Zeit bei vielen Schülern ein Problemfach. Dies scheint auch bei einigen der Befragten zuzutreffen. Da Mathematik in vielen MINT-Fächern die Grundlage bildet oder zu großen Teilen im Lehrplan vorgesehen ist, könnten schlechte Noten in diesem Fach davon abschrecken in diesem Bereich zu studieren. Ähnlich scheint es sich auch bei anderen MINT-Fächern wie Physik und Biologie zu verhalten.\n",
    "\n",
    "**Erwägung**: Betracht(, ziehen), nie, einmal, bewusst, Lehramt\n",
    "\n",
    "Die Häufigkeit des Worts \"Erwägung\" ist besonders interessant, da sie zeigt, dass in einigen Fällen durchaus Interesse an einem MINT-Fach besteht aber aus unterschiedlichen Gründen dieses nicht gewählt wird. Im Gegensatz dazu gibt es auch einige die es nie in erwägung gezogen oder sich bewusst dagegen entschieden haben. Die Häufigkeit von \"Lehramt\" lässt vermuten, dass nicht MINT-Studenten wohl eher in diesem Bereich Lehramt studiert hätten, als ein reines MINT-Fach.\n",
    "\n",
    "**Ausbildung**: enden, abbrechen, absolvieren, Studieren\n",
    "\n",
    "Diese Ähnlichkeitsverteilung zeigt, dass es viele Studenten gibt, die eine Ausbildung beendet oder abgebrochen haben, bevor sie angefangen haben zu studieren. Dadurch haben sie bereits Praxiserfahrung und wählen vermutlich dementsprechend einen Studiengang in diesem Bereich. Andererseits könnte der Bereich der Ausbildung ihnen auch nicht zugesagt haben, weshalb die Studenten ein Studium mit einem anderem Themenbereich gewählt haben."
   ]
  },
  {
   "cell_type": "markdown",
   "metadata": {},
   "source": [
    "# Word Embeddings zu Verbesserungsvorschlägen"
   ]
  },
  {
   "cell_type": "markdown",
   "metadata": {},
   "source": [
    "Um die Verbesserungsvorschläge nach dem Clustering genauer zu identifizieren werden nun Word Embeddings auf den geschriebenen Texten gebildet."
   ]
  },
  {
   "cell_type": "markdown",
   "metadata": {},
   "source": [
    "## Datenvorbereitung"
   ]
  },
  {
   "cell_type": "markdown",
   "metadata": {},
   "source": [
    "### Datenimport"
   ]
  },
  {
   "cell_type": "code",
   "execution_count": 4,
   "metadata": {
    "ExecuteTime": {
     "end_time": "2020-02-15T21:05:06.684058Z",
     "start_time": "2020-02-15T21:05:06.670096Z"
    }
   },
   "outputs": [
    {
     "data": {
      "text/html": [
       "<div>\n",
       "<style scoped>\n",
       "    .dataframe tbody tr th:only-of-type {\n",
       "        vertical-align: middle;\n",
       "    }\n",
       "\n",
       "    .dataframe tbody tr th {\n",
       "        vertical-align: top;\n",
       "    }\n",
       "\n",
       "    .dataframe thead th {\n",
       "        text-align: right;\n",
       "    }\n",
       "</style>\n",
       "<table border=\"1\" class=\"dataframe\">\n",
       "  <thead>\n",
       "    <tr style=\"text-align: right;\">\n",
       "      <th></th>\n",
       "      <th>Verbesserungsvorschläge</th>\n",
       "    </tr>\n",
       "  </thead>\n",
       "  <tbody>\n",
       "    <tr>\n",
       "      <th>358</th>\n",
       "      <td>Praxisnähe herstellen</td>\n",
       "    </tr>\n",
       "    <tr>\n",
       "      <th>204</th>\n",
       "      <td>Mehr Praxisbezug</td>\n",
       "    </tr>\n",
       "  </tbody>\n",
       "</table>\n",
       "</div>"
      ],
      "text/plain": [
       "    Verbesserungsvorschläge\n",
       "358  Praxisnähe herstellen \n",
       "204  Mehr Praxisbezug      "
      ]
     },
     "execution_count": 4,
     "metadata": {},
     "output_type": "execute_result"
    }
   ],
   "source": [
    "import sqlite3\n",
    "import pandas as pd\n",
    "import os.path\n",
    "\n",
    "dbPath = \"database/bachelor_umfrage.db\"\n",
    "\n",
    "def get_embeddings_data(table_name=\"word_embeddings\"):\n",
    "    df = pd.DataFrame()\n",
    "    if os.path.isfile(dbPath):\n",
    "        conn = sqlite3.connect(dbPath)\n",
    "        sql = \"SELECT Verbesserungsvorschläge FROM \" + table_name\n",
    "        sql += \" WHERE Verbesserungsvorschläge IS NOT NULL\"\n",
    "        df = pd.read_sql_query(sql, conn)\n",
    "    else:\n",
    "        print(\"Datenbank oder Tabelle konnte nicht gefunden werden.\")\n",
    "    return df\n",
    "\n",
    "suggestion_df = get_embeddings_data(table_name=\"word_embeddings\")\n",
    "suggestion_df.sample(2)"
   ]
  },
  {
   "cell_type": "markdown",
   "metadata": {},
   "source": [
    "### Datenaufbereitung"
   ]
  },
  {
   "cell_type": "markdown",
   "metadata": {},
   "source": [
    "Es erfolgt die Datenaufbereitung mit Lemmatisierung und POS-Tagging (bezogen auf Substantive). Die Ergebnisse werden jeweils als Spalte dem Dataframe hinzugefügt."
   ]
  },
  {
   "cell_type": "code",
   "execution_count": 21,
   "metadata": {},
   "outputs": [],
   "source": [
    "import spacy\n",
    "# progress bar\n",
    "from tqdm import tqdm_notebook as tqdm\n",
    "\n",
    "nlp = spacy.load('de')\n",
    "\n",
    "def nlp_process(df, col):    \n",
    "    for i, row in df.iterrows():\n",
    "        \n",
    "        if(row[col] and len(str(row[col])) < 1000000):\n",
    "            spacy_doc = nlp(str(row[col]))\n",
    "            tokens = []\n",
    "            lemmas = []\n",
    "            nouns = []\n",
    "\n",
    "            for token in spacy_doc:\n",
    "                if token.pos_ in ('NOUN', 'PROPN'):\n",
    "                    nouns.append(token.lemma_)\n",
    "                if token.pos_ not in ('PUNCT'):\n",
    "                    lemmas.append(token.lemma_)\n",
    "                    tokens.append(token.text)\n",
    "\n",
    "            df.at[i, \"tokens\"] = \" \".join(tokens)                \n",
    "            df.at[i, \"lemmas\"] = \" \".join(lemmas)                \n",
    "            df.at[i, \"nouns\"] = \" \".join(nouns)\n",
    "            df.at[i, \"no_tokens\"] = len(lemmas)"
   ]
  },
  {
   "cell_type": "code",
   "execution_count": 22,
   "metadata": {},
   "outputs": [],
   "source": [
    "nlp_process(suggestion_df, 'Verbesserungsvorschläge')"
   ]
  },
  {
   "cell_type": "code",
   "execution_count": 23,
   "metadata": {},
   "outputs": [
    {
     "data": {
      "text/html": [
       "<div>\n",
       "<style scoped>\n",
       "    .dataframe tbody tr th:only-of-type {\n",
       "        vertical-align: middle;\n",
       "    }\n",
       "\n",
       "    .dataframe tbody tr th {\n",
       "        vertical-align: top;\n",
       "    }\n",
       "\n",
       "    .dataframe thead th {\n",
       "        text-align: right;\n",
       "    }\n",
       "</style>\n",
       "<table border=\"1\" class=\"dataframe\">\n",
       "  <thead>\n",
       "    <tr style=\"text-align: right;\">\n",
       "      <th></th>\n",
       "      <th>Verbesserungsvorschläge</th>\n",
       "      <th>lemmas</th>\n",
       "      <th>nouns</th>\n",
       "    </tr>\n",
       "  </thead>\n",
       "  <tbody>\n",
       "    <tr>\n",
       "      <th>156</th>\n",
       "      <td>nein</td>\n",
       "      <td>nein</td>\n",
       "      <td></td>\n",
       "    </tr>\n",
       "    <tr>\n",
       "      <th>21</th>\n",
       "      <td>Schwierig,, Man müsste die Anforderungen runter Schrauben, da an den Schule auch das Leistungspensum in den Fächern weniger wird und damit die Studienanfänger teilweise mit dem Einstieg ins Studium Schwierigkeiten haben, weil Stoff vorausgesetzt wird den Sie an Ihrer Schule nicht hatten (Teilweise unterschiedliche Lehrpläne bei gleicher Schulart). Möglich wäre es Vorkurse anzubieten oder wie gesagt Inhalte kürzen.,  Aber ob das Sinnvoll ist die Qualität und den Umfang eines Studiengang zu reduzieren um mehr Absolventen zu kriegen?, Des Weiteren kann man nicht erwarten wenn Leute nicht ein gewisses technisches Interesse haben, in einen technischen Studiengang zu bringen. Außerdem gibt es neben dem Studium auch noch andere Institutionen, Fachschulen und Ausbildungsberufe in denen es möglich ist, einen MINT-Beruf zu erlernen und auszuüben (Informatiker-Fachschule in Straubing, Chemie-Fachschule in München, ...), , Aber genug der schwarz Malerei, einen produktiven Vorschlag hab ich eventuell auch. Vielen Studienanfängern ist mittlerweile Praxisbezug wichtiger wie die theoretische Lehre. Einige Studierende auch aus anderen Fakultäten und Hochschulen, entscheiden sich aufgrund dem hohen Praxisangebot (Praktikum, Praxissemester,...) bevorzugt für Hochschulen die dies anbieten. Mittlerweile ist auch ab und an zu Beobachten das Universitätsanfänger auf Hochschulen wechsel, auf Grund der zu theoretischen Auslegung von Universitäten. Und ab und an auch einfach weil die Anforderungen Ihnen dort zu hoch sind, siehe oben ,-) , , Viel Erfolg bei deiner BA, hoffe du erhältst die entsprechende Resonanz, die du erhoffst.</td>\n",
       "      <td>Schwierig Man müsste der Anforderung runter Schraube da an der schulen auch der Leistungspensum in der Fach wenig werden und damit der Studienanfänger teilweise mit der Einstieg ins Studium Schwierigkeit haben weil Stoff voraussetzen werden der ich an sich schulen nicht haben teilweis unterschiedlich Lehrplan bei gleich Schulart Möglich sein ich Vorkurse anbieten oder wie sagen Inhalt kürzen   aber ob der Sinnvoll sein der Qualität und der Umfang ein Studiengang zu reduzieren um mehr Absolventen zu kriegen der Weitere können man nicht erwarten wenn Leute nicht einen gewiß technisch Interesse haben in ein technisch Studiengang zu bringen Außerdem geben ich neben der Studium auch noch ander Institution Fachschule und Ausbildungsberufe in der ich möglich sein ein MINT-Beruf zu erlernen und ausüben Informatiker-Fachschule in Straubing Chemie-Fachschule in München aber genug der schwarz Malerei ein produktiv Vorschlag hab ich eventuell auch viel Studienanfängern sein mittlerweile Praxisbezug wichtig wie der theoretische lehren einigen Studierende auch aus ander Fakultät und Hochschule entscheiden sich aufgrund der hoch Praxisangebot Praktikum Praxissemester bevorzugen für Hochschule der dies anbieten Mittlerweile sein auch ab und an zu Beobachten der Universitätsanfänger auf Hochschule wechsel auf Grund der zu theoretisch Auslegung von Universität und ab und an auch einfach weil der Anforderung ich dort zu hoch sein siehe oben viel erfolgen bei sich BA hoffen du erhalten der entsprechend Resonanz der du erhoffen</td>\n",
       "      <td>Anforderung Schraube schulen Leistungspensum Fach Studienanfänger Einstieg Studium Schwierigkeit Stoff schulen Lehrplan Schulart Vorkurse Inhalt Sinnvoll Qualität Umfang Studiengang Absolventen Weitere Leute Interesse Studiengang Studium Institution Fachschule Ausbildungsberufe MINT-Beruf Informatiker-Fachschule Straubing Chemie-Fachschule München Malerei Vorschlag Studienanfängern Praxisbezug lehren Studierende Fakultät Hochschule Praxisangebot Praktikum Praxissemester Hochschule Beobachten Universitätsanfänger Hochschule Grund Auslegung Universität Anforderung erfolgen BA Resonanz</td>\n",
       "    </tr>\n",
       "  </tbody>\n",
       "</table>\n",
       "</div>"
      ],
      "text/plain": [
       "                                                                                                                                                                                                                                                                                                                                                                                                                                                                                                                                                                                                                                                                                                                                                                                                                                                                                                                                                                                                                                                                                                                                                                                                                                                                                                                                                                                                                                                                                                                                                                                                                                                                            Verbesserungsvorschläge  \\\n",
       "156  nein                                                                                                                                                                                                                                                                                                                                                                                                                                                                                                                                                                                                                                                                                                                                                                                                                                                                                                                                                                                                                                                                                                                                                                                                                                                                                                                                                                                                                                                                                                                                                                                                                                                                                             \n",
       "21   Schwierig,, Man müsste die Anforderungen runter Schrauben, da an den Schule auch das Leistungspensum in den Fächern weniger wird und damit die Studienanfänger teilweise mit dem Einstieg ins Studium Schwierigkeiten haben, weil Stoff vorausgesetzt wird den Sie an Ihrer Schule nicht hatten (Teilweise unterschiedliche Lehrpläne bei gleicher Schulart). Möglich wäre es Vorkurse anzubieten oder wie gesagt Inhalte kürzen.,  Aber ob das Sinnvoll ist die Qualität und den Umfang eines Studiengang zu reduzieren um mehr Absolventen zu kriegen?, Des Weiteren kann man nicht erwarten wenn Leute nicht ein gewisses technisches Interesse haben, in einen technischen Studiengang zu bringen. Außerdem gibt es neben dem Studium auch noch andere Institutionen, Fachschulen und Ausbildungsberufe in denen es möglich ist, einen MINT-Beruf zu erlernen und auszuüben (Informatiker-Fachschule in Straubing, Chemie-Fachschule in München, ...), , Aber genug der schwarz Malerei, einen produktiven Vorschlag hab ich eventuell auch. Vielen Studienanfängern ist mittlerweile Praxisbezug wichtiger wie die theoretische Lehre. Einige Studierende auch aus anderen Fakultäten und Hochschulen, entscheiden sich aufgrund dem hohen Praxisangebot (Praktikum, Praxissemester,...) bevorzugt für Hochschulen die dies anbieten. Mittlerweile ist auch ab und an zu Beobachten das Universitätsanfänger auf Hochschulen wechsel, auf Grund der zu theoretischen Auslegung von Universitäten. Und ab und an auch einfach weil die Anforderungen Ihnen dort zu hoch sind, siehe oben ,-) , , Viel Erfolg bei deiner BA, hoffe du erhältst die entsprechende Resonanz, die du erhoffst.   \n",
       "\n",
       "                                                                                                                                                                                                                                                                                                                                                                                                                                                                                                                                                                                                                                                                                                                                                                                                                                                                                                                                                                                                                                                                                                                                                                                                                                                                                                                                                                                                                                                                                                                                                                                           lemmas  \\\n",
       "156  nein                                                                                                                                                                                                                                                                                                                                                                                                                                                                                                                                                                                                                                                                                                                                                                                                                                                                                                                                                                                                                                                                                                                                                                                                                                                                                                                                                                                                                                                                                                                                                                                           \n",
       "21   Schwierig Man müsste der Anforderung runter Schraube da an der schulen auch der Leistungspensum in der Fach wenig werden und damit der Studienanfänger teilweise mit der Einstieg ins Studium Schwierigkeit haben weil Stoff voraussetzen werden der ich an sich schulen nicht haben teilweis unterschiedlich Lehrplan bei gleich Schulart Möglich sein ich Vorkurse anbieten oder wie sagen Inhalt kürzen   aber ob der Sinnvoll sein der Qualität und der Umfang ein Studiengang zu reduzieren um mehr Absolventen zu kriegen der Weitere können man nicht erwarten wenn Leute nicht einen gewiß technisch Interesse haben in ein technisch Studiengang zu bringen Außerdem geben ich neben der Studium auch noch ander Institution Fachschule und Ausbildungsberufe in der ich möglich sein ein MINT-Beruf zu erlernen und ausüben Informatiker-Fachschule in Straubing Chemie-Fachschule in München aber genug der schwarz Malerei ein produktiv Vorschlag hab ich eventuell auch viel Studienanfängern sein mittlerweile Praxisbezug wichtig wie der theoretische lehren einigen Studierende auch aus ander Fakultät und Hochschule entscheiden sich aufgrund der hoch Praxisangebot Praktikum Praxissemester bevorzugen für Hochschule der dies anbieten Mittlerweile sein auch ab und an zu Beobachten der Universitätsanfänger auf Hochschule wechsel auf Grund der zu theoretisch Auslegung von Universität und ab und an auch einfach weil der Anforderung ich dort zu hoch sein siehe oben viel erfolgen bei sich BA hoffen du erhalten der entsprechend Resonanz der du erhoffen   \n",
       "\n",
       "                                                                                                                                                                                                                                                                                                                                                                                                                                                                                                                                                                                                             nouns  \n",
       "156                                                                                                                                                                                                                                                                                                                                                                                                                                                                                                                                                                                                                 \n",
       "21   Anforderung Schraube schulen Leistungspensum Fach Studienanfänger Einstieg Studium Schwierigkeit Stoff schulen Lehrplan Schulart Vorkurse Inhalt Sinnvoll Qualität Umfang Studiengang Absolventen Weitere Leute Interesse Studiengang Studium Institution Fachschule Ausbildungsberufe MINT-Beruf Informatiker-Fachschule Straubing Chemie-Fachschule München Malerei Vorschlag Studienanfängern Praxisbezug lehren Studierende Fakultät Hochschule Praxisangebot Praktikum Praxissemester Hochschule Beobachten Universitätsanfänger Hochschule Grund Auslegung Universität Anforderung erfolgen BA Resonanz  "
      ]
     },
     "execution_count": 23,
     "metadata": {},
     "output_type": "execute_result"
    }
   ],
   "source": [
    "suggestion_df[['Verbesserungsvorschläge', 'lemmas', 'nouns']].sample(2)"
   ]
  },
  {
   "cell_type": "markdown",
   "metadata": {},
   "source": [
    "## Training der Word Embeddings"
   ]
  },
  {
   "cell_type": "markdown",
   "metadata": {},
   "source": [
    "Verewendung der Word2Vec Implementierung in Gensim um das Modell zu Trainieren."
   ]
  },
  {
   "cell_type": "code",
   "execution_count": 24,
   "metadata": {},
   "outputs": [],
   "source": [
    "import gensim\n",
    "\n",
    "# defaults\n",
    "# window: windows size\n",
    "# sg=0: to use skipgram set sg=1\n",
    "# hs=0: use hierarchical softmax for faster training of large datasets\n",
    "# negative=5: number of negative samples\n",
    "# min_count=2: minimal word count\n",
    "# sample=0.001: downsampling of frequent words\n",
    "# iter=5: number of epochs\n",
    "model2 = gensim.models.Word2Vec(suggestion_df['lemmas'].str.split(), size=50, window=5, sg=1, negative=5, \n",
    "                               min_count=2, workers=4, iter=25)"
   ]
  },
  {
   "cell_type": "markdown",
   "metadata": {},
   "source": [
    "Speichern des Modells"
   ]
  },
  {
   "cell_type": "code",
   "execution_count": 25,
   "metadata": {},
   "outputs": [],
   "source": [
    "model2.save('word2vec_suggestion_model.bin')"
   ]
  },
  {
   "cell_type": "markdown",
   "metadata": {},
   "source": [
    "Laden des Modells"
   ]
  },
  {
   "cell_type": "code",
   "execution_count": 28,
   "metadata": {},
   "outputs": [],
   "source": [
    "#model = gensim.models.Word2Vec.load('word2vec_suggestion_model.bin')"
   ]
  },
  {
   "cell_type": "markdown",
   "metadata": {},
   "source": [
    "## Similarity-Queries"
   ]
  },
  {
   "cell_type": "markdown",
   "metadata": {},
   "source": [
    "Im folgenden werden zunächst die Wörter betrachtet, welche beim Clustering besonders häufig vorkamen. Dabei wird versucht durch die Word Embeddings eine genauere Vorstellung der Entscheidungsgründe zu bekommen. Die Wörter waren folgende:\n",
    "- Schulen\n",
    "- Interesse\n",
    "- Fach\n",
    "- Praxisbezug\n",
    "- Mathe (und andere Schulfächer)\n",
    "- Vorlesung"
   ]
  },
  {
   "cell_type": "code",
   "execution_count": 26,
   "metadata": {
    "scrolled": true
   },
   "outputs": [
    {
     "data": {
      "text/plain": [
       "[('sollen', 0.9431),\n",
       " ('bereits', 0.9360),\n",
       " ('in', 0.9326),\n",
       " ('Lehrer', 0.9101),\n",
       " ('In', 0.9014),\n",
       " ('gestalten', 0.8841),\n",
       " ('werden', 0.8765),\n",
       " ('MINT-Fächer', 0.8764),\n",
       " ('schon', 0.8755),\n",
       " ('Unterricht', 0.8612),\n",
       " ('beginnen', 0.8563),\n",
       " ('Mädchen', 0.8504),\n",
       " ('Kind', 0.8439),\n",
       " ('aufhören', 0.8333),\n",
       " ('oft', 0.8201),\n",
       " ('unterrichten', 0.8182),\n",
       " ('gut', 0.8151),\n",
       " ('Schüler', 0.8146),\n",
       " ('Fach', 0.8044),\n",
       " ('praktisch', 0.8031)]"
      ]
     },
     "execution_count": 26,
     "metadata": {},
     "output_type": "execute_result"
    }
   ],
   "source": [
    "model2.wv.most_similar('schulen', topn=20)"
   ]
  },
  {
   "cell_type": "code",
   "execution_count": 27,
   "metadata": {},
   "outputs": [
    {
     "data": {
      "text/plain": [
       "[('wecken', 0.9202),\n",
       " ('Kind', 0.8997),\n",
       " ('Schüler', 0.8501),\n",
       " ('im', 0.8499),\n",
       " ('dafür', 0.8494),\n",
       " ('Mittelschulen', 0.8486),\n",
       " ('müssen', 0.8447),\n",
       " ('früh', 0.8446),\n",
       " ('schaffen', 0.8437),\n",
       " ('beginnen', 0.8418),\n",
       " ('Realschulen', 0.8413),\n",
       " ('der', 0.8392),\n",
       " ('Schon', 0.8361),\n",
       " ('damals', 0.8338),\n",
       " ('Erfahrung', 0.8335),\n",
       " ('Lehrer', 0.8315),\n",
       " ('MINT-Fächern', 0.8295),\n",
       " ('offen', 0.8287),\n",
       " ('tagen', 0.8265),\n",
       " ('nutzen', 0.8261)]"
      ]
     },
     "execution_count": 27,
     "metadata": {},
     "output_type": "execute_result"
    }
   ],
   "source": [
    "model2.wv.most_similar('Interesse', topn=20)"
   ]
  },
  {
   "cell_type": "code",
   "execution_count": 28,
   "metadata": {},
   "outputs": [
    {
     "data": {
      "text/plain": [
       "[('müssen', 0.9265),\n",
       " ('Werbung', 0.9220),\n",
       " ('beginnen', 0.9203),\n",
       " ('Gerade', 0.9171),\n",
       " ('aufhören', 0.9157),\n",
       " ('Schüler', 0.9127),\n",
       " ('gerade', 0.9125),\n",
       " ('gegen', 0.9110),\n",
       " ('unterrichten', 0.9096),\n",
       " ('Lehrer', 0.9070),\n",
       " ('Zudem', 0.9064),\n",
       " ('Schon', 0.9060),\n",
       " ('Stärken', 0.9048),\n",
       " ('offen', 0.9019),\n",
       " ('oft', 0.9017),\n",
       " ('verdeutlichen', 0.9015),\n",
       " ('praxisnäher', 0.9004),\n",
       " ('verbessern', 0.9002),\n",
       " ('Kind', 0.8970),\n",
       " ('Grundschule', 0.8967)]"
      ]
     },
     "execution_count": 28,
     "metadata": {},
     "output_type": "execute_result"
    }
   ],
   "source": [
    "model2.wv.most_similar('Fach', topn=20)"
   ]
  },
  {
   "cell_type": "code",
   "execution_count": 29,
   "metadata": {},
   "outputs": [
    {
     "data": {
      "text/plain": [
       "[('mehr', 0.9698),\n",
       " ('Projekt', 0.9666),\n",
       " ('wenig', 0.9662),\n",
       " ('Forschung', 0.9662),\n",
       " ('&', 0.9629),\n",
       " ('Industrie', 0.9627),\n",
       " ('Zusammenarbeit', 0.9621),\n",
       " ('herstellen', 0.9607),\n",
       " ('Experiment', 0.9593),\n",
       " ('Lust', 0.9590),\n",
       " ('Fokus', 0.9584),\n",
       " ('fördern', 0.9567),\n",
       " ('Aufklärung', 0.9565),\n",
       " ('amp', 0.9560),\n",
       " ('etc.', 0.9556),\n",
       " ('Lehrplan', 0.9551),\n",
       " ('Praktikum', 0.9545),\n",
       " ('Bezug', 0.9532),\n",
       " ('praktische', 0.9529),\n",
       " ('Workshop', 0.9523)]"
      ]
     },
     "execution_count": 29,
     "metadata": {},
     "output_type": "execute_result"
    }
   ],
   "source": [
    "model2.wv.most_similar('Praxisbezug', topn=20)"
   ]
  },
  {
   "cell_type": "code",
   "execution_count": 30,
   "metadata": {},
   "outputs": [
    {
     "data": {
      "text/plain": [
       "[('Physik', 0.9465),\n",
       " ('Chemie', 0.9146),\n",
       " ('Biologie', 0.9068),\n",
       " ('und', 0.9055),\n",
       " ('spielerisch', 0.8944),\n",
       " ('Schulzeit', 0.8915),\n",
       " ('greifbar', 0.8915),\n",
       " ('etc', 0.8903),\n",
       " ('während', 0.8811),\n",
       " ('wieder', 0.8799),\n",
       " ('unterrichten', 0.8783),\n",
       " ('--&gt', 0.8773),\n",
       " ('stark', 0.8717),\n",
       " ('Gerade', 0.8675),\n",
       " ('oftmals', 0.8654),\n",
       " ('vorallem', 0.8644),\n",
       " ('insbesondere', 0.8643),\n",
       " ('relevant', 0.8632),\n",
       " ('gerade', 0.8632),\n",
       " ('Diese', 0.8618)]"
      ]
     },
     "execution_count": 30,
     "metadata": {},
     "output_type": "execute_result"
    }
   ],
   "source": [
    "model2.wv.most_similar('Mathe', topn=20)"
   ]
  },
  {
   "cell_type": "code",
   "execution_count": 31,
   "metadata": {},
   "outputs": [
    {
     "data": {
      "text/plain": [
       "[('passen', 0.9982),\n",
       " ('komplex', 0.9973),\n",
       " ('Protokoll', 0.9971),\n",
       " ('MINT-Fach', 0.9970),\n",
       " ('Realität', 0.9969),\n",
       " ('fangen', 0.9968),\n",
       " ('blicken', 0.9967),\n",
       " ('Themengebiet', 0.9965),\n",
       " ('fehlen', 0.9965),\n",
       " ('Einstieg', 0.9963),\n",
       " ('trocken', 0.9963),\n",
       " ('MINT-Studiengängen', 0.9963),\n",
       " ('Information', 0.9963),\n",
       " ('Fachschaft', 0.9963),\n",
       " ('schreiben', 0.9963),\n",
       " ('Hier', 0.9963),\n",
       " ('Kenntnisstand', 0.9962),\n",
       " ('FWPF', 0.9962),\n",
       " ('Förderung', 0.9962),\n",
       " ('berichten', 0.9962)]"
      ]
     },
     "execution_count": 31,
     "metadata": {},
     "output_type": "execute_result"
    }
   ],
   "source": [
    "model2.wv.most_similar('Vorlesung', topn=20)"
   ]
  },
  {
   "cell_type": "markdown",
   "metadata": {},
   "source": [
    "## Fazit"
   ]
  },
  {
   "cell_type": "markdown",
   "metadata": {},
   "source": [
    "**Schulen**: Lehrer, Unterricht, Mädchen, praktisch\n",
    "\n",
    "Wie bereits bei den vorherigen Word Embeddings festgestellt, ist die Schule mit ihren Lehrern und deren Unterricht ein entscheidender Faktor bei der Wahl des Studiengangs. Daher lässt sich aus dieser Ähnlichkeitsverteilung ablesen, dass der Unterricht praktischer gestaltet werden sollte. Auch sollten Mädchen mehr an MINT-Fächer (da die Frage danach war) herangeführt werden.\n",
    "\n",
    "**Interesse**: wecken, Schüler, Mittelschulen, früh, Realschulen\n",
    "\n",
    "Da Fachinteresse eine wichtige Rolle bei der Studienwahl spielt sollte dieses auch früh geweckt werden. Dieser Auftrag geht dabei an die Schulen, da sie viel Einfluss auf die Kinder und Jugendlichen ausüben können.\n",
    "\n",
    "**Fach**: Werbung, praxisnäher, verbessern, Grundschule\n",
    "\n",
    "Das Wort Fach ist hier sowohl im Bezug auf das Schulfach als auch das Fachgebiet eines Studiengangs zu betrachten. Werbung zu machen ist für die Hochschulen wichtig, um die Aufmerksamkeit der Schüler zu wecken. Auch sollten sowohl Schul- als auch Studienfächer praxisnäher gestaltet werden um attraktiver zu werden. Aufgrund der Häufigkeit des Wortes Grundschule lässt sich darauf schließen, dass die Schüler möglichst früh an die MINT-Fächer herangeführt werden sollten.\n",
    "\n",
    "**Praxisbezug**: mehr, Projekt, Forschung, Industrie (, Zusammenarbeit), Experiment, Praktikum\n",
    "\n",
    "Ein wichtiger Faktor um Interesse zu wecken und beizubehalten scheint der Praxisbezug zu sein. Dieser sollte sowohl im Schulunterricht als auch in den Vorlesungen vermehrt hergestellt werden. Dazu wird vorgeschlagen mehr Projekte, Experimente und Praktiken einzubinden, möglicherweise in Zusammenarbeit mit der Industrie. Auch das Vorstellen der aktuellen Forschung im Fachgebiet könnte weiteres Interesse wecken und zeigen, was in diesem Bereich erreicht werden kann.\n",
    "\n",
    "**Mathe**: Physik, Chemie, Biologie, spielerisch, greifbar\n",
    "\n",
    "Wie bereits festgestellt handelt es sich besonders bei Mathe aber auch bei andern MINT-Fächern wie Physik, Chemie und Biologie oft um Problemfächer. Diese sollten z.B. durch mehr Praxisbezug greifbarer gemacht werden und wenn möglich spielerisch vermittelt werden. Dadurch könnten die Schüler mehr Spaß daran haben und ihre Noten sich verbessern, wodurch wiederum das Interesse steigen kann.\n",
    "\n",
    "**Vorlesung**: passen, komplex, Einstieg, trocken, Kenntnisstand\n",
    "\n",
    "Nachdem sich die Studenten für MINT-Fächer eingeschrieben haben, müssen sie dieses Studium jedoch auch fortsetzen wollen. Dabei spielen die Vorlesungen eine zentrale Rolle. Diese scheinen je nach persönlicher Präferenz ok oder zu komplex und zu trocken zu sein. Dabei scheint gerade der Einstieg in den ersten Semestern einigen Studenten Probleme zu bereiten und sollte daher erleichtert werden. Vor allem sollte auf den unterschiedlichen Kenntnisstand der Erstsemester geachtet werden. Diese haben teilweise bereits abgeschlossene Ausbildungen und dadurch Fachwissen oder \"nur\" ein Abitur."
   ]
  }
 ],
 "metadata": {
  "kernelspec": {
   "display_name": "Python 3",
   "language": "python",
   "name": "python3"
  },
  "language_info": {
   "codemirror_mode": {
    "name": "ipython",
    "version": 3
   },
   "file_extension": ".py",
   "mimetype": "text/x-python",
   "name": "python",
   "nbconvert_exporter": "python",
   "pygments_lexer": "ipython3",
   "version": "3.7.1"
  },
  "toc": {
   "base_numbering": 1,
   "nav_menu": {},
   "number_sections": true,
   "sideBar": true,
   "skip_h1_title": false,
   "title_cell": "Table of Contents",
   "title_sidebar": "Contents",
   "toc_cell": true,
   "toc_position": {},
   "toc_section_display": true,
   "toc_window_display": true
  },
  "varInspector": {
   "cols": {
    "lenName": 16,
    "lenType": 16,
    "lenVar": 40
   },
   "kernels_config": {
    "python": {
     "delete_cmd_postfix": "",
     "delete_cmd_prefix": "del ",
     "library": "var_list.py",
     "varRefreshCmd": "print(var_dic_list())"
    },
    "r": {
     "delete_cmd_postfix": ") ",
     "delete_cmd_prefix": "rm(",
     "library": "var_list.r",
     "varRefreshCmd": "cat(var_dic_list()) "
    }
   },
   "types_to_exclude": [
    "module",
    "function",
    "builtin_function_or_method",
    "instance",
    "_Feature"
   ],
   "window_display": false
  }
 },
 "nbformat": 4,
 "nbformat_minor": 2
}
