{
 "cells": [
  {
   "cell_type": "markdown",
   "metadata": {
    "toc": true
   },
   "source": [
    "<h1>Table of Contents<span class=\"tocSkip\"></span></h1>\n",
    "<div class=\"toc\"><ul class=\"toc-item\"><li><span><a href=\"#Kategorie-MINT\" data-toc-modified-id=\"Kategorie-MINT-1\"><span class=\"toc-item-num\">1&nbsp;&nbsp;</span>Kategorie MINT</a></span><ul class=\"toc-item\"><li><span><a href=\"#Datenaufbereitung\" data-toc-modified-id=\"Datenaufbereitung-1.1\"><span class=\"toc-item-num\">1.1&nbsp;&nbsp;</span>Datenaufbereitung</a></span></li><li><span><a href=\"#Trainieren-des-Naive-Bayes-Modells-(NB)\" data-toc-modified-id=\"Trainieren-des-Naive-Bayes-Modells-(NB)-1.2\"><span class=\"toc-item-num\">1.2&nbsp;&nbsp;</span>Trainieren des Naive Bayes Modells (NB)</a></span></li><li><span><a href=\"#Ergebnisbewertung-NB\" data-toc-modified-id=\"Ergebnisbewertung-NB-1.3\"><span class=\"toc-item-num\">1.3&nbsp;&nbsp;</span>Ergebnisbewertung NB</a></span></li><li><span><a href=\"#Trainieren-eines-Support-Vector-Modells-(SVM)\" data-toc-modified-id=\"Trainieren-eines-Support-Vector-Modells-(SVM)-1.4\"><span class=\"toc-item-num\">1.4&nbsp;&nbsp;</span>Trainieren eines Support Vector Modells (SVM)</a></span></li><li><span><a href=\"#Ergebnisbewertung-SVM\" data-toc-modified-id=\"Ergebnisbewertung-SVM-1.5\"><span class=\"toc-item-num\">1.5&nbsp;&nbsp;</span>Ergebnisbewertung SVM</a></span></li><li><span><a href=\"#Optimierung-der-Parameter\" data-toc-modified-id=\"Optimierung-der-Parameter-1.6\"><span class=\"toc-item-num\">1.6&nbsp;&nbsp;</span>Optimierung der Parameter</a></span></li><li><span><a href=\"#Untersuchung-falsch-kategorisierter-Daten\" data-toc-modified-id=\"Untersuchung-falsch-kategorisierter-Daten-1.7\"><span class=\"toc-item-num\">1.7&nbsp;&nbsp;</span>Untersuchung falsch kategorisierter Daten</a></span></li><li><span><a href=\"#Fazit\" data-toc-modified-id=\"Fazit-1.8\"><span class=\"toc-item-num\">1.8&nbsp;&nbsp;</span>Fazit</a></span></li></ul></li><li><span><a href=\"#Kategorie-unterrepräsentierte-Gruppen\" data-toc-modified-id=\"Kategorie-unterrepräsentierte-Gruppen-2\"><span class=\"toc-item-num\">2&nbsp;&nbsp;</span>Kategorie unterrepräsentierte Gruppen</a></span><ul class=\"toc-item\"><li><span><a href=\"#Datenaufbereitung\" data-toc-modified-id=\"Datenaufbereitung-2.1\"><span class=\"toc-item-num\">2.1&nbsp;&nbsp;</span>Datenaufbereitung</a></span></li><li><span><a href=\"#Trainieren-des-Naive-Bayes-Modells-(NB)\" data-toc-modified-id=\"Trainieren-des-Naive-Bayes-Modells-(NB)-2.2\"><span class=\"toc-item-num\">2.2&nbsp;&nbsp;</span>Trainieren des Naive Bayes Modells (NB)</a></span></li><li><span><a href=\"#Ergebnisbewertung-NB\" data-toc-modified-id=\"Ergebnisbewertung-NB-2.3\"><span class=\"toc-item-num\">2.3&nbsp;&nbsp;</span>Ergebnisbewertung NB</a></span></li><li><span><a href=\"#Trainieren-eines-Support-Vector-Modells-(SVM)\" data-toc-modified-id=\"Trainieren-eines-Support-Vector-Modells-(SVM)-2.4\"><span class=\"toc-item-num\">2.4&nbsp;&nbsp;</span>Trainieren eines Support Vector Modells (SVM)</a></span></li><li><span><a href=\"#Ergebnisbewertung-SVM\" data-toc-modified-id=\"Ergebnisbewertung-SVM-2.5\"><span class=\"toc-item-num\">2.5&nbsp;&nbsp;</span>Ergebnisbewertung SVM</a></span></li><li><span><a href=\"#Fazit\" data-toc-modified-id=\"Fazit-2.6\"><span class=\"toc-item-num\">2.6&nbsp;&nbsp;</span>Fazit</a></span></li></ul></li></ul></div>"
   ]
  },
  {
   "cell_type": "markdown",
   "metadata": {},
   "source": [
    "Hilfsfunktionen & Einstellungen"
   ]
  },
  {
   "cell_type": "code",
   "execution_count": 1,
   "metadata": {},
   "outputs": [],
   "source": [
    "# for pretty printing\n",
    "import pprint as pp\n",
    "\n",
    "# IPython (Jupyter) setting: \n",
    "# Print out every value instead of just \"last_expr\" (default)\n",
    "from IPython.core.interactiveshell import InteractiveShell\n",
    "InteractiveShell.ast_node_interactivity = \"all\""
   ]
  },
  {
   "cell_type": "code",
   "execution_count": 2,
   "metadata": {},
   "outputs": [],
   "source": [
    "# Warnungen unterdrücken\n",
    "import warnings;\n",
    "warnings.filterwarnings('ignore');"
   ]
  },
  {
   "cell_type": "markdown",
   "metadata": {},
   "source": [
    "##  Kategorie MINT"
   ]
  },
  {
   "cell_type": "markdown",
   "metadata": {},
   "source": [
    "In diesem Kapitel sollen die Personendaten nach MINT- und nicht MINT-Studiengang unterteilt und klassifiziert werden. Dabei fließen folgende weitere Informationen mit ein:\n",
    "\n",
    "- Geschlecht\n",
    "- Studiengang\n",
    "- Qualifikation\n",
    "- Geburtsland (Deutschland / Ausland) der Person und deren Eltern\n",
    "- Haben Eltern / Geschwister bereits studiert, falls ja war es ein MINT-Fach?\n",
    "- Arbeiten Eltern / Geschwister in einem MINT-Beruf?\n",
    "- Beliebtheit bestimmter MINT Fächer in der Schule\n",
    "- Priorität folgender Faktoren bei der Wahl des Studiengangs:\n",
    "    - Fachinteresse\n",
    "    - Berufsaussichten\n",
    "    - Gehalt\n",
    "    - Familiäre Gründe\n",
    "- Priorität folgender Faktoren für die berufliche Zukunft:\n",
    "    - Partner\n",
    "    - Kinder\n",
    "    - Karriere\n",
    "    \n",
    "All diese Daten wurden in Textform in der Spalte \"Eigenschaften\" zusammengefasst. Diese wird später in Trainings- und Testdaten des Algorithmus geteilt und dient damit als Datengrundlage."
   ]
  },
  {
   "cell_type": "markdown",
   "metadata": {},
   "source": [
    "### Datenaufbereitung"
   ]
  },
  {
   "cell_type": "markdown",
   "metadata": {},
   "source": [
    "Daten mit get_poll_data aus DB laden. Für spätere Klassifikation wird noch die Spalte Kategorie zum Dataframe hinzugefügt."
   ]
  },
  {
   "cell_type": "code",
   "execution_count": 4,
   "metadata": {},
   "outputs": [
    {
     "data": {
      "text/html": [
       "<div>\n",
       "<style scoped>\n",
       "    .dataframe tbody tr th:only-of-type {\n",
       "        vertical-align: middle;\n",
       "    }\n",
       "\n",
       "    .dataframe tbody tr th {\n",
       "        vertical-align: top;\n",
       "    }\n",
       "\n",
       "    .dataframe thead th {\n",
       "        text-align: right;\n",
       "    }\n",
       "</style>\n",
       "<table border=\"1\" class=\"dataframe\">\n",
       "  <thead>\n",
       "    <tr style=\"text-align: right;\">\n",
       "      <th></th>\n",
       "      <th>Eigenschaften</th>\n",
       "      <th>category</th>\n",
       "    </tr>\n",
       "  </thead>\n",
       "  <tbody>\n",
       "    <tr>\n",
       "      <th>431</th>\n",
       "      <td>Weiblich, Informatik, beruflich qualifiziert, ...</td>\n",
       "      <td>MINT</td>\n",
       "    </tr>\n",
       "    <tr>\n",
       "      <th>281</th>\n",
       "      <td>Weiblich, Soziale Arbeit: Erziehung und Bildun...</td>\n",
       "      <td>nicht_MINT</td>\n",
       "    </tr>\n",
       "    <tr>\n",
       "      <th>234</th>\n",
       "      <td>Weiblich, Architektur, allgemeine Hochschulrei...</td>\n",
       "      <td>MINT</td>\n",
       "    </tr>\n",
       "    <tr>\n",
       "      <th>425</th>\n",
       "      <td>Weiblich, Wirtschaftsinformatik, fachgebundene...</td>\n",
       "      <td>MINT</td>\n",
       "    </tr>\n",
       "    <tr>\n",
       "      <th>589</th>\n",
       "      <td>Weiblich, Angewandte Mathematik und Physik, al...</td>\n",
       "      <td>MINT</td>\n",
       "    </tr>\n",
       "  </tbody>\n",
       "</table>\n",
       "</div>"
      ],
      "text/plain": [
       "                                         Eigenschaften    category\n",
       "431  Weiblich, Informatik, beruflich qualifiziert, ...        MINT\n",
       "281  Weiblich, Soziale Arbeit: Erziehung und Bildun...  nicht_MINT\n",
       "234  Weiblich, Architektur, allgemeine Hochschulrei...        MINT\n",
       "425  Weiblich, Wirtschaftsinformatik, fachgebundene...        MINT\n",
       "589  Weiblich, Angewandte Mathematik und Physik, al...        MINT"
      ]
     },
     "execution_count": 4,
     "metadata": {},
     "output_type": "execute_result"
    }
   ],
   "source": [
    "import sqlite3\n",
    "import pandas as pd\n",
    "import os.path\n",
    "dbPath = \"database/bachelor_umfrage.db\"\n",
    "\n",
    "def get_poll_data(table_name=\"klassifikation\", where=None):\n",
    "    df = pd.DataFrame()\n",
    "    if os.path.isfile(dbPath):\n",
    "        conn = sqlite3.connect(dbPath)\n",
    "        sql = \"SELECT MINTFach, Eigenschaften FROM \" + table_name\n",
    "        if where:\n",
    "            sql += \" WHERE \" + where\n",
    "        df = pd.read_sql_query(sql, conn)\n",
    "    else:\n",
    "        print(\"Datenbank oder Tabelle konnte nicht gefunden werden.\")\n",
    "    return df\n",
    "\n",
    "def label_mint (row):\n",
    "    if row['MINTFach'] == \"ja\" :\n",
    "        return 'MINT'\n",
    "    elif row['MINTFach'] == \"nein\" :\n",
    "        return 'nicht_MINT'\n",
    "\n",
    "poll_df = get_poll_data(table_name=\"klassifikation\")\n",
    "poll_df['category'] = poll_df.apply(label_mint, axis=1)\n",
    "poll_df = poll_df.drop(columns=['MINTFach'])\n",
    "poll_df.sample(5)"
   ]
  },
  {
   "cell_type": "markdown",
   "metadata": {},
   "source": [
    "Daten ohne Angabe des Studiengangs"
   ]
  },
  {
   "cell_type": "code",
   "execution_count": 34,
   "metadata": {},
   "outputs": [],
   "source": [
    "#Ohne Studiengang\n",
    "no_subject_df = poll_df\n",
    "no_subject_list = []\n",
    "\n",
    "for i, row in no_subject_df.iterrows():\n",
    "    split_list = row[\"Eigenschaften\"].split(',')\n",
    "    split_list.pop(1)\n",
    "    list_string = ', '.join(split_list)\n",
    "    no_subject_list.append(list_string)\n",
    "    \n",
    "no_subject_df[\"kein_Studiengang\"] = no_subject_list\n",
    "no_subject_df = no_subject_df.drop(columns=['Eigenschaften'])\n",
    "\n",
    "no_subject_df[\"category_id\"] = no_subject_df[\"category\"].factorize()[0]\n",
    "category_id_df = no_subject_df[[\"category\", \"category_id\"]].drop_duplicates().sort_values(\"category_id\")"
   ]
  },
  {
   "cell_type": "markdown",
   "metadata": {},
   "source": [
    "Verteilung MINT- und nicht MINT-Studenten: ca 2/3 MINT -> evtl. später ein Problem"
   ]
  },
  {
   "cell_type": "code",
   "execution_count": 10,
   "metadata": {},
   "outputs": [
    {
     "data": {
      "text/plain": [
       "<matplotlib.axes._subplots.AxesSubplot at 0x286035791d0>"
      ]
     },
     "execution_count": 10,
     "metadata": {},
     "output_type": "execute_result"
    },
    {
     "data": {
      "text/plain": [
       "category\n",
       "MINT          430\n",
       "nicht_MINT    279\n",
       "Name: category, dtype: int64"
      ]
     },
     "execution_count": 10,
     "metadata": {},
     "output_type": "execute_result"
    },
    {
     "data": {
      "image/png": "[encoded data removed]",
      "text/plain": [
       "<Figure size 576x432 with 1 Axes>"
      ]
     },
     "metadata": {
      "needs_background": "light"
     },
     "output_type": "display_data"
    }
   ],
   "source": [
    "%matplotlib inline\n",
    "\n",
    "import matplotlib.pyplot as plt\n",
    "fig = plt.figure(figsize=(8,6))\n",
    "poll_df.groupby(\"category\")[\"category\"].count().plot.bar(ylim=0);\n",
    "poll_df.groupby(\"category\")[\"category\"].count()"
   ]
  },
  {
   "cell_type": "code",
   "execution_count": 35,
   "metadata": {},
   "outputs": [
    {
     "data": {
      "text/html": [
       "<div>\n",
       "<style scoped>\n",
       "    .dataframe tbody tr th:only-of-type {\n",
       "        vertical-align: middle;\n",
       "    }\n",
       "\n",
       "    .dataframe tbody tr th {\n",
       "        vertical-align: top;\n",
       "    }\n",
       "\n",
       "    .dataframe thead th {\n",
       "        text-align: right;\n",
       "    }\n",
       "</style>\n",
       "<table border=\"1\" class=\"dataframe\">\n",
       "  <thead>\n",
       "    <tr style=\"text-align: right;\">\n",
       "      <th></th>\n",
       "      <th>category</th>\n",
       "      <th>category_id</th>\n",
       "    </tr>\n",
       "  </thead>\n",
       "  <tbody>\n",
       "    <tr>\n",
       "      <th>0</th>\n",
       "      <td>nicht_MINT</td>\n",
       "      <td>0</td>\n",
       "    </tr>\n",
       "    <tr>\n",
       "      <th>1</th>\n",
       "      <td>MINT</td>\n",
       "      <td>1</td>\n",
       "    </tr>\n",
       "  </tbody>\n",
       "</table>\n",
       "</div>"
      ],
      "text/plain": [
       "     category  category_id\n",
       "0  nicht_MINT            0\n",
       "1        MINT            1"
      ]
     },
     "execution_count": 35,
     "metadata": {},
     "output_type": "execute_result"
    }
   ],
   "source": [
    "poll_df[\"category_id\"] = poll_df[\"category\"].factorize()[0]\n",
    "#Mit Studiengang\n",
    "#category_id_df = poll_df[[\"category\", \"category_id\"]].drop_duplicates().sort_values(\"category_id\")\n",
    "category_id_df"
   ]
  },
  {
   "cell_type": "markdown",
   "metadata": {},
   "source": [
    "Aufteilung in 80% Trainings- und 20% Testdaten."
   ]
  },
  {
   "cell_type": "code",
   "execution_count": 54,
   "metadata": {},
   "outputs": [
    {
     "name": "stdout",
     "output_type": "stream",
     "text": [
      "(567,)\n",
      "(142,)\n",
      "(567,)\n",
      "(142,)\n"
     ]
    }
   ],
   "source": [
    "from sklearn.model_selection import train_test_split\n",
    "\n",
    "#Mit Studiengang\n",
    "#features = poll_df['Eigenschaften']\n",
    "#labels = poll_df[\"category_id\"]\n",
    "\n",
    "#Ohne Studiengang\n",
    "features = no_subject_df['kein_Studiengang']\n",
    "labels = no_subject_df[\"category_id\"]\n",
    "\n",
    "X_train, X_test, y_train, y_test = train_test_split(features, labels, test_size=0.20)\n",
    "\n",
    "print(X_train.shape)\n",
    "print(X_test.shape)\n",
    "print(y_train.shape)\n",
    "print(y_test.shape)"
   ]
  },
  {
   "cell_type": "markdown",
   "metadata": {},
   "source": [
    "### Trainieren des Naive Bayes Modells (NB)"
   ]
  },
  {
   "cell_type": "code",
   "execution_count": 55,
   "metadata": {},
   "outputs": [],
   "source": [
    "from sklearn.pipeline import Pipeline\n",
    "from sklearn.feature_extraction.text import CountVectorizer\n",
    "from sklearn.feature_extraction.text import TfidfTransformer\n",
    "from sklearn.naive_bayes import MultinomialNB\n",
    "\n",
    "text_clf = Pipeline([(\"vect\", CountVectorizer(ngram_range=(1, 1), stop_words=None)),\n",
    "                     (\"tfidf\", TfidfTransformer(sublinear_tf=True, norm=\"l2\")),\n",
    "                     (\"nb_clf\", MultinomialNB()),])\n",
    "text_clf = text_clf.fit(X_train, y_train)"
   ]
  },
  {
   "cell_type": "code",
   "execution_count": 56,
   "metadata": {},
   "outputs": [
    {
     "name": "stdout",
     "output_type": "stream",
     "text": [
      "Wall time: 37.9 ms\n"
     ]
    },
    {
     "data": {
      "text/plain": [
       "Pipeline(memory=None,\n",
       "     steps=[('vect', CountVectorizer(analyzer='word', binary=False, decode_error='strict',\n",
       "        dtype=<class 'numpy.int64'>, encoding='utf-8', input='content',\n",
       "        lowercase=True, max_df=1.0, max_features=None, min_df=1,\n",
       "        ngram_range=(1, 1), preprocessor=None, stop_words=None,\n",
       "        strip...ear_tf=True, use_idf=True)), ('nb_clf', MultinomialNB(alpha=1.0, class_prior=None, fit_prior=True))])"
      ]
     },
     "execution_count": 56,
     "metadata": {},
     "output_type": "execute_result"
    }
   ],
   "source": [
    "%time text_clf.fit(X_train, y_train)"
   ]
  },
  {
   "cell_type": "code",
   "execution_count": 57,
   "metadata": {},
   "outputs": [],
   "source": [
    "y_predicted = text_clf.predict(X_test)"
   ]
  },
  {
   "cell_type": "markdown",
   "metadata": {},
   "source": [
    "### Ergebnisbewertung NB"
   ]
  },
  {
   "cell_type": "markdown",
   "metadata": {},
   "source": [
    "Berechnung Accuracy-Score"
   ]
  },
  {
   "cell_type": "code",
   "execution_count": 58,
   "metadata": {},
   "outputs": [
    {
     "data": {
      "text/plain": [
       "0.5985915492957746"
      ]
     },
     "execution_count": 58,
     "metadata": {},
     "output_type": "execute_result"
    }
   ],
   "source": [
    "from sklearn import metrics\n",
    "metrics.accuracy_score(y_test, y_predicted)"
   ]
  },
  {
   "cell_type": "markdown",
   "metadata": {},
   "source": [
    "Berechnung Classification Report"
   ]
  },
  {
   "cell_type": "code",
   "execution_count": 59,
   "metadata": {},
   "outputs": [
    {
     "name": "stdout",
     "output_type": "stream",
     "text": [
      "              precision    recall  f1-score   support\n",
      "\n",
      "  nicht_MINT       1.00      0.03      0.07        59\n",
      "        MINT       0.59      1.00      0.74        83\n",
      "\n",
      "   micro avg       0.60      0.60      0.60       142\n",
      "   macro avg       0.80      0.52      0.40       142\n",
      "weighted avg       0.76      0.60      0.46       142\n",
      "\n"
     ]
    }
   ],
   "source": [
    "print(metrics.classification_report(y_test, y_predicted, \n",
    "                                    labels=category_id_df.category_id.values, \n",
    "                                    target_names=category_id_df.category.values))"
   ]
  },
  {
   "cell_type": "markdown",
   "metadata": {},
   "source": [
    "Confusion Matrix"
   ]
  },
  {
   "cell_type": "code",
   "execution_count": 60,
   "metadata": {},
   "outputs": [
    {
     "data": {
      "image/png": "[encoded data removed]",
      "text/plain": [
       "<Figure size 432x288 with 2 Axes>"
      ]
     },
     "metadata": {
      "needs_background": "light"
     },
     "output_type": "display_data"
    }
   ],
   "source": [
    "import matplotlib.pyplot as plt\n",
    "import seaborn as sns\n",
    "from sklearn.metrics import confusion_matrix\n",
    "\n",
    "conf_mat = confusion_matrix(y_test, y_predicted)\n",
    "fig, ax = plt.subplots(figsize=(6, 4))\n",
    "sns.heatmap(conf_mat, annot=True, fmt=\"d\", cmap=\"Blues\", cbar=True,\n",
    "            xticklabels=category_id_df.category.values, yticklabels=category_id_df.category.values)\n",
    "plt.ylabel(\"Actual\")\n",
    "plt.xlabel(\"Predicted\");"
   ]
  },
  {
   "cell_type": "markdown",
   "metadata": {},
   "source": [
    "### Trainieren eines Support Vector Modells (SVM)"
   ]
  },
  {
   "cell_type": "code",
   "execution_count": 61,
   "metadata": {},
   "outputs": [],
   "source": [
    "from sklearn.pipeline import Pipeline\n",
    "from sklearn.feature_extraction.text import CountVectorizer\n",
    "from sklearn.feature_extraction.text import TfidfTransformer\n",
    "from sklearn.svm import SVC\n",
    "\n",
    "text_clf = Pipeline([(\"vect\", CountVectorizer(ngram_range=(1, 1), stop_words=None)),\n",
    "                     (\"tfidf\", TfidfTransformer(sublinear_tf=True, norm=\"l2\")),\n",
    "                     (\"sv_clf\", SVC(kernel=\"linear\"))])\n",
    "\n",
    "text_clf = text_clf.fit(X_train, y_train)"
   ]
  },
  {
   "cell_type": "code",
   "execution_count": 62,
   "metadata": {},
   "outputs": [],
   "source": [
    "y_predicted = text_clf.predict(X_test)"
   ]
  },
  {
   "cell_type": "markdown",
   "metadata": {},
   "source": [
    "### Ergebnisbewertung SVM"
   ]
  },
  {
   "cell_type": "markdown",
   "metadata": {},
   "source": [
    "Berechnung Acuracy-Score"
   ]
  },
  {
   "cell_type": "code",
   "execution_count": 63,
   "metadata": {},
   "outputs": [
    {
     "data": {
      "text/plain": [
       "0.704225352112676"
      ]
     },
     "execution_count": 63,
     "metadata": {},
     "output_type": "execute_result"
    }
   ],
   "source": [
    "from sklearn import metrics\n",
    "metrics.accuracy_score(y_test, y_predicted)"
   ]
  },
  {
   "cell_type": "markdown",
   "metadata": {},
   "source": [
    "Confusion-Matrix"
   ]
  },
  {
   "cell_type": "code",
   "execution_count": 65,
   "metadata": {},
   "outputs": [
    {
     "data": {
      "image/png": "[encoded data removed]",
      "text/plain": [
       "<Figure size 432x288 with 2 Axes>"
      ]
     },
     "metadata": {
      "needs_background": "light"
     },
     "output_type": "display_data"
    }
   ],
   "source": [
    "import matplotlib.pyplot as plt\n",
    "import seaborn as sns\n",
    "from sklearn.metrics import confusion_matrix\n",
    "\n",
    "conf_mat = confusion_matrix(y_test, y_predicted)\n",
    "fig, ax = plt.subplots(figsize=(6, 4))\n",
    "sns.heatmap(conf_mat, annot=True, fmt=\"d\", cmap=\"Blues\", cbar=True,\n",
    "            xticklabels=category_id_df.category.values, yticklabels=category_id_df.category.values)\n",
    "plt.ylabel(\"Actual\")\n",
    "plt.xlabel(\"Predicted\");"
   ]
  },
  {
   "cell_type": "markdown",
   "metadata": {},
   "source": [
    "Berechnung Classification Report"
   ]
  },
  {
   "cell_type": "code",
   "execution_count": 64,
   "metadata": {},
   "outputs": [
    {
     "name": "stdout",
     "output_type": "stream",
     "text": [
      "              precision    recall  f1-score   support\n",
      "\n",
      "  nicht_MINT       0.62      0.73      0.67        59\n",
      "        MINT       0.78      0.69      0.73        83\n",
      "\n",
      "   micro avg       0.70      0.70      0.70       142\n",
      "   macro avg       0.70      0.71      0.70       142\n",
      "weighted avg       0.72      0.70      0.71       142\n",
      "\n"
     ]
    }
   ],
   "source": [
    "print(metrics.classification_report(y_test, y_predicted, target_names=category_id_df.category.values))"
   ]
  },
  {
   "cell_type": "markdown",
   "metadata": {},
   "source": [
    "Bewertung Precision:\n",
    "- Sicherer beim Erkennen, wenn die Betrachteten Datensätze nicht zur MINT-Kategorie gehören\n",
    "- Der nicht_MINT-Kategorie werden öfter Datensätze zugeordnet, die dort falsch sind\n",
    "\n",
    "Bewertung Recall:\n",
    "- nicht_MINT Datensätze werden öfters als solche erkannt\n",
    "- MINT Datensätze werden nur unwesentlich schlechter als solche erkannt"
   ]
  },
  {
   "cell_type": "markdown",
   "metadata": {},
   "source": [
    "### Optimierung der Parameter"
   ]
  },
  {
   "cell_type": "markdown",
   "metadata": {},
   "source": [
    "Mit den folgenden Schritten wird nun versucht, die Parametrisierung der Pipeline zu optimieren:\n",
    "\n",
    "1. Aufbau der Pipeline\n",
    "2. Vorgabe möglicher Parameterwerte\n",
    "3. Optimierung\n",
    "4. Ausgabe des besten Parametersets"
   ]
  },
  {
   "cell_type": "code",
   "execution_count": 72,
   "metadata": {},
   "outputs": [],
   "source": [
    "import numpy as np \n",
    "from pprint import pprint\n",
    "from time import time \n",
    "\n",
    "from sklearn.pipeline import Pipeline\n",
    "from sklearn.feature_extraction.text import TfidfTransformer\n",
    "from sklearn.feature_extraction.text import CountVectorizer\n",
    "from sklearn.svm import SVC\n",
    "from sklearn.model_selection import GridSearchCV\n",
    "\n",
    "pipeline = Pipeline([\n",
    "    (\"vect\", CountVectorizer(stop_words=None)),\n",
    "    (\"tfidf\", TfidfTransformer()),\n",
    "    (\"sv_clf\", SVC()),\n",
    "])"
   ]
  },
  {
   "cell_type": "code",
   "execution_count": 76,
   "metadata": {},
   "outputs": [],
   "source": [
    "parameters = {\n",
    "    \"vect__max_df\": (0.2, 0.5, 0.75, 1.0), # Ignorieren von Termen mit relativer Document Frequency > max_df (filtert Korpusspezifische Stoppwörter)\n",
    "    \"vect__ngram_range\": ((1, 1), (1, 2)),  # Unigramme oder Bigramme\n",
    "    \"tfidf__use_idf\": (True, False), # Verwendung der Inverse Document Frequency\n",
    "    \"tfidf__norm\": (\"l1\", \"l2\"), # Art der Normalisierung\n",
    "    \"sv_clf__C\": (1., 1.1, 1.2, 1.3, 1.4, 1.5, 1.6), # Penalty Parameter des Fehlerterms (Default = 1.0)\n",
    "    \"sv_clf__kernel\": (\"rbf\", \"linear\"), # Art der Entscheidungsfunktion (rbf=Radial Basis Function)\n",
    "}"
   ]
  },
  {
   "cell_type": "code",
   "execution_count": 77,
   "metadata": {},
   "outputs": [
    {
     "name": "stdout",
     "output_type": "stream",
     "text": [
      "Pipeline: ['vect', 'tfidf', 'sv_clf']\n",
      "Übergebene Parameter:\n",
      "{'sv_clf__C': (1.0, 1.1, 1.2, 1.3, 1.4, 1.5, 1.6),\n",
      " 'sv_clf__kernel': ('rbf', 'linear'),\n",
      " 'tfidf__norm': ('l1', 'l2'),\n",
      " 'tfidf__use_idf': (True, False),\n",
      " 'vect__max_df': (0.2, 0.5, 0.75, 1.0),\n",
      " 'vect__ngram_range': ((1, 1), (1, 2))}\n",
      "Fitting 3 folds for each of 448 candidates, totalling 1344 fits\n"
     ]
    },
    {
     "name": "stderr",
     "output_type": "stream",
     "text": [
      "C:\\Users\\ewittmann\\Anaconda3\\lib\\site-packages\\sklearn\\model_selection\\_split.py:2053: FutureWarning: You should specify a value for 'cv' instead of relying on the default value. The default value will change from 3 to 5 in version 0.22.\n",
      "  warnings.warn(CV_WARNING, FutureWarning)\n",
      "[Parallel(n_jobs=-1)]: Using backend LokyBackend with 4 concurrent workers.\n",
      "[Parallel(n_jobs=-1)]: Done 144 tasks      | elapsed:    5.7s\n",
      "[Parallel(n_jobs=-1)]: Done 744 tasks      | elapsed:   27.1s\n"
     ]
    },
    {
     "name": "stdout",
     "output_type": "stream",
     "text": [
      "Fertig nach 50.706s\n"
     ]
    },
    {
     "name": "stderr",
     "output_type": "stream",
     "text": [
      "[Parallel(n_jobs=-1)]: Done 1344 out of 1344 | elapsed:   50.5s finished\n"
     ]
    }
   ],
   "source": [
    "grid_search = GridSearchCV(pipeline, parameters, n_jobs=-1, verbose=1)\n",
    "\n",
    "print(\"Pipeline:\", [name for name, _ in pipeline.steps])\n",
    "print(\"Übergebene Parameter:\")\n",
    "pprint(parameters)\n",
    "t0 = time()\n",
    "grid_search.fit(X_train, y_train)\n",
    "print(\"Fertig nach %0.3fs\" % (time() - t0))"
   ]
  },
  {
   "cell_type": "code",
   "execution_count": 78,
   "metadata": {},
   "outputs": [
    {
     "name": "stdout",
     "output_type": "stream",
     "text": [
      "Bester Score (hier Accuracy): 0.690\n",
      "Bestes Parameter Set:\n",
      "\tsv_clf__C: 1.2\n",
      "\tsv_clf__kernel: 'linear'\n",
      "\ttfidf__norm: 'l2'\n",
      "\ttfidf__use_idf: False\n",
      "\tvect__max_df: 0.5\n",
      "\tvect__ngram_range: (1, 1)\n"
     ]
    }
   ],
   "source": [
    "print(\"Bester Score (hier Accuracy): %0.3f\" % grid_search.best_score_)\n",
    "print(\"Bestes Parameter Set:\")\n",
    "best_parameters = grid_search.best_estimator_.get_params()\n",
    "for param_name in sorted(parameters.keys()):\n",
    "    print(\"\\t%s: %r\" % (param_name, best_parameters[param_name]))"
   ]
  },
  {
   "cell_type": "markdown",
   "metadata": {},
   "source": [
    "Anwenden der optimierten Parameter"
   ]
  },
  {
   "cell_type": "code",
   "execution_count": 99,
   "metadata": {},
   "outputs": [],
   "source": [
    "#Mit Studiengang\n",
    "#X_train, X_test, y_train, y_test, indices_train, indices_test = train_test_split(features, \n",
    "#                                                                                 labels, \n",
    "#                                                                                 poll_df.index, \n",
    "#                                                                                 test_size=0.20)\n",
    "\n",
    "#Ohne Studiengang\n",
    "X_train, X_test, y_train, y_test, indices_train, indices_test = train_test_split(features, \n",
    "                                                                                 labels, \n",
    "                                                                                 no_subject_df.index, \n",
    "                                                                                 test_size=0.20)"
   ]
  },
  {
   "cell_type": "code",
   "execution_count": 100,
   "metadata": {},
   "outputs": [],
   "source": [
    "from sklearn.pipeline import Pipeline\n",
    "from sklearn.feature_extraction.text import CountVectorizer\n",
    "from sklearn.feature_extraction.text import TfidfTransformer\n",
    "from sklearn.svm import SVC\n",
    "\n",
    "text_clf = Pipeline([(\"vect\", CountVectorizer(max_df=0.5, ngram_range=(1, 1), stop_words=None)),\n",
    "                     (\"tfidf\", TfidfTransformer(use_idf=False, sublinear_tf=True, norm=\"l2\")),\n",
    "                     (\"sv_clf\", SVC(C=1.2, kernel=\"linear\")),])\n",
    "\n",
    "text_clf = text_clf.fit(X_train, y_train)\n",
    "y_predicted = text_clf.predict(X_test)"
   ]
  },
  {
   "cell_type": "code",
   "execution_count": 101,
   "metadata": {},
   "outputs": [
    {
     "name": "stdout",
     "output_type": "stream",
     "text": [
      "              precision    recall  f1-score   support\n",
      "\n",
      "  nicht_MINT       0.58      0.50      0.54        52\n",
      "        MINT       0.73      0.79      0.76        90\n",
      "\n",
      "   micro avg       0.68      0.68      0.68       142\n",
      "   macro avg       0.65      0.64      0.65       142\n",
      "weighted avg       0.68      0.68      0.68       142\n",
      "\n"
     ]
    }
   ],
   "source": [
    "from sklearn import metrics\n",
    "metrics.accuracy_score(y_test, y_predicted)\n",
    "\n",
    "print(metrics.classification_report(y_test, y_predicted, \n",
    "                                    labels=category_id_df.category_id.values, \n",
    "                                    target_names=category_id_df.category.values))"
   ]
  },
  {
   "cell_type": "code",
   "execution_count": 102,
   "metadata": {},
   "outputs": [
    {
     "data": {
      "image/png": "[encoded data removed]",
      "text/plain": [
       "<Figure size 432x288 with 2 Axes>"
      ]
     },
     "metadata": {
      "needs_background": "light"
     },
     "output_type": "display_data"
    }
   ],
   "source": [
    "import matplotlib.pyplot as plt\n",
    "import seaborn as sns\n",
    "from sklearn.metrics import confusion_matrix\n",
    "\n",
    "conf_mat = confusion_matrix(y_test, y_predicted)\n",
    "fig, ax = plt.subplots(figsize=(6, 4))\n",
    "sns.heatmap(conf_mat, annot=True, fmt=\"d\", cmap=\"Blues\", cbar=True,\n",
    "            xticklabels=category_id_df.category.values, yticklabels=category_id_df.category.values)\n",
    "plt.ylabel(\"Actual\")\n",
    "plt.xlabel(\"Predicted\");"
   ]
  },
  {
   "cell_type": "markdown",
   "metadata": {},
   "source": [
    "Die Optimierung der Parameter führt zu einer Verbesserung der Ergebnisse für die MINT-Kategorie. Im Gegensatz dazu verschlechtern sich die Werte für die nicht_MINT-Kategorie."
   ]
  },
  {
   "cell_type": "markdown",
   "metadata": {},
   "source": [
    "### Untersuchung falsch kategorisierter Daten"
   ]
  },
  {
   "cell_type": "code",
   "execution_count": 93,
   "metadata": {},
   "outputs": [
    {
     "name": "stderr",
     "output_type": "stream",
     "text": [
      "C:\\Users\\ewittmann\\Anaconda3\\lib\\site-packages\\ipykernel_launcher.py:2: DeprecationWarning: \n",
      ".ix is deprecated. Please use\n",
      ".loc for label based indexing or\n",
      ".iloc for positional indexing\n",
      "\n",
      "See the documentation here:\n",
      "http://pandas.pydata.org/pandas-docs/stable/indexing.html#ix-indexer-is-deprecated\n",
      "  \n"
     ]
    },
    {
     "data": {
      "text/html": [
       "<div>\n",
       "<style scoped>\n",
       "    .dataframe tbody tr th:only-of-type {\n",
       "        vertical-align: middle;\n",
       "    }\n",
       "\n",
       "    .dataframe tbody tr th {\n",
       "        vertical-align: top;\n",
       "    }\n",
       "\n",
       "    .dataframe thead th {\n",
       "        text-align: right;\n",
       "    }\n",
       "</style>\n",
       "<table border=\"1\" class=\"dataframe\">\n",
       "  <thead>\n",
       "    <tr style=\"text-align: right;\">\n",
       "      <th></th>\n",
       "      <th>category</th>\n",
       "      <th>kein_Studiengang</th>\n",
       "      <th>category_id</th>\n",
       "    </tr>\n",
       "  </thead>\n",
       "  <tbody>\n",
       "    <tr>\n",
       "      <th>598</th>\n",
       "      <td>nicht_MINT</td>\n",
       "      <td>Weiblich,  fachgebundene Hochschulreife,  in D...</td>\n",
       "      <td>0</td>\n",
       "    </tr>\n",
       "    <tr>\n",
       "      <th>469</th>\n",
       "      <td>MINT</td>\n",
       "      <td>Weiblich,  allgemeine Hochschulreife,  in Deut...</td>\n",
       "      <td>1</td>\n",
       "    </tr>\n",
       "    <tr>\n",
       "      <th>198</th>\n",
       "      <td>nicht_MINT</td>\n",
       "      <td>Weiblich,  allgemeine Hochschulreife,  in Deut...</td>\n",
       "      <td>0</td>\n",
       "    </tr>\n",
       "    <tr>\n",
       "      <th>691</th>\n",
       "      <td>MINT</td>\n",
       "      <td>Männlich,  fachhochschulreife,  Eltern im Ausl...</td>\n",
       "      <td>1</td>\n",
       "    </tr>\n",
       "    <tr>\n",
       "      <th>500</th>\n",
       "      <td>nicht_MINT</td>\n",
       "      <td>Weiblich,  allgemeine Hochschulreife,  in Deut...</td>\n",
       "      <td>0</td>\n",
       "    </tr>\n",
       "    <tr>\n",
       "      <th>277</th>\n",
       "      <td>nicht_MINT</td>\n",
       "      <td>Männlich,  fachgebundene Hochschulreife,  in D...</td>\n",
       "      <td>0</td>\n",
       "    </tr>\n",
       "    <tr>\n",
       "      <th>642</th>\n",
       "      <td>nicht_MINT</td>\n",
       "      <td>Männlich,  fachgebundene Hochschulreife,  Elte...</td>\n",
       "      <td>0</td>\n",
       "    </tr>\n",
       "    <tr>\n",
       "      <th>120</th>\n",
       "      <td>MINT</td>\n",
       "      <td>Weiblich,  fachgebundene Hochschulreife,  Elte...</td>\n",
       "      <td>1</td>\n",
       "    </tr>\n",
       "    <tr>\n",
       "      <th>446</th>\n",
       "      <td>nicht_MINT</td>\n",
       "      <td>Männlich,  allgemeine Hochschulreife,  in Deut...</td>\n",
       "      <td>0</td>\n",
       "    </tr>\n",
       "    <tr>\n",
       "      <th>559</th>\n",
       "      <td>nicht_MINT</td>\n",
       "      <td>Weiblich,  allgemeine Hochschulreife,  in Deut...</td>\n",
       "      <td>0</td>\n",
       "    </tr>\n",
       "  </tbody>\n",
       "</table>\n",
       "</div>"
      ],
      "text/plain": [
       "       category                                   kein_Studiengang  \\\n",
       "598  nicht_MINT  Weiblich,  fachgebundene Hochschulreife,  in D...   \n",
       "469        MINT  Weiblich,  allgemeine Hochschulreife,  in Deut...   \n",
       "198  nicht_MINT  Weiblich,  allgemeine Hochschulreife,  in Deut...   \n",
       "691        MINT  Männlich,  fachhochschulreife,  Eltern im Ausl...   \n",
       "500  nicht_MINT  Weiblich,  allgemeine Hochschulreife,  in Deut...   \n",
       "277  nicht_MINT  Männlich,  fachgebundene Hochschulreife,  in D...   \n",
       "642  nicht_MINT  Männlich,  fachgebundene Hochschulreife,  Elte...   \n",
       "120        MINT  Weiblich,  fachgebundene Hochschulreife,  Elte...   \n",
       "446  nicht_MINT  Männlich,  allgemeine Hochschulreife,  in Deut...   \n",
       "559  nicht_MINT  Weiblich,  allgemeine Hochschulreife,  in Deut...   \n",
       "\n",
       "     category_id  \n",
       "598            0  \n",
       "469            1  \n",
       "198            0  \n",
       "691            1  \n",
       "500            0  \n",
       "277            0  \n",
       "642            0  \n",
       "120            1  \n",
       "446            0  \n",
       "559            0  "
      ]
     },
     "execution_count": 93,
     "metadata": {},
     "output_type": "execute_result"
    }
   ],
   "source": [
    "X_test.index\n",
    "test_df = no_subject_df.ix[X_test.index]\n",
    "test_df.sample(10)"
   ]
  },
  {
   "cell_type": "code",
   "execution_count": 94,
   "metadata": {},
   "outputs": [],
   "source": [
    "id_to_category = dict(category_id_df[['category_id', 'category']].values)\n",
    "id_to_category\n",
    "\n",
    "test_df['predicted_id'] = y_predicted\n",
    "test_df['predicted'] = test_df['predicted_id'].map(lambda id: id_to_category[id])"
   ]
  },
  {
   "cell_type": "code",
   "execution_count": 98,
   "metadata": {},
   "outputs": [
    {
     "data": {
      "text/html": [
       "<div>\n",
       "<style scoped>\n",
       "    .dataframe tbody tr th:only-of-type {\n",
       "        vertical-align: middle;\n",
       "    }\n",
       "\n",
       "    .dataframe tbody tr th {\n",
       "        vertical-align: top;\n",
       "    }\n",
       "\n",
       "    .dataframe thead th {\n",
       "        text-align: right;\n",
       "    }\n",
       "</style>\n",
       "<table border=\"1\" class=\"dataframe\">\n",
       "  <thead>\n",
       "    <tr style=\"text-align: right;\">\n",
       "      <th></th>\n",
       "      <th>category</th>\n",
       "      <th>predicted</th>\n",
       "      <th>kein_Studiengang</th>\n",
       "    </tr>\n",
       "  </thead>\n",
       "  <tbody>\n",
       "    <tr>\n",
       "      <th>120</th>\n",
       "      <td>MINT</td>\n",
       "      <td>nicht_MINT</td>\n",
       "      <td>Weiblich,  fachgebundene Hochschulreife,  Eltern im Ausland geboren,  Studienpionier,  kein MINT-Beruf,  Beliebtheit Mathematik: 4,  Beliebtheit Physik: 3,  Beliebtheit Informatik: 2,  Beliebtheit Chemie: 3,  Beliebtheit Biologie: 4,  Fachinteresse: 3,  Berufsaussichten: 3,  Gehalt: 3,  Gesellschaftliches Ansehen: 4,  Partner: 4,  Kinder: 1,  Karriere: 2</td>\n",
       "    </tr>\n",
       "    <tr>\n",
       "      <th>695</th>\n",
       "      <td>nicht_MINT</td>\n",
       "      <td>MINT</td>\n",
       "      <td>Männlich,  allgemeine Hochschulreife,  in Deutschland geboren,  Studienpionier,  kein MINT-Beruf,  Beliebtheit Mathematik: 3,  Beliebtheit Physik: 1,  Beliebtheit Informatik: 3,  Beliebtheit Chemie: 4,  Beliebtheit Biologie: 5,  Fachinteresse: 4,  Berufsaussichten: 4,  Gehalt: 2,  Gesellschaftliches Ansehen: 2,  Partner: 4,  Kinder: 1,  Karriere: 2</td>\n",
       "    </tr>\n",
       "    <tr>\n",
       "      <th>298</th>\n",
       "      <td>nicht_MINT</td>\n",
       "      <td>MINT</td>\n",
       "      <td>Weiblich,  allgemeine Hochschulreife,  in Deutschland geboren,  Studienpionier,  Elternteil übt MINT-Beruf aus,  Beliebtheit Mathematik: 1,  Beliebtheit Physik: 1,  Beliebtheit Informatik: 2,  Beliebtheit Chemie: 2,  Beliebtheit Biologie: 4,  Fachinteresse: 4,  Berufsaussichten: 3,  Gehalt: 1,  Gesellschaftliches Ansehen: 1,  Partner: 3,  Kinder: 3,  Karriere: 3</td>\n",
       "    </tr>\n",
       "    <tr>\n",
       "      <th>284</th>\n",
       "      <td>nicht_MINT</td>\n",
       "      <td>MINT</td>\n",
       "      <td>Weiblich,  allgemeine Hochschulreife,  in Deutschland geboren,  Elternteil hat MINT-Fach studiert,  Elternteil übt MINT-Beruf aus,  Beliebtheit Mathematik: 2,  Beliebtheit Physik: 1,  Beliebtheit Informatik: 2,  Beliebtheit Chemie: 3,  Beliebtheit Biologie: 4,  Fachinteresse: 3,  Berufsaussichten: 2,  Gehalt: 1,  Gesellschaftliches Ansehen: 2,  Partner: 2,  Kinder: 2,  Karriere: 2</td>\n",
       "    </tr>\n",
       "    <tr>\n",
       "      <th>305</th>\n",
       "      <td>MINT</td>\n",
       "      <td>nicht_MINT</td>\n",
       "      <td>Weiblich,  allgemeine Hochschulreife,  in Deutschland geboren,  Elternteil hat studiert,  kein MINT-Beruf,  Beliebtheit Mathematik: 2,  Beliebtheit Physik: 4,  Beliebtheit Informatik: 3,  Beliebtheit Chemie: 4,  Beliebtheit Biologie: 5,  Fachinteresse: 4,  Berufsaussichten: 3,  Gehalt: 2,  Gesellschaftliches Ansehen: 3,  Partner: 4,  Kinder: 3,  Karriere: 4</td>\n",
       "    </tr>\n",
       "    <tr>\n",
       "      <th>471</th>\n",
       "      <td>nicht_MINT</td>\n",
       "      <td>MINT</td>\n",
       "      <td>Weiblich,  allgemeine Hochschulreife,  in Deutschland geboren,  Elternteil hat MINT-Fach studiert,  Elternteil übt MINT-Beruf aus,  Geschwister üben MINT-Beruf aus,  Beliebtheit Mathematik: 4,  Beliebtheit Physik: 2,  Beliebtheit Informatik: 2,  Beliebtheit Chemie: 4,  Beliebtheit Biologie: 4,  Fachinteresse: 4,  Berufsaussichten: 3,  Gehalt: 3,  Gesellschaftliches Ansehen: 3,  Partner: 4,  Kinder: 4,  Karriere: 3</td>\n",
       "    </tr>\n",
       "    <tr>\n",
       "      <th>229</th>\n",
       "      <td>nicht_MINT</td>\n",
       "      <td>MINT</td>\n",
       "      <td>Weiblich,  Abitur,  im Ausland geboren,  Eltern im Ausland geboren,  Studienpionier,  Elternteil übt MINT-Beruf aus,  Beliebtheit Mathematik: 5,  Beliebtheit Physik: 4,  Beliebtheit Informatik: 4,  Beliebtheit Chemie: 3,  Beliebtheit Biologie: 5,  Fachinteresse: 3,  Berufsaussichten: 4,  Gehalt: 4,  Gesellschaftliches Ansehen: 2,  Partner: 3,  Kinder: 4,  Karriere: 4</td>\n",
       "    </tr>\n",
       "    <tr>\n",
       "      <th>348</th>\n",
       "      <td>nicht_MINT</td>\n",
       "      <td>MINT</td>\n",
       "      <td>Männlich,  allgemeine Hochschulreife,  in Deutschland geboren,  Elternteil hat MINT-Fach studiert,  Elternteil hat studiert,  Elternteil übt MINT-Beruf aus,  Beliebtheit Mathematik: 2,  Beliebtheit Physik: 2,  Beliebtheit Informatik: 2,  Beliebtheit Chemie: 2,  Beliebtheit Biologie: 2,  Fachinteresse: 4,  Berufsaussichten: 3,  Gehalt: 2,  Gesellschaftliches Ansehen: 2,  Partner: 4,  Kinder: 3,  Karriere: 4</td>\n",
       "    </tr>\n",
       "    <tr>\n",
       "      <th>86</th>\n",
       "      <td>MINT</td>\n",
       "      <td>nicht_MINT</td>\n",
       "      <td>Weiblich,  allgemeine Hochschulreife,  Eltern im Ausland geboren,  Studienpionier,  kein MINT-Beruf,  Beliebtheit Mathematik: 4,  Beliebtheit Physik: 5,  Beliebtheit Informatik: 3,  Beliebtheit Chemie: 2,  Beliebtheit Biologie: 4,  Fachinteresse: 3,  Berufsaussichten: 4,  Gehalt: 3,  Gesellschaftliches Ansehen: 2,  Partner: 4,  Kinder: 3,  Karriere: 4</td>\n",
       "    </tr>\n",
       "    <tr>\n",
       "      <th>694</th>\n",
       "      <td>nicht_MINT</td>\n",
       "      <td>MINT</td>\n",
       "      <td>Männlich,  allgemeine Hochschulreife,  in Deutschland geboren,  Elternteil hat MINT-Fach studiert,  Elternteil übt MINT-Beruf aus,  Beliebtheit Mathematik: 2,  Beliebtheit Physik: 2,  Beliebtheit Informatik: 1,  Beliebtheit Chemie: 2,  Beliebtheit Biologie: 4,  Fachinteresse: 4,  Berufsaussichten: 3,  Gehalt: 3,  Gesellschaftliches Ansehen: 2,  Partner: 4,  Kinder: 4,  Karriere: 3</td>\n",
       "    </tr>\n",
       "    <tr>\n",
       "      <th>196</th>\n",
       "      <td>nicht_MINT</td>\n",
       "      <td>MINT</td>\n",
       "      <td>Männlich,  fachgebundene Hochschulreife,  Eltern im Ausland geboren,  Elternteil hat studiert,  Geschwister haben studiert,  Elternteil übt MINT-Beruf aus,  Beliebtheit Mathematik: 3,  Beliebtheit Physik: 4,  Beliebtheit Informatik: 2,  Beliebtheit Chemie: 4,  Beliebtheit Biologie: 4,  Fachinteresse: 2,  Berufsaussichten: 3,  Gehalt: 2,  Gesellschaftliches Ansehen: 3,  Partner: 3,  Kinder: 3,  Karriere: 3</td>\n",
       "    </tr>\n",
       "    <tr>\n",
       "      <th>446</th>\n",
       "      <td>nicht_MINT</td>\n",
       "      <td>MINT</td>\n",
       "      <td>Männlich,  allgemeine Hochschulreife,  in Deutschland geboren,  Elternteil hat studiert,  kein MINT-Beruf,  Beliebtheit Mathematik: 4,  Beliebtheit Physik: 4,  Beliebtheit Informatik: 2,  Beliebtheit Chemie: 4,  Beliebtheit Biologie: 4,  Fachinteresse: 3,  Berufsaussichten: 2,  Gehalt: 1,  Gesellschaftliches Ansehen: 2,  Partner: 2,  Kinder: 2,  Karriere: 2</td>\n",
       "    </tr>\n",
       "    <tr>\n",
       "      <th>239</th>\n",
       "      <td>nicht_MINT</td>\n",
       "      <td>MINT</td>\n",
       "      <td>Männlich,  allgemeine Hochschulreife,  in Deutschland geboren,  Studienpionier,  kein MINT-Beruf</td>\n",
       "    </tr>\n",
       "    <tr>\n",
       "      <th>98</th>\n",
       "      <td>nicht_MINT</td>\n",
       "      <td>MINT</td>\n",
       "      <td>Männlich,  allgemeine Hochschulreife,  in Deutschland geboren,  Elternteil hat MINT-Fach studiert,  Geschwister haben studiert,  Elternteil übt MINT-Beruf aus,  Beliebtheit Mathematik: 4,  Beliebtheit Physik: 5,  Beliebtheit Informatik: 1,  Beliebtheit Chemie: 3,  Beliebtheit Biologie: 4,  Fachinteresse: 4,  Berufsaussichten: 3,  Gehalt: 3,  Gesellschaftliches Ansehen: 2,  Partner: 3,  Kinder: 2,  Karriere: 3</td>\n",
       "    </tr>\n",
       "    <tr>\n",
       "      <th>574</th>\n",
       "      <td>MINT</td>\n",
       "      <td>nicht_MINT</td>\n",
       "      <td>Weiblich,  allgemeine Hochschulreife,  in Deutschland geboren,  Elternteil hat studiert,  kein MINT-Beruf,  Beliebtheit Mathematik: 5,  Beliebtheit Physik: 4,  Beliebtheit Informatik: 2,  Beliebtheit Chemie: 4,  Beliebtheit Biologie: 5,  Fachinteresse: 4,  Berufsaussichten: 4,  Gehalt: 4,  Gesellschaftliches Ansehen: 4,  Partner: 4,  Kinder: 4,  Karriere: 3</td>\n",
       "    </tr>\n",
       "    <tr>\n",
       "      <th>57</th>\n",
       "      <td>nicht_MINT</td>\n",
       "      <td>MINT</td>\n",
       "      <td>Weiblich,  allgemeine Hochschulreife,  in Deutschland geboren,  Elternteil hat MINT-Fach studiert,  Elternteil übt MINT-Beruf aus,  Beliebtheit Mathematik: 4,  Beliebtheit Physik: 4,  Beliebtheit Informatik: 1,  Beliebtheit Chemie: 2,  Beliebtheit Biologie: 3,  Fachinteresse: 4,  Berufsaussichten: 2,  Gehalt: 2,  Gesellschaftliches Ansehen: 1,  Partner: 4,  Kinder: 1,  Karriere: 4</td>\n",
       "    </tr>\n",
       "    <tr>\n",
       "      <th>110</th>\n",
       "      <td>MINT</td>\n",
       "      <td>nicht_MINT</td>\n",
       "      <td>Weiblich,  allgemeine Hochschulreife,  in Deutschland geboren,  Elternteil hat MINT-Fach studiert,  Geschwister haben MINT-Fach studiert,  Geschwister üben MINT-Beruf aus,  Beliebtheit Mathematik: 4,  Beliebtheit Physik: 2,  Beliebtheit Informatik: 2,  Beliebtheit Chemie: 5,  Beliebtheit Biologie: 3,  Fachinteresse: 4,  Berufsaussichten: 4,  Gehalt: 2,  Gesellschaftliches Ansehen: 2,  Partner: 2,  Kinder: 2,  Karriere: 2</td>\n",
       "    </tr>\n",
       "    <tr>\n",
       "      <th>708</th>\n",
       "      <td>nicht_MINT</td>\n",
       "      <td>MINT</td>\n",
       "      <td>Männlich,  allgemeine Hochschulreife,  in Deutschland geboren,  Geschwister haben studiert,  kein MINT-Beruf,  Beliebtheit Mathematik: 4,  Beliebtheit Physik: 4,  Beliebtheit Informatik: 2,  Beliebtheit Chemie: 2,  Beliebtheit Biologie: 2,  Fachinteresse: 3,  Berufsaussichten: 2,  Gehalt: 2,  Gesellschaftliches Ansehen: 3,  Partner: 3,  Kinder: 3,  Karriere: 2</td>\n",
       "    </tr>\n",
       "    <tr>\n",
       "      <th>546</th>\n",
       "      <td>nicht_MINT</td>\n",
       "      <td>MINT</td>\n",
       "      <td>Männlich,  fachgebundene Hochschulreife,  im Ausland geboren,  Eltern im Ausland geboren,  Studienpionier,  kein MINT-Beruf,  Beliebtheit Mathematik: 2,  Beliebtheit Physik: 2,  Beliebtheit Informatik: 3,  Beliebtheit Chemie: 2,  Beliebtheit Biologie: 4,  Fachinteresse: 2,  Berufsaussichten: 3,  Gehalt: 3,  Gesellschaftliches Ansehen: 2,  Partner: 4,  Kinder: 2,  Karriere: 2</td>\n",
       "    </tr>\n",
       "    <tr>\n",
       "      <th>681</th>\n",
       "      <td>nicht_MINT</td>\n",
       "      <td>MINT</td>\n",
       "      <td>Weiblich,  allgemeine Hochschulreife,  im Ausland geboren,  Elternteil hat MINT-Fach studiert,  Elternteil übt MINT-Beruf aus,  Beliebtheit Mathematik: 4,  Beliebtheit Physik: 5,  Beliebtheit Informatik: 2,  Beliebtheit Chemie: 2,  Beliebtheit Biologie: 3,  Fachinteresse: 4,  Berufsaussichten: 3,  Gehalt: 2,  Gesellschaftliches Ansehen: 3,  Partner: 4,  Kinder: 2,  Karriere: 3</td>\n",
       "    </tr>\n",
       "    <tr>\n",
       "      <th>0</th>\n",
       "      <td>nicht_MINT</td>\n",
       "      <td>MINT</td>\n",
       "      <td>Männlich,  allgemeine Hochschulreife,  in Deutschland geboren,  Studienpionier,  kein MINT-Beruf,  Beliebtheit Mathematik: 4,  Beliebtheit Physik: 4,  Beliebtheit Informatik: 3,  Beliebtheit Chemie: 3,  Beliebtheit Biologie: 3,  Fachinteresse: 4,  Berufsaussichten: 4,  Gehalt: 4,  Gesellschaftliches Ansehen: 2,  Partner: 4,  Kinder: 4,  Karriere: 3</td>\n",
       "    </tr>\n",
       "    <tr>\n",
       "      <th>277</th>\n",
       "      <td>nicht_MINT</td>\n",
       "      <td>MINT</td>\n",
       "      <td>Männlich,  fachgebundene Hochschulreife,  in Deutschland geboren,  Elternteil hat studiert,  kein MINT-Beruf,  Beliebtheit Mathematik: 1,  Beliebtheit Physik: 2,  Beliebtheit Informatik: 1,  Beliebtheit Chemie: 4,  Beliebtheit Biologie: 4,  Fachinteresse: 3,  Berufsaussichten: 2,  Gehalt: 1,  Gesellschaftliches Ansehen: 1,  Partner: 4,  Kinder: 3,  Karriere: 2</td>\n",
       "    </tr>\n",
       "    <tr>\n",
       "      <th>190</th>\n",
       "      <td>MINT</td>\n",
       "      <td>nicht_MINT</td>\n",
       "      <td>Weiblich,  allgemeine Hochschulreife,  in Deutschland geboren,  Geschwister haben MINT-Fach studiert,  kein MINT-Beruf,  Beliebtheit Mathematik: 1,  Beliebtheit Physik: 1,  Beliebtheit Informatik: 2,  Beliebtheit Chemie: 2,  Beliebtheit Biologie: 4,  Fachinteresse: 4,  Berufsaussichten: 2,  Gehalt: 3,  Gesellschaftliches Ansehen: 1,  Partner: 4,  Kinder: 4,  Karriere: 3</td>\n",
       "    </tr>\n",
       "    <tr>\n",
       "      <th>616</th>\n",
       "      <td>nicht_MINT</td>\n",
       "      <td>MINT</td>\n",
       "      <td>Weiblich,  allgemeine Hochschulreife,  in Deutschland geboren,  Elternteil hat MINT-Fach studiert,  Elternteil übt MINT-Beruf aus,  Beliebtheit Mathematik: 1,  Beliebtheit Physik: 4,  Beliebtheit Informatik: 3,  Beliebtheit Chemie: 1,  Beliebtheit Biologie: 4,  Fachinteresse: 4,  Berufsaussichten: 3,  Gehalt: 3,  Gesellschaftliches Ansehen: 1,  Partner: 4,  Kinder: 2,  Karriere: 3</td>\n",
       "    </tr>\n",
       "    <tr>\n",
       "      <th>673</th>\n",
       "      <td>MINT</td>\n",
       "      <td>nicht_MINT</td>\n",
       "      <td>Weiblich,  allgemeine Hochschulreife,  in Deutschland geboren,  Elternteil hat studiert,  Geschwister üben MINT-Beruf aus,  Beliebtheit Mathematik: 4,  Beliebtheit Physik: 4,  Beliebtheit Informatik: 4,  Beliebtheit Chemie: 4,  Beliebtheit Biologie: 4,  Fachinteresse: 4,  Berufsaussichten: 3,  Gehalt: 2,  Gesellschaftliches Ansehen: 2,  Partner: 3,  Kinder: 3,  Karriere: 2</td>\n",
       "    </tr>\n",
       "    <tr>\n",
       "      <th>565</th>\n",
       "      <td>MINT</td>\n",
       "      <td>nicht_MINT</td>\n",
       "      <td>Weiblich,  allgemeine Hochschulreife,  Eltern im Ausland geboren,  Studienpionier,  kein MINT-Beruf,  Beliebtheit Mathematik: 4,  Beliebtheit Physik: 4,  Beliebtheit Informatik: 5,  Beliebtheit Chemie: 2,  Beliebtheit Biologie: 3,  Fachinteresse: 4,  Berufsaussichten: 4,  Gehalt: 4,  Gesellschaftliches Ansehen: 3,  Partner: 4,  Kinder: 3,  Karriere: 4</td>\n",
       "    </tr>\n",
       "    <tr>\n",
       "      <th>396</th>\n",
       "      <td>MINT</td>\n",
       "      <td>nicht_MINT</td>\n",
       "      <td>Weiblich,  allgemeine Hochschulreife,  in Deutschland geboren,  Studienpionier,  kein MINT-Beruf,  Beliebtheit Mathematik: 1,  Beliebtheit Physik: 1,  Beliebtheit Informatik: 3,  Beliebtheit Chemie: 1,  Beliebtheit Biologie: 3,  Fachinteresse: 2,  Berufsaussichten: 3,  Gehalt: 2,  Gesellschaftliches Ansehen: 2,  Partner: 4,  Kinder: 2,  Karriere: 3</td>\n",
       "    </tr>\n",
       "    <tr>\n",
       "      <th>537</th>\n",
       "      <td>nicht_MINT</td>\n",
       "      <td>MINT</td>\n",
       "      <td>Weiblich,  fachgebundene Hochschulreife,  in Deutschland geboren,  Elternteil hat MINT-Fach studiert,  Elternteil hat studiert,  Geschwister haben MINT-Fach studiert,  Elternteil übt MINT-Beruf aus,  Geschwister üben MINT-Beruf aus,  Beliebtheit Mathematik: 3,  Beliebtheit Physik: 3,  Beliebtheit Informatik: 3,  Beliebtheit Chemie: 3,  Beliebtheit Biologie: 3,  Fachinteresse: 4,  Berufsaussichten: 3,  Gehalt: 3,  Gesellschaftliches Ansehen: 2,  Partner: 3,  Kinder: 1,  Karriere: 4</td>\n",
       "    </tr>\n",
       "    <tr>\n",
       "      <th>221</th>\n",
       "      <td>MINT</td>\n",
       "      <td>nicht_MINT</td>\n",
       "      <td>Weiblich,  fachgebundene Hochschulreife,  Eltern im Ausland geboren,  Studienpionier,  kein MINT-Beruf,  Beliebtheit Mathematik: 2,  Beliebtheit Physik: 4,  Beliebtheit Informatik: 3,  Beliebtheit Chemie: 5,  Beliebtheit Biologie: 5,  Fachinteresse: 4,  Berufsaussichten: 3,  Gehalt: 3,  Gesellschaftliches Ansehen: 1,  Partner: 4,  Kinder: 4,  Karriere: 2</td>\n",
       "    </tr>\n",
       "    <tr>\n",
       "      <th>489</th>\n",
       "      <td>MINT</td>\n",
       "      <td>nicht_MINT</td>\n",
       "      <td>Weiblich,  allgemeine Hochschulreife,  in Deutschland geboren,  Geschwister haben studiert,  kein MINT-Beruf,  Beliebtheit Mathematik: 5,  Beliebtheit Physik: 4,  Beliebtheit Informatik: 3,  Beliebtheit Chemie: 3,  Beliebtheit Biologie: 2,  Fachinteresse: 4,  Berufsaussichten: 4,  Gehalt: 4,  Gesellschaftliches Ansehen: 3,  Partner: 2,  Kinder: 3,  Karriere: 2</td>\n",
       "    </tr>\n",
       "    <tr>\n",
       "      <th>491</th>\n",
       "      <td>nicht_MINT</td>\n",
       "      <td>MINT</td>\n",
       "      <td>Weiblich,  allgemeine Hochschulreife,  Eltern im Ausland geboren,  Geschwister haben studiert,  Elternteil übt MINT-Beruf aus,  Beliebtheit Mathematik: 3,  Beliebtheit Physik: 2,  Beliebtheit Informatik: 4,  Beliebtheit Chemie: 5,  Beliebtheit Biologie: 2,  Fachinteresse: 4,  Berufsaussichten: 3,  Gehalt: 2,  Gesellschaftliches Ansehen: 1,  Partner: 3,  Kinder: 4,  Karriere: 3</td>\n",
       "    </tr>\n",
       "    <tr>\n",
       "      <th>72</th>\n",
       "      <td>MINT</td>\n",
       "      <td>nicht_MINT</td>\n",
       "      <td>Weiblich,  allgemeine Hochschulreife,  in Deutschland geboren,  Studienpionier,  kein MINT-Beruf,  Beliebtheit Mathematik: 3,  Beliebtheit Physik: 4,  Beliebtheit Informatik: 2,  Beliebtheit Chemie: 5,  Beliebtheit Biologie: 5,  Fachinteresse: 4,  Berufsaussichten: 3,  Gehalt: 2,  Gesellschaftliches Ansehen: 2,  Partner: 4,  Kinder: 4,  Karriere: 2</td>\n",
       "    </tr>\n",
       "    <tr>\n",
       "      <th>646</th>\n",
       "      <td>nicht_MINT</td>\n",
       "      <td>MINT</td>\n",
       "      <td>Weiblich,  allgemeine Hochschulreife,  Eltern im Ausland geboren,  Studienpionier,  Geschwister üben MINT-Beruf aus</td>\n",
       "    </tr>\n",
       "    <tr>\n",
       "      <th>575</th>\n",
       "      <td>MINT</td>\n",
       "      <td>nicht_MINT</td>\n",
       "      <td>Weiblich,  allgemeine Hochschulreife,  Eltern im Ausland geboren,  Studienpionier,  kein MINT-Beruf,  Beliebtheit Mathematik: 4,  Beliebtheit Physik: 2,  Beliebtheit Informatik: 3,  Beliebtheit Chemie: 1,  Beliebtheit Biologie: 5,  Fachinteresse: 4,  Berufsaussichten: 3,  Gehalt: 3,  Gesellschaftliches Ansehen: 2,  Partner: 4,  Kinder: 4,  Karriere: 3</td>\n",
       "    </tr>\n",
       "    <tr>\n",
       "      <th>82</th>\n",
       "      <td>nicht_MINT</td>\n",
       "      <td>MINT</td>\n",
       "      <td>Männlich,  allgemeine Hochschulreife,  in Deutschland geboren,  Studienpionier,  kein MINT-Beruf,  Beliebtheit Mathematik: 4,  Beliebtheit Physik: 5,  Beliebtheit Informatik: 5,  Beliebtheit Chemie: 3,  Beliebtheit Biologie: 3,  Fachinteresse: 4,  Berufsaussichten: 4,  Gehalt: 3,  Gesellschaftliches Ansehen: 2,  Partner: 4,  Kinder: 4,  Karriere: 4</td>\n",
       "    </tr>\n",
       "    <tr>\n",
       "      <th>642</th>\n",
       "      <td>nicht_MINT</td>\n",
       "      <td>MINT</td>\n",
       "      <td>Männlich,  fachgebundene Hochschulreife,  Eltern im Ausland geboren,  Elternteil hat studiert,  Geschwister üben MINT-Beruf aus,  Beliebtheit Mathematik: 2,  Beliebtheit Physik: 3,  Beliebtheit Informatik: 3,  Beliebtheit Chemie: 4,  Beliebtheit Biologie: 4,  Fachinteresse: 3,  Berufsaussichten: 3,  Gehalt: 2,  Gesellschaftliches Ansehen: 2,  Partner: 3,  Kinder: 3,  Karriere: 2</td>\n",
       "    </tr>\n",
       "    <tr>\n",
       "      <th>443</th>\n",
       "      <td>MINT</td>\n",
       "      <td>nicht_MINT</td>\n",
       "      <td>Weiblich,  allgemeine Hochschulreife,  in Deutschland geboren,  Geschwister haben MINT-Fach studiert,  kein MINT-Beruf,  Beliebtheit Mathematik: 1,  Beliebtheit Physik: 1,  Beliebtheit Informatik: 5,  Beliebtheit Chemie: 1,  Beliebtheit Biologie: 3,  Fachinteresse: 3,  Berufsaussichten: 4,  Gehalt: 4,  Gesellschaftliches Ansehen: 4,  Partner: 3,  Kinder: 1,  Karriere: 4</td>\n",
       "    </tr>\n",
       "    <tr>\n",
       "      <th>568</th>\n",
       "      <td>nicht_MINT</td>\n",
       "      <td>MINT</td>\n",
       "      <td>Weiblich,  allgemeine Hochschulreife,  in Deutschland geboren,  Geschwister haben MINT-Fach studiert,  Geschwister üben MINT-Beruf aus,  Beliebtheit Mathematik: 2,  Beliebtheit Physik: 2,  Beliebtheit Informatik: 1,  Beliebtheit Chemie: 1,  Beliebtheit Biologie: 5,  Fachinteresse: 4,  Berufsaussichten: 3,  Gehalt: 2,  Gesellschaftliches Ansehen: 2,  Partner: 4,  Kinder: 3,  Karriere: 2</td>\n",
       "    </tr>\n",
       "    <tr>\n",
       "      <th>87</th>\n",
       "      <td>MINT</td>\n",
       "      <td>nicht_MINT</td>\n",
       "      <td>Weiblich,  allgemeine Hochschulreife,  in Deutschland geboren,  Geschwister haben studiert,  Geschwister üben MINT-Beruf aus,  Beliebtheit Mathematik: 5,  Beliebtheit Physik: 3,  Beliebtheit Informatik: 2,  Beliebtheit Chemie: 5,  Beliebtheit Biologie: 2,  Fachinteresse: 3,  Berufsaussichten: 3,  Gehalt: 3,  Gesellschaftliches Ansehen: 2,  Partner: 4,  Kinder: 4,  Karriere: 4</td>\n",
       "    </tr>\n",
       "    <tr>\n",
       "      <th>654</th>\n",
       "      <td>MINT</td>\n",
       "      <td>nicht_MINT</td>\n",
       "      <td>Weiblich,  fachgebundene Hochschulreife,  Eltern im Ausland geboren,  Studienpionier,  kein MINT-Beruf,  Beliebtheit Mathematik: 4,  Beliebtheit Physik: 2,  Beliebtheit Informatik: 5,  Beliebtheit Chemie: 1,  Beliebtheit Biologie: 1,  Fachinteresse: 3,  Berufsaussichten: 4,  Gehalt: 4,  Gesellschaftliches Ansehen: 2,  Partner: 4,  Kinder: 4,  Karriere: 4</td>\n",
       "    </tr>\n",
       "    <tr>\n",
       "      <th>381</th>\n",
       "      <td>nicht_MINT</td>\n",
       "      <td>MINT</td>\n",
       "      <td>Weiblich,  allgemeine Hochschulreife,  in Deutschland geboren,  Elternteil hat MINT-Fach studiert,  Geschwister haben MINT-Fach studiert,  Elternteil übt MINT-Beruf aus,  Beliebtheit Mathematik: 3,  Beliebtheit Physik: 1,  Beliebtheit Informatik: 1,  Beliebtheit Chemie: 2,  Beliebtheit Biologie: 4,  Fachinteresse: 4,  Berufsaussichten: 3,  Gehalt: 2,  Gesellschaftliches Ansehen: 1,  Partner: 3,  Kinder: 4,  Karriere: 2</td>\n",
       "    </tr>\n",
       "    <tr>\n",
       "      <th>49</th>\n",
       "      <td>MINT</td>\n",
       "      <td>nicht_MINT</td>\n",
       "      <td>Weiblich,  allgemeine Hochschulreife,  in Deutschland geboren,  Studienpionier,  kein MINT-Beruf,  Beliebtheit Mathematik: 4,  Beliebtheit Physik: 2,  Beliebtheit Informatik: 1,  Beliebtheit Chemie: 5,  Beliebtheit Biologie: 3,  Fachinteresse: 3,  Berufsaussichten: 4,  Gehalt: 2,  Gesellschaftliches Ansehen: 4,  Partner: 3,  Kinder: 2,  Karriere: 4</td>\n",
       "    </tr>\n",
       "    <tr>\n",
       "      <th>379</th>\n",
       "      <td>MINT</td>\n",
       "      <td>nicht_MINT</td>\n",
       "      <td>Männlich,  beruflich qualifiziert,  in Deutschland geboren,  Studienpionier,  kein MINT-Beruf,  Beliebtheit Mathematik: 4,  Beliebtheit Physik: 5,  Beliebtheit Informatik: 5,  Beliebtheit Chemie: 4,  Beliebtheit Biologie: 3,  Fachinteresse: 2,  Berufsaussichten: 4,  Gehalt: 3,  Gesellschaftliches Ansehen: 2,  Partner: 4,  Kinder: 4,  Karriere: 4</td>\n",
       "    </tr>\n",
       "    <tr>\n",
       "      <th>439</th>\n",
       "      <td>MINT</td>\n",
       "      <td>nicht_MINT</td>\n",
       "      <td>Weiblich,  FHR,  in Deutschland geboren,  Studienpionier,  kein MINT-Beruf,  Beliebtheit Mathematik: 4,  Beliebtheit Physik: 4,  Beliebtheit Informatik: 4,  Beliebtheit Chemie: 4,  Beliebtheit Biologie: 4,  Fachinteresse: 4,  Berufsaussichten: 4,  Gehalt: 2,  Gesellschaftliches Ansehen: 1,  Partner: 4,  Kinder: 3,  Karriere: 1</td>\n",
       "    </tr>\n",
       "    <tr>\n",
       "      <th>295</th>\n",
       "      <td>nicht_MINT</td>\n",
       "      <td>MINT</td>\n",
       "      <td>Weiblich,  fachgebundene Hochschulreife,  in Deutschland geboren,  Elternteil hat MINT-Fach studiert,  Elternteil hat studiert,  Elternteil übt MINT-Beruf aus,  Beliebtheit Mathematik: 5,  Beliebtheit Physik: 4,  Beliebtheit Informatik: 3,  Beliebtheit Chemie: 4,  Beliebtheit Biologie: 2,  Fachinteresse: 3,  Berufsaussichten: 3,  Gehalt: 2,  Gesellschaftliches Ansehen: 2,  Partner: 4,  Kinder: 2,  Karriere: 3</td>\n",
       "    </tr>\n",
       "    <tr>\n",
       "      <th>227</th>\n",
       "      <td>nicht_MINT</td>\n",
       "      <td>MINT</td>\n",
       "      <td>Männlich,  allgemeine Hochschulreife,  in Deutschland geboren,  Studienpionier,  Elternteil übt MINT-Beruf aus,  Beliebtheit Mathematik: 4,  Beliebtheit Physik: 3,  Beliebtheit Informatik: 2,  Beliebtheit Chemie: 4,  Beliebtheit Biologie: 2,  Fachinteresse: 3,  Berufsaussichten: 3,  Gehalt: 3,  Gesellschaftliches Ansehen: 2,  Partner: 4,  Kinder: 4,  Karriere: 4</td>\n",
       "    </tr>\n",
       "    <tr>\n",
       "      <th>360</th>\n",
       "      <td>nicht_MINT</td>\n",
       "      <td>MINT</td>\n",
       "      <td>Weiblich,  allgemeine Hochschulreife,  in Deutschland geboren,  Studienpionier,  Elternteil übt MINT-Beruf aus,  Beliebtheit Mathematik: 2,  Beliebtheit Physik: 2,  Beliebtheit Informatik: 1,  Beliebtheit Chemie: 4,  Beliebtheit Biologie: 5,  Fachinteresse: 4,  Berufsaussichten: 3,  Gehalt: 1,  Gesellschaftliches Ansehen: 1,  Partner: 4,  Kinder: 2,  Karriere: 3</td>\n",
       "    </tr>\n",
       "    <tr>\n",
       "      <th>56</th>\n",
       "      <td>MINT</td>\n",
       "      <td>nicht_MINT</td>\n",
       "      <td>Weiblich,  allgemeine Hochschulreife,  in Deutschland geboren,  Elternteil hat studiert,  Geschwister haben studiert,  Geschwister üben MINT-Beruf aus,  Beliebtheit Mathematik: 4,  Beliebtheit Physik: 3,  Beliebtheit Informatik: 2,  Beliebtheit Chemie: 5,  Beliebtheit Biologie: 5,  Fachinteresse: 4,  Berufsaussichten: 3,  Gehalt: 3,  Gesellschaftliches Ansehen: 3,  Partner: 4,  Kinder: 4,  Karriere: 2</td>\n",
       "    </tr>\n",
       "    <tr>\n",
       "      <th>454</th>\n",
       "      <td>MINT</td>\n",
       "      <td>nicht_MINT</td>\n",
       "      <td>Weiblich,  fachgebundene Hochschulreife,  in Deutschland geboren,  Studienpionier,  kein MINT-Beruf,  Beliebtheit Mathematik: 2,  Beliebtheit Physik: 3,  Beliebtheit Informatik: 3,  Beliebtheit Chemie: 3,  Beliebtheit Biologie: 3,  Fachinteresse: 4,  Berufsaussichten: 2,  Gehalt: 2,  Gesellschaftliches Ansehen: 1,  Partner: 4,  Kinder: 2,  Karriere: 2</td>\n",
       "    </tr>\n",
       "    <tr>\n",
       "      <th>481</th>\n",
       "      <td>nicht_MINT</td>\n",
       "      <td>MINT</td>\n",
       "      <td>Weiblich,  allgemeine Hochschulreife,  in Deutschland geboren,  Elternteil hat MINT-Fach studiert,  Elternteil übt MINT-Beruf aus,  Beliebtheit Mathematik: 1,  Beliebtheit Physik: 1,  Beliebtheit Informatik: 3,  Beliebtheit Chemie: 1,  Beliebtheit Biologie: 2,  Fachinteresse: 4,  Berufsaussichten: 4,  Gehalt: 4,  Gesellschaftliches Ansehen: 4,  Partner: 4,  Kinder: 4,  Karriere: 3</td>\n",
       "    </tr>\n",
       "    <tr>\n",
       "      <th>90</th>\n",
       "      <td>nicht_MINT</td>\n",
       "      <td>MINT</td>\n",
       "      <td>Männlich,  fachgebundene Hochschulreife,  in Deutschland geboren,  Geschwister haben MINT-Fach studiert,  Geschwister üben MINT-Beruf aus,  Beliebtheit Mathematik: 2,  Beliebtheit Physik: 3,  Beliebtheit Informatik: 5,  Beliebtheit Chemie: 3,  Beliebtheit Biologie: 4,  Fachinteresse: 4,  Berufsaussichten: 3,  Gehalt: 3,  Gesellschaftliches Ansehen: 2,  Partner: 3,  Kinder: 3,  Karriere: 3</td>\n",
       "    </tr>\n",
       "  </tbody>\n",
       "</table>\n",
       "</div>"
      ],
      "text/plain": [
       "       category   predicted  \\\n",
       "120        MINT  nicht_MINT   \n",
       "695  nicht_MINT        MINT   \n",
       "298  nicht_MINT        MINT   \n",
       "284  nicht_MINT        MINT   \n",
       "305        MINT  nicht_MINT   \n",
       "471  nicht_MINT        MINT   \n",
       "229  nicht_MINT        MINT   \n",
       "348  nicht_MINT        MINT   \n",
       "86         MINT  nicht_MINT   \n",
       "694  nicht_MINT        MINT   \n",
       "196  nicht_MINT        MINT   \n",
       "446  nicht_MINT        MINT   \n",
       "239  nicht_MINT        MINT   \n",
       "98   nicht_MINT        MINT   \n",
       "574        MINT  nicht_MINT   \n",
       "57   nicht_MINT        MINT   \n",
       "110        MINT  nicht_MINT   \n",
       "708  nicht_MINT        MINT   \n",
       "546  nicht_MINT        MINT   \n",
       "681  nicht_MINT        MINT   \n",
       "0    nicht_MINT        MINT   \n",
       "277  nicht_MINT        MINT   \n",
       "190        MINT  nicht_MINT   \n",
       "616  nicht_MINT        MINT   \n",
       "673        MINT  nicht_MINT   \n",
       "565        MINT  nicht_MINT   \n",
       "396        MINT  nicht_MINT   \n",
       "537  nicht_MINT        MINT   \n",
       "221        MINT  nicht_MINT   \n",
       "489        MINT  nicht_MINT   \n",
       "491  nicht_MINT        MINT   \n",
       "72         MINT  nicht_MINT   \n",
       "646  nicht_MINT        MINT   \n",
       "575        MINT  nicht_MINT   \n",
       "82   nicht_MINT        MINT   \n",
       "642  nicht_MINT        MINT   \n",
       "443        MINT  nicht_MINT   \n",
       "568  nicht_MINT        MINT   \n",
       "87         MINT  nicht_MINT   \n",
       "654        MINT  nicht_MINT   \n",
       "381  nicht_MINT        MINT   \n",
       "49         MINT  nicht_MINT   \n",
       "379        MINT  nicht_MINT   \n",
       "439        MINT  nicht_MINT   \n",
       "295  nicht_MINT        MINT   \n",
       "227  nicht_MINT        MINT   \n",
       "360  nicht_MINT        MINT   \n",
       "56         MINT  nicht_MINT   \n",
       "454        MINT  nicht_MINT   \n",
       "481  nicht_MINT        MINT   \n",
       "90   nicht_MINT        MINT   \n",
       "\n",
       "                                                                                                                                                                                                                                                                                                                                                                                                                                                                                          kein_Studiengang  \n",
       "120                                                                                                                                   Weiblich,  fachgebundene Hochschulreife,  Eltern im Ausland geboren,  Studienpionier,  kein MINT-Beruf,  Beliebtheit Mathematik: 4,  Beliebtheit Physik: 3,  Beliebtheit Informatik: 2,  Beliebtheit Chemie: 3,  Beliebtheit Biologie: 4,  Fachinteresse: 3,  Berufsaussichten: 3,  Gehalt: 3,  Gesellschaftliches Ansehen: 4,  Partner: 4,  Kinder: 1,  Karriere: 2  \n",
       "695                                                                                                                                         Männlich,  allgemeine Hochschulreife,  in Deutschland geboren,  Studienpionier,  kein MINT-Beruf,  Beliebtheit Mathematik: 3,  Beliebtheit Physik: 1,  Beliebtheit Informatik: 3,  Beliebtheit Chemie: 4,  Beliebtheit Biologie: 5,  Fachinteresse: 4,  Berufsaussichten: 4,  Gehalt: 2,  Gesellschaftliches Ansehen: 2,  Partner: 4,  Kinder: 1,  Karriere: 2  \n",
       "298                                                                                                                           Weiblich,  allgemeine Hochschulreife,  in Deutschland geboren,  Studienpionier,  Elternteil übt MINT-Beruf aus,  Beliebtheit Mathematik: 1,  Beliebtheit Physik: 1,  Beliebtheit Informatik: 2,  Beliebtheit Chemie: 2,  Beliebtheit Biologie: 4,  Fachinteresse: 4,  Berufsaussichten: 3,  Gehalt: 1,  Gesellschaftliches Ansehen: 1,  Partner: 3,  Kinder: 3,  Karriere: 3  \n",
       "284                                                                                                        Weiblich,  allgemeine Hochschulreife,  in Deutschland geboren,  Elternteil hat MINT-Fach studiert,  Elternteil übt MINT-Beruf aus,  Beliebtheit Mathematik: 2,  Beliebtheit Physik: 1,  Beliebtheit Informatik: 2,  Beliebtheit Chemie: 3,  Beliebtheit Biologie: 4,  Fachinteresse: 3,  Berufsaussichten: 2,  Gehalt: 1,  Gesellschaftliches Ansehen: 2,  Partner: 2,  Kinder: 2,  Karriere: 2  \n",
       "305                                                                                                                                Weiblich,  allgemeine Hochschulreife,  in Deutschland geboren,  Elternteil hat studiert,  kein MINT-Beruf,  Beliebtheit Mathematik: 2,  Beliebtheit Physik: 4,  Beliebtheit Informatik: 3,  Beliebtheit Chemie: 4,  Beliebtheit Biologie: 5,  Fachinteresse: 4,  Berufsaussichten: 3,  Gehalt: 2,  Gesellschaftliches Ansehen: 3,  Partner: 4,  Kinder: 3,  Karriere: 4  \n",
       "471                                                                      Weiblich,  allgemeine Hochschulreife,  in Deutschland geboren,  Elternteil hat MINT-Fach studiert,  Elternteil übt MINT-Beruf aus,  Geschwister üben MINT-Beruf aus,  Beliebtheit Mathematik: 4,  Beliebtheit Physik: 2,  Beliebtheit Informatik: 2,  Beliebtheit Chemie: 4,  Beliebtheit Biologie: 4,  Fachinteresse: 4,  Berufsaussichten: 3,  Gehalt: 3,  Gesellschaftliches Ansehen: 3,  Partner: 4,  Kinder: 4,  Karriere: 3  \n",
       "229                                                                                                                      Weiblich,  Abitur,  im Ausland geboren,  Eltern im Ausland geboren,  Studienpionier,  Elternteil übt MINT-Beruf aus,  Beliebtheit Mathematik: 5,  Beliebtheit Physik: 4,  Beliebtheit Informatik: 4,  Beliebtheit Chemie: 3,  Beliebtheit Biologie: 5,  Fachinteresse: 3,  Berufsaussichten: 4,  Gehalt: 4,  Gesellschaftliches Ansehen: 2,  Partner: 3,  Kinder: 4,  Karriere: 4  \n",
       "348                                                                              Männlich,  allgemeine Hochschulreife,  in Deutschland geboren,  Elternteil hat MINT-Fach studiert,  Elternteil hat studiert,  Elternteil übt MINT-Beruf aus,  Beliebtheit Mathematik: 2,  Beliebtheit Physik: 2,  Beliebtheit Informatik: 2,  Beliebtheit Chemie: 2,  Beliebtheit Biologie: 2,  Fachinteresse: 4,  Berufsaussichten: 3,  Gehalt: 2,  Gesellschaftliches Ansehen: 2,  Partner: 4,  Kinder: 3,  Karriere: 4  \n",
       "86                                                                                                                                       Weiblich,  allgemeine Hochschulreife,  Eltern im Ausland geboren,  Studienpionier,  kein MINT-Beruf,  Beliebtheit Mathematik: 4,  Beliebtheit Physik: 5,  Beliebtheit Informatik: 3,  Beliebtheit Chemie: 2,  Beliebtheit Biologie: 4,  Fachinteresse: 3,  Berufsaussichten: 4,  Gehalt: 3,  Gesellschaftliches Ansehen: 2,  Partner: 4,  Kinder: 3,  Karriere: 4  \n",
       "694                                                                                                        Männlich,  allgemeine Hochschulreife,  in Deutschland geboren,  Elternteil hat MINT-Fach studiert,  Elternteil übt MINT-Beruf aus,  Beliebtheit Mathematik: 2,  Beliebtheit Physik: 2,  Beliebtheit Informatik: 1,  Beliebtheit Chemie: 2,  Beliebtheit Biologie: 4,  Fachinteresse: 4,  Berufsaussichten: 3,  Gehalt: 3,  Gesellschaftliches Ansehen: 2,  Partner: 4,  Kinder: 4,  Karriere: 3  \n",
       "196                                                                               Männlich,  fachgebundene Hochschulreife,  Eltern im Ausland geboren,  Elternteil hat studiert,  Geschwister haben studiert,  Elternteil übt MINT-Beruf aus,  Beliebtheit Mathematik: 3,  Beliebtheit Physik: 4,  Beliebtheit Informatik: 2,  Beliebtheit Chemie: 4,  Beliebtheit Biologie: 4,  Fachinteresse: 2,  Berufsaussichten: 3,  Gehalt: 2,  Gesellschaftliches Ansehen: 3,  Partner: 3,  Kinder: 3,  Karriere: 3  \n",
       "446                                                                                                                                Männlich,  allgemeine Hochschulreife,  in Deutschland geboren,  Elternteil hat studiert,  kein MINT-Beruf,  Beliebtheit Mathematik: 4,  Beliebtheit Physik: 4,  Beliebtheit Informatik: 2,  Beliebtheit Chemie: 4,  Beliebtheit Biologie: 4,  Fachinteresse: 3,  Berufsaussichten: 2,  Gehalt: 1,  Gesellschaftliches Ansehen: 2,  Partner: 2,  Kinder: 2,  Karriere: 2  \n",
       "239                                                                                                                                                                                                                                                                                                                                                                                                       Männlich,  allgemeine Hochschulreife,  in Deutschland geboren,  Studienpionier,  kein MINT-Beruf  \n",
       "98                                                                            Männlich,  allgemeine Hochschulreife,  in Deutschland geboren,  Elternteil hat MINT-Fach studiert,  Geschwister haben studiert,  Elternteil übt MINT-Beruf aus,  Beliebtheit Mathematik: 4,  Beliebtheit Physik: 5,  Beliebtheit Informatik: 1,  Beliebtheit Chemie: 3,  Beliebtheit Biologie: 4,  Fachinteresse: 4,  Berufsaussichten: 3,  Gehalt: 3,  Gesellschaftliches Ansehen: 2,  Partner: 3,  Kinder: 2,  Karriere: 3  \n",
       "574                                                                                                                                Weiblich,  allgemeine Hochschulreife,  in Deutschland geboren,  Elternteil hat studiert,  kein MINT-Beruf,  Beliebtheit Mathematik: 5,  Beliebtheit Physik: 4,  Beliebtheit Informatik: 2,  Beliebtheit Chemie: 4,  Beliebtheit Biologie: 5,  Fachinteresse: 4,  Berufsaussichten: 4,  Gehalt: 4,  Gesellschaftliches Ansehen: 4,  Partner: 4,  Kinder: 4,  Karriere: 3  \n",
       "57                                                                                                         Weiblich,  allgemeine Hochschulreife,  in Deutschland geboren,  Elternteil hat MINT-Fach studiert,  Elternteil übt MINT-Beruf aus,  Beliebtheit Mathematik: 4,  Beliebtheit Physik: 4,  Beliebtheit Informatik: 1,  Beliebtheit Chemie: 2,  Beliebtheit Biologie: 3,  Fachinteresse: 4,  Berufsaussichten: 2,  Gehalt: 2,  Gesellschaftliches Ansehen: 1,  Partner: 4,  Kinder: 1,  Karriere: 4  \n",
       "110                                                               Weiblich,  allgemeine Hochschulreife,  in Deutschland geboren,  Elternteil hat MINT-Fach studiert,  Geschwister haben MINT-Fach studiert,  Geschwister üben MINT-Beruf aus,  Beliebtheit Mathematik: 4,  Beliebtheit Physik: 2,  Beliebtheit Informatik: 2,  Beliebtheit Chemie: 5,  Beliebtheit Biologie: 3,  Fachinteresse: 4,  Berufsaussichten: 4,  Gehalt: 2,  Gesellschaftliches Ansehen: 2,  Partner: 2,  Kinder: 2,  Karriere: 2  \n",
       "708                                                                                                                             Männlich,  allgemeine Hochschulreife,  in Deutschland geboren,  Geschwister haben studiert,  kein MINT-Beruf,  Beliebtheit Mathematik: 4,  Beliebtheit Physik: 4,  Beliebtheit Informatik: 2,  Beliebtheit Chemie: 2,  Beliebtheit Biologie: 2,  Fachinteresse: 3,  Berufsaussichten: 2,  Gehalt: 2,  Gesellschaftliches Ansehen: 3,  Partner: 3,  Kinder: 3,  Karriere: 2  \n",
       "546                                                                                                              Männlich,  fachgebundene Hochschulreife,  im Ausland geboren,  Eltern im Ausland geboren,  Studienpionier,  kein MINT-Beruf,  Beliebtheit Mathematik: 2,  Beliebtheit Physik: 2,  Beliebtheit Informatik: 3,  Beliebtheit Chemie: 2,  Beliebtheit Biologie: 4,  Fachinteresse: 2,  Berufsaussichten: 3,  Gehalt: 3,  Gesellschaftliches Ansehen: 2,  Partner: 4,  Kinder: 2,  Karriere: 2  \n",
       "681                                                                                                            Weiblich,  allgemeine Hochschulreife,  im Ausland geboren,  Elternteil hat MINT-Fach studiert,  Elternteil übt MINT-Beruf aus,  Beliebtheit Mathematik: 4,  Beliebtheit Physik: 5,  Beliebtheit Informatik: 2,  Beliebtheit Chemie: 2,  Beliebtheit Biologie: 3,  Fachinteresse: 4,  Berufsaussichten: 3,  Gehalt: 2,  Gesellschaftliches Ansehen: 3,  Partner: 4,  Kinder: 2,  Karriere: 3  \n",
       "0                                                                                                                                           Männlich,  allgemeine Hochschulreife,  in Deutschland geboren,  Studienpionier,  kein MINT-Beruf,  Beliebtheit Mathematik: 4,  Beliebtheit Physik: 4,  Beliebtheit Informatik: 3,  Beliebtheit Chemie: 3,  Beliebtheit Biologie: 3,  Fachinteresse: 4,  Berufsaussichten: 4,  Gehalt: 4,  Gesellschaftliches Ansehen: 2,  Partner: 4,  Kinder: 4,  Karriere: 3  \n",
       "277                                                                                                                             Männlich,  fachgebundene Hochschulreife,  in Deutschland geboren,  Elternteil hat studiert,  kein MINT-Beruf,  Beliebtheit Mathematik: 1,  Beliebtheit Physik: 2,  Beliebtheit Informatik: 1,  Beliebtheit Chemie: 4,  Beliebtheit Biologie: 4,  Fachinteresse: 3,  Berufsaussichten: 2,  Gehalt: 1,  Gesellschaftliches Ansehen: 1,  Partner: 4,  Kinder: 3,  Karriere: 2  \n",
       "190                                                                                                                   Weiblich,  allgemeine Hochschulreife,  in Deutschland geboren,  Geschwister haben MINT-Fach studiert,  kein MINT-Beruf,  Beliebtheit Mathematik: 1,  Beliebtheit Physik: 1,  Beliebtheit Informatik: 2,  Beliebtheit Chemie: 2,  Beliebtheit Biologie: 4,  Fachinteresse: 4,  Berufsaussichten: 2,  Gehalt: 3,  Gesellschaftliches Ansehen: 1,  Partner: 4,  Kinder: 4,  Karriere: 3  \n",
       "616                                                                                                        Weiblich,  allgemeine Hochschulreife,  in Deutschland geboren,  Elternteil hat MINT-Fach studiert,  Elternteil übt MINT-Beruf aus,  Beliebtheit Mathematik: 1,  Beliebtheit Physik: 4,  Beliebtheit Informatik: 3,  Beliebtheit Chemie: 1,  Beliebtheit Biologie: 4,  Fachinteresse: 4,  Berufsaussichten: 3,  Gehalt: 3,  Gesellschaftliches Ansehen: 1,  Partner: 4,  Kinder: 2,  Karriere: 3  \n",
       "673                                                                                                                Weiblich,  allgemeine Hochschulreife,  in Deutschland geboren,  Elternteil hat studiert,  Geschwister üben MINT-Beruf aus,  Beliebtheit Mathematik: 4,  Beliebtheit Physik: 4,  Beliebtheit Informatik: 4,  Beliebtheit Chemie: 4,  Beliebtheit Biologie: 4,  Fachinteresse: 4,  Berufsaussichten: 3,  Gehalt: 2,  Gesellschaftliches Ansehen: 2,  Partner: 3,  Kinder: 3,  Karriere: 2  \n",
       "565                                                                                                                                      Weiblich,  allgemeine Hochschulreife,  Eltern im Ausland geboren,  Studienpionier,  kein MINT-Beruf,  Beliebtheit Mathematik: 4,  Beliebtheit Physik: 4,  Beliebtheit Informatik: 5,  Beliebtheit Chemie: 2,  Beliebtheit Biologie: 3,  Fachinteresse: 4,  Berufsaussichten: 4,  Gehalt: 4,  Gesellschaftliches Ansehen: 3,  Partner: 4,  Kinder: 3,  Karriere: 4  \n",
       "396                                                                                                                                         Weiblich,  allgemeine Hochschulreife,  in Deutschland geboren,  Studienpionier,  kein MINT-Beruf,  Beliebtheit Mathematik: 1,  Beliebtheit Physik: 1,  Beliebtheit Informatik: 3,  Beliebtheit Chemie: 1,  Beliebtheit Biologie: 3,  Fachinteresse: 2,  Berufsaussichten: 3,  Gehalt: 2,  Gesellschaftliches Ansehen: 2,  Partner: 4,  Kinder: 2,  Karriere: 3  \n",
       "537  Weiblich,  fachgebundene Hochschulreife,  in Deutschland geboren,  Elternteil hat MINT-Fach studiert,  Elternteil hat studiert,  Geschwister haben MINT-Fach studiert,  Elternteil übt MINT-Beruf aus,  Geschwister üben MINT-Beruf aus,  Beliebtheit Mathematik: 3,  Beliebtheit Physik: 3,  Beliebtheit Informatik: 3,  Beliebtheit Chemie: 3,  Beliebtheit Biologie: 3,  Fachinteresse: 4,  Berufsaussichten: 3,  Gehalt: 3,  Gesellschaftliches Ansehen: 2,  Partner: 3,  Kinder: 1,  Karriere: 4  \n",
       "221                                                                                                                                   Weiblich,  fachgebundene Hochschulreife,  Eltern im Ausland geboren,  Studienpionier,  kein MINT-Beruf,  Beliebtheit Mathematik: 2,  Beliebtheit Physik: 4,  Beliebtheit Informatik: 3,  Beliebtheit Chemie: 5,  Beliebtheit Biologie: 5,  Fachinteresse: 4,  Berufsaussichten: 3,  Gehalt: 3,  Gesellschaftliches Ansehen: 1,  Partner: 4,  Kinder: 4,  Karriere: 2  \n",
       "489                                                                                                                             Weiblich,  allgemeine Hochschulreife,  in Deutschland geboren,  Geschwister haben studiert,  kein MINT-Beruf,  Beliebtheit Mathematik: 5,  Beliebtheit Physik: 4,  Beliebtheit Informatik: 3,  Beliebtheit Chemie: 3,  Beliebtheit Biologie: 2,  Fachinteresse: 4,  Berufsaussichten: 4,  Gehalt: 4,  Gesellschaftliches Ansehen: 3,  Partner: 2,  Kinder: 3,  Karriere: 2  \n",
       "491                                                                                                            Weiblich,  allgemeine Hochschulreife,  Eltern im Ausland geboren,  Geschwister haben studiert,  Elternteil übt MINT-Beruf aus,  Beliebtheit Mathematik: 3,  Beliebtheit Physik: 2,  Beliebtheit Informatik: 4,  Beliebtheit Chemie: 5,  Beliebtheit Biologie: 2,  Fachinteresse: 4,  Berufsaussichten: 3,  Gehalt: 2,  Gesellschaftliches Ansehen: 1,  Partner: 3,  Kinder: 4,  Karriere: 3  \n",
       "72                                                                                                                                          Weiblich,  allgemeine Hochschulreife,  in Deutschland geboren,  Studienpionier,  kein MINT-Beruf,  Beliebtheit Mathematik: 3,  Beliebtheit Physik: 4,  Beliebtheit Informatik: 2,  Beliebtheit Chemie: 5,  Beliebtheit Biologie: 5,  Fachinteresse: 4,  Berufsaussichten: 3,  Gehalt: 2,  Gesellschaftliches Ansehen: 2,  Partner: 4,  Kinder: 4,  Karriere: 2  \n",
       "646                                                                                                                                                                                                                                                                                                                                                                                    Weiblich,  allgemeine Hochschulreife,  Eltern im Ausland geboren,  Studienpionier,  Geschwister üben MINT-Beruf aus  \n",
       "575                                                                                                                                      Weiblich,  allgemeine Hochschulreife,  Eltern im Ausland geboren,  Studienpionier,  kein MINT-Beruf,  Beliebtheit Mathematik: 4,  Beliebtheit Physik: 2,  Beliebtheit Informatik: 3,  Beliebtheit Chemie: 1,  Beliebtheit Biologie: 5,  Fachinteresse: 4,  Berufsaussichten: 3,  Gehalt: 3,  Gesellschaftliches Ansehen: 2,  Partner: 4,  Kinder: 4,  Karriere: 3  \n",
       "82                                                                                                                                          Männlich,  allgemeine Hochschulreife,  in Deutschland geboren,  Studienpionier,  kein MINT-Beruf,  Beliebtheit Mathematik: 4,  Beliebtheit Physik: 5,  Beliebtheit Informatik: 5,  Beliebtheit Chemie: 3,  Beliebtheit Biologie: 3,  Fachinteresse: 4,  Berufsaussichten: 4,  Gehalt: 3,  Gesellschaftliches Ansehen: 2,  Partner: 4,  Kinder: 4,  Karriere: 4  \n",
       "642                                                                                                          Männlich,  fachgebundene Hochschulreife,  Eltern im Ausland geboren,  Elternteil hat studiert,  Geschwister üben MINT-Beruf aus,  Beliebtheit Mathematik: 2,  Beliebtheit Physik: 3,  Beliebtheit Informatik: 3,  Beliebtheit Chemie: 4,  Beliebtheit Biologie: 4,  Fachinteresse: 3,  Berufsaussichten: 3,  Gehalt: 2,  Gesellschaftliches Ansehen: 2,  Partner: 3,  Kinder: 3,  Karriere: 2  \n",
       "443                                                                                                                   Weiblich,  allgemeine Hochschulreife,  in Deutschland geboren,  Geschwister haben MINT-Fach studiert,  kein MINT-Beruf,  Beliebtheit Mathematik: 1,  Beliebtheit Physik: 1,  Beliebtheit Informatik: 5,  Beliebtheit Chemie: 1,  Beliebtheit Biologie: 3,  Fachinteresse: 3,  Berufsaussichten: 4,  Gehalt: 4,  Gesellschaftliches Ansehen: 4,  Partner: 3,  Kinder: 1,  Karriere: 4  \n",
       "568                                                                                                   Weiblich,  allgemeine Hochschulreife,  in Deutschland geboren,  Geschwister haben MINT-Fach studiert,  Geschwister üben MINT-Beruf aus,  Beliebtheit Mathematik: 2,  Beliebtheit Physik: 2,  Beliebtheit Informatik: 1,  Beliebtheit Chemie: 1,  Beliebtheit Biologie: 5,  Fachinteresse: 4,  Berufsaussichten: 3,  Gehalt: 2,  Gesellschaftliches Ansehen: 2,  Partner: 4,  Kinder: 3,  Karriere: 2  \n",
       "87                                                                                                              Weiblich,  allgemeine Hochschulreife,  in Deutschland geboren,  Geschwister haben studiert,  Geschwister üben MINT-Beruf aus,  Beliebtheit Mathematik: 5,  Beliebtheit Physik: 3,  Beliebtheit Informatik: 2,  Beliebtheit Chemie: 5,  Beliebtheit Biologie: 2,  Fachinteresse: 3,  Berufsaussichten: 3,  Gehalt: 3,  Gesellschaftliches Ansehen: 2,  Partner: 4,  Kinder: 4,  Karriere: 4  \n",
       "654                                                                                                                                   Weiblich,  fachgebundene Hochschulreife,  Eltern im Ausland geboren,  Studienpionier,  kein MINT-Beruf,  Beliebtheit Mathematik: 4,  Beliebtheit Physik: 2,  Beliebtheit Informatik: 5,  Beliebtheit Chemie: 1,  Beliebtheit Biologie: 1,  Fachinteresse: 3,  Berufsaussichten: 4,  Gehalt: 4,  Gesellschaftliches Ansehen: 2,  Partner: 4,  Kinder: 4,  Karriere: 4  \n",
       "381                                                                 Weiblich,  allgemeine Hochschulreife,  in Deutschland geboren,  Elternteil hat MINT-Fach studiert,  Geschwister haben MINT-Fach studiert,  Elternteil übt MINT-Beruf aus,  Beliebtheit Mathematik: 3,  Beliebtheit Physik: 1,  Beliebtheit Informatik: 1,  Beliebtheit Chemie: 2,  Beliebtheit Biologie: 4,  Fachinteresse: 4,  Berufsaussichten: 3,  Gehalt: 2,  Gesellschaftliches Ansehen: 1,  Partner: 3,  Kinder: 4,  Karriere: 2  \n",
       "49                                                                                                                                          Weiblich,  allgemeine Hochschulreife,  in Deutschland geboren,  Studienpionier,  kein MINT-Beruf,  Beliebtheit Mathematik: 4,  Beliebtheit Physik: 2,  Beliebtheit Informatik: 1,  Beliebtheit Chemie: 5,  Beliebtheit Biologie: 3,  Fachinteresse: 3,  Berufsaussichten: 4,  Gehalt: 2,  Gesellschaftliches Ansehen: 4,  Partner: 3,  Kinder: 2,  Karriere: 4  \n",
       "379                                                                                                                                            Männlich,  beruflich qualifiziert,  in Deutschland geboren,  Studienpionier,  kein MINT-Beruf,  Beliebtheit Mathematik: 4,  Beliebtheit Physik: 5,  Beliebtheit Informatik: 5,  Beliebtheit Chemie: 4,  Beliebtheit Biologie: 3,  Fachinteresse: 2,  Berufsaussichten: 4,  Gehalt: 3,  Gesellschaftliches Ansehen: 2,  Partner: 4,  Kinder: 4,  Karriere: 4  \n",
       "439                                                                                                                                                               Weiblich,  FHR,  in Deutschland geboren,  Studienpionier,  kein MINT-Beruf,  Beliebtheit Mathematik: 4,  Beliebtheit Physik: 4,  Beliebtheit Informatik: 4,  Beliebtheit Chemie: 4,  Beliebtheit Biologie: 4,  Fachinteresse: 4,  Berufsaussichten: 4,  Gehalt: 2,  Gesellschaftliches Ansehen: 1,  Partner: 4,  Kinder: 3,  Karriere: 1  \n",
       "295                                                                           Weiblich,  fachgebundene Hochschulreife,  in Deutschland geboren,  Elternteil hat MINT-Fach studiert,  Elternteil hat studiert,  Elternteil übt MINT-Beruf aus,  Beliebtheit Mathematik: 5,  Beliebtheit Physik: 4,  Beliebtheit Informatik: 3,  Beliebtheit Chemie: 4,  Beliebtheit Biologie: 2,  Fachinteresse: 3,  Berufsaussichten: 3,  Gehalt: 2,  Gesellschaftliches Ansehen: 2,  Partner: 4,  Kinder: 2,  Karriere: 3  \n",
       "227                                                                                                                           Männlich,  allgemeine Hochschulreife,  in Deutschland geboren,  Studienpionier,  Elternteil übt MINT-Beruf aus,  Beliebtheit Mathematik: 4,  Beliebtheit Physik: 3,  Beliebtheit Informatik: 2,  Beliebtheit Chemie: 4,  Beliebtheit Biologie: 2,  Fachinteresse: 3,  Berufsaussichten: 3,  Gehalt: 3,  Gesellschaftliches Ansehen: 2,  Partner: 4,  Kinder: 4,  Karriere: 4  \n",
       "360                                                                                                                           Weiblich,  allgemeine Hochschulreife,  in Deutschland geboren,  Studienpionier,  Elternteil übt MINT-Beruf aus,  Beliebtheit Mathematik: 2,  Beliebtheit Physik: 2,  Beliebtheit Informatik: 1,  Beliebtheit Chemie: 4,  Beliebtheit Biologie: 5,  Fachinteresse: 4,  Berufsaussichten: 3,  Gehalt: 1,  Gesellschaftliches Ansehen: 1,  Partner: 4,  Kinder: 2,  Karriere: 3  \n",
       "56                                                                                    Weiblich,  allgemeine Hochschulreife,  in Deutschland geboren,  Elternteil hat studiert,  Geschwister haben studiert,  Geschwister üben MINT-Beruf aus,  Beliebtheit Mathematik: 4,  Beliebtheit Physik: 3,  Beliebtheit Informatik: 2,  Beliebtheit Chemie: 5,  Beliebtheit Biologie: 5,  Fachinteresse: 4,  Berufsaussichten: 3,  Gehalt: 3,  Gesellschaftliches Ansehen: 3,  Partner: 4,  Kinder: 4,  Karriere: 2  \n",
       "454                                                                                                                                      Weiblich,  fachgebundene Hochschulreife,  in Deutschland geboren,  Studienpionier,  kein MINT-Beruf,  Beliebtheit Mathematik: 2,  Beliebtheit Physik: 3,  Beliebtheit Informatik: 3,  Beliebtheit Chemie: 3,  Beliebtheit Biologie: 3,  Fachinteresse: 4,  Berufsaussichten: 2,  Gehalt: 2,  Gesellschaftliches Ansehen: 1,  Partner: 4,  Kinder: 2,  Karriere: 2  \n",
       "481                                                                                                        Weiblich,  allgemeine Hochschulreife,  in Deutschland geboren,  Elternteil hat MINT-Fach studiert,  Elternteil übt MINT-Beruf aus,  Beliebtheit Mathematik: 1,  Beliebtheit Physik: 1,  Beliebtheit Informatik: 3,  Beliebtheit Chemie: 1,  Beliebtheit Biologie: 2,  Fachinteresse: 4,  Berufsaussichten: 4,  Gehalt: 4,  Gesellschaftliches Ansehen: 4,  Partner: 4,  Kinder: 4,  Karriere: 3  \n",
       "90                                                                                                 Männlich,  fachgebundene Hochschulreife,  in Deutschland geboren,  Geschwister haben MINT-Fach studiert,  Geschwister üben MINT-Beruf aus,  Beliebtheit Mathematik: 2,  Beliebtheit Physik: 3,  Beliebtheit Informatik: 5,  Beliebtheit Chemie: 3,  Beliebtheit Biologie: 4,  Fachinteresse: 4,  Berufsaussichten: 3,  Gehalt: 3,  Gesellschaftliches Ansehen: 2,  Partner: 3,  Kinder: 3,  Karriere: 3  "
      ]
     },
     "execution_count": 98,
     "metadata": {},
     "output_type": "execute_result"
    }
   ],
   "source": [
    "# Spaltenbreite kann ggf. damit verbreitert werden, damit mehr Text sichtbar wird\n",
    "pd.set_option('max_colwidth', 600)\n",
    "\n",
    "test_df[['category', 'predicted', 'kein_Studiengang']][(test_df.category_id != test_df.predicted_id)]"
   ]
  },
  {
   "cell_type": "markdown",
   "metadata": {},
   "source": [
    "### Fazit"
   ]
  },
  {
   "cell_type": "markdown",
   "metadata": {},
   "source": [
    "Mit Angabe des Studiengangs:\n",
    "- Beide Modelle liefern sehr gute Ergebnisse\n",
    "- Das Support Vector Modell ist jedoch nochmal um einiges genauer\n",
    "- NB Acuracy von ca 88%\n",
    "- SVM Acuracy von ca 93%\n",
    "\n",
    "Ohne Angabe des Studiengangs:\n",
    "- NB liefert nur ca 60% Acuracy\n",
    "- SVM Acuracy von ca 70%\n",
    "\n",
    "-> Deutlich schlechtere Ergebnisse als mit Studiengang\n",
    "\n",
    "Bei Betrachtung der Vorhersagen anhand der Eigenschaften fällt auf, dass trotz typischer MINT-Merkmalen es sich nicht immer um ein MINT-Fach handelt. Eine Person bei der die MINT-Fächer in der Schule beliebt waren und mit Eltern, die ein MINT-Fach studiert haben und einen MINT-Beruf ausüben, kann trotz diese Voraussetzungen einen nicht MINT-Studiengang gewählt haben.\n",
    "\n",
    "Dies zeigt, dass sich die Studenten anhand ihrer Eigenschaften nicht gut klassifizieren lassen. Gerade wenn man die sehr guten Ergebnisse nimmt, die durch die Angabe des Studiengangs entstanden. Der Algorithmus kann lernen welcher Studiengang ein MINT-Fach ist, jedoch nur bedingt ob eine Person mit bestimmten Eigenschaften und Umfeld ein MINT-Student ist."
   ]
  },
  {
   "cell_type": "markdown",
   "metadata": {},
   "source": [
    "## Kategorie unterrepräsentierte Gruppen"
   ]
  },
  {
   "cell_type": "markdown",
   "metadata": {},
   "source": [
    "In diesem Kapitel sollen die Personendaten in mehrere Kategorien unterteilt und klassifiziert werden. Dazu gehören Frauen, beruflich qualifizierte und Migranten bzw. Menschen mit ausländischen Wurzeln. Dabei fließen folgende weitere Informationen mit ein:\n",
    "\n",
    "- (Studiengang)\n",
    "- Ist der Studiengang ein MINT-Fach?\n",
    "- Haben Eltern / Geschwister bereits studiert, falls ja war es ein MINT-Fach?\n",
    "- Arbeiten Eltern / Geschwister in einem MINT-Beruf?\n",
    "- Beliebtheit bestimmter MINT Fächer in der Schule\n",
    "- Priorität folgender Faktoren bei der Wahl des Studiengangs:\n",
    "    - Fachinteresse\n",
    "    - Berufsaussichten\n",
    "    - Gehalt\n",
    "    - Familiäre Gründe\n",
    "- Priorität folgender Faktoren für die berufliche Zukunft:\n",
    "    - Partner\n",
    "    - Kinder\n",
    "    - Karriere"
   ]
  },
  {
   "cell_type": "markdown",
   "metadata": {},
   "source": [
    "### Datenaufbereitung"
   ]
  },
  {
   "cell_type": "markdown",
   "metadata": {},
   "source": [
    "Daten mit get_multilabel_data aus DB laden. Für spätere Klassifikation wird noch die Spalte Kategorie zum Dataframe hinzugefügt."
   ]
  },
  {
   "cell_type": "code",
   "execution_count": 9,
   "metadata": {},
   "outputs": [
    {
     "data": {
      "text/html": [
       "<div>\n",
       "<style scoped>\n",
       "    .dataframe tbody tr th:only-of-type {\n",
       "        vertical-align: middle;\n",
       "    }\n",
       "\n",
       "    .dataframe tbody tr th {\n",
       "        vertical-align: top;\n",
       "    }\n",
       "\n",
       "    .dataframe thead th {\n",
       "        text-align: right;\n",
       "    }\n",
       "</style>\n",
       "<table border=\"1\" class=\"dataframe\">\n",
       "  <thead>\n",
       "    <tr style=\"text-align: right;\">\n",
       "      <th></th>\n",
       "      <th>Eigenschaften</th>\n",
       "      <th>category</th>\n",
       "    </tr>\n",
       "  </thead>\n",
       "  <tbody>\n",
       "    <tr>\n",
       "      <th>559</th>\n",
       "      <td>Weiblich, Soziale Arbeit, allgemeine Hochschul...</td>\n",
       "      <td>nicht_MINT</td>\n",
       "    </tr>\n",
       "    <tr>\n",
       "      <th>51</th>\n",
       "      <td>Männlich, Energieprozesstechnik, allgemeine Ho...</td>\n",
       "      <td>MINT</td>\n",
       "    </tr>\n",
       "    <tr>\n",
       "      <th>484</th>\n",
       "      <td>Weiblich, Bauingenieurwesen, allgemeine Hochsc...</td>\n",
       "      <td>MINT</td>\n",
       "    </tr>\n",
       "    <tr>\n",
       "      <th>128</th>\n",
       "      <td>Weiblich, Bauingenieurwesen, fachgebundene Hoc...</td>\n",
       "      <td>MINT</td>\n",
       "    </tr>\n",
       "    <tr>\n",
       "      <th>541</th>\n",
       "      <td>Männlich, Angewandte Chemie, allgemeine Hochsc...</td>\n",
       "      <td>MINT</td>\n",
       "    </tr>\n",
       "  </tbody>\n",
       "</table>\n",
       "</div>"
      ],
      "text/plain": [
       "                                         Eigenschaften    category\n",
       "559  Weiblich, Soziale Arbeit, allgemeine Hochschul...  nicht_MINT\n",
       "51   Männlich, Energieprozesstechnik, allgemeine Ho...        MINT\n",
       "484  Weiblich, Bauingenieurwesen, allgemeine Hochsc...        MINT\n",
       "128  Weiblich, Bauingenieurwesen, fachgebundene Hoc...        MINT\n",
       "541  Männlich, Angewandte Chemie, allgemeine Hochsc...        MINT"
      ]
     },
     "execution_count": 9,
     "metadata": {},
     "output_type": "execute_result"
    }
   ],
   "source": [
    "import sqlite3\n",
    "import pandas as pd\n",
    "import os.path\n",
    "dbPath = \"database/bachelor_umfrage.db\"\n",
    "\n",
    "def get_multilabel_data(table_name=\"klassifikation\", where=None):\n",
    "    df = pd.DataFrame()\n",
    "    if os.path.isfile(dbPath):\n",
    "        conn = sqlite3.connect(dbPath)\n",
    "        sql = \"\"\"SELECT Geschlecht, Qualifikation, GeborenAusland, ElternAusland, GeborenDeutschland,\n",
    "                MultilabelEigenschaften FROM \"\"\" + table_name\n",
    "        if where:\n",
    "            sql += \" WHERE \" + where\n",
    "        df = pd.read_sql_query(sql, conn)\n",
    "    else:\n",
    "        print(\"Datenbank oder Tabelle konnte nicht gefunden werden.\")\n",
    "    return df\n",
    "\n",
    "#def label_mint (row):\n",
    "#    if row['MINTFach'] == \"ja\" :\n",
    "#        return 'MINT'\n",
    "#    elif row['MINTFach'] == \"nein\" :\n",
    "#        return 'nicht_MINT'\n",
    "\n",
    "multilabel_df = get_multilabel_data(table_name=\"klassifikation\")\n",
    "multilabel_df['category'] = multilabel_df.apply(label_mint, axis=1)\n",
    "multilabel_df = multilabel_df.drop(columns=['MINTFach'])\n",
    "multilabel_df.sample(5)"
   ]
  },
  {
   "cell_type": "markdown",
   "metadata": {},
   "source": [
    "Verteilung MINT- und nicht MINT-Studenten: ca 2/3 MINT -> evtl. später ein Problem"
   ]
  },
  {
   "cell_type": "code",
   "execution_count": 10,
   "metadata": {},
   "outputs": [
    {
     "data": {
      "text/plain": [
       "<matplotlib.axes._subplots.AxesSubplot at 0x286035791d0>"
      ]
     },
     "execution_count": 10,
     "metadata": {},
     "output_type": "execute_result"
    },
    {
     "data": {
      "text/plain": [
       "category\n",
       "MINT          430\n",
       "nicht_MINT    279\n",
       "Name: category, dtype: int64"
      ]
     },
     "execution_count": 10,
     "metadata": {},
     "output_type": "execute_result"
    },
    {
     "data": {
      "image/png": "[encoded data removed]",
      "text/plain": [
       "<Figure size 576x432 with 1 Axes>"
      ]
     },
     "metadata": {
      "needs_background": "light"
     },
     "output_type": "display_data"
    }
   ],
   "source": [
    "%matplotlib inline\n",
    "\n",
    "import matplotlib.pyplot as plt\n",
    "fig = plt.figure(figsize=(8,6))\n",
    "multilabel_df.groupby(\"category\")[\"category\"].count().plot.bar(ylim=0);\n",
    "multilabel_df.groupby(\"category\")[\"category\"].count()"
   ]
  },
  {
   "cell_type": "code",
   "execution_count": 11,
   "metadata": {},
   "outputs": [
    {
     "data": {
      "text/html": [
       "<div>\n",
       "<style scoped>\n",
       "    .dataframe tbody tr th:only-of-type {\n",
       "        vertical-align: middle;\n",
       "    }\n",
       "\n",
       "    .dataframe tbody tr th {\n",
       "        vertical-align: top;\n",
       "    }\n",
       "\n",
       "    .dataframe thead th {\n",
       "        text-align: right;\n",
       "    }\n",
       "</style>\n",
       "<table border=\"1\" class=\"dataframe\">\n",
       "  <thead>\n",
       "    <tr style=\"text-align: right;\">\n",
       "      <th></th>\n",
       "      <th>category</th>\n",
       "      <th>category_id</th>\n",
       "    </tr>\n",
       "  </thead>\n",
       "  <tbody>\n",
       "    <tr>\n",
       "      <th>0</th>\n",
       "      <td>nicht_MINT</td>\n",
       "      <td>0</td>\n",
       "    </tr>\n",
       "    <tr>\n",
       "      <th>1</th>\n",
       "      <td>MINT</td>\n",
       "      <td>1</td>\n",
       "    </tr>\n",
       "  </tbody>\n",
       "</table>\n",
       "</div>"
      ],
      "text/plain": [
       "     category  category_id\n",
       "0  nicht_MINT            0\n",
       "1        MINT            1"
      ]
     },
     "execution_count": 11,
     "metadata": {},
     "output_type": "execute_result"
    }
   ],
   "source": [
    "multilabel_df[\"category_id\"] = multilabel_df[\"category\"].factorize()[0]\n",
    "category_id_df = poll_df[[\"category\", \"category_id\"]].drop_duplicates().sort_values(\"category_id\")\n",
    "category_id_df"
   ]
  },
  {
   "cell_type": "markdown",
   "metadata": {},
   "source": [
    "Aufteilung in 80% Trainings- und 20% Testdaten."
   ]
  },
  {
   "cell_type": "code",
   "execution_count": 12,
   "metadata": {},
   "outputs": [
    {
     "name": "stdout",
     "output_type": "stream",
     "text": [
      "(567,)\n",
      "(142,)\n",
      "(567,)\n",
      "(142,)\n"
     ]
    }
   ],
   "source": [
    "from sklearn.model_selection import train_test_split\n",
    "\n",
    "features = multilabel_df['MultilabelEigenschaften']\n",
    "labels = multilabel_df[\"category_id\"]\n",
    "\n",
    "X_train, X_test, y_train, y_test = train_test_split(features, labels, test_size=0.20)\n",
    "\n",
    "print(X_train.shape)\n",
    "print(X_test.shape)\n",
    "print(y_train.shape)\n",
    "print(y_test.shape)"
   ]
  },
  {
   "cell_type": "markdown",
   "metadata": {},
   "source": [
    "### Trainieren des Naive Bayes Modells (NB)"
   ]
  },
  {
   "cell_type": "code",
   "execution_count": 13,
   "metadata": {},
   "outputs": [],
   "source": [
    "from sklearn.pipeline import Pipeline\n",
    "from sklearn.feature_extraction.text import CountVectorizer\n",
    "from sklearn.feature_extraction.text import TfidfTransformer\n",
    "from sklearn.naive_bayes import MultinomialNB\n",
    "\n",
    "text_clf = Pipeline([(\"vect\", CountVectorizer(ngram_range=(1, 1), stop_words=None)),\n",
    "                     (\"tfidf\", TfidfTransformer(sublinear_tf=True, norm=\"l2\")),\n",
    "                     (\"nb_clf\", MultinomialNB()),])\n",
    "text_clf = text_clf.fit(X_train, y_train)"
   ]
  },
  {
   "cell_type": "code",
   "execution_count": 14,
   "metadata": {},
   "outputs": [
    {
     "name": "stdout",
     "output_type": "stream",
     "text": [
      "Wall time: 37.5 ms\n"
     ]
    },
    {
     "data": {
      "text/plain": [
       "Pipeline(memory=None,\n",
       "     steps=[('vect', CountVectorizer(analyzer='word', binary=False, decode_error='strict',\n",
       "        dtype=<class 'numpy.int64'>, encoding='utf-8', input='content',\n",
       "        lowercase=True, max_df=1.0, max_features=None, min_df=1,\n",
       "        ngram_range=(1, 1), preprocessor=None, stop_words=None,\n",
       "        strip...ear_tf=True, use_idf=True)), ('nb_clf', MultinomialNB(alpha=1.0, class_prior=None, fit_prior=True))])"
      ]
     },
     "execution_count": 14,
     "metadata": {},
     "output_type": "execute_result"
    }
   ],
   "source": [
    "%time text_clf.fit(X_train, y_train)"
   ]
  },
  {
   "cell_type": "code",
   "execution_count": 22,
   "metadata": {},
   "outputs": [],
   "source": [
    "y_predicted = text_clf.predict(X_test)"
   ]
  },
  {
   "cell_type": "markdown",
   "metadata": {},
   "source": [
    "### Ergebnisbewertung NB"
   ]
  },
  {
   "cell_type": "markdown",
   "metadata": {},
   "source": [
    "Berechnung Accuracy-Score"
   ]
  },
  {
   "cell_type": "code",
   "execution_count": 16,
   "metadata": {},
   "outputs": [
    {
     "data": {
      "text/plain": [
       "0.8802816901408451"
      ]
     },
     "execution_count": 16,
     "metadata": {},
     "output_type": "execute_result"
    }
   ],
   "source": [
    "from sklearn import metrics\n",
    "metrics.accuracy_score(y_test, y_predicted)"
   ]
  },
  {
   "cell_type": "markdown",
   "metadata": {},
   "source": [
    "Confusion Matrix"
   ]
  },
  {
   "cell_type": "code",
   "execution_count": 18,
   "metadata": {},
   "outputs": [
    {
     "data": {
      "image/png": "[encoded data removed]",
      "text/plain": [
       "<Figure size 432x288 with 2 Axes>"
      ]
     },
     "metadata": {
      "needs_background": "light"
     },
     "output_type": "display_data"
    }
   ],
   "source": [
    "import matplotlib.pyplot as plt\n",
    "import seaborn as sns\n",
    "from sklearn.metrics import confusion_matrix\n",
    "\n",
    "conf_mat = confusion_matrix(y_test, y_predicted)\n",
    "fig, ax = plt.subplots(figsize=(6, 4))\n",
    "sns.heatmap(conf_mat, annot=True, fmt=\"d\", cmap=\"Blues\", cbar=True,\n",
    "            xticklabels=category_id_df.category.values, yticklabels=category_id_df.category.values)\n",
    "plt.ylabel(\"Actual\")\n",
    "plt.xlabel(\"Predicted\");"
   ]
  },
  {
   "cell_type": "markdown",
   "metadata": {},
   "source": [
    "Berechnung Classification Report"
   ]
  },
  {
   "cell_type": "code",
   "execution_count": 17,
   "metadata": {},
   "outputs": [
    {
     "name": "stdout",
     "output_type": "stream",
     "text": [
      "              precision    recall  f1-score   support\n",
      "\n",
      "  nicht_MINT       0.88      0.79      0.83        53\n",
      "        MINT       0.88      0.93      0.91        89\n",
      "\n",
      "   micro avg       0.88      0.88      0.88       142\n",
      "   macro avg       0.88      0.86      0.87       142\n",
      "weighted avg       0.88      0.88      0.88       142\n",
      "\n"
     ]
    }
   ],
   "source": [
    "print(metrics.classification_report(y_test, y_predicted, \n",
    "                                    labels=category_id_df.category_id.values, \n",
    "                                    target_names=category_id_df.category.values))"
   ]
  },
  {
   "cell_type": "markdown",
   "metadata": {},
   "source": [
    "### Trainieren eines Support Vector Modells (SVM)"
   ]
  },
  {
   "cell_type": "code",
   "execution_count": 20,
   "metadata": {},
   "outputs": [],
   "source": [
    "from sklearn.pipeline import Pipeline\n",
    "from sklearn.feature_extraction.text import CountVectorizer\n",
    "from sklearn.feature_extraction.text import TfidfTransformer\n",
    "from sklearn.svm import SVC\n",
    "\n",
    "text_clf = Pipeline([(\"vect\", CountVectorizer(ngram_range=(1, 1), stop_words=None)),\n",
    "                     (\"tfidf\", TfidfTransformer(sublinear_tf=True, norm=\"l2\")),\n",
    "                     (\"sv_clf\", SVC(kernel=\"linear\"))])\n",
    "\n",
    "text_clf = text_clf.fit(X_train, y_train)"
   ]
  },
  {
   "cell_type": "code",
   "execution_count": 21,
   "metadata": {},
   "outputs": [],
   "source": [
    "y_predicted = text_clf.predict(X_test)"
   ]
  },
  {
   "cell_type": "markdown",
   "metadata": {},
   "source": [
    "### Ergebnisbewertung SVM"
   ]
  },
  {
   "cell_type": "markdown",
   "metadata": {},
   "source": [
    "Berechnung Acuracy-Score"
   ]
  },
  {
   "cell_type": "code",
   "execution_count": 23,
   "metadata": {},
   "outputs": [
    {
     "data": {
      "text/plain": [
       "0.9366197183098591"
      ]
     },
     "execution_count": 23,
     "metadata": {},
     "output_type": "execute_result"
    }
   ],
   "source": [
    "from sklearn import metrics\n",
    "metrics.accuracy_score(y_test, y_predicted)"
   ]
  },
  {
   "cell_type": "markdown",
   "metadata": {},
   "source": [
    "Berechnung Classification Report"
   ]
  },
  {
   "cell_type": "code",
   "execution_count": 24,
   "metadata": {},
   "outputs": [
    {
     "name": "stdout",
     "output_type": "stream",
     "text": [
      "              precision    recall  f1-score   support\n",
      "\n",
      "  nicht_MINT       0.88      0.96      0.92        53\n",
      "        MINT       0.98      0.92      0.95        89\n",
      "\n",
      "   micro avg       0.94      0.94      0.94       142\n",
      "   macro avg       0.93      0.94      0.93       142\n",
      "weighted avg       0.94      0.94      0.94       142\n",
      "\n"
     ]
    }
   ],
   "source": [
    "print(metrics.classification_report(y_test, y_predicted, target_names=category_id_df.category.values))"
   ]
  },
  {
   "cell_type": "markdown",
   "metadata": {},
   "source": [
    "Confusion-Matrix"
   ]
  },
  {
   "cell_type": "code",
   "execution_count": 25,
   "metadata": {},
   "outputs": [
    {
     "data": {
      "image/png": "[encoded data removed]",
      "text/plain": [
       "<Figure size 432x288 with 2 Axes>"
      ]
     },
     "metadata": {
      "needs_background": "light"
     },
     "output_type": "display_data"
    }
   ],
   "source": [
    "import matplotlib.pyplot as plt\n",
    "import seaborn as sns\n",
    "from sklearn.metrics import confusion_matrix\n",
    "\n",
    "conf_mat = confusion_matrix(y_test, y_predicted)\n",
    "fig, ax = plt.subplots(figsize=(6, 4))\n",
    "sns.heatmap(conf_mat, annot=True, fmt=\"d\", cmap=\"Blues\", cbar=True,\n",
    "            xticklabels=category_id_df.category.values, yticklabels=category_id_df.category.values)\n",
    "plt.ylabel(\"Actual\")\n",
    "plt.xlabel(\"Predicted\");"
   ]
  },
  {
   "cell_type": "markdown",
   "metadata": {},
   "source": [
    "### Fazit"
   ]
  },
  {
   "cell_type": "markdown",
   "metadata": {},
   "source": [
    "Beide Modelle liefern sehr gute Ergebnisse. \n",
    "Das Support Vector Modell ist jedoch nochmal um einiges genauer."
   ]
  }
 ],
 "metadata": {
  "kernelspec": {
   "display_name": "Python 3",
   "language": "python",
   "name": "python3"
  },
  "language_info": {
   "codemirror_mode": {
    "name": "ipython",
    "version": 3
   },
   "file_extension": ".py",
   "mimetype": "text/x-python",
   "name": "python",
   "nbconvert_exporter": "python",
   "pygments_lexer": "ipython3",
   "version": "3.7.1"
  },
  "toc": {
   "base_numbering": 1,
   "nav_menu": {
    "height": "56px",
    "width": "329px"
   },
   "number_sections": true,
   "sideBar": true,
   "skip_h1_title": false,
   "title_cell": "Table of Contents",
   "title_sidebar": "Contents",
   "toc_cell": true,
   "toc_position": {
    "height": "calc(100% - 180px)",
    "left": "10px",
    "top": "150px",
    "width": "194.333px"
   },
   "toc_section_display": true,
   "toc_window_display": true
  },
  "varInspector": {
   "cols": {
    "lenName": 16,
    "lenType": 16,
    "lenVar": 40
   },
   "kernels_config": {
    "python": {
     "delete_cmd_postfix": "",
     "delete_cmd_prefix": "del ",
     "library": "var_list.py",
     "varRefreshCmd": "print(var_dic_list())"
    },
    "r": {
     "delete_cmd_postfix": ") ",
     "delete_cmd_prefix": "rm(",
     "library": "var_list.r",
     "varRefreshCmd": "cat(var_dic_list()) "
    }
   },
   "types_to_exclude": [
    "module",
    "function",
    "builtin_function_or_method",
    "instance",
    "_Feature"
   ],
   "window_display": false
  }
 },
 "nbformat": 4,
 "nbformat_minor": 2
}
