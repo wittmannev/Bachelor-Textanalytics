{
 "cells": [
  {
   "cell_type": "markdown",
   "metadata": {
    "toc": true
   },
   "source": [
    "<h1>Table of Contents<span class=\"tocSkip\"></span></h1>\n",
    "<div class=\"toc\"><ul class=\"toc-item\"><li><span><a href=\"#Sentiment-Analyse-der-Entscheidungsgründe\" data-toc-modified-id=\"Sentiment-Analyse-der-Entscheidungsgründe-1\"><span class=\"toc-item-num\">1&nbsp;&nbsp;</span>Sentiment Analyse der Entscheidungsgründe</a></span><ul class=\"toc-item\"><li><span><a href=\"#Datenvorbereitung\" data-toc-modified-id=\"Datenvorbereitung-1.1\"><span class=\"toc-item-num\">1.1&nbsp;&nbsp;</span>Datenvorbereitung</a></span></li><li><span><a href=\"#Sentiment-Analyse\" data-toc-modified-id=\"Sentiment-Analyse-1.2\"><span class=\"toc-item-num\">1.2&nbsp;&nbsp;</span>Sentiment Analyse</a></span></li><li><span><a href=\"#Visualisierung\" data-toc-modified-id=\"Visualisierung-1.3\"><span class=\"toc-item-num\">1.3&nbsp;&nbsp;</span>Visualisierung</a></span><ul class=\"toc-item\"><li><span><a href=\"#Alle-Studenten\" data-toc-modified-id=\"Alle-Studenten-1.3.1\"><span class=\"toc-item-num\">1.3.1&nbsp;&nbsp;</span>Alle Studenten</a></span></li><li><span><a href=\"#MINT-Studenten\" data-toc-modified-id=\"MINT-Studenten-1.3.2\"><span class=\"toc-item-num\">1.3.2&nbsp;&nbsp;</span>MINT-Studenten</a></span></li><li><span><a href=\"#Nicht-MINT-Studenten\" data-toc-modified-id=\"Nicht-MINT-Studenten-1.3.3\"><span class=\"toc-item-num\">1.3.3&nbsp;&nbsp;</span>Nicht MINT-Studenten</a></span></li><li><span><a href=\"#Frauen\" data-toc-modified-id=\"Frauen-1.3.4\"><span class=\"toc-item-num\">1.3.4&nbsp;&nbsp;</span>Frauen</a></span></li><li><span><a href=\"#Männer\" data-toc-modified-id=\"Männer-1.3.5\"><span class=\"toc-item-num\">1.3.5&nbsp;&nbsp;</span>Männer</a></span></li></ul></li><li><span><a href=\"#Fazit\" data-toc-modified-id=\"Fazit-1.4\"><span class=\"toc-item-num\">1.4&nbsp;&nbsp;</span>Fazit</a></span></li></ul></li><li><span><a href=\"#Sentiment-Analyse-der-Verbesserungsvorschläge\" data-toc-modified-id=\"Sentiment-Analyse-der-Verbesserungsvorschläge-2\"><span class=\"toc-item-num\">2&nbsp;&nbsp;</span>Sentiment Analyse der Verbesserungsvorschläge</a></span><ul class=\"toc-item\"><li><span><a href=\"#Datenvorbereitung\" data-toc-modified-id=\"Datenvorbereitung-2.1\"><span class=\"toc-item-num\">2.1&nbsp;&nbsp;</span>Datenvorbereitung</a></span></li><li><span><a href=\"#Sentiment-Analyse\" data-toc-modified-id=\"Sentiment-Analyse-2.2\"><span class=\"toc-item-num\">2.2&nbsp;&nbsp;</span>Sentiment Analyse</a></span></li><li><span><a href=\"#Visualisierung\" data-toc-modified-id=\"Visualisierung-2.3\"><span class=\"toc-item-num\">2.3&nbsp;&nbsp;</span>Visualisierung</a></span><ul class=\"toc-item\"><li><span><a href=\"#Alle-Studenten\" data-toc-modified-id=\"Alle-Studenten-2.3.1\"><span class=\"toc-item-num\">2.3.1&nbsp;&nbsp;</span>Alle Studenten</a></span></li><li><span><a href=\"#MINT-Studenten\" data-toc-modified-id=\"MINT-Studenten-2.3.2\"><span class=\"toc-item-num\">2.3.2&nbsp;&nbsp;</span>MINT-Studenten</a></span></li><li><span><a href=\"#Nicht-MINT-Studenten\" data-toc-modified-id=\"Nicht-MINT-Studenten-2.3.3\"><span class=\"toc-item-num\">2.3.3&nbsp;&nbsp;</span>Nicht MINT-Studenten</a></span></li><li><span><a href=\"#Frauen\" data-toc-modified-id=\"Frauen-2.3.4\"><span class=\"toc-item-num\">2.3.4&nbsp;&nbsp;</span>Frauen</a></span></li><li><span><a href=\"#Männer\" data-toc-modified-id=\"Männer-2.3.5\"><span class=\"toc-item-num\">2.3.5&nbsp;&nbsp;</span>Männer</a></span></li></ul></li><li><span><a href=\"#Fazit\" data-toc-modified-id=\"Fazit-2.4\"><span class=\"toc-item-num\">2.4&nbsp;&nbsp;</span>Fazit</a></span></li></ul></li></ul></div>"
   ]
  },
  {
   "cell_type": "markdown",
   "metadata": {},
   "source": [
    "Hilfsfunktionen & Einstellungen"
   ]
  },
  {
   "cell_type": "code",
   "execution_count": 2,
   "metadata": {},
   "outputs": [],
   "source": [
    "# for pretty printing\n",
    "import pprint as pp\n",
    "\n",
    "# IPython (Jupyter) setting: \n",
    "# Print out every value instead of just \"last_expr\" (default)\n",
    "from IPython.core.interactiveshell import InteractiveShell\n",
    "InteractiveShell.ast_node_interactivity = \"all\""
   ]
  },
  {
   "cell_type": "markdown",
   "metadata": {},
   "source": [
    "# Sentiment Analyse der Entscheidungsgründe"
   ]
  },
  {
   "cell_type": "markdown",
   "metadata": {},
   "source": [
    "## Datenvorbereitung"
   ]
  },
  {
   "cell_type": "code",
   "execution_count": 3,
   "metadata": {},
   "outputs": [
    {
     "data": {
      "text/html": [
       "<div>\n",
       "<style scoped>\n",
       "    .dataframe tbody tr th:only-of-type {\n",
       "        vertical-align: middle;\n",
       "    }\n",
       "\n",
       "    .dataframe tbody tr th {\n",
       "        vertical-align: top;\n",
       "    }\n",
       "\n",
       "    .dataframe thead th {\n",
       "        text-align: right;\n",
       "    }\n",
       "</style>\n",
       "<table border=\"1\" class=\"dataframe\">\n",
       "  <thead>\n",
       "    <tr style=\"text-align: right;\">\n",
       "      <th></th>\n",
       "      <th>MINTFach</th>\n",
       "      <th>Geschlecht</th>\n",
       "      <th>Gründe</th>\n",
       "    </tr>\n",
       "  </thead>\n",
       "  <tbody>\n",
       "    <tr>\n",
       "      <th>335</th>\n",
       "      <td>ja</td>\n",
       "      <td>Männlich</td>\n",
       "      <td>Die Existenz objektiver, indiskutabler Tatsach...</td>\n",
       "    </tr>\n",
       "    <tr>\n",
       "      <th>143</th>\n",
       "      <td>nein</td>\n",
       "      <td>Männlich</td>\n",
       "      <td>Ich hatte Lust im Baubereich zu arbeiten und m...</td>\n",
       "    </tr>\n",
       "    <tr>\n",
       "      <th>136</th>\n",
       "      <td>nein</td>\n",
       "      <td>Männlich</td>\n",
       "      <td>Zu theoretisch, meist schwer zu folgen</td>\n",
       "    </tr>\n",
       "    <tr>\n",
       "      <th>396</th>\n",
       "      <td>ja</td>\n",
       "      <td>Männlich</td>\n",
       "      <td>Ich war schon immer interessiert wie Maschinen...</td>\n",
       "    </tr>\n",
       "    <tr>\n",
       "      <th>159</th>\n",
       "      <td>ja</td>\n",
       "      <td>Weiblich</td>\n",
       "      <td>Ich habe mich schon immer für mathe und Physik...</td>\n",
       "    </tr>\n",
       "  </tbody>\n",
       "</table>\n",
       "</div>"
      ],
      "text/plain": [
       "    MINTFach Geschlecht                                             Gründe\n",
       "335       ja   Männlich  Die Existenz objektiver, indiskutabler Tatsach...\n",
       "143     nein   Männlich  Ich hatte Lust im Baubereich zu arbeiten und m...\n",
       "136     nein   Männlich             Zu theoretisch, meist schwer zu folgen\n",
       "396       ja   Männlich  Ich war schon immer interessiert wie Maschinen...\n",
       "159       ja   Weiblich  Ich habe mich schon immer für mathe und Physik..."
      ]
     },
     "execution_count": 3,
     "metadata": {},
     "output_type": "execute_result"
    }
   ],
   "source": [
    "import sqlite3\n",
    "import pandas as pd\n",
    "import os.path\n",
    "\n",
    "dbPath = \"database/bachelor_umfrage.db\"\n",
    "\n",
    "def get_sentiment_reason_data(table_name=\"sentiment\"):\n",
    "    df = pd.DataFrame()\n",
    "    if os.path.isfile(dbPath):\n",
    "        conn = sqlite3.connect(dbPath)\n",
    "        sql = \"SELECT MINTFach, Geschlecht, Gründe FROM \" + table_name\n",
    "        sql += \" WHERE Gründe IS NOT NULL\"\n",
    "        df = pd.read_sql_query(sql, conn)\n",
    "    else:\n",
    "        print(\"Datenbank oder Tabelle konnte nicht gefunden werden.\")\n",
    "    return df\n",
    "\n",
    "reason_df = get_sentiment_reason_data(table_name=\"sentiment\")\n",
    "reason_df.sample(5)"
   ]
  },
  {
   "cell_type": "markdown",
   "metadata": {},
   "source": [
    "## Sentiment Analyse"
   ]
  },
  {
   "cell_type": "code",
   "execution_count": 4,
   "metadata": {},
   "outputs": [],
   "source": [
    "from textblob_de import TextBlobDE\n",
    "\n",
    "def get_sentiment_polarity(text):\n",
    "    blob = TextBlobDE(text)\n",
    "\n",
    "    for sentence in blob.sentences:\n",
    "        return sentence.sentiment.polarity"
   ]
  },
  {
   "cell_type": "code",
   "execution_count": 5,
   "metadata": {},
   "outputs": [],
   "source": [
    "polarity_list = []\n",
    "\n",
    "for i, row in reason_df.iterrows():\n",
    "    polarity = get_sentiment_polarity(row[\"Gründe\"])\n",
    "    polarity_list.append(polarity)\n",
    "    \n",
    "reason_df[\"polarity\"] = polarity_list"
   ]
  },
  {
   "cell_type": "code",
   "execution_count": 6,
   "metadata": {},
   "outputs": [
    {
     "data": {
      "text/html": [
       "<div>\n",
       "<style scoped>\n",
       "    .dataframe tbody tr th:only-of-type {\n",
       "        vertical-align: middle;\n",
       "    }\n",
       "\n",
       "    .dataframe tbody tr th {\n",
       "        vertical-align: top;\n",
       "    }\n",
       "\n",
       "    .dataframe thead th {\n",
       "        text-align: right;\n",
       "    }\n",
       "</style>\n",
       "<table border=\"1\" class=\"dataframe\">\n",
       "  <thead>\n",
       "    <tr style=\"text-align: right;\">\n",
       "      <th></th>\n",
       "      <th>MINTFach</th>\n",
       "      <th>Geschlecht</th>\n",
       "      <th>Gründe</th>\n",
       "      <th>polarity</th>\n",
       "      <th>sentiment</th>\n",
       "    </tr>\n",
       "  </thead>\n",
       "  <tbody>\n",
       "    <tr>\n",
       "      <th>86</th>\n",
       "      <td>ja</td>\n",
       "      <td>Weiblich</td>\n",
       "      <td>Bereits vorher in der Branche gearbeitet, Neug...</td>\n",
       "      <td>0.0</td>\n",
       "      <td>neutral</td>\n",
       "    </tr>\n",
       "    <tr>\n",
       "      <th>286</th>\n",
       "      <td>nein</td>\n",
       "      <td>Weiblich</td>\n",
       "      <td>Kein Interesse</td>\n",
       "      <td>0.0</td>\n",
       "      <td>neutral</td>\n",
       "    </tr>\n",
       "    <tr>\n",
       "      <th>357</th>\n",
       "      <td>nein</td>\n",
       "      <td>Weiblich</td>\n",
       "      <td>Ich wollte Soziale Arbeit studieren!</td>\n",
       "      <td>0.7</td>\n",
       "      <td>very positive</td>\n",
       "    </tr>\n",
       "    <tr>\n",
       "      <th>242</th>\n",
       "      <td>nein</td>\n",
       "      <td>Weiblich</td>\n",
       "      <td>Wenig Interesse</td>\n",
       "      <td>0.0</td>\n",
       "      <td>neutral</td>\n",
       "    </tr>\n",
       "    <tr>\n",
       "      <th>329</th>\n",
       "      <td>ja</td>\n",
       "      <td>Männlich</td>\n",
       "      <td>Interesse für Mathe, Physik und Chemie während...</td>\n",
       "      <td>0.0</td>\n",
       "      <td>neutral</td>\n",
       "    </tr>\n",
       "  </tbody>\n",
       "</table>\n",
       "</div>"
      ],
      "text/plain": [
       "    MINTFach Geschlecht                                             Gründe  \\\n",
       "86        ja   Weiblich  Bereits vorher in der Branche gearbeitet, Neug...   \n",
       "286     nein   Weiblich                                     Kein Interesse   \n",
       "357     nein   Weiblich               Ich wollte Soziale Arbeit studieren!   \n",
       "242     nein   Weiblich                                    Wenig Interesse   \n",
       "329       ja   Männlich  Interesse für Mathe, Physik und Chemie während...   \n",
       "\n",
       "     polarity      sentiment  \n",
       "86        0.0        neutral  \n",
       "286       0.0        neutral  \n",
       "357       0.7  very positive  \n",
       "242       0.0        neutral  \n",
       "329       0.0        neutral  "
      ]
     },
     "execution_count": 6,
     "metadata": {},
     "output_type": "execute_result"
    }
   ],
   "source": [
    "def label_polarity (row):\n",
    "    if row['polarity'] > 0.5 :\n",
    "        return 'very positive'\n",
    "    elif row['polarity'] < 0.5 and row['polarity'] > 0 :\n",
    "        return 'positive'\n",
    "    elif row['polarity'] > -0.5 and row['polarity'] < 0 :\n",
    "        return 'negative'\n",
    "    elif row['polarity'] < -0.5 :\n",
    "        return 'very negative'\n",
    "    else:\n",
    "        return 'neutral'\n",
    "\n",
    "reason_df['sentiment'] = reason_df.apply(label_polarity, axis=1)\n",
    "reason_df.sample(5)"
   ]
  },
  {
   "cell_type": "markdown",
   "metadata": {},
   "source": [
    "Negativster & Positivster Sentiment"
   ]
  },
  {
   "cell_type": "code",
   "execution_count": 7,
   "metadata": {},
   "outputs": [
    {
     "data": {
      "text/html": [
       "<div>\n",
       "<style scoped>\n",
       "    .dataframe tbody tr th:only-of-type {\n",
       "        vertical-align: middle;\n",
       "    }\n",
       "\n",
       "    .dataframe tbody tr th {\n",
       "        vertical-align: top;\n",
       "    }\n",
       "\n",
       "    .dataframe thead th {\n",
       "        text-align: right;\n",
       "    }\n",
       "</style>\n",
       "<table border=\"1\" class=\"dataframe\">\n",
       "  <thead>\n",
       "    <tr style=\"text-align: right;\">\n",
       "      <th></th>\n",
       "      <th>MINTFach</th>\n",
       "      <th>Geschlecht</th>\n",
       "      <th>Gründe</th>\n",
       "      <th>polarity</th>\n",
       "      <th>sentiment</th>\n",
       "    </tr>\n",
       "  </thead>\n",
       "  <tbody>\n",
       "    <tr>\n",
       "      <th>310</th>\n",
       "      <td>ja</td>\n",
       "      <td>Männlich</td>\n",
       "      <td>Ich liebe das Programmieren und Inhalte rund u...</td>\n",
       "      <td>1.0</td>\n",
       "      <td>very positive</td>\n",
       "    </tr>\n",
       "    <tr>\n",
       "      <th>337</th>\n",
       "      <td>ja</td>\n",
       "      <td>Männlich</td>\n",
       "      <td>ich habe mich schon immer für Naturwissenschaf...</td>\n",
       "      <td>1.0</td>\n",
       "      <td>very positive</td>\n",
       "    </tr>\n",
       "    <tr>\n",
       "      <th>318</th>\n",
       "      <td>nein</td>\n",
       "      <td>Weiblich</td>\n",
       "      <td>Ich war in der FOS sehr gut in Mathe. Da ich a...</td>\n",
       "      <td>1.0</td>\n",
       "      <td>very positive</td>\n",
       "    </tr>\n",
       "    <tr>\n",
       "      <th>177</th>\n",
       "      <td>ja</td>\n",
       "      <td>Männlich</td>\n",
       "      <td>Ich war naturwissenschaftlich und technisch in...</td>\n",
       "      <td>1.0</td>\n",
       "      <td>very positive</td>\n",
       "    </tr>\n",
       "    <tr>\n",
       "      <th>480</th>\n",
       "      <td>nein</td>\n",
       "      <td>Weiblich</td>\n",
       "      <td>Ich war in Studiengänge mit Biologie und Chemi...</td>\n",
       "      <td>1.0</td>\n",
       "      <td>very positive</td>\n",
       "    </tr>\n",
       "  </tbody>\n",
       "</table>\n",
       "</div>"
      ],
      "text/plain": [
       "    MINTFach Geschlecht                                             Gründe  \\\n",
       "310       ja   Männlich  Ich liebe das Programmieren und Inhalte rund u...   \n",
       "337       ja   Männlich  ich habe mich schon immer für Naturwissenschaf...   \n",
       "318     nein   Weiblich  Ich war in der FOS sehr gut in Mathe. Da ich a...   \n",
       "177       ja   Männlich  Ich war naturwissenschaftlich und technisch in...   \n",
       "480     nein   Weiblich  Ich war in Studiengänge mit Biologie und Chemi...   \n",
       "\n",
       "     polarity      sentiment  \n",
       "310       1.0  very positive  \n",
       "337       1.0  very positive  \n",
       "318       1.0  very positive  \n",
       "177       1.0  very positive  \n",
       "480       1.0  very positive  "
      ]
     },
     "execution_count": 7,
     "metadata": {},
     "output_type": "execute_result"
    },
    {
     "data": {
      "text/html": [
       "<div>\n",
       "<style scoped>\n",
       "    .dataframe tbody tr th:only-of-type {\n",
       "        vertical-align: middle;\n",
       "    }\n",
       "\n",
       "    .dataframe tbody tr th {\n",
       "        vertical-align: top;\n",
       "    }\n",
       "\n",
       "    .dataframe thead th {\n",
       "        text-align: right;\n",
       "    }\n",
       "</style>\n",
       "<table border=\"1\" class=\"dataframe\">\n",
       "  <thead>\n",
       "    <tr style=\"text-align: right;\">\n",
       "      <th></th>\n",
       "      <th>MINTFach</th>\n",
       "      <th>Geschlecht</th>\n",
       "      <th>Gründe</th>\n",
       "      <th>polarity</th>\n",
       "      <th>sentiment</th>\n",
       "    </tr>\n",
       "  </thead>\n",
       "  <tbody>\n",
       "    <tr>\n",
       "      <th>350</th>\n",
       "      <td>nein</td>\n",
       "      <td>Weiblich</td>\n",
       "      <td>Nein, immer schon schlecht in Mathe und Physik...</td>\n",
       "      <td>-1.0</td>\n",
       "      <td>very negative</td>\n",
       "    </tr>\n",
       "    <tr>\n",
       "      <th>344</th>\n",
       "      <td>ja</td>\n",
       "      <td>Männlich</td>\n",
       "      <td>Ich habe bereits in sehr vielen verschiedenen ...</td>\n",
       "      <td>-1.0</td>\n",
       "      <td>very negative</td>\n",
       "    </tr>\n",
       "    <tr>\n",
       "      <th>372</th>\n",
       "      <td>nein</td>\n",
       "      <td>Weiblich</td>\n",
       "      <td>Ich habe mich immer zu schlecht eingeschätzt, ...</td>\n",
       "      <td>-1.0</td>\n",
       "      <td>very negative</td>\n",
       "    </tr>\n",
       "    <tr>\n",
       "      <th>399</th>\n",
       "      <td>nein</td>\n",
       "      <td>Weiblich</td>\n",
       "      <td>Ich war schlecht in den meisten Milz Fächern.</td>\n",
       "      <td>-1.0</td>\n",
       "      <td>very negative</td>\n",
       "    </tr>\n",
       "    <tr>\n",
       "      <th>191</th>\n",
       "      <td>nein</td>\n",
       "      <td>Weiblich</td>\n",
       "      <td>Weil Mathe blöd ist. Nein.</td>\n",
       "      <td>-1.0</td>\n",
       "      <td>very negative</td>\n",
       "    </tr>\n",
       "  </tbody>\n",
       "</table>\n",
       "</div>"
      ],
      "text/plain": [
       "    MINTFach Geschlecht                                             Gründe  \\\n",
       "350     nein   Weiblich  Nein, immer schon schlecht in Mathe und Physik...   \n",
       "344       ja   Männlich  Ich habe bereits in sehr vielen verschiedenen ...   \n",
       "372     nein   Weiblich  Ich habe mich immer zu schlecht eingeschätzt, ...   \n",
       "399     nein   Weiblich      Ich war schlecht in den meisten Milz Fächern.   \n",
       "191     nein   Weiblich                         Weil Mathe blöd ist. Nein.   \n",
       "\n",
       "     polarity      sentiment  \n",
       "350      -1.0  very negative  \n",
       "344      -1.0  very negative  \n",
       "372      -1.0  very negative  \n",
       "399      -1.0  very negative  \n",
       "191      -1.0  very negative  "
      ]
     },
     "execution_count": 7,
     "metadata": {},
     "output_type": "execute_result"
    }
   ],
   "source": [
    "reason_df[reason_df.polarity == reason_df.polarity.max()].sample(5)\n",
    "reason_df[reason_df.polarity == reason_df.polarity.min()].sample(5)"
   ]
  },
  {
   "cell_type": "markdown",
   "metadata": {},
   "source": [
    "## Visualisierung"
   ]
  },
  {
   "cell_type": "markdown",
   "metadata": {},
   "source": [
    "### Alle Studenten"
   ]
  },
  {
   "cell_type": "code",
   "execution_count": 8,
   "metadata": {},
   "outputs": [
    {
     "data": {
      "text/plain": [
       "0.2530820105820106"
      ]
     },
     "execution_count": 8,
     "metadata": {},
     "output_type": "execute_result"
    }
   ],
   "source": [
    "#calculate average\n",
    "polarity_sum = reason_df[\"polarity\"].sum()\n",
    "length = len(reason_df.index)\n",
    "average = polarity_sum / length\n",
    "average"
   ]
  },
  {
   "cell_type": "code",
   "execution_count": 9,
   "metadata": {},
   "outputs": [
    {
     "data": {
      "text/plain": [
       "<matplotlib.axes._subplots.AxesSubplot at 0x1a0af09f390>"
      ]
     },
     "execution_count": 9,
     "metadata": {},
     "output_type": "execute_result"
    },
    {
     "data": {
      "text/plain": [
       "sentiment\n",
       "negative          19\n",
       "neutral          265\n",
       "positive          26\n",
       "very negative     27\n",
       "very positive    167\n",
       "Name: sentiment, dtype: int64"
      ]
     },
     "execution_count": 9,
     "metadata": {},
     "output_type": "execute_result"
    },
    {
     "data": {
      "image/png": "[encoded data removed]",
      "text/plain": [
       "<Figure size 576x432 with 1 Axes>"
      ]
     },
     "metadata": {
      "needs_background": "light"
     },
     "output_type": "display_data"
    }
   ],
   "source": [
    "%matplotlib inline\n",
    "\n",
    "import matplotlib.pyplot as plt\n",
    "fig = plt.figure(figsize=(8,6))\n",
    "reason_df.groupby(\"sentiment\")[\"sentiment\"].count().plot.bar(ylim=0);\n",
    "reason_df.groupby(\"sentiment\")[\"sentiment\"].count()"
   ]
  },
  {
   "cell_type": "markdown",
   "metadata": {},
   "source": [
    "### MINT-Studenten"
   ]
  },
  {
   "cell_type": "code",
   "execution_count": 10,
   "metadata": {},
   "outputs": [
    {
     "data": {
      "text/plain": [
       "287"
      ]
     },
     "execution_count": 10,
     "metadata": {},
     "output_type": "execute_result"
    },
    {
     "data": {
      "text/plain": [
       "0.35814169570267135"
      ]
     },
     "execution_count": 10,
     "metadata": {},
     "output_type": "execute_result"
    }
   ],
   "source": [
    "#calculate average of mint\n",
    "mint = reason_df[reason_df['MINTFach'] == \"ja\"]\n",
    "pol_sum_mint = mint[\"polarity\"].sum()\n",
    "length = len(mint.index)\n",
    "length\n",
    "average_mint = pol_sum_mint / length\n",
    "average_mint"
   ]
  },
  {
   "cell_type": "code",
   "execution_count": 11,
   "metadata": {},
   "outputs": [
    {
     "data": {
      "text/plain": [
       "<matplotlib.axes._subplots.AxesSubplot at 0x1a0af075518>"
      ]
     },
     "execution_count": 11,
     "metadata": {},
     "output_type": "execute_result"
    },
    {
     "data": {
      "text/plain": [
       "sentiment\n",
       "neutral          162\n",
       "positive          10\n",
       "very negative      2\n",
       "very positive    113\n",
       "Name: sentiment, dtype: int64"
      ]
     },
     "execution_count": 11,
     "metadata": {},
     "output_type": "execute_result"
    },
    {
     "data": {
      "image/png": "[encoded data removed]",
      "text/plain": [
       "<Figure size 576x432 with 1 Axes>"
      ]
     },
     "metadata": {
      "needs_background": "light"
     },
     "output_type": "display_data"
    }
   ],
   "source": [
    "%matplotlib inline\n",
    "\n",
    "import matplotlib.pyplot as plt\n",
    "fig = plt.figure(figsize=(8,6))\n",
    "mint.groupby(\"sentiment\")[\"sentiment\"].count().plot.bar(ylim=0);\n",
    "mint.groupby(\"sentiment\")[\"sentiment\"].count()"
   ]
  },
  {
   "cell_type": "markdown",
   "metadata": {},
   "source": [
    "### Nicht MINT-Studenten"
   ]
  },
  {
   "cell_type": "code",
   "execution_count": 12,
   "metadata": {},
   "outputs": [
    {
     "data": {
      "text/plain": [
       "217"
      ]
     },
     "execution_count": 12,
     "metadata": {},
     "output_type": "execute_result"
    },
    {
     "data": {
      "text/plain": [
       "0.1141321044546851"
      ]
     },
     "execution_count": 12,
     "metadata": {},
     "output_type": "execute_result"
    }
   ],
   "source": [
    "#calculate average of non mint\n",
    "none_mint = reason_df[reason_df['MINTFach'] == \"nein\"]\n",
    "pol_sum_none_mint = none_mint[\"polarity\"].sum()\n",
    "length = len(none_mint.index)\n",
    "length\n",
    "average_none_mint = pol_sum_none_mint / length\n",
    "average_none_mint"
   ]
  },
  {
   "cell_type": "code",
   "execution_count": 13,
   "metadata": {
    "scrolled": false
   },
   "outputs": [
    {
     "data": {
      "text/plain": [
       "<matplotlib.axes._subplots.AxesSubplot at 0x1a0af099ef0>"
      ]
     },
     "execution_count": 13,
     "metadata": {},
     "output_type": "execute_result"
    },
    {
     "data": {
      "text/plain": [
       "sentiment\n",
       "negative          19\n",
       "neutral          103\n",
       "positive          16\n",
       "very negative     25\n",
       "very positive     54\n",
       "Name: sentiment, dtype: int64"
      ]
     },
     "execution_count": 13,
     "metadata": {},
     "output_type": "execute_result"
    },
    {
     "data": {
      "image/png": "[encoded data removed]",
      "text/plain": [
       "<Figure size 576x432 with 1 Axes>"
      ]
     },
     "metadata": {
      "needs_background": "light"
     },
     "output_type": "display_data"
    }
   ],
   "source": [
    "%matplotlib inline\n",
    "\n",
    "import matplotlib.pyplot as plt\n",
    "fig = plt.figure(figsize=(8,6))\n",
    "none_mint.groupby(\"sentiment\")[\"sentiment\"].count().plot.bar(ylim=0);\n",
    "none_mint.groupby(\"sentiment\")[\"sentiment\"].count()"
   ]
  },
  {
   "cell_type": "markdown",
   "metadata": {},
   "source": [
    "### Frauen"
   ]
  },
  {
   "cell_type": "code",
   "execution_count": 14,
   "metadata": {},
   "outputs": [
    {
     "data": {
      "text/plain": [
       "291"
      ]
     },
     "execution_count": 14,
     "metadata": {},
     "output_type": "execute_result"
    },
    {
     "data": {
      "text/plain": [
       "0.2379266895761741"
      ]
     },
     "execution_count": 14,
     "metadata": {},
     "output_type": "execute_result"
    }
   ],
   "source": [
    "#calculate average of female\n",
    "female = reason_df[reason_df['Geschlecht'] == \"Weiblich\"]\n",
    "pol_sum_female = female[\"polarity\"].sum()\n",
    "length = len(female.index)\n",
    "length\n",
    "average_female = pol_sum_female / length\n",
    "average_female"
   ]
  },
  {
   "cell_type": "code",
   "execution_count": 15,
   "metadata": {
    "scrolled": false
   },
   "outputs": [
    {
     "data": {
      "text/plain": [
       "<matplotlib.axes._subplots.AxesSubplot at 0x1a0af049128>"
      ]
     },
     "execution_count": 15,
     "metadata": {},
     "output_type": "execute_result"
    },
    {
     "data": {
      "text/plain": [
       "sentiment\n",
       "negative          17\n",
       "neutral          137\n",
       "positive          17\n",
       "very negative     20\n",
       "very positive    100\n",
       "Name: sentiment, dtype: int64"
      ]
     },
     "execution_count": 15,
     "metadata": {},
     "output_type": "execute_result"
    },
    {
     "data": {
      "image/png": "[encoded data removed]",
      "text/plain": [
       "<Figure size 576x432 with 1 Axes>"
      ]
     },
     "metadata": {
      "needs_background": "light"
     },
     "output_type": "display_data"
    }
   ],
   "source": [
    "%matplotlib inline\n",
    "\n",
    "import matplotlib.pyplot as plt\n",
    "fig = plt.figure(figsize=(8,6))\n",
    "female.groupby(\"sentiment\")[\"sentiment\"].count().plot.bar(ylim=0);\n",
    "female.groupby(\"sentiment\")[\"sentiment\"].count()"
   ]
  },
  {
   "cell_type": "markdown",
   "metadata": {},
   "source": [
    "### Männer"
   ]
  },
  {
   "cell_type": "code",
   "execution_count": 16,
   "metadata": {},
   "outputs": [
    {
     "data": {
      "text/plain": [
       "212"
      ]
     },
     "execution_count": 16,
     "metadata": {},
     "output_type": "execute_result"
    },
    {
     "data": {
      "text/plain": [
       "0.27507861635220127"
      ]
     },
     "execution_count": 16,
     "metadata": {},
     "output_type": "execute_result"
    }
   ],
   "source": [
    "#calculate average of male\n",
    "male = reason_df[reason_df['Geschlecht'] == \"Männlich\"]\n",
    "pol_sum_male = male[\"polarity\"].sum()\n",
    "length = len(male.index)\n",
    "length\n",
    "average_male = pol_sum_male / length\n",
    "average_male"
   ]
  },
  {
   "cell_type": "code",
   "execution_count": 17,
   "metadata": {
    "scrolled": false
   },
   "outputs": [
    {
     "data": {
      "text/plain": [
       "<matplotlib.axes._subplots.AxesSubplot at 0x1a0af022fd0>"
      ]
     },
     "execution_count": 17,
     "metadata": {},
     "output_type": "execute_result"
    },
    {
     "data": {
      "text/plain": [
       "sentiment\n",
       "negative           2\n",
       "neutral          127\n",
       "positive           9\n",
       "very negative      7\n",
       "very positive     67\n",
       "Name: sentiment, dtype: int64"
      ]
     },
     "execution_count": 17,
     "metadata": {},
     "output_type": "execute_result"
    },
    {
     "data": {
      "image/png": "[encoded data removed]",
      "text/plain": [
       "<Figure size 576x432 with 1 Axes>"
      ]
     },
     "metadata": {
      "needs_background": "light"
     },
     "output_type": "display_data"
    }
   ],
   "source": [
    "%matplotlib inline\n",
    "\n",
    "import matplotlib.pyplot as plt\n",
    "fig = plt.figure(figsize=(8,6))\n",
    "male.groupby(\"sentiment\")[\"sentiment\"].count().plot.bar(ylim=0);\n",
    "male.groupby(\"sentiment\")[\"sentiment\"].count()"
   ]
  },
  {
   "cell_type": "markdown",
   "metadata": {},
   "source": [
    "## Fazit"
   ]
  },
  {
   "cell_type": "markdown",
   "metadata": {},
   "source": [
    "**Allgemein**\n",
    "- Durchschnitt: 0,25\n",
    "- viele neutral (265)\n",
    "- auch viele sehr positiv (167)\n",
    "\n",
    "**MINT**\n",
    "- Durchschnitt: 0,36\n",
    "- sehr viele neutral (162) und sehr positiv (113)\n",
    "- keine negativ und kaum sehr negative (2)\n",
    "\n",
    "**Nicht MINT**\n",
    "- Durchschnitt: 0,11\n",
    "- viele neutral (103)\n",
    "- mehr negative (19) und sehr negative (25) als bei MINT\n",
    "- weniger positiv (16) und sehr positiv (54) als bei MINT\n",
    "\n",
    "**Frauen**\n",
    "- Durchschnitt: 0,24\n",
    "- viele neutral (137) und sehr positiv (100)\n",
    "- mehr positiv (17), negativ (17) und sehr negativ (20) als bei Männern\n",
    "\n",
    "**Männer**\n",
    "- Durchschnitt: 0,28\n",
    "- sehr viele neutral (127) und sehr positiv (67)\n",
    "- kaum positiv (9), negativ (2) und sehr negativ (7)\n",
    "\n",
    "Daraus lässt sich schließen, dass viele MINT-Studenten bei der Frage nach ihren Entscheidungsgründen neutral oder positiv antworten. Im Gegensatz dazu sind die Antworten der nicht MINT-Studenten überwiegend neutral und generell negativer als bei den MINT-Studenten. Dies lässt sich jedoch auch auf die Fragestellung zurückführen, welche nach den Gründen fragte, warum kein MINT-Fach gewählt wurde und nicht, warum das eigene Fach gewählt wurde. Bei der Unterscheidung zwischen Frauen und Männern lässt sich feststellen, dass beide Parteien oft neutral geantwortet haben. Jedoch haben Frauen öfters sehr positive und auch allgemein vom neutralen abweichende Antworten gegeben. Dies bestätigt die These, dass Frauen generell emotionaler schreiben würden."
   ]
  },
  {
   "cell_type": "markdown",
   "metadata": {},
   "source": [
    "# Sentiment Analyse der Verbesserungsvorschläge"
   ]
  },
  {
   "cell_type": "markdown",
   "metadata": {},
   "source": [
    "## Datenvorbereitung"
   ]
  },
  {
   "cell_type": "code",
   "execution_count": 19,
   "metadata": {},
   "outputs": [
    {
     "data": {
      "text/html": [
       "<div>\n",
       "<style scoped>\n",
       "    .dataframe tbody tr th:only-of-type {\n",
       "        vertical-align: middle;\n",
       "    }\n",
       "\n",
       "    .dataframe tbody tr th {\n",
       "        vertical-align: top;\n",
       "    }\n",
       "\n",
       "    .dataframe thead th {\n",
       "        text-align: right;\n",
       "    }\n",
       "</style>\n",
       "<table border=\"1\" class=\"dataframe\">\n",
       "  <thead>\n",
       "    <tr style=\"text-align: right;\">\n",
       "      <th></th>\n",
       "      <th>MINTFach</th>\n",
       "      <th>Geschlecht</th>\n",
       "      <th>Verbesserungsvorschläge</th>\n",
       "    </tr>\n",
       "  </thead>\n",
       "  <tbody>\n",
       "    <tr>\n",
       "      <th>356</th>\n",
       "      <td>ja</td>\n",
       "      <td>Weiblich</td>\n",
       "      <td>MINT-Fächer schon in der Schule attraktiv für ...</td>\n",
       "    </tr>\n",
       "    <tr>\n",
       "      <th>175</th>\n",
       "      <td>nein</td>\n",
       "      <td>Männlich</td>\n",
       "      <td>zugänglicher machen, Gefühl der Abgehobenheit ...</td>\n",
       "    </tr>\n",
       "    <tr>\n",
       "      <th>201</th>\n",
       "      <td>ja</td>\n",
       "      <td>Männlich</td>\n",
       "      <td>Größere Verwendung von modernen Medien, ggf. A...</td>\n",
       "    </tr>\n",
       "    <tr>\n",
       "      <th>96</th>\n",
       "      <td>ja</td>\n",
       "      <td>Männlich</td>\n",
       "      <td>Nein leider nicht. Ich finde es auch nicht not...</td>\n",
       "    </tr>\n",
       "    <tr>\n",
       "      <th>97</th>\n",
       "      <td>nein</td>\n",
       "      <td>Weiblich</td>\n",
       "      <td>Leider nicht.</td>\n",
       "    </tr>\n",
       "  </tbody>\n",
       "</table>\n",
       "</div>"
      ],
      "text/plain": [
       "    MINTFach Geschlecht                            Verbesserungsvorschläge\n",
       "356       ja   Weiblich  MINT-Fächer schon in der Schule attraktiv für ...\n",
       "175     nein   Männlich  zugänglicher machen, Gefühl der Abgehobenheit ...\n",
       "201       ja   Männlich  Größere Verwendung von modernen Medien, ggf. A...\n",
       "96        ja   Männlich  Nein leider nicht. Ich finde es auch nicht not...\n",
       "97      nein   Weiblich                                      Leider nicht."
      ]
     },
     "execution_count": 19,
     "metadata": {},
     "output_type": "execute_result"
    }
   ],
   "source": [
    "import sqlite3\n",
    "import pandas as pd\n",
    "import os.path\n",
    "\n",
    "dbPath = \"database/bachelor_umfrage.db\"\n",
    "\n",
    "def get_sentiment_suggestion_data(table_name=\"sentiment\"):\n",
    "    df = pd.DataFrame()\n",
    "    if os.path.isfile(dbPath):\n",
    "        conn = sqlite3.connect(dbPath)\n",
    "        sql = \"SELECT MINTFach, Geschlecht, Verbesserungsvorschläge FROM \" + table_name\n",
    "        sql += \" WHERE Verbesserungsvorschläge IS NOT NULL\"\n",
    "        df = pd.read_sql_query(sql, conn)\n",
    "    else:\n",
    "        print(\"Datenbank oder Tabelle konnte nicht gefunden werden.\")\n",
    "    return df\n",
    "\n",
    "suggestion_df = get_sentiment_suggestion_data(table_name=\"sentiment\")\n",
    "suggestion_df.sample(5)"
   ]
  },
  {
   "cell_type": "markdown",
   "metadata": {},
   "source": [
    "## Sentiment Analyse"
   ]
  },
  {
   "cell_type": "code",
   "execution_count": 20,
   "metadata": {},
   "outputs": [],
   "source": [
    "from textblob_de import TextBlobDE\n",
    "\n",
    "def get_sentiment_polarity(text):\n",
    "    blob = TextBlobDE(text)\n",
    "\n",
    "    for sentence in blob.sentences:\n",
    "        return sentence.sentiment.polarity"
   ]
  },
  {
   "cell_type": "code",
   "execution_count": 21,
   "metadata": {},
   "outputs": [],
   "source": [
    "polarity_list = []\n",
    "\n",
    "for i, row in suggestion_df.iterrows():\n",
    "    polarity = get_sentiment_polarity(row[\"Verbesserungsvorschläge\"])\n",
    "    polarity_list.append(polarity)\n",
    "    \n",
    "suggestion_df[\"polarity\"] = polarity_list"
   ]
  },
  {
   "cell_type": "code",
   "execution_count": 22,
   "metadata": {},
   "outputs": [
    {
     "data": {
      "text/html": [
       "<div>\n",
       "<style scoped>\n",
       "    .dataframe tbody tr th:only-of-type {\n",
       "        vertical-align: middle;\n",
       "    }\n",
       "\n",
       "    .dataframe tbody tr th {\n",
       "        vertical-align: top;\n",
       "    }\n",
       "\n",
       "    .dataframe thead th {\n",
       "        text-align: right;\n",
       "    }\n",
       "</style>\n",
       "<table border=\"1\" class=\"dataframe\">\n",
       "  <thead>\n",
       "    <tr style=\"text-align: right;\">\n",
       "      <th></th>\n",
       "      <th>MINTFach</th>\n",
       "      <th>Geschlecht</th>\n",
       "      <th>Verbesserungsvorschläge</th>\n",
       "      <th>polarity</th>\n",
       "      <th>sentiment</th>\n",
       "    </tr>\n",
       "  </thead>\n",
       "  <tbody>\n",
       "    <tr>\n",
       "      <th>259</th>\n",
       "      <td>ja</td>\n",
       "      <td>Weiblich</td>\n",
       "      <td>Ich finde man kann in der Schule schon junge M...</td>\n",
       "      <td>1.00</td>\n",
       "      <td>very positive</td>\n",
       "    </tr>\n",
       "    <tr>\n",
       "      <th>312</th>\n",
       "      <td>ja</td>\n",
       "      <td>Weiblich</td>\n",
       "      <td>Praxisunterricht bereits in der Schule</td>\n",
       "      <td>0.00</td>\n",
       "      <td>neutral</td>\n",
       "    </tr>\n",
       "    <tr>\n",
       "      <th>268</th>\n",
       "      <td>ja</td>\n",
       "      <td>Männlich</td>\n",
       "      <td>Ich denke das was viele abschreckt ist die sch...</td>\n",
       "      <td>-0.35</td>\n",
       "      <td>negative</td>\n",
       "    </tr>\n",
       "    <tr>\n",
       "      <th>43</th>\n",
       "      <td>nein</td>\n",
       "      <td>Weiblich</td>\n",
       "      <td>Mehr Motivation zum Lernen schaffen &amp;gt; wenig...</td>\n",
       "      <td>0.50</td>\n",
       "      <td>neutral</td>\n",
       "    </tr>\n",
       "    <tr>\n",
       "      <th>139</th>\n",
       "      <td>ja</td>\n",
       "      <td>Männlich</td>\n",
       "      <td>Die Entscheidung ist eine individuelle, liegt ...</td>\n",
       "      <td>0.00</td>\n",
       "      <td>neutral</td>\n",
       "    </tr>\n",
       "  </tbody>\n",
       "</table>\n",
       "</div>"
      ],
      "text/plain": [
       "    MINTFach Geschlecht                            Verbesserungsvorschläge  \\\n",
       "259       ja   Weiblich  Ich finde man kann in der Schule schon junge M...   \n",
       "312       ja   Weiblich             Praxisunterricht bereits in der Schule   \n",
       "268       ja   Männlich  Ich denke das was viele abschreckt ist die sch...   \n",
       "43      nein   Weiblich  Mehr Motivation zum Lernen schaffen &gt; wenig...   \n",
       "139       ja   Männlich  Die Entscheidung ist eine individuelle, liegt ...   \n",
       "\n",
       "     polarity      sentiment  \n",
       "259      1.00  very positive  \n",
       "312      0.00        neutral  \n",
       "268     -0.35       negative  \n",
       "43       0.50        neutral  \n",
       "139      0.00        neutral  "
      ]
     },
     "execution_count": 22,
     "metadata": {},
     "output_type": "execute_result"
    }
   ],
   "source": [
    "suggestion_df['sentiment'] = suggestion_df.apply(label_polarity, axis=1)\n",
    "suggestion_df.sample(5)"
   ]
  },
  {
   "cell_type": "markdown",
   "metadata": {},
   "source": [
    "Negativster & Positivster Sentiment"
   ]
  },
  {
   "cell_type": "code",
   "execution_count": 23,
   "metadata": {},
   "outputs": [
    {
     "data": {
      "text/html": [
       "<div>\n",
       "<style scoped>\n",
       "    .dataframe tbody tr th:only-of-type {\n",
       "        vertical-align: middle;\n",
       "    }\n",
       "\n",
       "    .dataframe tbody tr th {\n",
       "        vertical-align: top;\n",
       "    }\n",
       "\n",
       "    .dataframe thead th {\n",
       "        text-align: right;\n",
       "    }\n",
       "</style>\n",
       "<table border=\"1\" class=\"dataframe\">\n",
       "  <thead>\n",
       "    <tr style=\"text-align: right;\">\n",
       "      <th></th>\n",
       "      <th>MINTFach</th>\n",
       "      <th>Geschlecht</th>\n",
       "      <th>Verbesserungsvorschläge</th>\n",
       "      <th>polarity</th>\n",
       "      <th>sentiment</th>\n",
       "    </tr>\n",
       "  </thead>\n",
       "  <tbody>\n",
       "    <tr>\n",
       "      <th>212</th>\n",
       "      <td>nein</td>\n",
       "      <td>Weiblich</td>\n",
       "      <td>sympathische Menschen (Lehrer/Dozenten) die MI...</td>\n",
       "      <td>1.0</td>\n",
       "      <td>very positive</td>\n",
       "    </tr>\n",
       "    <tr>\n",
       "      <th>154</th>\n",
       "      <td>ja</td>\n",
       "      <td>Weiblich</td>\n",
       "      <td>Man könnte Möglichkeiten schaffen diese Branch...</td>\n",
       "      <td>1.0</td>\n",
       "      <td>very positive</td>\n",
       "    </tr>\n",
       "    <tr>\n",
       "      <th>185</th>\n",
       "      <td>nein</td>\n",
       "      <td>Weiblich</td>\n",
       "      <td>Den Unterricht an Schulen in den Fächern schon...</td>\n",
       "      <td>1.0</td>\n",
       "      <td>very positive</td>\n",
       "    </tr>\n",
       "    <tr>\n",
       "      <th>111</th>\n",
       "      <td>nein</td>\n",
       "      <td>Weiblich</td>\n",
       "      <td>Genauere Schilderung der möglichen Berufe nach...</td>\n",
       "      <td>1.0</td>\n",
       "      <td>very positive</td>\n",
       "    </tr>\n",
       "    <tr>\n",
       "      <th>44</th>\n",
       "      <td>ja</td>\n",
       "      <td>Männlich</td>\n",
       "      <td>Jene Fächer attraktiver zu Gestalten sieht mei...</td>\n",
       "      <td>1.0</td>\n",
       "      <td>very positive</td>\n",
       "    </tr>\n",
       "  </tbody>\n",
       "</table>\n",
       "</div>"
      ],
      "text/plain": [
       "    MINTFach Geschlecht                            Verbesserungsvorschläge  \\\n",
       "212     nein   Weiblich  sympathische Menschen (Lehrer/Dozenten) die MI...   \n",
       "154       ja   Weiblich  Man könnte Möglichkeiten schaffen diese Branch...   \n",
       "185     nein   Weiblich  Den Unterricht an Schulen in den Fächern schon...   \n",
       "111     nein   Weiblich  Genauere Schilderung der möglichen Berufe nach...   \n",
       "44        ja   Männlich  Jene Fächer attraktiver zu Gestalten sieht mei...   \n",
       "\n",
       "     polarity      sentiment  \n",
       "212       1.0  very positive  \n",
       "154       1.0  very positive  \n",
       "185       1.0  very positive  \n",
       "111       1.0  very positive  \n",
       "44        1.0  very positive  "
      ]
     },
     "execution_count": 23,
     "metadata": {},
     "output_type": "execute_result"
    },
    {
     "data": {
      "text/html": [
       "<div>\n",
       "<style scoped>\n",
       "    .dataframe tbody tr th:only-of-type {\n",
       "        vertical-align: middle;\n",
       "    }\n",
       "\n",
       "    .dataframe tbody tr th {\n",
       "        vertical-align: top;\n",
       "    }\n",
       "\n",
       "    .dataframe thead th {\n",
       "        text-align: right;\n",
       "    }\n",
       "</style>\n",
       "<table border=\"1\" class=\"dataframe\">\n",
       "  <thead>\n",
       "    <tr style=\"text-align: right;\">\n",
       "      <th></th>\n",
       "      <th>MINTFach</th>\n",
       "      <th>Geschlecht</th>\n",
       "      <th>Verbesserungsvorschläge</th>\n",
       "      <th>polarity</th>\n",
       "      <th>sentiment</th>\n",
       "    </tr>\n",
       "  </thead>\n",
       "  <tbody>\n",
       "    <tr>\n",
       "      <th>287</th>\n",
       "      <td>nein</td>\n",
       "      <td>Weiblich</td>\n",
       "      <td>keine Vorschläge, die Fächer haben mich einfac...</td>\n",
       "      <td>-1.0</td>\n",
       "      <td>very negative</td>\n",
       "    </tr>\n",
       "    <tr>\n",
       "      <th>332</th>\n",
       "      <td>nein</td>\n",
       "      <td>Weiblich</td>\n",
       "      <td>Da ich keins dieser Fächer studiere, kann ich ...</td>\n",
       "      <td>-1.0</td>\n",
       "      <td>very negative</td>\n",
       "    </tr>\n",
       "    <tr>\n",
       "      <th>353</th>\n",
       "      <td>ja</td>\n",
       "      <td>Weiblich</td>\n",
       "      <td>Einer der wichtigsten Punkte ist es meiner Mei...</td>\n",
       "      <td>-1.0</td>\n",
       "      <td>very negative</td>\n",
       "    </tr>\n",
       "    <tr>\n",
       "      <th>48</th>\n",
       "      <td>nein</td>\n",
       "      <td>Männlich</td>\n",
       "      <td>Ich finde es schade, dass die Fächer in der Sc...</td>\n",
       "      <td>-1.0</td>\n",
       "      <td>very negative</td>\n",
       "    </tr>\n",
       "    <tr>\n",
       "      <th>68</th>\n",
       "      <td>ja</td>\n",
       "      <td>Männlich</td>\n",
       "      <td>Naturwissenschaften dürfen nicht als 'langweil...</td>\n",
       "      <td>-1.0</td>\n",
       "      <td>very negative</td>\n",
       "    </tr>\n",
       "  </tbody>\n",
       "</table>\n",
       "</div>"
      ],
      "text/plain": [
       "    MINTFach Geschlecht                            Verbesserungsvorschläge  \\\n",
       "287     nein   Weiblich  keine Vorschläge, die Fächer haben mich einfac...   \n",
       "332     nein   Weiblich  Da ich keins dieser Fächer studiere, kann ich ...   \n",
       "353       ja   Weiblich  Einer der wichtigsten Punkte ist es meiner Mei...   \n",
       "48      nein   Männlich  Ich finde es schade, dass die Fächer in der Sc...   \n",
       "68        ja   Männlich  Naturwissenschaften dürfen nicht als 'langweil...   \n",
       "\n",
       "     polarity      sentiment  \n",
       "287      -1.0  very negative  \n",
       "332      -1.0  very negative  \n",
       "353      -1.0  very negative  \n",
       "48       -1.0  very negative  \n",
       "68       -1.0  very negative  "
      ]
     },
     "execution_count": 23,
     "metadata": {},
     "output_type": "execute_result"
    }
   ],
   "source": [
    "suggestion_df[suggestion_df.polarity == suggestion_df.polarity.max()].sample(5)\n",
    "suggestion_df[suggestion_df.polarity == suggestion_df.polarity.min()].sample(5)"
   ]
  },
  {
   "cell_type": "markdown",
   "metadata": {},
   "source": [
    "## Visualisierung"
   ]
  },
  {
   "cell_type": "markdown",
   "metadata": {},
   "source": [
    "### Alle Studenten"
   ]
  },
  {
   "cell_type": "code",
   "execution_count": 24,
   "metadata": {},
   "outputs": [
    {
     "data": {
      "text/plain": [
       "0.11119543650793652"
      ]
     },
     "execution_count": 24,
     "metadata": {},
     "output_type": "execute_result"
    }
   ],
   "source": [
    "#calculate average\n",
    "polarity_sum = suggestion_df[\"polarity\"].sum()\n",
    "length = len(reason_df.index)\n",
    "average = polarity_sum / length\n",
    "average"
   ]
  },
  {
   "cell_type": "code",
   "execution_count": 25,
   "metadata": {},
   "outputs": [
    {
     "data": {
      "text/plain": [
       "<matplotlib.axes._subplots.AxesSubplot at 0x1a0aefe7d68>"
      ]
     },
     "execution_count": 25,
     "metadata": {},
     "output_type": "execute_result"
    },
    {
     "data": {
      "text/plain": [
       "sentiment\n",
       "negative           4\n",
       "neutral          248\n",
       "positive          20\n",
       "very negative     19\n",
       "very positive     75\n",
       "Name: sentiment, dtype: int64"
      ]
     },
     "execution_count": 25,
     "metadata": {},
     "output_type": "execute_result"
    },
    {
     "data": {
      "image/png": "[encoded data removed]",
      "text/plain": [
       "<Figure size 576x432 with 1 Axes>"
      ]
     },
     "metadata": {
      "needs_background": "light"
     },
     "output_type": "display_data"
    }
   ],
   "source": [
    "%matplotlib inline\n",
    "\n",
    "import matplotlib.pyplot as plt\n",
    "fig = plt.figure(figsize=(8,6))\n",
    "suggestion_df.groupby(\"sentiment\")[\"sentiment\"].count().plot.bar(ylim=0);\n",
    "suggestion_df.groupby(\"sentiment\")[\"sentiment\"].count()"
   ]
  },
  {
   "cell_type": "markdown",
   "metadata": {},
   "source": [
    "### MINT-Studenten"
   ]
  },
  {
   "cell_type": "code",
   "execution_count": 26,
   "metadata": {},
   "outputs": [
    {
     "data": {
      "text/plain": [
       "212"
      ]
     },
     "execution_count": 26,
     "metadata": {},
     "output_type": "execute_result"
    },
    {
     "data": {
      "text/plain": [
       "0.13543632075471698"
      ]
     },
     "execution_count": 26,
     "metadata": {},
     "output_type": "execute_result"
    }
   ],
   "source": [
    "#calculate average of mint\n",
    "mint = suggestion_df[suggestion_df['MINTFach'] == \"ja\"]\n",
    "pol_sum_mint = mint[\"polarity\"].sum()\n",
    "length = len(mint.index)\n",
    "length\n",
    "average_mint = pol_sum_mint / length\n",
    "average_mint"
   ]
  },
  {
   "cell_type": "code",
   "execution_count": 27,
   "metadata": {},
   "outputs": [
    {
     "data": {
      "text/plain": [
       "<matplotlib.axes._subplots.AxesSubplot at 0x1a0af025438>"
      ]
     },
     "execution_count": 27,
     "metadata": {},
     "output_type": "execute_result"
    },
    {
     "data": {
      "text/plain": [
       "sentiment\n",
       "negative           3\n",
       "neutral          148\n",
       "positive          10\n",
       "very negative     11\n",
       "very positive     40\n",
       "Name: sentiment, dtype: int64"
      ]
     },
     "execution_count": 27,
     "metadata": {},
     "output_type": "execute_result"
    },
    {
     "data": {
      "image/png": "[encoded data removed]",
      "text/plain": [
       "<Figure size 576x432 with 1 Axes>"
      ]
     },
     "metadata": {
      "needs_background": "light"
     },
     "output_type": "display_data"
    }
   ],
   "source": [
    "%matplotlib inline\n",
    "\n",
    "import matplotlib.pyplot as plt\n",
    "fig = plt.figure(figsize=(8,6))\n",
    "mint.groupby(\"sentiment\")[\"sentiment\"].count().plot.bar(ylim=0);\n",
    "mint.groupby(\"sentiment\")[\"sentiment\"].count()"
   ]
  },
  {
   "cell_type": "markdown",
   "metadata": {},
   "source": [
    "### Nicht MINT-Studenten"
   ]
  },
  {
   "cell_type": "code",
   "execution_count": 28,
   "metadata": {},
   "outputs": [
    {
     "data": {
      "text/plain": [
       "154"
      ]
     },
     "execution_count": 28,
     "metadata": {},
     "output_type": "execute_result"
    },
    {
     "data": {
      "text/plain": [
       "0.17746753246753247"
      ]
     },
     "execution_count": 28,
     "metadata": {},
     "output_type": "execute_result"
    }
   ],
   "source": [
    "#calculate average of non mint\n",
    "none_mint = suggestion_df[suggestion_df['MINTFach'] == \"nein\"]\n",
    "pol_sum_none_mint = none_mint[\"polarity\"].sum()\n",
    "length = len(none_mint.index)\n",
    "length\n",
    "average_none_mint = pol_sum_none_mint / length\n",
    "average_none_mint"
   ]
  },
  {
   "cell_type": "code",
   "execution_count": 29,
   "metadata": {},
   "outputs": [
    {
     "data": {
      "text/plain": [
       "<matplotlib.axes._subplots.AxesSubplot at 0x1a0aef980b8>"
      ]
     },
     "execution_count": 29,
     "metadata": {},
     "output_type": "execute_result"
    },
    {
     "data": {
      "text/plain": [
       "sentiment\n",
       "negative           1\n",
       "neutral          100\n",
       "positive          10\n",
       "very negative      8\n",
       "very positive     35\n",
       "Name: sentiment, dtype: int64"
      ]
     },
     "execution_count": 29,
     "metadata": {},
     "output_type": "execute_result"
    },
    {
     "data": {
      "image/png": "[encoded data removed]",
      "text/plain": [
       "<Figure size 576x432 with 1 Axes>"
      ]
     },
     "metadata": {
      "needs_background": "light"
     },
     "output_type": "display_data"
    }
   ],
   "source": [
    "%matplotlib inline\n",
    "\n",
    "import matplotlib.pyplot as plt\n",
    "fig = plt.figure(figsize=(8,6))\n",
    "none_mint.groupby(\"sentiment\")[\"sentiment\"].count().plot.bar(ylim=0);\n",
    "none_mint.groupby(\"sentiment\")[\"sentiment\"].count()"
   ]
  },
  {
   "cell_type": "markdown",
   "metadata": {},
   "source": [
    "### Frauen"
   ]
  },
  {
   "cell_type": "code",
   "execution_count": 30,
   "metadata": {},
   "outputs": [
    {
     "data": {
      "text/plain": [
       "204"
      ]
     },
     "execution_count": 30,
     "metadata": {},
     "output_type": "execute_result"
    },
    {
     "data": {
      "text/plain": [
       "0.19834558823529408"
      ]
     },
     "execution_count": 30,
     "metadata": {},
     "output_type": "execute_result"
    }
   ],
   "source": [
    "#calculate average of female\n",
    "female = suggestion_df[suggestion_df['Geschlecht'] == \"Weiblich\"]\n",
    "pol_sum_female = female[\"polarity\"].sum()\n",
    "length = len(female.index)\n",
    "length\n",
    "average_female = pol_sum_female / length\n",
    "average_female"
   ]
  },
  {
   "cell_type": "code",
   "execution_count": 31,
   "metadata": {
    "scrolled": false
   },
   "outputs": [
    {
     "data": {
      "text/plain": [
       "<matplotlib.axes._subplots.AxesSubplot at 0x1a0aef86cc0>"
      ]
     },
     "execution_count": 31,
     "metadata": {},
     "output_type": "execute_result"
    },
    {
     "data": {
      "text/plain": [
       "sentiment\n",
       "negative           1\n",
       "neutral          132\n",
       "positive          14\n",
       "very negative      8\n",
       "very positive     49\n",
       "Name: sentiment, dtype: int64"
      ]
     },
     "execution_count": 31,
     "metadata": {},
     "output_type": "execute_result"
    },
    {
     "data": {
      "image/png": "[encoded data removed]",
      "text/plain": [
       "<Figure size 576x432 with 1 Axes>"
      ]
     },
     "metadata": {
      "needs_background": "light"
     },
     "output_type": "display_data"
    }
   ],
   "source": [
    "%matplotlib inline\n",
    "\n",
    "import matplotlib.pyplot as plt\n",
    "fig = plt.figure(figsize=(8,6))\n",
    "female.groupby(\"sentiment\")[\"sentiment\"].count().plot.bar(ylim=0);\n",
    "female.groupby(\"sentiment\")[\"sentiment\"].count()"
   ]
  },
  {
   "cell_type": "markdown",
   "metadata": {},
   "source": [
    "### Männer"
   ]
  },
  {
   "cell_type": "code",
   "execution_count": 32,
   "metadata": {},
   "outputs": [
    {
     "data": {
      "text/plain": [
       "161"
      ]
     },
     "execution_count": 32,
     "metadata": {},
     "output_type": "execute_result"
    },
    {
     "data": {
      "text/plain": [
       "0.09677018633540371"
      ]
     },
     "execution_count": 32,
     "metadata": {},
     "output_type": "execute_result"
    }
   ],
   "source": [
    "#calculate average of male\n",
    "male = suggestion_df[suggestion_df['Geschlecht'] == \"Männlich\"]\n",
    "pol_sum_male = male[\"polarity\"].sum()\n",
    "length = len(male.index)\n",
    "length\n",
    "average_male = pol_sum_male / length\n",
    "average_male"
   ]
  },
  {
   "cell_type": "code",
   "execution_count": 33,
   "metadata": {
    "scrolled": false
   },
   "outputs": [
    {
     "data": {
      "text/plain": [
       "<matplotlib.axes._subplots.AxesSubplot at 0x1a0aef515c0>"
      ]
     },
     "execution_count": 33,
     "metadata": {},
     "output_type": "execute_result"
    },
    {
     "data": {
      "text/plain": [
       "sentiment\n",
       "negative           3\n",
       "neutral          115\n",
       "positive           6\n",
       "very negative     11\n",
       "very positive     26\n",
       "Name: sentiment, dtype: int64"
      ]
     },
     "execution_count": 33,
     "metadata": {},
     "output_type": "execute_result"
    },
    {
     "data": {
      "image/png": "[encoded data removed]",
      "text/plain": [
       "<Figure size 576x432 with 1 Axes>"
      ]
     },
     "metadata": {
      "needs_background": "light"
     },
     "output_type": "display_data"
    }
   ],
   "source": [
    "%matplotlib inline\n",
    "\n",
    "import matplotlib.pyplot as plt\n",
    "fig = plt.figure(figsize=(8,6))\n",
    "male.groupby(\"sentiment\")[\"sentiment\"].count().plot.bar(ylim=0);\n",
    "male.groupby(\"sentiment\")[\"sentiment\"].count()"
   ]
  },
  {
   "cell_type": "markdown",
   "metadata": {},
   "source": [
    "## Fazit"
   ]
  },
  {
   "cell_type": "markdown",
   "metadata": {},
   "source": [
    "**Allgemein**\n",
    "- Durchschnitt: 0,11\n",
    "- sehr viele neutral (248)\n",
    "- auch einige sehr positiv (75)\n",
    "\n",
    "**MINT**\n",
    "- Durchschnitt: 0,14\n",
    "- sehr viele neutral (148) \n",
    "- einige sehr positiv (40)\n",
    "\n",
    "**Nicht MINT**\n",
    "- Durchschnitt: 0,18\n",
    "- viele neutral (100)\n",
    "- einige sehr positiv (35)\n",
    "\n",
    "**Frauen**\n",
    "- Durchschnitt: 0,20\n",
    "- viele neutral (132)\n",
    "- einige sehr positiv (49)\n",
    "- mehr positiv (14) als bei Männern\n",
    "\n",
    "**Männer**\n",
    "- Durchschnitt: 0,10\n",
    "- sehr viele neutral (115)\n",
    "- etwas mehr negativ (3) und sehr negativ (11) als bei Frauen\n",
    "\n",
    "Daraus lässt sich schließen, dass die Verbesserungsvorschläge in allen Gruppen überwoegend neutral formuliert wurden. Die Ergebnisse von MINT- und nicht MINT-Studenten sind sehr ähnlich. Beim Vergleich von Frauen und Männern ist festzustellen, dass die Frauen generell neutraler oder positiver antworten. Bei beiden überwiegen jedoch erneut neutrale Formulierungen."
   ]
  }
 ],
 "metadata": {
  "kernelspec": {
   "display_name": "Python 3",
   "language": "python",
   "name": "python3"
  },
  "language_info": {
   "codemirror_mode": {
    "name": "ipython",
    "version": 3
   },
   "file_extension": ".py",
   "mimetype": "text/x-python",
   "name": "python",
   "nbconvert_exporter": "python",
   "pygments_lexer": "ipython3",
   "version": "3.7.1"
  },
  "toc": {
   "base_numbering": 1,
   "nav_menu": {},
   "number_sections": true,
   "sideBar": true,
   "skip_h1_title": false,
   "title_cell": "Table of Contents",
   "title_sidebar": "Contents",
   "toc_cell": true,
   "toc_position": {},
   "toc_section_display": true,
   "toc_window_display": true
  },
  "varInspector": {
   "cols": {
    "lenName": 16,
    "lenType": 16,
    "lenVar": 40
   },
   "kernels_config": {
    "python": {
     "delete_cmd_postfix": "",
     "delete_cmd_prefix": "del ",
     "library": "var_list.py",
     "varRefreshCmd": "print(var_dic_list())"
    },
    "r": {
     "delete_cmd_postfix": ") ",
     "delete_cmd_prefix": "rm(",
     "library": "var_list.r",
     "varRefreshCmd": "cat(var_dic_list()) "
    }
   },
   "types_to_exclude": [
    "module",
    "function",
    "builtin_function_or_method",
    "instance",
    "_Feature"
   ],
   "window_display": false
  }
 },
 "nbformat": 4,
 "nbformat_minor": 2
}
