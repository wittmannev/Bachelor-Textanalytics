{
 "cells": [
  {
   "cell_type": "markdown",
   "metadata": {
    "toc": true
   },
   "source": [
    "<h1>Table of Contents<span class=\"tocSkip\"></span></h1>\n",
    "<div class=\"toc\"><ul class=\"toc-item\"><li><span><a href=\"#Sentiment-Analyse-der-Entscheidungsgründe\" data-toc-modified-id=\"Sentiment-Analyse-der-Entscheidungsgründe-1\"><span class=\"toc-item-num\">1&nbsp;&nbsp;</span>Sentiment Analyse der Entscheidungsgründe</a></span><ul class=\"toc-item\"><li><span><a href=\"#Datenvorbereitung\" data-toc-modified-id=\"Datenvorbereitung-1.1\"><span class=\"toc-item-num\">1.1&nbsp;&nbsp;</span>Datenvorbereitung</a></span></li><li><span><a href=\"#Sentiment-Analyse\" data-toc-modified-id=\"Sentiment-Analyse-1.2\"><span class=\"toc-item-num\">1.2&nbsp;&nbsp;</span>Sentiment Analyse</a></span></li><li><span><a href=\"#Visualisierung\" data-toc-modified-id=\"Visualisierung-1.3\"><span class=\"toc-item-num\">1.3&nbsp;&nbsp;</span>Visualisierung</a></span><ul class=\"toc-item\"><li><span><a href=\"#Alle-Studenten\" data-toc-modified-id=\"Alle-Studenten-1.3.1\"><span class=\"toc-item-num\">1.3.1&nbsp;&nbsp;</span>Alle Studenten</a></span></li><li><span><a href=\"#MINT-Studenten\" data-toc-modified-id=\"MINT-Studenten-1.3.2\"><span class=\"toc-item-num\">1.3.2&nbsp;&nbsp;</span>MINT-Studenten</a></span></li><li><span><a href=\"#Nicht-MINT-Studenten\" data-toc-modified-id=\"Nicht-MINT-Studenten-1.3.3\"><span class=\"toc-item-num\">1.3.3&nbsp;&nbsp;</span>Nicht MINT-Studenten</a></span></li><li><span><a href=\"#Frauen\" data-toc-modified-id=\"Frauen-1.3.4\"><span class=\"toc-item-num\">1.3.4&nbsp;&nbsp;</span>Frauen</a></span></li><li><span><a href=\"#Männer\" data-toc-modified-id=\"Männer-1.3.5\"><span class=\"toc-item-num\">1.3.5&nbsp;&nbsp;</span>Männer</a></span></li></ul></li><li><span><a href=\"#Fazit\" data-toc-modified-id=\"Fazit-1.4\"><span class=\"toc-item-num\">1.4&nbsp;&nbsp;</span>Fazit</a></span></li></ul></li><li><span><a href=\"#Sentiment-Analyse-der-Verbesserungsvorschläge\" data-toc-modified-id=\"Sentiment-Analyse-der-Verbesserungsvorschläge-2\"><span class=\"toc-item-num\">2&nbsp;&nbsp;</span>Sentiment Analyse der Verbesserungsvorschläge</a></span><ul class=\"toc-item\"><li><span><a href=\"#Datenvorbereitung\" data-toc-modified-id=\"Datenvorbereitung-2.1\"><span class=\"toc-item-num\">2.1&nbsp;&nbsp;</span>Datenvorbereitung</a></span></li><li><span><a href=\"#Sentiment-Analyse\" data-toc-modified-id=\"Sentiment-Analyse-2.2\"><span class=\"toc-item-num\">2.2&nbsp;&nbsp;</span>Sentiment Analyse</a></span></li><li><span><a href=\"#Visualisierung\" data-toc-modified-id=\"Visualisierung-2.3\"><span class=\"toc-item-num\">2.3&nbsp;&nbsp;</span>Visualisierung</a></span><ul class=\"toc-item\"><li><span><a href=\"#Alle-Studenten\" data-toc-modified-id=\"Alle-Studenten-2.3.1\"><span class=\"toc-item-num\">2.3.1&nbsp;&nbsp;</span>Alle Studenten</a></span></li><li><span><a href=\"#MINT-Studenten\" data-toc-modified-id=\"MINT-Studenten-2.3.2\"><span class=\"toc-item-num\">2.3.2&nbsp;&nbsp;</span>MINT-Studenten</a></span></li><li><span><a href=\"#Nicht-MINT-Studenten\" data-toc-modified-id=\"Nicht-MINT-Studenten-2.3.3\"><span class=\"toc-item-num\">2.3.3&nbsp;&nbsp;</span>Nicht MINT-Studenten</a></span></li><li><span><a href=\"#Frauen\" data-toc-modified-id=\"Frauen-2.3.4\"><span class=\"toc-item-num\">2.3.4&nbsp;&nbsp;</span>Frauen</a></span></li><li><span><a href=\"#Männer\" data-toc-modified-id=\"Männer-2.3.5\"><span class=\"toc-item-num\">2.3.5&nbsp;&nbsp;</span>Männer</a></span></li></ul></li><li><span><a href=\"#Fazit\" data-toc-modified-id=\"Fazit-2.4\"><span class=\"toc-item-num\">2.4&nbsp;&nbsp;</span>Fazit</a></span></li></ul></li></ul></div>"
   ]
  },
  {
   "cell_type": "markdown",
   "metadata": {},
   "source": [
    "Hilfsfunktionen & Einstellungen"
   ]
  },
  {
   "cell_type": "code",
   "execution_count": 1,
   "metadata": {},
   "outputs": [],
   "source": [
    "# for pretty printing\n",
    "import pprint as pp\n",
    "\n",
    "# IPython (Jupyter) setting: \n",
    "# Print out every value instead of just \"last_expr\" (default)\n",
    "from IPython.core.interactiveshell import InteractiveShell\n",
    "InteractiveShell.ast_node_interactivity = \"all\""
   ]
  },
  {
   "cell_type": "markdown",
   "metadata": {},
   "source": [
    "# Sentiment Analyse der Entscheidungsgründe"
   ]
  },
  {
   "cell_type": "markdown",
   "metadata": {},
   "source": [
    "## Datenvorbereitung"
   ]
  },
  {
   "cell_type": "code",
   "execution_count": 2,
   "metadata": {},
   "outputs": [
    {
     "data": {
      "text/html": [
       "<div>\n",
       "<style scoped>\n",
       "    .dataframe tbody tr th:only-of-type {\n",
       "        vertical-align: middle;\n",
       "    }\n",
       "\n",
       "    .dataframe tbody tr th {\n",
       "        vertical-align: top;\n",
       "    }\n",
       "\n",
       "    .dataframe thead th {\n",
       "        text-align: right;\n",
       "    }\n",
       "</style>\n",
       "<table border=\"1\" class=\"dataframe\">\n",
       "  <thead>\n",
       "    <tr style=\"text-align: right;\">\n",
       "      <th></th>\n",
       "      <th>MINTFach</th>\n",
       "      <th>Geschlecht</th>\n",
       "      <th>Gründe</th>\n",
       "    </tr>\n",
       "  </thead>\n",
       "  <tbody>\n",
       "    <tr>\n",
       "      <th>30</th>\n",
       "      <td>ja</td>\n",
       "      <td>Männlich</td>\n",
       "      <td>Schon immer kompetenter in naturwissenschaftli...</td>\n",
       "    </tr>\n",
       "    <tr>\n",
       "      <th>81</th>\n",
       "      <td>ja</td>\n",
       "      <td>Männlich</td>\n",
       "      <td>Großes Interesse an Naturwissenschaften. Nähe ...</td>\n",
       "    </tr>\n",
       "    <tr>\n",
       "      <th>249</th>\n",
       "      <td>nein</td>\n",
       "      <td>Weiblich</td>\n",
       "      <td>Für ein MINT Fach fehlt mir Talent.</td>\n",
       "    </tr>\n",
       "    <tr>\n",
       "      <th>321</th>\n",
       "      <td>ja</td>\n",
       "      <td>Weiblich</td>\n",
       "      <td>spaß und Interesse am Programmieren, Ich kann ...</td>\n",
       "    </tr>\n",
       "    <tr>\n",
       "      <th>253</th>\n",
       "      <td>ja</td>\n",
       "      <td>Männlich</td>\n",
       "      <td>Die Möglichkeit, in die Forschung gehen zu kön...</td>\n",
       "    </tr>\n",
       "  </tbody>\n",
       "</table>\n",
       "</div>"
      ],
      "text/plain": [
       "    MINTFach Geschlecht                                             Gründe\n",
       "30        ja   Männlich  Schon immer kompetenter in naturwissenschaftli...\n",
       "81        ja   Männlich  Großes Interesse an Naturwissenschaften. Nähe ...\n",
       "249     nein   Weiblich                Für ein MINT Fach fehlt mir Talent.\n",
       "321       ja   Weiblich  spaß und Interesse am Programmieren, Ich kann ...\n",
       "253       ja   Männlich  Die Möglichkeit, in die Forschung gehen zu kön..."
      ]
     },
     "execution_count": 2,
     "metadata": {},
     "output_type": "execute_result"
    }
   ],
   "source": [
    "import sqlite3\n",
    "import pandas as pd\n",
    "import os.path\n",
    "\n",
    "dbPath = \"database/bachelor_umfrage.db\"\n",
    "\n",
    "def get_sentiment_reason_data(table_name=\"sentiment\"):\n",
    "    df = pd.DataFrame()\n",
    "    if os.path.isfile(dbPath):\n",
    "        conn = sqlite3.connect(dbPath)\n",
    "        sql = \"SELECT MINTFach, Geschlecht, Gründe FROM \" + table_name\n",
    "        sql += \" WHERE Gründe IS NOT NULL\"\n",
    "        df = pd.read_sql_query(sql, conn)\n",
    "    else:\n",
    "        print(\"Datenbank oder Tabelle konnte nicht gefunden werden.\")\n",
    "    return df\n",
    "\n",
    "reason_df = get_sentiment_reason_data(table_name=\"sentiment\")\n",
    "reason_df.sample(5)"
   ]
  },
  {
   "cell_type": "markdown",
   "metadata": {},
   "source": [
    "## Sentiment Analyse"
   ]
  },
  {
   "cell_type": "code",
   "execution_count": 3,
   "metadata": {},
   "outputs": [],
   "source": [
    "from textblob_de import TextBlobDE\n",
    "\n",
    "def get_sentiment(text):\n",
    "    blob = TextBlobDE(text)\n",
    "    return blob.sentiment"
   ]
  },
  {
   "cell_type": "code",
   "execution_count": 4,
   "metadata": {},
   "outputs": [],
   "source": [
    "polarity_list = []\n",
    "\n",
    "for i, row in reason_df.iterrows():\n",
    "    (polarity, _) = get_sentiment(row[\"Gründe\"])\n",
    "    polarity_list.append(polarity)\n",
    "    \n",
    "reason_df[\"polarity\"] = polarity_list"
   ]
  },
  {
   "cell_type": "code",
   "execution_count": 5,
   "metadata": {},
   "outputs": [
    {
     "data": {
      "text/html": [
       "<div>\n",
       "<style scoped>\n",
       "    .dataframe tbody tr th:only-of-type {\n",
       "        vertical-align: middle;\n",
       "    }\n",
       "\n",
       "    .dataframe tbody tr th {\n",
       "        vertical-align: top;\n",
       "    }\n",
       "\n",
       "    .dataframe thead th {\n",
       "        text-align: right;\n",
       "    }\n",
       "</style>\n",
       "<table border=\"1\" class=\"dataframe\">\n",
       "  <thead>\n",
       "    <tr style=\"text-align: right;\">\n",
       "      <th></th>\n",
       "      <th>MINTFach</th>\n",
       "      <th>Geschlecht</th>\n",
       "      <th>Gründe</th>\n",
       "      <th>polarity</th>\n",
       "      <th>sentiment</th>\n",
       "    </tr>\n",
       "  </thead>\n",
       "  <tbody>\n",
       "    <tr>\n",
       "      <th>369</th>\n",
       "      <td>ja</td>\n",
       "      <td>Männlich</td>\n",
       "      <td>Häufig eher die Möglichkeit mit weniger Arbeit...</td>\n",
       "      <td>0.350000</td>\n",
       "      <td>positive</td>\n",
       "    </tr>\n",
       "    <tr>\n",
       "      <th>326</th>\n",
       "      <td>ja</td>\n",
       "      <td>Männlich</td>\n",
       "      <td>Wahrscheinlich gehöre ich zu den Wenigen, die ...</td>\n",
       "      <td>0.933333</td>\n",
       "      <td>very positive</td>\n",
       "    </tr>\n",
       "    <tr>\n",
       "      <th>155</th>\n",
       "      <td>nein</td>\n",
       "      <td>Weiblich</td>\n",
       "      <td>Da ich keinerlei Talent für naturwissenschaftl...</td>\n",
       "      <td>-1.000000</td>\n",
       "      <td>very negative</td>\n",
       "    </tr>\n",
       "    <tr>\n",
       "      <th>110</th>\n",
       "      <td>nein</td>\n",
       "      <td>Weiblich</td>\n",
       "      <td>Ich bin zeichnerisch begabt, sehr kreativ und ...</td>\n",
       "      <td>0.333333</td>\n",
       "      <td>positive</td>\n",
       "    </tr>\n",
       "    <tr>\n",
       "      <th>446</th>\n",
       "      <td>ja</td>\n",
       "      <td>Männlich</td>\n",
       "      <td>Mathematische/technische Interessen und manche...</td>\n",
       "      <td>0.000000</td>\n",
       "      <td>neutral</td>\n",
       "    </tr>\n",
       "  </tbody>\n",
       "</table>\n",
       "</div>"
      ],
      "text/plain": [
       "    MINTFach Geschlecht                                             Gründe  \\\n",
       "369       ja   Männlich  Häufig eher die Möglichkeit mit weniger Arbeit...   \n",
       "326       ja   Männlich  Wahrscheinlich gehöre ich zu den Wenigen, die ...   \n",
       "155     nein   Weiblich  Da ich keinerlei Talent für naturwissenschaftl...   \n",
       "110     nein   Weiblich  Ich bin zeichnerisch begabt, sehr kreativ und ...   \n",
       "446       ja   Männlich  Mathematische/technische Interessen und manche...   \n",
       "\n",
       "     polarity      sentiment  \n",
       "369  0.350000       positive  \n",
       "326  0.933333  very positive  \n",
       "155 -1.000000  very negative  \n",
       "110  0.333333       positive  \n",
       "446  0.000000        neutral  "
      ]
     },
     "execution_count": 5,
     "metadata": {},
     "output_type": "execute_result"
    }
   ],
   "source": [
    "def label_polarity (row):\n",
    "    if row['polarity'] > 0.5 :\n",
    "        return 'very positive'\n",
    "    elif row['polarity'] < 0.5 and row['polarity'] > 0 :\n",
    "        return 'positive'\n",
    "    elif row['polarity'] > -0.5 and row['polarity'] < 0 :\n",
    "        return 'negative'\n",
    "    elif row['polarity'] < -0.5 :\n",
    "        return 'very negative'\n",
    "    else:\n",
    "        return 'neutral'\n",
    "\n",
    "reason_df['sentiment'] = reason_df.apply(label_polarity, axis=1)\n",
    "reason_df.sample(5)"
   ]
  },
  {
   "cell_type": "markdown",
   "metadata": {},
   "source": [
    "Negativster & Positivster Sentiment"
   ]
  },
  {
   "cell_type": "code",
   "execution_count": 6,
   "metadata": {},
   "outputs": [
    {
     "data": {
      "text/html": [
       "<div>\n",
       "<style scoped>\n",
       "    .dataframe tbody tr th:only-of-type {\n",
       "        vertical-align: middle;\n",
       "    }\n",
       "\n",
       "    .dataframe tbody tr th {\n",
       "        vertical-align: top;\n",
       "    }\n",
       "\n",
       "    .dataframe thead th {\n",
       "        text-align: right;\n",
       "    }\n",
       "</style>\n",
       "<table border=\"1\" class=\"dataframe\">\n",
       "  <thead>\n",
       "    <tr style=\"text-align: right;\">\n",
       "      <th></th>\n",
       "      <th>MINTFach</th>\n",
       "      <th>Geschlecht</th>\n",
       "      <th>Gründe</th>\n",
       "      <th>polarity</th>\n",
       "      <th>sentiment</th>\n",
       "    </tr>\n",
       "  </thead>\n",
       "  <tbody>\n",
       "    <tr>\n",
       "      <th>151</th>\n",
       "      <td>ja</td>\n",
       "      <td>Weiblich</td>\n",
       "      <td>Zur Schulzeit waren grundsätzlich die Naturwis...</td>\n",
       "      <td>1.0</td>\n",
       "      <td>very positive</td>\n",
       "    </tr>\n",
       "    <tr>\n",
       "      <th>479</th>\n",
       "      <td>ja</td>\n",
       "      <td>Männlich</td>\n",
       "      <td>Mathe und Physik macht Spaß., Tüfteln und Knob...</td>\n",
       "      <td>1.0</td>\n",
       "      <td>very positive</td>\n",
       "    </tr>\n",
       "    <tr>\n",
       "      <th>111</th>\n",
       "      <td>ja</td>\n",
       "      <td>Männlich</td>\n",
       "      <td>Allgemeines Interesse in Technik und Naturwiss...</td>\n",
       "      <td>1.0</td>\n",
       "      <td>very positive</td>\n",
       "    </tr>\n",
       "  </tbody>\n",
       "</table>\n",
       "</div>"
      ],
      "text/plain": [
       "    MINTFach Geschlecht                                             Gründe  \\\n",
       "151       ja   Weiblich  Zur Schulzeit waren grundsätzlich die Naturwis...   \n",
       "479       ja   Männlich  Mathe und Physik macht Spaß., Tüfteln und Knob...   \n",
       "111       ja   Männlich  Allgemeines Interesse in Technik und Naturwiss...   \n",
       "\n",
       "     polarity      sentiment  \n",
       "151       1.0  very positive  \n",
       "479       1.0  very positive  \n",
       "111       1.0  very positive  "
      ]
     },
     "execution_count": 6,
     "metadata": {},
     "output_type": "execute_result"
    },
    {
     "data": {
      "text/html": [
       "<div>\n",
       "<style scoped>\n",
       "    .dataframe tbody tr th:only-of-type {\n",
       "        vertical-align: middle;\n",
       "    }\n",
       "\n",
       "    .dataframe tbody tr th {\n",
       "        vertical-align: top;\n",
       "    }\n",
       "\n",
       "    .dataframe thead th {\n",
       "        text-align: right;\n",
       "    }\n",
       "</style>\n",
       "<table border=\"1\" class=\"dataframe\">\n",
       "  <thead>\n",
       "    <tr style=\"text-align: right;\">\n",
       "      <th></th>\n",
       "      <th>MINTFach</th>\n",
       "      <th>Geschlecht</th>\n",
       "      <th>Gründe</th>\n",
       "      <th>polarity</th>\n",
       "      <th>sentiment</th>\n",
       "    </tr>\n",
       "  </thead>\n",
       "  <tbody>\n",
       "    <tr>\n",
       "      <th>155</th>\n",
       "      <td>nein</td>\n",
       "      <td>Weiblich</td>\n",
       "      <td>Da ich keinerlei Talent für naturwissenschaftl...</td>\n",
       "      <td>-1.0</td>\n",
       "      <td>very negative</td>\n",
       "    </tr>\n",
       "    <tr>\n",
       "      <th>372</th>\n",
       "      <td>nein</td>\n",
       "      <td>Weiblich</td>\n",
       "      <td>Ich habe mich immer zu schlecht eingeschätzt, ...</td>\n",
       "      <td>-1.0</td>\n",
       "      <td>very negative</td>\n",
       "    </tr>\n",
       "    <tr>\n",
       "      <th>399</th>\n",
       "      <td>nein</td>\n",
       "      <td>Weiblich</td>\n",
       "      <td>Ich war schlecht in den meisten Milz Fächern.</td>\n",
       "      <td>-1.0</td>\n",
       "      <td>very negative</td>\n",
       "    </tr>\n",
       "  </tbody>\n",
       "</table>\n",
       "</div>"
      ],
      "text/plain": [
       "    MINTFach Geschlecht                                             Gründe  \\\n",
       "155     nein   Weiblich  Da ich keinerlei Talent für naturwissenschaftl...   \n",
       "372     nein   Weiblich  Ich habe mich immer zu schlecht eingeschätzt, ...   \n",
       "399     nein   Weiblich      Ich war schlecht in den meisten Milz Fächern.   \n",
       "\n",
       "     polarity      sentiment  \n",
       "155      -1.0  very negative  \n",
       "372      -1.0  very negative  \n",
       "399      -1.0  very negative  "
      ]
     },
     "execution_count": 6,
     "metadata": {},
     "output_type": "execute_result"
    }
   ],
   "source": [
    "reason_df[reason_df.polarity == reason_df.polarity.max()].sample(3)\n",
    "reason_df[reason_df.polarity == reason_df.polarity.min()].sample(3)"
   ]
  },
  {
   "cell_type": "markdown",
   "metadata": {},
   "source": [
    "## Visualisierung"
   ]
  },
  {
   "cell_type": "markdown",
   "metadata": {},
   "source": [
    "### Alle Studenten"
   ]
  },
  {
   "cell_type": "code",
   "execution_count": 7,
   "metadata": {},
   "outputs": [
    {
     "data": {
      "text/plain": [
       "0.23072337962962963"
      ]
     },
     "execution_count": 7,
     "metadata": {},
     "output_type": "execute_result"
    }
   ],
   "source": [
    "#calculate average\n",
    "polarity_sum = reason_df[\"polarity\"].sum()\n",
    "length = len(reason_df.index)\n",
    "average = polarity_sum / length\n",
    "average"
   ]
  },
  {
   "cell_type": "code",
   "execution_count": 8,
   "metadata": {},
   "outputs": [
    {
     "data": {
      "text/plain": [
       "<matplotlib.axes._subplots.AxesSubplot at 0x217f6f5f048>"
      ]
     },
     "execution_count": 8,
     "metadata": {},
     "output_type": "execute_result"
    },
    {
     "data": {
      "text/plain": [
       "sentiment\n",
       "negative          31\n",
       "neutral          231\n",
       "positive         106\n",
       "very negative     20\n",
       "very positive    116\n",
       "Name: sentiment, dtype: int64"
      ]
     },
     "execution_count": 8,
     "metadata": {},
     "output_type": "execute_result"
    },
    {
     "data": {
      "image/png": "[encoded data removed]",
      "text/plain": [
       "<Figure size 576x432 with 1 Axes>"
      ]
     },
     "metadata": {
      "needs_background": "light"
     },
     "output_type": "display_data"
    }
   ],
   "source": [
    "%matplotlib inline\n",
    "\n",
    "import matplotlib.pyplot as plt\n",
    "fig = plt.figure(figsize=(8,6))\n",
    "reason_df.groupby(\"sentiment\")[\"sentiment\"].count().plot.bar(ylim=0);\n",
    "reason_df.groupby(\"sentiment\")[\"sentiment\"].count()"
   ]
  },
  {
   "cell_type": "markdown",
   "metadata": {},
   "source": [
    "### MINT-Studenten"
   ]
  },
  {
   "cell_type": "code",
   "execution_count": 9,
   "metadata": {},
   "outputs": [
    {
     "data": {
      "text/plain": [
       "287"
      ]
     },
     "execution_count": 9,
     "metadata": {},
     "output_type": "execute_result"
    },
    {
     "data": {
      "text/plain": [
       "0.32744337979094074"
      ]
     },
     "execution_count": 9,
     "metadata": {},
     "output_type": "execute_result"
    }
   ],
   "source": [
    "#calculate average of mint\n",
    "mint = reason_df[reason_df['MINTFach'] == \"ja\"]\n",
    "pol_sum_mint = mint[\"polarity\"].sum()\n",
    "length = len(mint.index)\n",
    "length\n",
    "average_mint = pol_sum_mint / length\n",
    "average_mint"
   ]
  },
  {
   "cell_type": "code",
   "execution_count": 10,
   "metadata": {},
   "outputs": [
    {
     "data": {
      "text/plain": [
       "<matplotlib.axes._subplots.AxesSubplot at 0x217f6f34a90>"
      ]
     },
     "execution_count": 10,
     "metadata": {},
     "output_type": "execute_result"
    },
    {
     "data": {
      "text/plain": [
       "sentiment\n",
       "negative           5\n",
       "neutral          145\n",
       "positive          53\n",
       "very negative      1\n",
       "very positive     83\n",
       "Name: sentiment, dtype: int64"
      ]
     },
     "execution_count": 10,
     "metadata": {},
     "output_type": "execute_result"
    },
    {
     "data": {
      "image/png": "[encoded data removed]",
      "text/plain": [
       "<Figure size 576x432 with 1 Axes>"
      ]
     },
     "metadata": {
      "needs_background": "light"
     },
     "output_type": "display_data"
    }
   ],
   "source": [
    "%matplotlib inline\n",
    "\n",
    "import matplotlib.pyplot as plt\n",
    "fig = plt.figure(figsize=(8,6))\n",
    "mint.groupby(\"sentiment\")[\"sentiment\"].count().plot.bar(ylim=0);\n",
    "mint.groupby(\"sentiment\")[\"sentiment\"].count()"
   ]
  },
  {
   "cell_type": "markdown",
   "metadata": {},
   "source": [
    "### Nicht MINT-Studenten"
   ]
  },
  {
   "cell_type": "code",
   "execution_count": 11,
   "metadata": {},
   "outputs": [
    {
     "data": {
      "text/plain": [
       "217"
      ]
     },
     "execution_count": 11,
     "metadata": {},
     "output_type": "execute_result"
    },
    {
     "data": {
      "text/plain": [
       "0.10280337941628265"
      ]
     },
     "execution_count": 11,
     "metadata": {},
     "output_type": "execute_result"
    }
   ],
   "source": [
    "#calculate average of non mint\n",
    "none_mint = reason_df[reason_df['MINTFach'] == \"nein\"]\n",
    "pol_sum_none_mint = none_mint[\"polarity\"].sum()\n",
    "length = len(none_mint.index)\n",
    "length\n",
    "average_none_mint = pol_sum_none_mint / length\n",
    "average_none_mint"
   ]
  },
  {
   "cell_type": "code",
   "execution_count": 12,
   "metadata": {
    "scrolled": false
   },
   "outputs": [
    {
     "data": {
      "text/plain": [
       "<matplotlib.axes._subplots.AxesSubplot at 0x217f6f0eb00>"
      ]
     },
     "execution_count": 12,
     "metadata": {},
     "output_type": "execute_result"
    },
    {
     "data": {
      "text/plain": [
       "sentiment\n",
       "negative         26\n",
       "neutral          86\n",
       "positive         53\n",
       "very negative    19\n",
       "very positive    33\n",
       "Name: sentiment, dtype: int64"
      ]
     },
     "execution_count": 12,
     "metadata": {},
     "output_type": "execute_result"
    },
    {
     "data": {
      "image/png": "[encoded data removed]",
      "text/plain": [
       "<Figure size 576x432 with 1 Axes>"
      ]
     },
     "metadata": {
      "needs_background": "light"
     },
     "output_type": "display_data"
    }
   ],
   "source": [
    "%matplotlib inline\n",
    "\n",
    "import matplotlib.pyplot as plt\n",
    "fig = plt.figure(figsize=(8,6))\n",
    "none_mint.groupby(\"sentiment\")[\"sentiment\"].count().plot.bar(ylim=0);\n",
    "none_mint.groupby(\"sentiment\")[\"sentiment\"].count()"
   ]
  },
  {
   "cell_type": "markdown",
   "metadata": {},
   "source": [
    "### Frauen"
   ]
  },
  {
   "cell_type": "code",
   "execution_count": 13,
   "metadata": {},
   "outputs": [
    {
     "data": {
      "text/plain": [
       "291"
      ]
     },
     "execution_count": 13,
     "metadata": {},
     "output_type": "execute_result"
    },
    {
     "data": {
      "text/plain": [
       "0.20531548300878197"
      ]
     },
     "execution_count": 13,
     "metadata": {},
     "output_type": "execute_result"
    }
   ],
   "source": [
    "#calculate average of female\n",
    "female = reason_df[reason_df['Geschlecht'] == \"Weiblich\"]\n",
    "pol_sum_female = female[\"polarity\"].sum()\n",
    "length = len(female.index)\n",
    "length\n",
    "average_female = pol_sum_female / length\n",
    "average_female"
   ]
  },
  {
   "cell_type": "code",
   "execution_count": 14,
   "metadata": {
    "scrolled": false
   },
   "outputs": [
    {
     "data": {
      "text/plain": [
       "<matplotlib.axes._subplots.AxesSubplot at 0x217f6ee96a0>"
      ]
     },
     "execution_count": 14,
     "metadata": {},
     "output_type": "execute_result"
    },
    {
     "data": {
      "text/plain": [
       "sentiment\n",
       "negative          24\n",
       "neutral          121\n",
       "positive          63\n",
       "very negative     16\n",
       "very positive     67\n",
       "Name: sentiment, dtype: int64"
      ]
     },
     "execution_count": 14,
     "metadata": {},
     "output_type": "execute_result"
    },
    {
     "data": {
      "image/png": "[encoded data removed]",
      "text/plain": [
       "<Figure size 576x432 with 1 Axes>"
      ]
     },
     "metadata": {
      "needs_background": "light"
     },
     "output_type": "display_data"
    }
   ],
   "source": [
    "%matplotlib inline\n",
    "\n",
    "import matplotlib.pyplot as plt\n",
    "fig = plt.figure(figsize=(8,6))\n",
    "female.groupby(\"sentiment\")[\"sentiment\"].count().plot.bar(ylim=0);\n",
    "female.groupby(\"sentiment\")[\"sentiment\"].count()"
   ]
  },
  {
   "cell_type": "markdown",
   "metadata": {},
   "source": [
    "### Männer"
   ]
  },
  {
   "cell_type": "code",
   "execution_count": 15,
   "metadata": {},
   "outputs": [
    {
     "data": {
      "text/plain": [
       "212"
      ]
     },
     "execution_count": 15,
     "metadata": {},
     "output_type": "execute_result"
    },
    {
     "data": {
      "text/plain": [
       "0.2666876310272537"
      ]
     },
     "execution_count": 15,
     "metadata": {},
     "output_type": "execute_result"
    }
   ],
   "source": [
    "#calculate average of male\n",
    "male = reason_df[reason_df['Geschlecht'] == \"Männlich\"]\n",
    "pol_sum_male = male[\"polarity\"].sum()\n",
    "length = len(male.index)\n",
    "length\n",
    "average_male = pol_sum_male / length\n",
    "average_male"
   ]
  },
  {
   "cell_type": "code",
   "execution_count": 16,
   "metadata": {
    "scrolled": false
   },
   "outputs": [
    {
     "data": {
      "text/plain": [
       "<matplotlib.axes._subplots.AxesSubplot at 0x217f6ec3278>"
      ]
     },
     "execution_count": 16,
     "metadata": {},
     "output_type": "execute_result"
    },
    {
     "data": {
      "text/plain": [
       "sentiment\n",
       "negative           7\n",
       "neutral          109\n",
       "positive          43\n",
       "very negative      4\n",
       "very positive     49\n",
       "Name: sentiment, dtype: int64"
      ]
     },
     "execution_count": 16,
     "metadata": {},
     "output_type": "execute_result"
    },
    {
     "data": {
      "image/png": "[encoded data removed]",
      "text/plain": [
       "<Figure size 576x432 with 1 Axes>"
      ]
     },
     "metadata": {
      "needs_background": "light"
     },
     "output_type": "display_data"
    }
   ],
   "source": [
    "%matplotlib inline\n",
    "\n",
    "import matplotlib.pyplot as plt\n",
    "fig = plt.figure(figsize=(8,6))\n",
    "male.groupby(\"sentiment\")[\"sentiment\"].count().plot.bar(ylim=0);\n",
    "male.groupby(\"sentiment\")[\"sentiment\"].count()"
   ]
  },
  {
   "cell_type": "markdown",
   "metadata": {},
   "source": [
    "## Fazit"
   ]
  },
  {
   "cell_type": "markdown",
   "metadata": {},
   "source": [
    "**Allgemein**\n",
    "- Durchschnitt: 0,23\n",
    "- viele neutral (231)\n",
    "- auch viele sehr positiv (116) und positiv (106)\n",
    "\n",
    "**MINT**\n",
    "- Durchschnitt: 0,33\n",
    "- sehr viele neutral (154), sehr positiv (83) und positiv (53)\n",
    "- wenig negativ (5) und kaum sehr negative (1)\n",
    "\n",
    "**Nicht MINT**\n",
    "- Durchschnitt: 0,10\n",
    "- viele neutral (86)\n",
    "- mehr negative (26) und sehr negative (19) als bei MINT\n",
    "- weniger sehr positiv (33) als bei MINT aber gleich viel positiv (53)\n",
    "\n",
    "**Frauen**\n",
    "- Durchschnitt: 0,21\n",
    "- viele neutral (121), sehr positiv (67) und positiv (63)\n",
    "- mehr positiv (63), negativ (24) und sehr negativ (16) als bei Männern\n",
    "\n",
    "**Männer**\n",
    "- Durchschnitt: 0,27\n",
    "- sehr viele neutral (109), sehr positiv (49) und positiv (43)\n",
    "- kaum negativ (7) und sehr negativ (4)\n",
    "\n",
    "Daraus lässt sich schließen, dass viele MINT-Studenten bei der Frage nach ihren Entscheidungsgründen neutral oder positiv antworten. Im Gegensatz dazu sind die Antworten der nicht MINT-Studenten überwiegend neutral und generell negativer als bei den MINT-Studenten. Dies lässt sich jedoch auch auf die Fragestellung zurückführen, welche nach den Gründen fragte, warum kein MINT-Fach gewählt wurde und nicht, warum das eigene Fach gewählt wurde. Bei der Unterscheidung zwischen Frauen und Männern lässt sich feststellen, dass beide Parteien oft neutral geantwortet haben. Jedoch haben Frauen öfters sehr positive und auch allgemein vom neutralen abweichende Antworten gegeben. Dies bestätigt die These, dass Frauen generell emotionaler schreiben würden."
   ]
  },
  {
   "cell_type": "markdown",
   "metadata": {},
   "source": [
    "# Sentiment Analyse der Verbesserungsvorschläge"
   ]
  },
  {
   "cell_type": "markdown",
   "metadata": {},
   "source": [
    "## Datenvorbereitung"
   ]
  },
  {
   "cell_type": "code",
   "execution_count": 17,
   "metadata": {},
   "outputs": [
    {
     "data": {
      "text/html": [
       "<div>\n",
       "<style scoped>\n",
       "    .dataframe tbody tr th:only-of-type {\n",
       "        vertical-align: middle;\n",
       "    }\n",
       "\n",
       "    .dataframe tbody tr th {\n",
       "        vertical-align: top;\n",
       "    }\n",
       "\n",
       "    .dataframe thead th {\n",
       "        text-align: right;\n",
       "    }\n",
       "</style>\n",
       "<table border=\"1\" class=\"dataframe\">\n",
       "  <thead>\n",
       "    <tr style=\"text-align: right;\">\n",
       "      <th></th>\n",
       "      <th>MINTFach</th>\n",
       "      <th>Geschlecht</th>\n",
       "      <th>Verbesserungsvorschläge</th>\n",
       "    </tr>\n",
       "  </thead>\n",
       "  <tbody>\n",
       "    <tr>\n",
       "      <th>212</th>\n",
       "      <td>nein</td>\n",
       "      <td>Weiblich</td>\n",
       "      <td>sympathische Menschen (Lehrer/Dozenten) die MI...</td>\n",
       "    </tr>\n",
       "    <tr>\n",
       "      <th>80</th>\n",
       "      <td>nein</td>\n",
       "      <td>Männlich</td>\n",
       "      <td>praxisorientierter</td>\n",
       "    </tr>\n",
       "    <tr>\n",
       "      <th>252</th>\n",
       "      <td>nein</td>\n",
       "      <td>Weiblich</td>\n",
       "      <td>Vorkurse an Schulen, Vorstellung der Module an...</td>\n",
       "    </tr>\n",
       "    <tr>\n",
       "      <th>61</th>\n",
       "      <td>ja</td>\n",
       "      <td>Weiblich</td>\n",
       "      <td>Bau</td>\n",
       "    </tr>\n",
       "    <tr>\n",
       "      <th>353</th>\n",
       "      <td>ja</td>\n",
       "      <td>Weiblich</td>\n",
       "      <td>Einer der wichtigsten Punkte ist es meiner Mei...</td>\n",
       "    </tr>\n",
       "  </tbody>\n",
       "</table>\n",
       "</div>"
      ],
      "text/plain": [
       "    MINTFach Geschlecht                            Verbesserungsvorschläge\n",
       "212     nein   Weiblich  sympathische Menschen (Lehrer/Dozenten) die MI...\n",
       "80      nein   Männlich                                 praxisorientierter\n",
       "252     nein   Weiblich  Vorkurse an Schulen, Vorstellung der Module an...\n",
       "61        ja   Weiblich                                                Bau\n",
       "353       ja   Weiblich  Einer der wichtigsten Punkte ist es meiner Mei..."
      ]
     },
     "execution_count": 17,
     "metadata": {},
     "output_type": "execute_result"
    }
   ],
   "source": [
    "import sqlite3\n",
    "import pandas as pd\n",
    "import os.path\n",
    "\n",
    "dbPath = \"database/bachelor_umfrage.db\"\n",
    "\n",
    "def get_sentiment_suggestion_data(table_name=\"sentiment\"):\n",
    "    df = pd.DataFrame()\n",
    "    if os.path.isfile(dbPath):\n",
    "        conn = sqlite3.connect(dbPath)\n",
    "        sql = \"SELECT MINTFach, Geschlecht, Verbesserungsvorschläge FROM \" + table_name\n",
    "        sql += \" WHERE Verbesserungsvorschläge IS NOT NULL\"\n",
    "        df = pd.read_sql_query(sql, conn)\n",
    "    else:\n",
    "        print(\"Datenbank oder Tabelle konnte nicht gefunden werden.\")\n",
    "    return df\n",
    "\n",
    "suggestion_df = get_sentiment_suggestion_data(table_name=\"sentiment\")\n",
    "suggestion_df.sample(5)"
   ]
  },
  {
   "cell_type": "markdown",
   "metadata": {},
   "source": [
    "## Sentiment Analyse"
   ]
  },
  {
   "cell_type": "code",
   "execution_count": 18,
   "metadata": {},
   "outputs": [],
   "source": [
    "from textblob_de import TextBlobDE\n",
    "\n",
    "def get_sentiment(text):\n",
    "    blob = TextBlobDE(text)\n",
    "    return blob.sentiment"
   ]
  },
  {
   "cell_type": "code",
   "execution_count": 19,
   "metadata": {},
   "outputs": [],
   "source": [
    "polarity_list = []\n",
    "\n",
    "for i, row in suggestion_df.iterrows():\n",
    "    (polarity, _) = get_sentiment(row[\"Verbesserungsvorschläge\"])\n",
    "    polarity_list.append(polarity)\n",
    "    \n",
    "suggestion_df[\"polarity\"] = polarity_list"
   ]
  },
  {
   "cell_type": "code",
   "execution_count": 20,
   "metadata": {},
   "outputs": [
    {
     "data": {
      "text/html": [
       "<div>\n",
       "<style scoped>\n",
       "    .dataframe tbody tr th:only-of-type {\n",
       "        vertical-align: middle;\n",
       "    }\n",
       "\n",
       "    .dataframe tbody tr th {\n",
       "        vertical-align: top;\n",
       "    }\n",
       "\n",
       "    .dataframe thead th {\n",
       "        text-align: right;\n",
       "    }\n",
       "</style>\n",
       "<table border=\"1\" class=\"dataframe\">\n",
       "  <thead>\n",
       "    <tr style=\"text-align: right;\">\n",
       "      <th></th>\n",
       "      <th>MINTFach</th>\n",
       "      <th>Geschlecht</th>\n",
       "      <th>Verbesserungsvorschläge</th>\n",
       "      <th>polarity</th>\n",
       "      <th>sentiment</th>\n",
       "    </tr>\n",
       "  </thead>\n",
       "  <tbody>\n",
       "    <tr>\n",
       "      <th>346</th>\n",
       "      <td>ja</td>\n",
       "      <td>Weiblich</td>\n",
       "      <td>Weniger Notendruck,, Spielerische Gestaltung (...</td>\n",
       "      <td>0.000</td>\n",
       "      <td>neutral</td>\n",
       "    </tr>\n",
       "    <tr>\n",
       "      <th>96</th>\n",
       "      <td>ja</td>\n",
       "      <td>Männlich</td>\n",
       "      <td>Nein leider nicht. Ich finde es auch nicht not...</td>\n",
       "      <td>0.500</td>\n",
       "      <td>neutral</td>\n",
       "    </tr>\n",
       "    <tr>\n",
       "      <th>341</th>\n",
       "      <td>nein</td>\n",
       "      <td>Männlich</td>\n",
       "      <td>Sie sind meines Erachtens bereits attraktiv ge...</td>\n",
       "      <td>0.700</td>\n",
       "      <td>very positive</td>\n",
       "    </tr>\n",
       "    <tr>\n",
       "      <th>132</th>\n",
       "      <td>ja</td>\n",
       "      <td>Männlich</td>\n",
       "      <td>Sie werden attraktiver, wenn man den Quotensch...</td>\n",
       "      <td>1.000</td>\n",
       "      <td>very positive</td>\n",
       "    </tr>\n",
       "    <tr>\n",
       "      <th>42</th>\n",
       "      <td>ja</td>\n",
       "      <td>Männlich</td>\n",
       "      <td>Ich denke, dass man entweder grundsätzlich lus...</td>\n",
       "      <td>0.025</td>\n",
       "      <td>positive</td>\n",
       "    </tr>\n",
       "  </tbody>\n",
       "</table>\n",
       "</div>"
      ],
      "text/plain": [
       "    MINTFach Geschlecht                            Verbesserungsvorschläge  \\\n",
       "346       ja   Weiblich  Weniger Notendruck,, Spielerische Gestaltung (...   \n",
       "96        ja   Männlich  Nein leider nicht. Ich finde es auch nicht not...   \n",
       "341     nein   Männlich  Sie sind meines Erachtens bereits attraktiv ge...   \n",
       "132       ja   Männlich  Sie werden attraktiver, wenn man den Quotensch...   \n",
       "42        ja   Männlich  Ich denke, dass man entweder grundsätzlich lus...   \n",
       "\n",
       "     polarity      sentiment  \n",
       "346     0.000        neutral  \n",
       "96      0.500        neutral  \n",
       "341     0.700  very positive  \n",
       "132     1.000  very positive  \n",
       "42      0.025       positive  "
      ]
     },
     "execution_count": 20,
     "metadata": {},
     "output_type": "execute_result"
    }
   ],
   "source": [
    "suggestion_df['sentiment'] = suggestion_df.apply(label_polarity, axis=1)\n",
    "suggestion_df.sample(5)"
   ]
  },
  {
   "cell_type": "markdown",
   "metadata": {},
   "source": [
    "Negativster & Positivster Sentiment"
   ]
  },
  {
   "cell_type": "code",
   "execution_count": 21,
   "metadata": {},
   "outputs": [
    {
     "data": {
      "text/html": [
       "<div>\n",
       "<style scoped>\n",
       "    .dataframe tbody tr th:only-of-type {\n",
       "        vertical-align: middle;\n",
       "    }\n",
       "\n",
       "    .dataframe tbody tr th {\n",
       "        vertical-align: top;\n",
       "    }\n",
       "\n",
       "    .dataframe thead th {\n",
       "        text-align: right;\n",
       "    }\n",
       "</style>\n",
       "<table border=\"1\" class=\"dataframe\">\n",
       "  <thead>\n",
       "    <tr style=\"text-align: right;\">\n",
       "      <th></th>\n",
       "      <th>MINTFach</th>\n",
       "      <th>Geschlecht</th>\n",
       "      <th>Verbesserungsvorschläge</th>\n",
       "      <th>polarity</th>\n",
       "      <th>sentiment</th>\n",
       "    </tr>\n",
       "  </thead>\n",
       "  <tbody>\n",
       "    <tr>\n",
       "      <th>102</th>\n",
       "      <td>nein</td>\n",
       "      <td>Weiblich</td>\n",
       "      <td>Nein, da ich sie so mag wie sie sind und es im...</td>\n",
       "      <td>1.0</td>\n",
       "      <td>very positive</td>\n",
       "    </tr>\n",
       "    <tr>\n",
       "      <th>101</th>\n",
       "      <td>nein</td>\n",
       "      <td>Männlich</td>\n",
       "      <td>Mehr praktisches Lehren</td>\n",
       "      <td>1.0</td>\n",
       "      <td>very positive</td>\n",
       "    </tr>\n",
       "    <tr>\n",
       "      <th>212</th>\n",
       "      <td>nein</td>\n",
       "      <td>Weiblich</td>\n",
       "      <td>sympathische Menschen (Lehrer/Dozenten) die MI...</td>\n",
       "      <td>1.0</td>\n",
       "      <td>very positive</td>\n",
       "    </tr>\n",
       "  </tbody>\n",
       "</table>\n",
       "</div>"
      ],
      "text/plain": [
       "    MINTFach Geschlecht                            Verbesserungsvorschläge  \\\n",
       "102     nein   Weiblich  Nein, da ich sie so mag wie sie sind und es im...   \n",
       "101     nein   Männlich                            Mehr praktisches Lehren   \n",
       "212     nein   Weiblich  sympathische Menschen (Lehrer/Dozenten) die MI...   \n",
       "\n",
       "     polarity      sentiment  \n",
       "102       1.0  very positive  \n",
       "101       1.0  very positive  \n",
       "212       1.0  very positive  "
      ]
     },
     "execution_count": 21,
     "metadata": {},
     "output_type": "execute_result"
    },
    {
     "data": {
      "text/html": [
       "<div>\n",
       "<style scoped>\n",
       "    .dataframe tbody tr th:only-of-type {\n",
       "        vertical-align: middle;\n",
       "    }\n",
       "\n",
       "    .dataframe tbody tr th {\n",
       "        vertical-align: top;\n",
       "    }\n",
       "\n",
       "    .dataframe thead th {\n",
       "        text-align: right;\n",
       "    }\n",
       "</style>\n",
       "<table border=\"1\" class=\"dataframe\">\n",
       "  <thead>\n",
       "    <tr style=\"text-align: right;\">\n",
       "      <th></th>\n",
       "      <th>MINTFach</th>\n",
       "      <th>Geschlecht</th>\n",
       "      <th>Verbesserungsvorschläge</th>\n",
       "      <th>polarity</th>\n",
       "      <th>sentiment</th>\n",
       "    </tr>\n",
       "  </thead>\n",
       "  <tbody>\n",
       "    <tr>\n",
       "      <th>287</th>\n",
       "      <td>nein</td>\n",
       "      <td>Weiblich</td>\n",
       "      <td>keine Vorschläge, die Fächer haben mich einfac...</td>\n",
       "      <td>-1.0</td>\n",
       "      <td>very negative</td>\n",
       "    </tr>\n",
       "    <tr>\n",
       "      <th>332</th>\n",
       "      <td>nein</td>\n",
       "      <td>Weiblich</td>\n",
       "      <td>Da ich keins dieser Fächer studiere, kann ich ...</td>\n",
       "      <td>-1.0</td>\n",
       "      <td>very negative</td>\n",
       "    </tr>\n",
       "    <tr>\n",
       "      <th>48</th>\n",
       "      <td>nein</td>\n",
       "      <td>Männlich</td>\n",
       "      <td>Ich finde es schade, dass die Fächer in der Sc...</td>\n",
       "      <td>-1.0</td>\n",
       "      <td>very negative</td>\n",
       "    </tr>\n",
       "  </tbody>\n",
       "</table>\n",
       "</div>"
      ],
      "text/plain": [
       "    MINTFach Geschlecht                            Verbesserungsvorschläge  \\\n",
       "287     nein   Weiblich  keine Vorschläge, die Fächer haben mich einfac...   \n",
       "332     nein   Weiblich  Da ich keins dieser Fächer studiere, kann ich ...   \n",
       "48      nein   Männlich  Ich finde es schade, dass die Fächer in der Sc...   \n",
       "\n",
       "     polarity      sentiment  \n",
       "287      -1.0  very negative  \n",
       "332      -1.0  very negative  \n",
       "48       -1.0  very negative  "
      ]
     },
     "execution_count": 21,
     "metadata": {},
     "output_type": "execute_result"
    }
   ],
   "source": [
    "suggestion_df[suggestion_df.polarity == suggestion_df.polarity.max()].sample(3)\n",
    "suggestion_df[suggestion_df.polarity == suggestion_df.polarity.min()].sample(3)"
   ]
  },
  {
   "cell_type": "markdown",
   "metadata": {},
   "source": [
    "## Visualisierung"
   ]
  },
  {
   "cell_type": "markdown",
   "metadata": {},
   "source": [
    "### Alle Studenten"
   ]
  },
  {
   "cell_type": "code",
   "execution_count": 22,
   "metadata": {},
   "outputs": [
    {
     "data": {
      "text/plain": [
       "0.10938886246487932"
      ]
     },
     "execution_count": 22,
     "metadata": {},
     "output_type": "execute_result"
    }
   ],
   "source": [
    "#calculate average\n",
    "polarity_sum = suggestion_df[\"polarity\"].sum()\n",
    "length = len(reason_df.index)\n",
    "average = polarity_sum / length\n",
    "average"
   ]
  },
  {
   "cell_type": "code",
   "execution_count": 23,
   "metadata": {},
   "outputs": [
    {
     "data": {
      "text/plain": [
       "<matplotlib.axes._subplots.AxesSubplot at 0x217f6e7df28>"
      ]
     },
     "execution_count": 23,
     "metadata": {},
     "output_type": "execute_result"
    },
    {
     "data": {
      "text/plain": [
       "sentiment\n",
       "negative          18\n",
       "neutral          212\n",
       "positive          79\n",
       "very negative      9\n",
       "very positive     48\n",
       "Name: sentiment, dtype: int64"
      ]
     },
     "execution_count": 23,
     "metadata": {},
     "output_type": "execute_result"
    },
    {
     "data": {
      "image/png": "[encoded data removed]",
      "text/plain": [
       "<Figure size 576x432 with 1 Axes>"
      ]
     },
     "metadata": {
      "needs_background": "light"
     },
     "output_type": "display_data"
    }
   ],
   "source": [
    "%matplotlib inline\n",
    "\n",
    "import matplotlib.pyplot as plt\n",
    "fig = plt.figure(figsize=(8,6))\n",
    "suggestion_df.groupby(\"sentiment\")[\"sentiment\"].count().plot.bar(ylim=0);\n",
    "suggestion_df.groupby(\"sentiment\")[\"sentiment\"].count()"
   ]
  },
  {
   "cell_type": "markdown",
   "metadata": {},
   "source": [
    "### MINT-Studenten"
   ]
  },
  {
   "cell_type": "code",
   "execution_count": 24,
   "metadata": {},
   "outputs": [
    {
     "data": {
      "text/plain": [
       "212"
      ]
     },
     "execution_count": 24,
     "metadata": {},
     "output_type": "execute_result"
    },
    {
     "data": {
      "text/plain": [
       "0.15517343598269306"
      ]
     },
     "execution_count": 24,
     "metadata": {},
     "output_type": "execute_result"
    }
   ],
   "source": [
    "#calculate average of mint\n",
    "mint = suggestion_df[suggestion_df['MINTFach'] == \"ja\"]\n",
    "pol_sum_mint = mint[\"polarity\"].sum()\n",
    "length = len(mint.index)\n",
    "length\n",
    "average_mint = pol_sum_mint / length\n",
    "average_mint"
   ]
  },
  {
   "cell_type": "code",
   "execution_count": 25,
   "metadata": {},
   "outputs": [
    {
     "data": {
      "text/plain": [
       "<matplotlib.axes._subplots.AxesSubplot at 0x217f6e5cb38>"
      ]
     },
     "execution_count": 25,
     "metadata": {},
     "output_type": "execute_result"
    },
    {
     "data": {
      "text/plain": [
       "sentiment\n",
       "negative          11\n",
       "neutral          123\n",
       "positive          46\n",
       "very negative      4\n",
       "very positive     28\n",
       "Name: sentiment, dtype: int64"
      ]
     },
     "execution_count": 25,
     "metadata": {},
     "output_type": "execute_result"
    },
    {
     "data": {
      "image/png": "[encoded data removed]",
      "text/plain": [
       "<Figure size 576x432 with 1 Axes>"
      ]
     },
     "metadata": {
      "needs_background": "light"
     },
     "output_type": "display_data"
    }
   ],
   "source": [
    "%matplotlib inline\n",
    "\n",
    "import matplotlib.pyplot as plt\n",
    "fig = plt.figure(figsize=(8,6))\n",
    "mint.groupby(\"sentiment\")[\"sentiment\"].count().plot.bar(ylim=0);\n",
    "mint.groupby(\"sentiment\")[\"sentiment\"].count()"
   ]
  },
  {
   "cell_type": "markdown",
   "metadata": {},
   "source": [
    "### Nicht MINT-Studenten"
   ]
  },
  {
   "cell_type": "code",
   "execution_count": 26,
   "metadata": {},
   "outputs": [
    {
     "data": {
      "text/plain": [
       "154"
      ]
     },
     "execution_count": 26,
     "metadata": {},
     "output_type": "execute_result"
    },
    {
     "data": {
      "text/plain": [
       "0.14438453411667695"
      ]
     },
     "execution_count": 26,
     "metadata": {},
     "output_type": "execute_result"
    }
   ],
   "source": [
    "#calculate average of non mint\n",
    "none_mint = suggestion_df[suggestion_df['MINTFach'] == \"nein\"]\n",
    "pol_sum_none_mint = none_mint[\"polarity\"].sum()\n",
    "length = len(none_mint.index)\n",
    "length\n",
    "average_none_mint = pol_sum_none_mint / length\n",
    "average_none_mint"
   ]
  },
  {
   "cell_type": "code",
   "execution_count": 27,
   "metadata": {},
   "outputs": [
    {
     "data": {
      "text/plain": [
       "<matplotlib.axes._subplots.AxesSubplot at 0x217f6e379e8>"
      ]
     },
     "execution_count": 27,
     "metadata": {},
     "output_type": "execute_result"
    },
    {
     "data": {
      "text/plain": [
       "sentiment\n",
       "negative          7\n",
       "neutral          89\n",
       "positive         33\n",
       "very negative     5\n",
       "very positive    20\n",
       "Name: sentiment, dtype: int64"
      ]
     },
     "execution_count": 27,
     "metadata": {},
     "output_type": "execute_result"
    },
    {
     "data": {
      "image/png": "[encoded data removed]",
      "text/plain": [
       "<Figure size 576x432 with 1 Axes>"
      ]
     },
     "metadata": {
      "needs_background": "light"
     },
     "output_type": "display_data"
    }
   ],
   "source": [
    "%matplotlib inline\n",
    "\n",
    "import matplotlib.pyplot as plt\n",
    "fig = plt.figure(figsize=(8,6))\n",
    "none_mint.groupby(\"sentiment\")[\"sentiment\"].count().plot.bar(ylim=0);\n",
    "none_mint.groupby(\"sentiment\")[\"sentiment\"].count()"
   ]
  },
  {
   "cell_type": "markdown",
   "metadata": {},
   "source": [
    "### Frauen"
   ]
  },
  {
   "cell_type": "code",
   "execution_count": 28,
   "metadata": {},
   "outputs": [
    {
     "data": {
      "text/plain": [
       "204"
      ]
     },
     "execution_count": 28,
     "metadata": {},
     "output_type": "execute_result"
    },
    {
     "data": {
      "text/plain": [
       "0.16747265783417745"
      ]
     },
     "execution_count": 28,
     "metadata": {},
     "output_type": "execute_result"
    }
   ],
   "source": [
    "#calculate average of female\n",
    "female = suggestion_df[suggestion_df['Geschlecht'] == \"Weiblich\"]\n",
    "pol_sum_female = female[\"polarity\"].sum()\n",
    "length = len(female.index)\n",
    "length\n",
    "average_female = pol_sum_female / length\n",
    "average_female"
   ]
  },
  {
   "cell_type": "code",
   "execution_count": 29,
   "metadata": {
    "scrolled": false
   },
   "outputs": [
    {
     "data": {
      "text/plain": [
       "<matplotlib.axes._subplots.AxesSubplot at 0x217f6e13470>"
      ]
     },
     "execution_count": 29,
     "metadata": {},
     "output_type": "execute_result"
    },
    {
     "data": {
      "text/plain": [
       "sentiment\n",
       "negative           7\n",
       "neutral          113\n",
       "positive          48\n",
       "very negative      5\n",
       "very positive     31\n",
       "Name: sentiment, dtype: int64"
      ]
     },
     "execution_count": 29,
     "metadata": {},
     "output_type": "execute_result"
    },
    {
     "data": {
      "image/png": "[encoded data removed]",
      "text/plain": [
       "<Figure size 576x432 with 1 Axes>"
      ]
     },
     "metadata": {
      "needs_background": "light"
     },
     "output_type": "display_data"
    }
   ],
   "source": [
    "%matplotlib inline\n",
    "\n",
    "import matplotlib.pyplot as plt\n",
    "fig = plt.figure(figsize=(8,6))\n",
    "female.groupby(\"sentiment\")[\"sentiment\"].count().plot.bar(ylim=0);\n",
    "female.groupby(\"sentiment\")[\"sentiment\"].count()"
   ]
  },
  {
   "cell_type": "markdown",
   "metadata": {},
   "source": [
    "### Männer"
   ]
  },
  {
   "cell_type": "code",
   "execution_count": 30,
   "metadata": {},
   "outputs": [
    {
     "data": {
      "text/plain": [
       "161"
      ]
     },
     "execution_count": 30,
     "metadata": {},
     "output_type": "execute_result"
    },
    {
     "data": {
      "text/plain": [
       "0.13023331977718625"
      ]
     },
     "execution_count": 30,
     "metadata": {},
     "output_type": "execute_result"
    }
   ],
   "source": [
    "#calculate average of male\n",
    "male = suggestion_df[suggestion_df['Geschlecht'] == \"Männlich\"]\n",
    "pol_sum_male = male[\"polarity\"].sum()\n",
    "length = len(male.index)\n",
    "length\n",
    "average_male = pol_sum_male / length\n",
    "average_male"
   ]
  },
  {
   "cell_type": "code",
   "execution_count": 31,
   "metadata": {
    "scrolled": false
   },
   "outputs": [
    {
     "data": {
      "text/plain": [
       "<matplotlib.axes._subplots.AxesSubplot at 0x217f6defa20>"
      ]
     },
     "execution_count": 31,
     "metadata": {},
     "output_type": "execute_result"
    },
    {
     "data": {
      "text/plain": [
       "sentiment\n",
       "negative         11\n",
       "neutral          98\n",
       "positive         31\n",
       "very negative     4\n",
       "very positive    17\n",
       "Name: sentiment, dtype: int64"
      ]
     },
     "execution_count": 31,
     "metadata": {},
     "output_type": "execute_result"
    },
    {
     "data": {
      "image/png": "[encoded data removed]",
      "text/plain": [
       "<Figure size 576x432 with 1 Axes>"
      ]
     },
     "metadata": {
      "needs_background": "light"
     },
     "output_type": "display_data"
    }
   ],
   "source": [
    "%matplotlib inline\n",
    "\n",
    "import matplotlib.pyplot as plt\n",
    "fig = plt.figure(figsize=(8,6))\n",
    "male.groupby(\"sentiment\")[\"sentiment\"].count().plot.bar(ylim=0);\n",
    "male.groupby(\"sentiment\")[\"sentiment\"].count()"
   ]
  },
  {
   "cell_type": "markdown",
   "metadata": {},
   "source": [
    "## Fazit"
   ]
  },
  {
   "cell_type": "markdown",
   "metadata": {},
   "source": [
    "**Allgemein**\n",
    "- Durchschnitt: 0,11\n",
    "- sehr viele neutral (212) und positiv (79)\n",
    "- auch einige sehr positiv (48)\n",
    "\n",
    "**MINT**\n",
    "- Durchschnitt: 0,16\n",
    "- sehr viele neutral (123) \n",
    "- einige sehr positiv (46)\n",
    "\n",
    "**Nicht MINT**\n",
    "- Durchschnitt: 0,14\n",
    "- viele neutral (89)\n",
    "- einige positiv (33) und sehr positiv (20)\n",
    "\n",
    "**Frauen**\n",
    "- Durchschnitt: 0,17\n",
    "- viele neutral (113)\n",
    "- einige positiv (48) und sehr positiv (31)\n",
    "- etwas mehr positiv (38) als bei Männern\n",
    "\n",
    "**Männer**\n",
    "- Durchschnitt: 0,13\n",
    "- sehr viele neutral (98)\n",
    "- etwas mehr negativ (11) und sehr negativ (4) als bei Frauen\n",
    "\n",
    "Daraus lässt sich schließen, dass die Verbesserungsvorschläge in allen Gruppen überwiegend neutral formuliert wurden. Die Ergebnisse von MINT- und nicht MINT-Studenten sind sehr ähnlich. Beim Vergleich von Frauen und Männern ist festzustellen, dass die Frauen generell neutraler und etwas positiver antworten. Bei beiden überwiegen jedoch erneut neutrale Formulierungen."
   ]
  }
 ],
 "metadata": {
  "kernelspec": {
   "display_name": "Python 3",
   "language": "python",
   "name": "python3"
  },
  "language_info": {
   "codemirror_mode": {
    "name": "ipython",
    "version": 3
   },
   "file_extension": ".py",
   "mimetype": "text/x-python",
   "name": "python",
   "nbconvert_exporter": "python",
   "pygments_lexer": "ipython3",
   "version": "3.7.1"
  },
  "toc": {
   "base_numbering": 1,
   "nav_menu": {},
   "number_sections": true,
   "sideBar": true,
   "skip_h1_title": false,
   "title_cell": "Table of Contents",
   "title_sidebar": "Contents",
   "toc_cell": true,
   "toc_position": {},
   "toc_section_display": true,
   "toc_window_display": true
  },
  "varInspector": {
   "cols": {
    "lenName": 16,
    "lenType": 16,
    "lenVar": 40
   },
   "kernels_config": {
    "python": {
     "delete_cmd_postfix": "",
     "delete_cmd_prefix": "del ",
     "library": "var_list.py",
     "varRefreshCmd": "print(var_dic_list())"
    },
    "r": {
     "delete_cmd_postfix": ") ",
     "delete_cmd_prefix": "rm(",
     "library": "var_list.r",
     "varRefreshCmd": "cat(var_dic_list()) "
    }
   },
   "types_to_exclude": [
    "module",
    "function",
    "builtin_function_or_method",
    "instance",
    "_Feature"
   ],
   "window_display": false
  }
 },
 "nbformat": 4,
 "nbformat_minor": 2
}
