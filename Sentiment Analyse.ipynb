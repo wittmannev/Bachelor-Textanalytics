{
 "cells": [
  {
   "cell_type": "markdown",
   "metadata": {
    "toc": true
   },
   "source": [
    "<h1>Table of Contents<span class=\"tocSkip\"></span></h1>\n",
    "<div class=\"toc\"><ul class=\"toc-item\"><li><span><a href=\"#Sentiment-Analyse-der-Entscheidungsgründe\" data-toc-modified-id=\"Sentiment-Analyse-der-Entscheidungsgründe-1\"><span class=\"toc-item-num\">1&nbsp;&nbsp;</span>Sentiment Analyse der Entscheidungsgründe</a></span><ul class=\"toc-item\"><li><span><a href=\"#Datenvorbereitung\" data-toc-modified-id=\"Datenvorbereitung-1.1\"><span class=\"toc-item-num\">1.1&nbsp;&nbsp;</span>Datenvorbereitung</a></span></li><li><span><a href=\"#Sentiment-Analyse\" data-toc-modified-id=\"Sentiment-Analyse-1.2\"><span class=\"toc-item-num\">1.2&nbsp;&nbsp;</span>Sentiment Analyse</a></span></li><li><span><a href=\"#Visualisierung\" data-toc-modified-id=\"Visualisierung-1.3\"><span class=\"toc-item-num\">1.3&nbsp;&nbsp;</span>Visualisierung</a></span></li></ul></li><li><span><a href=\"#Sentiment-Analyse-der-Verbesserungsvorschläge\" data-toc-modified-id=\"Sentiment-Analyse-der-Verbesserungsvorschläge-2\"><span class=\"toc-item-num\">2&nbsp;&nbsp;</span>Sentiment Analyse der Verbesserungsvorschläge</a></span><ul class=\"toc-item\"><li><span><a href=\"#Datenvorbereitung\" data-toc-modified-id=\"Datenvorbereitung-2.1\"><span class=\"toc-item-num\">2.1&nbsp;&nbsp;</span>Datenvorbereitung</a></span></li><li><span><a href=\"#Sentiment-Analyse\" data-toc-modified-id=\"Sentiment-Analyse-2.2\"><span class=\"toc-item-num\">2.2&nbsp;&nbsp;</span>Sentiment Analyse</a></span></li><li><span><a href=\"#Visualisierung\" data-toc-modified-id=\"Visualisierung-2.3\"><span class=\"toc-item-num\">2.3&nbsp;&nbsp;</span>Visualisierung</a></span></li></ul></li></ul></div>"
   ]
  },
  {
   "cell_type": "markdown",
   "metadata": {},
   "source": [
    "Hilfsfunktionen & Einstellungen"
   ]
  },
  {
   "cell_type": "code",
   "execution_count": 43,
   "metadata": {},
   "outputs": [],
   "source": [
    "# for pretty printing\n",
    "import pprint as pp\n",
    "\n",
    "# IPython (Jupyter) setting: \n",
    "# Print out every value instead of just \"last_expr\" (default)\n",
    "from IPython.core.interactiveshell import InteractiveShell\n",
    "InteractiveShell.ast_node_interactivity = \"all\""
   ]
  },
  {
   "cell_type": "markdown",
   "metadata": {},
   "source": [
    "# Sentiment Analyse der Entscheidungsgründe"
   ]
  },
  {
   "cell_type": "markdown",
   "metadata": {},
   "source": [
    "## Datenvorbereitung"
   ]
  },
  {
   "cell_type": "code",
   "execution_count": 44,
   "metadata": {},
   "outputs": [
    {
     "data": {
      "text/html": [
       "<div>\n",
       "<style scoped>\n",
       "    .dataframe tbody tr th:only-of-type {\n",
       "        vertical-align: middle;\n",
       "    }\n",
       "\n",
       "    .dataframe tbody tr th {\n",
       "        vertical-align: top;\n",
       "    }\n",
       "\n",
       "    .dataframe thead th {\n",
       "        text-align: right;\n",
       "    }\n",
       "</style>\n",
       "<table border=\"1\" class=\"dataframe\">\n",
       "  <thead>\n",
       "    <tr style=\"text-align: right;\">\n",
       "      <th></th>\n",
       "      <th>MINTFach</th>\n",
       "      <th>Gründe</th>\n",
       "    </tr>\n",
       "  </thead>\n",
       "  <tbody>\n",
       "    <tr>\n",
       "      <th>217</th>\n",
       "      <td>nein</td>\n",
       "      <td>Mein Wunsch war es, Menschen in Problemlagen a...</td>\n",
       "    </tr>\n",
       "    <tr>\n",
       "      <th>421</th>\n",
       "      <td>ja</td>\n",
       "      <td>Aus Interesse an der Werkstoffkunde und Entsch...</td>\n",
       "    </tr>\n",
       "    <tr>\n",
       "      <th>82</th>\n",
       "      <td>ja</td>\n",
       "      <td>Technisches Interesse, Praxisnähe</td>\n",
       "    </tr>\n",
       "    <tr>\n",
       "      <th>14</th>\n",
       "      <td>ja</td>\n",
       "      <td>Chemie war mein Lieblingsfach in der Schule. I...</td>\n",
       "    </tr>\n",
       "    <tr>\n",
       "      <th>444</th>\n",
       "      <td>ja</td>\n",
       "      <td>Fachliches Interesse bereits in der Schule. In...</td>\n",
       "    </tr>\n",
       "  </tbody>\n",
       "</table>\n",
       "</div>"
      ],
      "text/plain": [
       "    MINTFach                                             Gründe\n",
       "217     nein  Mein Wunsch war es, Menschen in Problemlagen a...\n",
       "421       ja  Aus Interesse an der Werkstoffkunde und Entsch...\n",
       "82        ja                  Technisches Interesse, Praxisnähe\n",
       "14        ja  Chemie war mein Lieblingsfach in der Schule. I...\n",
       "444       ja  Fachliches Interesse bereits in der Schule. In..."
      ]
     },
     "execution_count": 44,
     "metadata": {},
     "output_type": "execute_result"
    }
   ],
   "source": [
    "import sqlite3\n",
    "import pandas as pd\n",
    "import os.path\n",
    "\n",
    "dbPath = \"database/bachelor_umfrage.db\"\n",
    "\n",
    "def get_sentiment_reason_data(table_name=\"sentiment\"):\n",
    "    df = pd.DataFrame()\n",
    "    if os.path.isfile(dbPath):\n",
    "        conn = sqlite3.connect(dbPath)\n",
    "        sql = \"SELECT MINTFach, Gründe FROM \" + table_name\n",
    "        sql += \" WHERE Gründe IS NOT NULL\"\n",
    "        df = pd.read_sql_query(sql, conn)\n",
    "    else:\n",
    "        print(\"Datenbank oder Tabelle konnte nicht gefunden werden.\")\n",
    "    return df\n",
    "\n",
    "reason_df = get_sentiment_reason_data(table_name=\"sentiment\")\n",
    "reason_df.sample(5)"
   ]
  },
  {
   "cell_type": "markdown",
   "metadata": {},
   "source": [
    "## Sentiment Analyse"
   ]
  },
  {
   "cell_type": "code",
   "execution_count": 45,
   "metadata": {},
   "outputs": [],
   "source": [
    "from textblob_de import TextBlobDE\n",
    "\n",
    "def get_sentiment_polarity(text):\n",
    "    blob = TextBlobDE(text)\n",
    "\n",
    "    for sentence in blob.sentences:\n",
    "        return sentence.sentiment.polarity"
   ]
  },
  {
   "cell_type": "code",
   "execution_count": 46,
   "metadata": {},
   "outputs": [],
   "source": [
    "polarity_list = []\n",
    "\n",
    "for i, row in reason_df.iterrows():\n",
    "    polarity = get_sentiment_polarity(row[\"Gründe\"])\n",
    "    polarity_list.append(polarity)\n",
    "    \n",
    "reason_df[\"polarity\"] = polarity_list"
   ]
  },
  {
   "cell_type": "code",
   "execution_count": 47,
   "metadata": {},
   "outputs": [
    {
     "data": {
      "text/html": [
       "<div>\n",
       "<style scoped>\n",
       "    .dataframe tbody tr th:only-of-type {\n",
       "        vertical-align: middle;\n",
       "    }\n",
       "\n",
       "    .dataframe tbody tr th {\n",
       "        vertical-align: top;\n",
       "    }\n",
       "\n",
       "    .dataframe thead th {\n",
       "        text-align: right;\n",
       "    }\n",
       "</style>\n",
       "<table border=\"1\" class=\"dataframe\">\n",
       "  <thead>\n",
       "    <tr style=\"text-align: right;\">\n",
       "      <th></th>\n",
       "      <th>MINTFach</th>\n",
       "      <th>Gründe</th>\n",
       "      <th>polarity</th>\n",
       "      <th>sentiment</th>\n",
       "    </tr>\n",
       "  </thead>\n",
       "  <tbody>\n",
       "    <tr>\n",
       "      <th>268</th>\n",
       "      <td>ja</td>\n",
       "      <td>Ich konnte Mathe und Informatik weshalb der St...</td>\n",
       "      <td>0.00</td>\n",
       "      <td>neutral</td>\n",
       "    </tr>\n",
       "    <tr>\n",
       "      <th>133</th>\n",
       "      <td>ja</td>\n",
       "      <td>Ich wollte mein Wissen im Bereich Werkstoffe v...</td>\n",
       "      <td>0.00</td>\n",
       "      <td>neutral</td>\n",
       "    </tr>\n",
       "    <tr>\n",
       "      <th>120</th>\n",
       "      <td>ja</td>\n",
       "      <td>Wichtig für die Zukunft (Klima, Ressourcenknap...</td>\n",
       "      <td>0.85</td>\n",
       "      <td>very positive</td>\n",
       "    </tr>\n",
       "    <tr>\n",
       "      <th>420</th>\n",
       "      <td>ja</td>\n",
       "      <td>Interesse an Informatik in der Schule, Lust me...</td>\n",
       "      <td>0.00</td>\n",
       "      <td>neutral</td>\n",
       "    </tr>\n",
       "    <tr>\n",
       "      <th>101</th>\n",
       "      <td>nein</td>\n",
       "      <td>Ich hab es nie in Erwägung gezogen</td>\n",
       "      <td>-0.70</td>\n",
       "      <td>very negative</td>\n",
       "    </tr>\n",
       "  </tbody>\n",
       "</table>\n",
       "</div>"
      ],
      "text/plain": [
       "    MINTFach                                             Gründe  polarity  \\\n",
       "268       ja  Ich konnte Mathe und Informatik weshalb der St...      0.00   \n",
       "133       ja  Ich wollte mein Wissen im Bereich Werkstoffe v...      0.00   \n",
       "120       ja  Wichtig für die Zukunft (Klima, Ressourcenknap...      0.85   \n",
       "420       ja  Interesse an Informatik in der Schule, Lust me...      0.00   \n",
       "101     nein                 Ich hab es nie in Erwägung gezogen     -0.70   \n",
       "\n",
       "         sentiment  \n",
       "268        neutral  \n",
       "133        neutral  \n",
       "120  very positive  \n",
       "420        neutral  \n",
       "101  very negative  "
      ]
     },
     "execution_count": 47,
     "metadata": {},
     "output_type": "execute_result"
    }
   ],
   "source": [
    "def label_polarity (row):\n",
    "    if row['polarity'] > 0.5 :\n",
    "        return 'very positive'\n",
    "    elif row['polarity'] < 0.5 and row['polarity'] > 0 :\n",
    "        return 'positive'\n",
    "    elif row['polarity'] > -0.5 and row['polarity'] < 0 :\n",
    "        return 'negative'\n",
    "    elif row['polarity'] < -0.5 :\n",
    "        return 'very negative'\n",
    "    else:\n",
    "        return 'neutral'\n",
    "\n",
    "reason_df['sentiment'] = reason_df.apply(label_polarity, axis=1)\n",
    "reason_df.sample(5)"
   ]
  },
  {
   "cell_type": "markdown",
   "metadata": {},
   "source": [
    "Negativster & Positivster Sentiment"
   ]
  },
  {
   "cell_type": "code",
   "execution_count": 48,
   "metadata": {},
   "outputs": [
    {
     "data": {
      "text/html": [
       "<div>\n",
       "<style scoped>\n",
       "    .dataframe tbody tr th:only-of-type {\n",
       "        vertical-align: middle;\n",
       "    }\n",
       "\n",
       "    .dataframe tbody tr th {\n",
       "        vertical-align: top;\n",
       "    }\n",
       "\n",
       "    .dataframe thead th {\n",
       "        text-align: right;\n",
       "    }\n",
       "</style>\n",
       "<table border=\"1\" class=\"dataframe\">\n",
       "  <thead>\n",
       "    <tr style=\"text-align: right;\">\n",
       "      <th></th>\n",
       "      <th>MINTFach</th>\n",
       "      <th>Gründe</th>\n",
       "      <th>polarity</th>\n",
       "      <th>sentiment</th>\n",
       "    </tr>\n",
       "  </thead>\n",
       "  <tbody>\n",
       "    <tr>\n",
       "      <th>294</th>\n",
       "      <td>ja</td>\n",
       "      <td>Da ich Kenntnisse über den Beruf bereits durch...</td>\n",
       "      <td>1.0</td>\n",
       "      <td>very positive</td>\n",
       "    </tr>\n",
       "    <tr>\n",
       "      <th>111</th>\n",
       "      <td>ja</td>\n",
       "      <td>Allgemeines Interesse in Technik und Naturwiss...</td>\n",
       "      <td>1.0</td>\n",
       "      <td>very positive</td>\n",
       "    </tr>\n",
       "    <tr>\n",
       "      <th>175</th>\n",
       "      <td>ja</td>\n",
       "      <td>Ich mochte schon immer die Naturwissenschaften...</td>\n",
       "      <td>1.0</td>\n",
       "      <td>very positive</td>\n",
       "    </tr>\n",
       "    <tr>\n",
       "      <th>220</th>\n",
       "      <td>nein</td>\n",
       "      <td>Für mich stand es außer Frage niemals ein MINT...</td>\n",
       "      <td>1.0</td>\n",
       "      <td>very positive</td>\n",
       "    </tr>\n",
       "    <tr>\n",
       "      <th>412</th>\n",
       "      <td>ja</td>\n",
       "      <td>Die Kombination aus Wirtschaft und Informatik ...</td>\n",
       "      <td>1.0</td>\n",
       "      <td>very positive</td>\n",
       "    </tr>\n",
       "  </tbody>\n",
       "</table>\n",
       "</div>"
      ],
      "text/plain": [
       "    MINTFach                                             Gründe  polarity  \\\n",
       "294       ja  Da ich Kenntnisse über den Beruf bereits durch...       1.0   \n",
       "111       ja  Allgemeines Interesse in Technik und Naturwiss...       1.0   \n",
       "175       ja  Ich mochte schon immer die Naturwissenschaften...       1.0   \n",
       "220     nein  Für mich stand es außer Frage niemals ein MINT...       1.0   \n",
       "412       ja  Die Kombination aus Wirtschaft und Informatik ...       1.0   \n",
       "\n",
       "         sentiment  \n",
       "294  very positive  \n",
       "111  very positive  \n",
       "175  very positive  \n",
       "220  very positive  \n",
       "412  very positive  "
      ]
     },
     "execution_count": 48,
     "metadata": {},
     "output_type": "execute_result"
    },
    {
     "data": {
      "text/html": [
       "<div>\n",
       "<style scoped>\n",
       "    .dataframe tbody tr th:only-of-type {\n",
       "        vertical-align: middle;\n",
       "    }\n",
       "\n",
       "    .dataframe tbody tr th {\n",
       "        vertical-align: top;\n",
       "    }\n",
       "\n",
       "    .dataframe thead th {\n",
       "        text-align: right;\n",
       "    }\n",
       "</style>\n",
       "<table border=\"1\" class=\"dataframe\">\n",
       "  <thead>\n",
       "    <tr style=\"text-align: right;\">\n",
       "      <th></th>\n",
       "      <th>MINTFach</th>\n",
       "      <th>Gründe</th>\n",
       "      <th>polarity</th>\n",
       "      <th>sentiment</th>\n",
       "    </tr>\n",
       "  </thead>\n",
       "  <tbody>\n",
       "    <tr>\n",
       "      <th>155</th>\n",
       "      <td>nein</td>\n",
       "      <td>Da ich keinerlei Talent für naturwissenschaftl...</td>\n",
       "      <td>-1.0</td>\n",
       "      <td>very negative</td>\n",
       "    </tr>\n",
       "    <tr>\n",
       "      <th>17</th>\n",
       "      <td>ja</td>\n",
       "      <td>Erststudium Geisteswissenschaften, zwar mit Be...</td>\n",
       "      <td>-1.0</td>\n",
       "      <td>very negative</td>\n",
       "    </tr>\n",
       "    <tr>\n",
       "      <th>399</th>\n",
       "      <td>nein</td>\n",
       "      <td>Ich war schlecht in den meisten Milz Fächern.</td>\n",
       "      <td>-1.0</td>\n",
       "      <td>very negative</td>\n",
       "    </tr>\n",
       "    <tr>\n",
       "      <th>344</th>\n",
       "      <td>ja</td>\n",
       "      <td>Ich habe bereits in sehr vielen verschiedenen ...</td>\n",
       "      <td>-1.0</td>\n",
       "      <td>very negative</td>\n",
       "    </tr>\n",
       "    <tr>\n",
       "      <th>350</th>\n",
       "      <td>nein</td>\n",
       "      <td>Nein, immer schon schlecht in Mathe und Physik...</td>\n",
       "      <td>-1.0</td>\n",
       "      <td>very negative</td>\n",
       "    </tr>\n",
       "  </tbody>\n",
       "</table>\n",
       "</div>"
      ],
      "text/plain": [
       "    MINTFach                                             Gründe  polarity  \\\n",
       "155     nein  Da ich keinerlei Talent für naturwissenschaftl...      -1.0   \n",
       "17        ja  Erststudium Geisteswissenschaften, zwar mit Be...      -1.0   \n",
       "399     nein      Ich war schlecht in den meisten Milz Fächern.      -1.0   \n",
       "344       ja  Ich habe bereits in sehr vielen verschiedenen ...      -1.0   \n",
       "350     nein  Nein, immer schon schlecht in Mathe und Physik...      -1.0   \n",
       "\n",
       "         sentiment  \n",
       "155  very negative  \n",
       "17   very negative  \n",
       "399  very negative  \n",
       "344  very negative  \n",
       "350  very negative  "
      ]
     },
     "execution_count": 48,
     "metadata": {},
     "output_type": "execute_result"
    }
   ],
   "source": [
    "reason_df[reason_df.polarity == reason_df.polarity.max()].sample(5)\n",
    "reason_df[reason_df.polarity == reason_df.polarity.min()].sample(5)"
   ]
  },
  {
   "cell_type": "markdown",
   "metadata": {},
   "source": [
    "## Visualisierung"
   ]
  },
  {
   "cell_type": "code",
   "execution_count": 49,
   "metadata": {},
   "outputs": [
    {
     "data": {
      "text/plain": [
       "0.2530820105820106"
      ]
     },
     "execution_count": 49,
     "metadata": {},
     "output_type": "execute_result"
    }
   ],
   "source": [
    "#calculate average\n",
    "polarity_sum = reason_df[\"polarity\"].sum()\n",
    "length = len(reason_df.index)\n",
    "average = polarity_sum / length\n",
    "average"
   ]
  },
  {
   "cell_type": "code",
   "execution_count": 50,
   "metadata": {},
   "outputs": [
    {
     "data": {
      "text/plain": [
       "<matplotlib.axes._subplots.AxesSubplot at 0x1e3bd1c0ac8>"
      ]
     },
     "execution_count": 50,
     "metadata": {},
     "output_type": "execute_result"
    },
    {
     "data": {
      "text/plain": [
       "sentiment\n",
       "negative          19\n",
       "neutral          265\n",
       "positive          26\n",
       "very negative     27\n",
       "very positive    167\n",
       "Name: sentiment, dtype: int64"
      ]
     },
     "execution_count": 50,
     "metadata": {},
     "output_type": "execute_result"
    },
    {
     "data": {
      "image/png": "[encoded data removed]",
      "text/plain": [
       "<Figure size 576x432 with 1 Axes>"
      ]
     },
     "metadata": {
      "needs_background": "light"
     },
     "output_type": "display_data"
    }
   ],
   "source": [
    "%matplotlib inline\n",
    "\n",
    "import matplotlib.pyplot as plt\n",
    "fig = plt.figure(figsize=(8,6))\n",
    "reason_df.groupby(\"sentiment\")[\"sentiment\"].count().plot.bar(ylim=0);\n",
    "reason_df.groupby(\"sentiment\")[\"sentiment\"].count()"
   ]
  },
  {
   "cell_type": "code",
   "execution_count": 51,
   "metadata": {},
   "outputs": [
    {
     "data": {
      "text/plain": [
       "287"
      ]
     },
     "execution_count": 51,
     "metadata": {},
     "output_type": "execute_result"
    },
    {
     "data": {
      "text/plain": [
       "0.44443670150987225"
      ]
     },
     "execution_count": 51,
     "metadata": {},
     "output_type": "execute_result"
    }
   ],
   "source": [
    "#calculate average of mint\n",
    "mint = reason_df[reason_df['MINTFach'] == \"ja\"]\n",
    "pol_sum_mint = mint[\"polarity\"].sum()\n",
    "length = len(mint.index)\n",
    "length\n",
    "average_mint = pol_sum / length\n",
    "average_mint"
   ]
  },
  {
   "cell_type": "code",
   "execution_count": 52,
   "metadata": {},
   "outputs": [
    {
     "data": {
      "text/plain": [
       "<matplotlib.axes._subplots.AxesSubplot at 0x1e3bd19fcc0>"
      ]
     },
     "execution_count": 52,
     "metadata": {},
     "output_type": "execute_result"
    },
    {
     "data": {
      "text/plain": [
       "sentiment\n",
       "neutral          162\n",
       "positive          10\n",
       "very negative      2\n",
       "very positive    113\n",
       "Name: sentiment, dtype: int64"
      ]
     },
     "execution_count": 52,
     "metadata": {},
     "output_type": "execute_result"
    },
    {
     "data": {
      "image/png": "[encoded data removed]",
      "text/plain": [
       "<Figure size 576x432 with 1 Axes>"
      ]
     },
     "metadata": {
      "needs_background": "light"
     },
     "output_type": "display_data"
    }
   ],
   "source": [
    "%matplotlib inline\n",
    "\n",
    "import matplotlib.pyplot as plt\n",
    "fig = plt.figure(figsize=(8,6))\n",
    "mint.groupby(\"sentiment\")[\"sentiment\"].count().plot.bar(ylim=0);\n",
    "mint.groupby(\"sentiment\")[\"sentiment\"].count()"
   ]
  },
  {
   "cell_type": "code",
   "execution_count": 53,
   "metadata": {},
   "outputs": [
    {
     "data": {
      "text/plain": [
       "217"
      ]
     },
     "execution_count": 53,
     "metadata": {},
     "output_type": "execute_result"
    },
    {
     "data": {
      "text/plain": [
       "0.5878033794162826"
      ]
     },
     "execution_count": 53,
     "metadata": {},
     "output_type": "execute_result"
    }
   ],
   "source": [
    "#calculate average of non mint\n",
    "none_mint = reason_df[reason_df['MINTFach'] == \"nein\"]\n",
    "pol_sum_none_mint = none_mint[\"polarity\"].sum()\n",
    "length = len(none_mint.index)\n",
    "length\n",
    "average_none_mint = pol_sum / length\n",
    "average_none_mint"
   ]
  },
  {
   "cell_type": "code",
   "execution_count": 54,
   "metadata": {},
   "outputs": [
    {
     "data": {
      "text/plain": [
       "<matplotlib.axes._subplots.AxesSubplot at 0x1e3bd178860>"
      ]
     },
     "execution_count": 54,
     "metadata": {},
     "output_type": "execute_result"
    },
    {
     "data": {
      "text/plain": [
       "sentiment\n",
       "negative          19\n",
       "neutral          103\n",
       "positive          16\n",
       "very negative     25\n",
       "very positive     54\n",
       "Name: sentiment, dtype: int64"
      ]
     },
     "execution_count": 54,
     "metadata": {},
     "output_type": "execute_result"
    },
    {
     "data": {
      "image/png": "[encoded data removed]",
      "text/plain": [
       "<Figure size 576x432 with 1 Axes>"
      ]
     },
     "metadata": {
      "needs_background": "light"
     },
     "output_type": "display_data"
    }
   ],
   "source": [
    "%matplotlib inline\n",
    "\n",
    "import matplotlib.pyplot as plt\n",
    "fig = plt.figure(figsize=(8,6))\n",
    "none_mint.groupby(\"sentiment\")[\"sentiment\"].count().plot.bar(ylim=0);\n",
    "none_mint.groupby(\"sentiment\")[\"sentiment\"].count()"
   ]
  },
  {
   "cell_type": "markdown",
   "metadata": {},
   "source": [
    "# Sentiment Analyse der Verbesserungsvorschläge"
   ]
  },
  {
   "cell_type": "markdown",
   "metadata": {},
   "source": [
    "## Datenvorbereitung"
   ]
  },
  {
   "cell_type": "code",
   "execution_count": 55,
   "metadata": {},
   "outputs": [
    {
     "data": {
      "text/html": [
       "<div>\n",
       "<style scoped>\n",
       "    .dataframe tbody tr th:only-of-type {\n",
       "        vertical-align: middle;\n",
       "    }\n",
       "\n",
       "    .dataframe tbody tr th {\n",
       "        vertical-align: top;\n",
       "    }\n",
       "\n",
       "    .dataframe thead th {\n",
       "        text-align: right;\n",
       "    }\n",
       "</style>\n",
       "<table border=\"1\" class=\"dataframe\">\n",
       "  <thead>\n",
       "    <tr style=\"text-align: right;\">\n",
       "      <th></th>\n",
       "      <th>MINTFach</th>\n",
       "      <th>Verbesserungsvorschläge</th>\n",
       "    </tr>\n",
       "  </thead>\n",
       "  <tbody>\n",
       "    <tr>\n",
       "      <th>207</th>\n",
       "      <td>ja</td>\n",
       "      <td>Es wäre doch schön, wenn wir MINT-Fächer anbie...</td>\n",
       "    </tr>\n",
       "    <tr>\n",
       "      <th>177</th>\n",
       "      <td>ja</td>\n",
       "      <td>Mehr Praxisbeispiele, bzw. die Berufe genauer ...</td>\n",
       "    </tr>\n",
       "    <tr>\n",
       "      <th>11</th>\n",
       "      <td>ja</td>\n",
       "      <td>Mehr Praxis in der Schule etablieren</td>\n",
       "    </tr>\n",
       "    <tr>\n",
       "      <th>175</th>\n",
       "      <td>nein</td>\n",
       "      <td>zugänglicher machen, Gefühl der Abgehobenheit ...</td>\n",
       "    </tr>\n",
       "    <tr>\n",
       "      <th>144</th>\n",
       "      <td>nein</td>\n",
       "      <td>mehr praxisnahe Beispiele</td>\n",
       "    </tr>\n",
       "  </tbody>\n",
       "</table>\n",
       "</div>"
      ],
      "text/plain": [
       "    MINTFach                            Verbesserungsvorschläge\n",
       "207       ja  Es wäre doch schön, wenn wir MINT-Fächer anbie...\n",
       "177       ja  Mehr Praxisbeispiele, bzw. die Berufe genauer ...\n",
       "11        ja               Mehr Praxis in der Schule etablieren\n",
       "175     nein  zugänglicher machen, Gefühl der Abgehobenheit ...\n",
       "144     nein                          mehr praxisnahe Beispiele"
      ]
     },
     "execution_count": 55,
     "metadata": {},
     "output_type": "execute_result"
    }
   ],
   "source": [
    "import sqlite3\n",
    "import pandas as pd\n",
    "import os.path\n",
    "\n",
    "dbPath = \"database/bachelor_umfrage.db\"\n",
    "\n",
    "def get_sentiment_suggestion_data(table_name=\"sentiment\"):\n",
    "    df = pd.DataFrame()\n",
    "    if os.path.isfile(dbPath):\n",
    "        conn = sqlite3.connect(dbPath)\n",
    "        sql = \"SELECT MINTFach, Verbesserungsvorschläge FROM \" + table_name\n",
    "        sql += \" WHERE Verbesserungsvorschläge IS NOT NULL\"\n",
    "        df = pd.read_sql_query(sql, conn)\n",
    "    else:\n",
    "        print(\"Datenbank oder Tabelle konnte nicht gefunden werden.\")\n",
    "    return df\n",
    "\n",
    "suggestion_df = get_sentiment_suggestion_data(table_name=\"sentiment\")\n",
    "suggestion_df.sample(5)"
   ]
  },
  {
   "cell_type": "markdown",
   "metadata": {},
   "source": [
    "## Sentiment Analyse"
   ]
  },
  {
   "cell_type": "code",
   "execution_count": 56,
   "metadata": {},
   "outputs": [],
   "source": [
    "from textblob_de import TextBlobDE\n",
    "\n",
    "def get_sentiment_polarity(text):\n",
    "    blob = TextBlobDE(text)\n",
    "\n",
    "    for sentence in blob.sentences:\n",
    "        return sentence.sentiment.polarity"
   ]
  },
  {
   "cell_type": "code",
   "execution_count": 57,
   "metadata": {},
   "outputs": [],
   "source": [
    "polarity_list = []\n",
    "\n",
    "for i, row in suggestion_df.iterrows():\n",
    "    polarity = get_sentiment_polarity(row[\"Verbesserungsvorschläge\"])\n",
    "    polarity_list.append(polarity)\n",
    "    \n",
    "suggestion_df[\"polarity\"] = polarity_list"
   ]
  },
  {
   "cell_type": "code",
   "execution_count": 58,
   "metadata": {},
   "outputs": [
    {
     "data": {
      "text/html": [
       "<div>\n",
       "<style scoped>\n",
       "    .dataframe tbody tr th:only-of-type {\n",
       "        vertical-align: middle;\n",
       "    }\n",
       "\n",
       "    .dataframe tbody tr th {\n",
       "        vertical-align: top;\n",
       "    }\n",
       "\n",
       "    .dataframe thead th {\n",
       "        text-align: right;\n",
       "    }\n",
       "</style>\n",
       "<table border=\"1\" class=\"dataframe\">\n",
       "  <thead>\n",
       "    <tr style=\"text-align: right;\">\n",
       "      <th></th>\n",
       "      <th>MINTFach</th>\n",
       "      <th>Verbesserungsvorschläge</th>\n",
       "      <th>polarity</th>\n",
       "      <th>sentiment</th>\n",
       "    </tr>\n",
       "  </thead>\n",
       "  <tbody>\n",
       "    <tr>\n",
       "      <th>279</th>\n",
       "      <td>nein</td>\n",
       "      <td>naja.Die Schule sollte jedem Kind,dass MINT-Fä...</td>\n",
       "      <td>0.0</td>\n",
       "      <td>neutral</td>\n",
       "    </tr>\n",
       "    <tr>\n",
       "      <th>39</th>\n",
       "      <td>ja</td>\n",
       "      <td>Ordentliche Aufklärung in der Schule über Stud...</td>\n",
       "      <td>0.5</td>\n",
       "      <td>neutral</td>\n",
       "    </tr>\n",
       "    <tr>\n",
       "      <th>287</th>\n",
       "      <td>nein</td>\n",
       "      <td>keine Vorschläge, die Fächer haben mich einfac...</td>\n",
       "      <td>-1.0</td>\n",
       "      <td>very negative</td>\n",
       "    </tr>\n",
       "    <tr>\n",
       "      <th>214</th>\n",
       "      <td>nein</td>\n",
       "      <td>Wäre es möglich altruistische/soziale Elemente...</td>\n",
       "      <td>0.7</td>\n",
       "      <td>very positive</td>\n",
       "    </tr>\n",
       "    <tr>\n",
       "      <th>339</th>\n",
       "      <td>nein</td>\n",
       "      <td>Das ist eine schwierige Frage. Ich denke aber,...</td>\n",
       "      <td>-0.7</td>\n",
       "      <td>very negative</td>\n",
       "    </tr>\n",
       "  </tbody>\n",
       "</table>\n",
       "</div>"
      ],
      "text/plain": [
       "    MINTFach                            Verbesserungsvorschläge  polarity  \\\n",
       "279     nein  naja.Die Schule sollte jedem Kind,dass MINT-Fä...       0.0   \n",
       "39        ja  Ordentliche Aufklärung in der Schule über Stud...       0.5   \n",
       "287     nein  keine Vorschläge, die Fächer haben mich einfac...      -1.0   \n",
       "214     nein  Wäre es möglich altruistische/soziale Elemente...       0.7   \n",
       "339     nein  Das ist eine schwierige Frage. Ich denke aber,...      -0.7   \n",
       "\n",
       "         sentiment  \n",
       "279        neutral  \n",
       "39         neutral  \n",
       "287  very negative  \n",
       "214  very positive  \n",
       "339  very negative  "
      ]
     },
     "execution_count": 58,
     "metadata": {},
     "output_type": "execute_result"
    }
   ],
   "source": [
    "suggestion_df['sentiment'] = suggestion_df.apply(label_polarity, axis=1)\n",
    "suggestion_df.sample(5)"
   ]
  },
  {
   "cell_type": "markdown",
   "metadata": {},
   "source": [
    "Negativster & Positivster Sentiment"
   ]
  },
  {
   "cell_type": "code",
   "execution_count": 59,
   "metadata": {},
   "outputs": [
    {
     "data": {
      "text/html": [
       "<div>\n",
       "<style scoped>\n",
       "    .dataframe tbody tr th:only-of-type {\n",
       "        vertical-align: middle;\n",
       "    }\n",
       "\n",
       "    .dataframe tbody tr th {\n",
       "        vertical-align: top;\n",
       "    }\n",
       "\n",
       "    .dataframe thead th {\n",
       "        text-align: right;\n",
       "    }\n",
       "</style>\n",
       "<table border=\"1\" class=\"dataframe\">\n",
       "  <thead>\n",
       "    <tr style=\"text-align: right;\">\n",
       "      <th></th>\n",
       "      <th>MINTFach</th>\n",
       "      <th>Verbesserungsvorschläge</th>\n",
       "      <th>polarity</th>\n",
       "      <th>sentiment</th>\n",
       "    </tr>\n",
       "  </thead>\n",
       "  <tbody>\n",
       "    <tr>\n",
       "      <th>237</th>\n",
       "      <td>ja</td>\n",
       "      <td>kompetentere Professoren und mehr praktische Ü...</td>\n",
       "      <td>1.0</td>\n",
       "      <td>very positive</td>\n",
       "    </tr>\n",
       "    <tr>\n",
       "      <th>178</th>\n",
       "      <td>ja</td>\n",
       "      <td>Bessere Lehrer, die für MINT begeistern können...</td>\n",
       "      <td>1.0</td>\n",
       "      <td>very positive</td>\n",
       "    </tr>\n",
       "    <tr>\n",
       "      <th>85</th>\n",
       "      <td>nein</td>\n",
       "      <td>Schon in der Schule die Fächer attraktiver ges...</td>\n",
       "      <td>1.0</td>\n",
       "      <td>very positive</td>\n",
       "    </tr>\n",
       "    <tr>\n",
       "      <th>105</th>\n",
       "      <td>nein</td>\n",
       "      <td>Mehr praktische Erfahrungen sammeln. Zb in Ele...</td>\n",
       "      <td>1.0</td>\n",
       "      <td>very positive</td>\n",
       "    </tr>\n",
       "    <tr>\n",
       "      <th>189</th>\n",
       "      <td>ja</td>\n",
       "      <td>Beispiele von erfolgreichen Frauen usw aufzeigen</td>\n",
       "      <td>1.0</td>\n",
       "      <td>very positive</td>\n",
       "    </tr>\n",
       "  </tbody>\n",
       "</table>\n",
       "</div>"
      ],
      "text/plain": [
       "    MINTFach                            Verbesserungsvorschläge  polarity  \\\n",
       "237       ja  kompetentere Professoren und mehr praktische Ü...       1.0   \n",
       "178       ja  Bessere Lehrer, die für MINT begeistern können...       1.0   \n",
       "85      nein  Schon in der Schule die Fächer attraktiver ges...       1.0   \n",
       "105     nein  Mehr praktische Erfahrungen sammeln. Zb in Ele...       1.0   \n",
       "189       ja   Beispiele von erfolgreichen Frauen usw aufzeigen       1.0   \n",
       "\n",
       "         sentiment  \n",
       "237  very positive  \n",
       "178  very positive  \n",
       "85   very positive  \n",
       "105  very positive  \n",
       "189  very positive  "
      ]
     },
     "execution_count": 59,
     "metadata": {},
     "output_type": "execute_result"
    },
    {
     "data": {
      "text/html": [
       "<div>\n",
       "<style scoped>\n",
       "    .dataframe tbody tr th:only-of-type {\n",
       "        vertical-align: middle;\n",
       "    }\n",
       "\n",
       "    .dataframe tbody tr th {\n",
       "        vertical-align: top;\n",
       "    }\n",
       "\n",
       "    .dataframe thead th {\n",
       "        text-align: right;\n",
       "    }\n",
       "</style>\n",
       "<table border=\"1\" class=\"dataframe\">\n",
       "  <thead>\n",
       "    <tr style=\"text-align: right;\">\n",
       "      <th></th>\n",
       "      <th>MINTFach</th>\n",
       "      <th>Verbesserungsvorschläge</th>\n",
       "      <th>polarity</th>\n",
       "      <th>sentiment</th>\n",
       "    </tr>\n",
       "  </thead>\n",
       "  <tbody>\n",
       "    <tr>\n",
       "      <th>282</th>\n",
       "      <td>ja</td>\n",
       "      <td>Auf keinen Fall das Niveau herabsetzen, da hat...</td>\n",
       "      <td>-1.0</td>\n",
       "      <td>very negative</td>\n",
       "    </tr>\n",
       "    <tr>\n",
       "      <th>332</th>\n",
       "      <td>nein</td>\n",
       "      <td>Da ich keins dieser Fächer studiere, kann ich ...</td>\n",
       "      <td>-1.0</td>\n",
       "      <td>very negative</td>\n",
       "    </tr>\n",
       "    <tr>\n",
       "      <th>353</th>\n",
       "      <td>ja</td>\n",
       "      <td>Einer der wichtigsten Punkte ist es meiner Mei...</td>\n",
       "      <td>-1.0</td>\n",
       "      <td>very negative</td>\n",
       "    </tr>\n",
       "    <tr>\n",
       "      <th>48</th>\n",
       "      <td>nein</td>\n",
       "      <td>Ich finde es schade, dass die Fächer in der Sc...</td>\n",
       "      <td>-1.0</td>\n",
       "      <td>very negative</td>\n",
       "    </tr>\n",
       "    <tr>\n",
       "      <th>68</th>\n",
       "      <td>ja</td>\n",
       "      <td>Naturwissenschaften dürfen nicht als 'langweil...</td>\n",
       "      <td>-1.0</td>\n",
       "      <td>very negative</td>\n",
       "    </tr>\n",
       "  </tbody>\n",
       "</table>\n",
       "</div>"
      ],
      "text/plain": [
       "    MINTFach                            Verbesserungsvorschläge  polarity  \\\n",
       "282       ja  Auf keinen Fall das Niveau herabsetzen, da hat...      -1.0   \n",
       "332     nein  Da ich keins dieser Fächer studiere, kann ich ...      -1.0   \n",
       "353       ja  Einer der wichtigsten Punkte ist es meiner Mei...      -1.0   \n",
       "48      nein  Ich finde es schade, dass die Fächer in der Sc...      -1.0   \n",
       "68        ja  Naturwissenschaften dürfen nicht als 'langweil...      -1.0   \n",
       "\n",
       "         sentiment  \n",
       "282  very negative  \n",
       "332  very negative  \n",
       "353  very negative  \n",
       "48   very negative  \n",
       "68   very negative  "
      ]
     },
     "execution_count": 59,
     "metadata": {},
     "output_type": "execute_result"
    }
   ],
   "source": [
    "suggestion_df[suggestion_df.polarity == suggestion_df.polarity.max()].sample(5)\n",
    "suggestion_df[suggestion_df.polarity == suggestion_df.polarity.min()].sample(5)"
   ]
  },
  {
   "cell_type": "markdown",
   "metadata": {},
   "source": [
    "## Visualisierung"
   ]
  },
  {
   "cell_type": "code",
   "execution_count": 60,
   "metadata": {},
   "outputs": [
    {
     "data": {
      "text/plain": [
       "0.11119543650793652"
      ]
     },
     "execution_count": 60,
     "metadata": {},
     "output_type": "execute_result"
    }
   ],
   "source": [
    "#calculate average\n",
    "polarity_sum = suggestion_df[\"polarity\"].sum()\n",
    "length = len(reason_df.index)\n",
    "average = polarity_sum / length\n",
    "average"
   ]
  },
  {
   "cell_type": "code",
   "execution_count": 61,
   "metadata": {},
   "outputs": [
    {
     "data": {
      "text/plain": [
       "<matplotlib.axes._subplots.AxesSubplot at 0x1e3bd1f6748>"
      ]
     },
     "execution_count": 61,
     "metadata": {},
     "output_type": "execute_result"
    },
    {
     "data": {
      "text/plain": [
       "sentiment\n",
       "negative           4\n",
       "neutral          248\n",
       "positive          20\n",
       "very negative     19\n",
       "very positive     75\n",
       "Name: sentiment, dtype: int64"
      ]
     },
     "execution_count": 61,
     "metadata": {},
     "output_type": "execute_result"
    },
    {
     "data": {
      "image/png": "[encoded data removed]",
      "text/plain": [
       "<Figure size 576x432 with 1 Axes>"
      ]
     },
     "metadata": {
      "needs_background": "light"
     },
     "output_type": "display_data"
    }
   ],
   "source": [
    "%matplotlib inline\n",
    "\n",
    "import matplotlib.pyplot as plt\n",
    "fig = plt.figure(figsize=(8,6))\n",
    "suggestion_df.groupby(\"sentiment\")[\"sentiment\"].count().plot.bar(ylim=0);\n",
    "suggestion_df.groupby(\"sentiment\")[\"sentiment\"].count()"
   ]
  }
 ],
 "metadata": {
  "kernelspec": {
   "display_name": "Python 3",
   "language": "python",
   "name": "python3"
  },
  "language_info": {
   "codemirror_mode": {
    "name": "ipython",
    "version": 3
   },
   "file_extension": ".py",
   "mimetype": "text/x-python",
   "name": "python",
   "nbconvert_exporter": "python",
   "pygments_lexer": "ipython3",
   "version": "3.7.1"
  },
  "toc": {
   "base_numbering": 1,
   "nav_menu": {},
   "number_sections": true,
   "sideBar": true,
   "skip_h1_title": false,
   "title_cell": "Table of Contents",
   "title_sidebar": "Contents",
   "toc_cell": true,
   "toc_position": {},
   "toc_section_display": true,
   "toc_window_display": false
  },
  "varInspector": {
   "cols": {
    "lenName": 16,
    "lenType": 16,
    "lenVar": 40
   },
   "kernels_config": {
    "python": {
     "delete_cmd_postfix": "",
     "delete_cmd_prefix": "del ",
     "library": "var_list.py",
     "varRefreshCmd": "print(var_dic_list())"
    },
    "r": {
     "delete_cmd_postfix": ") ",
     "delete_cmd_prefix": "rm(",
     "library": "var_list.r",
     "varRefreshCmd": "cat(var_dic_list()) "
    }
   },
   "types_to_exclude": [
    "module",
    "function",
    "builtin_function_or_method",
    "instance",
    "_Feature"
   ],
   "window_display": false
  }
 },
 "nbformat": 4,
 "nbformat_minor": 2
}
