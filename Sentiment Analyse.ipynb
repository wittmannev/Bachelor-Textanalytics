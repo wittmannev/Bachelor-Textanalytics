{
 "cells": [
  {
   "cell_type": "markdown",
   "metadata": {
    "toc": true
   },
   "source": [
    "<h1>Table of Contents<span class=\"tocSkip\"></span></h1>\n",
    "<div class=\"toc\"><ul class=\"toc-item\"><li><span><a href=\"#Sentiment-Analyse-der-Entscheidungsgründe\" data-toc-modified-id=\"Sentiment-Analyse-der-Entscheidungsgründe-1\"><span class=\"toc-item-num\">1&nbsp;&nbsp;</span>Sentiment Analyse der Entscheidungsgründe</a></span><ul class=\"toc-item\"><li><span><a href=\"#Datenvorbereitung\" data-toc-modified-id=\"Datenvorbereitung-1.1\"><span class=\"toc-item-num\">1.1&nbsp;&nbsp;</span>Datenvorbereitung</a></span></li><li><span><a href=\"#Sentiment-Analyse\" data-toc-modified-id=\"Sentiment-Analyse-1.2\"><span class=\"toc-item-num\">1.2&nbsp;&nbsp;</span>Sentiment Analyse</a></span></li><li><span><a href=\"#Visualisierung\" data-toc-modified-id=\"Visualisierung-1.3\"><span class=\"toc-item-num\">1.3&nbsp;&nbsp;</span>Visualisierung</a></span><ul class=\"toc-item\"><li><span><a href=\"#Alle-Studenten\" data-toc-modified-id=\"Alle-Studenten-1.3.1\"><span class=\"toc-item-num\">1.3.1&nbsp;&nbsp;</span>Alle Studenten</a></span></li><li><span><a href=\"#MINT-Studenten\" data-toc-modified-id=\"MINT-Studenten-1.3.2\"><span class=\"toc-item-num\">1.3.2&nbsp;&nbsp;</span>MINT-Studenten</a></span></li><li><span><a href=\"#Nicht-MINT-Studenten\" data-toc-modified-id=\"Nicht-MINT-Studenten-1.3.3\"><span class=\"toc-item-num\">1.3.3&nbsp;&nbsp;</span>Nicht MINT-Studenten</a></span></li></ul></li></ul></li><li><span><a href=\"#Sentiment-Analyse-der-Verbesserungsvorschläge\" data-toc-modified-id=\"Sentiment-Analyse-der-Verbesserungsvorschläge-2\"><span class=\"toc-item-num\">2&nbsp;&nbsp;</span>Sentiment Analyse der Verbesserungsvorschläge</a></span><ul class=\"toc-item\"><li><span><a href=\"#Datenvorbereitung\" data-toc-modified-id=\"Datenvorbereitung-2.1\"><span class=\"toc-item-num\">2.1&nbsp;&nbsp;</span>Datenvorbereitung</a></span></li><li><span><a href=\"#Sentiment-Analyse\" data-toc-modified-id=\"Sentiment-Analyse-2.2\"><span class=\"toc-item-num\">2.2&nbsp;&nbsp;</span>Sentiment Analyse</a></span></li><li><span><a href=\"#Visualisierung\" data-toc-modified-id=\"Visualisierung-2.3\"><span class=\"toc-item-num\">2.3&nbsp;&nbsp;</span>Visualisierung</a></span><ul class=\"toc-item\"><li><span><a href=\"#Alle-Studenten\" data-toc-modified-id=\"Alle-Studenten-2.3.1\"><span class=\"toc-item-num\">2.3.1&nbsp;&nbsp;</span>Alle Studenten</a></span></li><li><span><a href=\"#MINT-Studenten\" data-toc-modified-id=\"MINT-Studenten-2.3.2\"><span class=\"toc-item-num\">2.3.2&nbsp;&nbsp;</span>MINT-Studenten</a></span></li><li><span><a href=\"#Nicht-MINT-Studenten\" data-toc-modified-id=\"Nicht-MINT-Studenten-2.3.3\"><span class=\"toc-item-num\">2.3.3&nbsp;&nbsp;</span>Nicht MINT-Studenten</a></span></li></ul></li></ul></li></ul></div>"
   ]
  },
  {
   "cell_type": "markdown",
   "metadata": {},
   "source": [
    "Hilfsfunktionen & Einstellungen"
   ]
  },
  {
   "cell_type": "code",
   "execution_count": 2,
   "metadata": {},
   "outputs": [],
   "source": [
    "# for pretty printing\n",
    "import pprint as pp\n",
    "\n",
    "# IPython (Jupyter) setting: \n",
    "# Print out every value instead of just \"last_expr\" (default)\n",
    "from IPython.core.interactiveshell import InteractiveShell\n",
    "InteractiveShell.ast_node_interactivity = \"all\""
   ]
  },
  {
   "cell_type": "markdown",
   "metadata": {},
   "source": [
    "# Sentiment Analyse der Entscheidungsgründe"
   ]
  },
  {
   "cell_type": "markdown",
   "metadata": {},
   "source": [
    "## Datenvorbereitung"
   ]
  },
  {
   "cell_type": "code",
   "execution_count": 3,
   "metadata": {},
   "outputs": [
    {
     "data": {
      "text/html": [
       "<div>\n",
       "<style scoped>\n",
       "    .dataframe tbody tr th:only-of-type {\n",
       "        vertical-align: middle;\n",
       "    }\n",
       "\n",
       "    .dataframe tbody tr th {\n",
       "        vertical-align: top;\n",
       "    }\n",
       "\n",
       "    .dataframe thead th {\n",
       "        text-align: right;\n",
       "    }\n",
       "</style>\n",
       "<table border=\"1\" class=\"dataframe\">\n",
       "  <thead>\n",
       "    <tr style=\"text-align: right;\">\n",
       "      <th></th>\n",
       "      <th>MINTFach</th>\n",
       "      <th>Gründe</th>\n",
       "    </tr>\n",
       "  </thead>\n",
       "  <tbody>\n",
       "    <tr>\n",
       "      <th>342</th>\n",
       "      <td>ja</td>\n",
       "      <td>Ich habe mich für einen Ingenieurs Studiengang...</td>\n",
       "    </tr>\n",
       "    <tr>\n",
       "      <th>191</th>\n",
       "      <td>nein</td>\n",
       "      <td>Weil Mathe blöd ist. Nein.</td>\n",
       "    </tr>\n",
       "    <tr>\n",
       "      <th>456</th>\n",
       "      <td>nein</td>\n",
       "      <td>Da ich in der Schule immer ziemlich schlecht i...</td>\n",
       "    </tr>\n",
       "    <tr>\n",
       "      <th>6</th>\n",
       "      <td>ja</td>\n",
       "      <td>Einschlagen neuer Richtungen. Vom Betriebswirt...</td>\n",
       "    </tr>\n",
       "    <tr>\n",
       "      <th>452</th>\n",
       "      <td>ja</td>\n",
       "      <td>- Interesse an Naturwissenschaften und Mathema...</td>\n",
       "    </tr>\n",
       "  </tbody>\n",
       "</table>\n",
       "</div>"
      ],
      "text/plain": [
       "    MINTFach                                             Gründe\n",
       "342       ja  Ich habe mich für einen Ingenieurs Studiengang...\n",
       "191     nein                         Weil Mathe blöd ist. Nein.\n",
       "456     nein  Da ich in der Schule immer ziemlich schlecht i...\n",
       "6         ja  Einschlagen neuer Richtungen. Vom Betriebswirt...\n",
       "452       ja  - Interesse an Naturwissenschaften und Mathema..."
      ]
     },
     "execution_count": 3,
     "metadata": {},
     "output_type": "execute_result"
    }
   ],
   "source": [
    "import sqlite3\n",
    "import pandas as pd\n",
    "import os.path\n",
    "\n",
    "dbPath = \"database/bachelor_umfrage.db\"\n",
    "\n",
    "def get_sentiment_reason_data(table_name=\"sentiment\"):\n",
    "    df = pd.DataFrame()\n",
    "    if os.path.isfile(dbPath):\n",
    "        conn = sqlite3.connect(dbPath)\n",
    "        sql = \"SELECT MINTFach, Gründe FROM \" + table_name\n",
    "        sql += \" WHERE Gründe IS NOT NULL\"\n",
    "        df = pd.read_sql_query(sql, conn)\n",
    "    else:\n",
    "        print(\"Datenbank oder Tabelle konnte nicht gefunden werden.\")\n",
    "    return df\n",
    "\n",
    "reason_df = get_sentiment_reason_data(table_name=\"sentiment\")\n",
    "reason_df.sample(5)"
   ]
  },
  {
   "cell_type": "markdown",
   "metadata": {},
   "source": [
    "## Sentiment Analyse"
   ]
  },
  {
   "cell_type": "code",
   "execution_count": 4,
   "metadata": {},
   "outputs": [],
   "source": [
    "from textblob_de import TextBlobDE\n",
    "\n",
    "def get_sentiment_polarity(text):\n",
    "    blob = TextBlobDE(text)\n",
    "\n",
    "    for sentence in blob.sentences:\n",
    "        return sentence.sentiment.polarity"
   ]
  },
  {
   "cell_type": "code",
   "execution_count": 5,
   "metadata": {},
   "outputs": [],
   "source": [
    "polarity_list = []\n",
    "\n",
    "for i, row in reason_df.iterrows():\n",
    "    polarity = get_sentiment_polarity(row[\"Gründe\"])\n",
    "    polarity_list.append(polarity)\n",
    "    \n",
    "reason_df[\"polarity\"] = polarity_list"
   ]
  },
  {
   "cell_type": "code",
   "execution_count": 6,
   "metadata": {},
   "outputs": [
    {
     "data": {
      "text/html": [
       "<div>\n",
       "<style scoped>\n",
       "    .dataframe tbody tr th:only-of-type {\n",
       "        vertical-align: middle;\n",
       "    }\n",
       "\n",
       "    .dataframe tbody tr th {\n",
       "        vertical-align: top;\n",
       "    }\n",
       "\n",
       "    .dataframe thead th {\n",
       "        text-align: right;\n",
       "    }\n",
       "</style>\n",
       "<table border=\"1\" class=\"dataframe\">\n",
       "  <thead>\n",
       "    <tr style=\"text-align: right;\">\n",
       "      <th></th>\n",
       "      <th>MINTFach</th>\n",
       "      <th>Gründe</th>\n",
       "      <th>polarity</th>\n",
       "      <th>sentiment</th>\n",
       "    </tr>\n",
       "  </thead>\n",
       "  <tbody>\n",
       "    <tr>\n",
       "      <th>345</th>\n",
       "      <td>ja</td>\n",
       "      <td>Informatik hat mich einfach sehr interessiert.</td>\n",
       "      <td>0.850000</td>\n",
       "      <td>very positive</td>\n",
       "    </tr>\n",
       "    <tr>\n",
       "      <th>436</th>\n",
       "      <td>ja</td>\n",
       "      <td>Faszination für Logik und das Lösen von Proble...</td>\n",
       "      <td>0.000000</td>\n",
       "      <td>neutral</td>\n",
       "    </tr>\n",
       "    <tr>\n",
       "      <th>168</th>\n",
       "      <td>ja</td>\n",
       "      <td>Einfach aus Interesse an dem Beruf..</td>\n",
       "      <td>0.700000</td>\n",
       "      <td>very positive</td>\n",
       "    </tr>\n",
       "    <tr>\n",
       "      <th>58</th>\n",
       "      <td>ja</td>\n",
       "      <td>Praxisbezug während des Studiums, sehr gute Be...</td>\n",
       "      <td>0.666667</td>\n",
       "      <td>very positive</td>\n",
       "    </tr>\n",
       "    <tr>\n",
       "      <th>319</th>\n",
       "      <td>nein</td>\n",
       "      <td>In der Schule hatte ich immer Probleme in den ...</td>\n",
       "      <td>1.000000</td>\n",
       "      <td>very positive</td>\n",
       "    </tr>\n",
       "  </tbody>\n",
       "</table>\n",
       "</div>"
      ],
      "text/plain": [
       "    MINTFach                                             Gründe  polarity  \\\n",
       "345       ja     Informatik hat mich einfach sehr interessiert.  0.850000   \n",
       "436       ja  Faszination für Logik und das Lösen von Proble...  0.000000   \n",
       "168       ja               Einfach aus Interesse an dem Beruf..  0.700000   \n",
       "58        ja  Praxisbezug während des Studiums, sehr gute Be...  0.666667   \n",
       "319     nein  In der Schule hatte ich immer Probleme in den ...  1.000000   \n",
       "\n",
       "         sentiment  \n",
       "345  very positive  \n",
       "436        neutral  \n",
       "168  very positive  \n",
       "58   very positive  \n",
       "319  very positive  "
      ]
     },
     "execution_count": 6,
     "metadata": {},
     "output_type": "execute_result"
    }
   ],
   "source": [
    "def label_polarity (row):\n",
    "    if row['polarity'] > 0.5 :\n",
    "        return 'very positive'\n",
    "    elif row['polarity'] < 0.5 and row['polarity'] > 0 :\n",
    "        return 'positive'\n",
    "    elif row['polarity'] > -0.5 and row['polarity'] < 0 :\n",
    "        return 'negative'\n",
    "    elif row['polarity'] < -0.5 :\n",
    "        return 'very negative'\n",
    "    else:\n",
    "        return 'neutral'\n",
    "\n",
    "reason_df['sentiment'] = reason_df.apply(label_polarity, axis=1)\n",
    "reason_df.sample(5)"
   ]
  },
  {
   "cell_type": "markdown",
   "metadata": {},
   "source": [
    "Negativster & Positivster Sentiment"
   ]
  },
  {
   "cell_type": "code",
   "execution_count": 7,
   "metadata": {},
   "outputs": [
    {
     "data": {
      "text/html": [
       "<div>\n",
       "<style scoped>\n",
       "    .dataframe tbody tr th:only-of-type {\n",
       "        vertical-align: middle;\n",
       "    }\n",
       "\n",
       "    .dataframe tbody tr th {\n",
       "        vertical-align: top;\n",
       "    }\n",
       "\n",
       "    .dataframe thead th {\n",
       "        text-align: right;\n",
       "    }\n",
       "</style>\n",
       "<table border=\"1\" class=\"dataframe\">\n",
       "  <thead>\n",
       "    <tr style=\"text-align: right;\">\n",
       "      <th></th>\n",
       "      <th>MINTFach</th>\n",
       "      <th>Gründe</th>\n",
       "      <th>polarity</th>\n",
       "      <th>sentiment</th>\n",
       "    </tr>\n",
       "  </thead>\n",
       "  <tbody>\n",
       "    <tr>\n",
       "      <th>453</th>\n",
       "      <td>nein</td>\n",
       "      <td>Ich wollte und will gerne aktiv etwas mit Mens...</td>\n",
       "      <td>1.0</td>\n",
       "      <td>very positive</td>\n",
       "    </tr>\n",
       "    <tr>\n",
       "      <th>387</th>\n",
       "      <td>nein</td>\n",
       "      <td>Schon seit der ersten Klasse hatte ich in Math...</td>\n",
       "      <td>1.0</td>\n",
       "      <td>very positive</td>\n",
       "    </tr>\n",
       "    <tr>\n",
       "      <th>337</th>\n",
       "      <td>ja</td>\n",
       "      <td>ich habe mich schon immer für Naturwissenschaf...</td>\n",
       "      <td>1.0</td>\n",
       "      <td>very positive</td>\n",
       "    </tr>\n",
       "    <tr>\n",
       "      <th>327</th>\n",
       "      <td>ja</td>\n",
       "      <td>Gute Berufschancen, Beruf, der immerwieder Neu...</td>\n",
       "      <td>1.0</td>\n",
       "      <td>very positive</td>\n",
       "    </tr>\n",
       "    <tr>\n",
       "      <th>176</th>\n",
       "      <td>ja</td>\n",
       "      <td>In meinem ersten Studoum hat mich besonders de...</td>\n",
       "      <td>1.0</td>\n",
       "      <td>very positive</td>\n",
       "    </tr>\n",
       "  </tbody>\n",
       "</table>\n",
       "</div>"
      ],
      "text/plain": [
       "    MINTFach                                             Gründe  polarity  \\\n",
       "453     nein  Ich wollte und will gerne aktiv etwas mit Mens...       1.0   \n",
       "387     nein  Schon seit der ersten Klasse hatte ich in Math...       1.0   \n",
       "337       ja  ich habe mich schon immer für Naturwissenschaf...       1.0   \n",
       "327       ja  Gute Berufschancen, Beruf, der immerwieder Neu...       1.0   \n",
       "176       ja  In meinem ersten Studoum hat mich besonders de...       1.0   \n",
       "\n",
       "         sentiment  \n",
       "453  very positive  \n",
       "387  very positive  \n",
       "337  very positive  \n",
       "327  very positive  \n",
       "176  very positive  "
      ]
     },
     "execution_count": 7,
     "metadata": {},
     "output_type": "execute_result"
    },
    {
     "data": {
      "text/html": [
       "<div>\n",
       "<style scoped>\n",
       "    .dataframe tbody tr th:only-of-type {\n",
       "        vertical-align: middle;\n",
       "    }\n",
       "\n",
       "    .dataframe tbody tr th {\n",
       "        vertical-align: top;\n",
       "    }\n",
       "\n",
       "    .dataframe thead th {\n",
       "        text-align: right;\n",
       "    }\n",
       "</style>\n",
       "<table border=\"1\" class=\"dataframe\">\n",
       "  <thead>\n",
       "    <tr style=\"text-align: right;\">\n",
       "      <th></th>\n",
       "      <th>MINTFach</th>\n",
       "      <th>Gründe</th>\n",
       "      <th>polarity</th>\n",
       "      <th>sentiment</th>\n",
       "    </tr>\n",
       "  </thead>\n",
       "  <tbody>\n",
       "    <tr>\n",
       "      <th>155</th>\n",
       "      <td>nein</td>\n",
       "      <td>Da ich keinerlei Talent für naturwissenschaftl...</td>\n",
       "      <td>-1.0</td>\n",
       "      <td>very negative</td>\n",
       "    </tr>\n",
       "    <tr>\n",
       "      <th>17</th>\n",
       "      <td>ja</td>\n",
       "      <td>Erststudium Geisteswissenschaften, zwar mit Be...</td>\n",
       "      <td>-1.0</td>\n",
       "      <td>very negative</td>\n",
       "    </tr>\n",
       "    <tr>\n",
       "      <th>191</th>\n",
       "      <td>nein</td>\n",
       "      <td>Weil Mathe blöd ist. Nein.</td>\n",
       "      <td>-1.0</td>\n",
       "      <td>very negative</td>\n",
       "    </tr>\n",
       "    <tr>\n",
       "      <th>344</th>\n",
       "      <td>ja</td>\n",
       "      <td>Ich habe bereits in sehr vielen verschiedenen ...</td>\n",
       "      <td>-1.0</td>\n",
       "      <td>very negative</td>\n",
       "    </tr>\n",
       "    <tr>\n",
       "      <th>219</th>\n",
       "      <td>nein</td>\n",
       "      <td>Kein Interesse in den Fächern, war auch schlec...</td>\n",
       "      <td>-1.0</td>\n",
       "      <td>very negative</td>\n",
       "    </tr>\n",
       "  </tbody>\n",
       "</table>\n",
       "</div>"
      ],
      "text/plain": [
       "    MINTFach                                             Gründe  polarity  \\\n",
       "155     nein  Da ich keinerlei Talent für naturwissenschaftl...      -1.0   \n",
       "17        ja  Erststudium Geisteswissenschaften, zwar mit Be...      -1.0   \n",
       "191     nein                         Weil Mathe blöd ist. Nein.      -1.0   \n",
       "344       ja  Ich habe bereits in sehr vielen verschiedenen ...      -1.0   \n",
       "219     nein  Kein Interesse in den Fächern, war auch schlec...      -1.0   \n",
       "\n",
       "         sentiment  \n",
       "155  very negative  \n",
       "17   very negative  \n",
       "191  very negative  \n",
       "344  very negative  \n",
       "219  very negative  "
      ]
     },
     "execution_count": 7,
     "metadata": {},
     "output_type": "execute_result"
    }
   ],
   "source": [
    "reason_df[reason_df.polarity == reason_df.polarity.max()].sample(5)\n",
    "reason_df[reason_df.polarity == reason_df.polarity.min()].sample(5)"
   ]
  },
  {
   "cell_type": "markdown",
   "metadata": {},
   "source": [
    "## Visualisierung"
   ]
  },
  {
   "cell_type": "markdown",
   "metadata": {},
   "source": [
    "### Alle Studenten"
   ]
  },
  {
   "cell_type": "code",
   "execution_count": 8,
   "metadata": {},
   "outputs": [
    {
     "data": {
      "text/plain": [
       "0.2530820105820106"
      ]
     },
     "execution_count": 8,
     "metadata": {},
     "output_type": "execute_result"
    }
   ],
   "source": [
    "#calculate average\n",
    "polarity_sum = reason_df[\"polarity\"].sum()\n",
    "length = len(reason_df.index)\n",
    "average = polarity_sum / length\n",
    "average"
   ]
  },
  {
   "cell_type": "code",
   "execution_count": 9,
   "metadata": {},
   "outputs": [
    {
     "data": {
      "text/plain": [
       "<matplotlib.axes._subplots.AxesSubplot at 0x18b15271f98>"
      ]
     },
     "execution_count": 9,
     "metadata": {},
     "output_type": "execute_result"
    },
    {
     "data": {
      "text/plain": [
       "sentiment\n",
       "negative          19\n",
       "neutral          265\n",
       "positive          26\n",
       "very negative     27\n",
       "very positive    167\n",
       "Name: sentiment, dtype: int64"
      ]
     },
     "execution_count": 9,
     "metadata": {},
     "output_type": "execute_result"
    },
    {
     "data": {
      "image/png": "[encoded data removed]",
      "text/plain": [
       "<Figure size 576x432 with 1 Axes>"
      ]
     },
     "metadata": {
      "needs_background": "light"
     },
     "output_type": "display_data"
    }
   ],
   "source": [
    "%matplotlib inline\n",
    "\n",
    "import matplotlib.pyplot as plt\n",
    "fig = plt.figure(figsize=(8,6))\n",
    "reason_df.groupby(\"sentiment\")[\"sentiment\"].count().plot.bar(ylim=0);\n",
    "reason_df.groupby(\"sentiment\")[\"sentiment\"].count()"
   ]
  },
  {
   "cell_type": "markdown",
   "metadata": {},
   "source": [
    "### MINT-Studenten"
   ]
  },
  {
   "cell_type": "code",
   "execution_count": 11,
   "metadata": {},
   "outputs": [
    {
     "data": {
      "text/plain": [
       "287"
      ]
     },
     "execution_count": 11,
     "metadata": {},
     "output_type": "execute_result"
    },
    {
     "data": {
      "text/plain": [
       "0.35814169570267135"
      ]
     },
     "execution_count": 11,
     "metadata": {},
     "output_type": "execute_result"
    }
   ],
   "source": [
    "#calculate average of mint\n",
    "mint = reason_df[reason_df['MINTFach'] == \"ja\"]\n",
    "pol_sum_mint = mint[\"polarity\"].sum()\n",
    "length = len(mint.index)\n",
    "length\n",
    "average_mint = pol_sum_mint / length\n",
    "average_mint"
   ]
  },
  {
   "cell_type": "code",
   "execution_count": 12,
   "metadata": {},
   "outputs": [
    {
     "data": {
      "text/plain": [
       "<matplotlib.axes._subplots.AxesSubplot at 0x18b1524cef0>"
      ]
     },
     "execution_count": 12,
     "metadata": {},
     "output_type": "execute_result"
    },
    {
     "data": {
      "text/plain": [
       "sentiment\n",
       "neutral          162\n",
       "positive          10\n",
       "very negative      2\n",
       "very positive    113\n",
       "Name: sentiment, dtype: int64"
      ]
     },
     "execution_count": 12,
     "metadata": {},
     "output_type": "execute_result"
    },
    {
     "data": {
      "image/png": "[encoded data removed]",
      "text/plain": [
       "<Figure size 576x432 with 1 Axes>"
      ]
     },
     "metadata": {
      "needs_background": "light"
     },
     "output_type": "display_data"
    }
   ],
   "source": [
    "%matplotlib inline\n",
    "\n",
    "import matplotlib.pyplot as plt\n",
    "fig = plt.figure(figsize=(8,6))\n",
    "mint.groupby(\"sentiment\")[\"sentiment\"].count().plot.bar(ylim=0);\n",
    "mint.groupby(\"sentiment\")[\"sentiment\"].count()"
   ]
  },
  {
   "cell_type": "markdown",
   "metadata": {},
   "source": [
    "### Nicht MINT-Studenten"
   ]
  },
  {
   "cell_type": "code",
   "execution_count": 13,
   "metadata": {},
   "outputs": [
    {
     "data": {
      "text/plain": [
       "217"
      ]
     },
     "execution_count": 13,
     "metadata": {},
     "output_type": "execute_result"
    },
    {
     "data": {
      "text/plain": [
       "0.1141321044546851"
      ]
     },
     "execution_count": 13,
     "metadata": {},
     "output_type": "execute_result"
    }
   ],
   "source": [
    "#calculate average of non mint\n",
    "none_mint = reason_df[reason_df['MINTFach'] == \"nein\"]\n",
    "pol_sum_none_mint = none_mint[\"polarity\"].sum()\n",
    "length = len(none_mint.index)\n",
    "length\n",
    "average_none_mint = pol_sum_none_mint / length\n",
    "average_none_mint"
   ]
  },
  {
   "cell_type": "code",
   "execution_count": 14,
   "metadata": {
    "scrolled": false
   },
   "outputs": [
    {
     "data": {
      "text/plain": [
       "<matplotlib.axes._subplots.AxesSubplot at 0x18b15220ef0>"
      ]
     },
     "execution_count": 14,
     "metadata": {},
     "output_type": "execute_result"
    },
    {
     "data": {
      "text/plain": [
       "sentiment\n",
       "negative          19\n",
       "neutral          103\n",
       "positive          16\n",
       "very negative     25\n",
       "very positive     54\n",
       "Name: sentiment, dtype: int64"
      ]
     },
     "execution_count": 14,
     "metadata": {},
     "output_type": "execute_result"
    },
    {
     "data": {
      "image/png": "[encoded data removed]",
      "text/plain": [
       "<Figure size 576x432 with 1 Axes>"
      ]
     },
     "metadata": {
      "needs_background": "light"
     },
     "output_type": "display_data"
    }
   ],
   "source": [
    "%matplotlib inline\n",
    "\n",
    "import matplotlib.pyplot as plt\n",
    "fig = plt.figure(figsize=(8,6))\n",
    "none_mint.groupby(\"sentiment\")[\"sentiment\"].count().plot.bar(ylim=0);\n",
    "none_mint.groupby(\"sentiment\")[\"sentiment\"].count()"
   ]
  },
  {
   "cell_type": "markdown",
   "metadata": {},
   "source": [
    "# Sentiment Analyse der Verbesserungsvorschläge"
   ]
  },
  {
   "cell_type": "markdown",
   "metadata": {},
   "source": [
    "## Datenvorbereitung"
   ]
  },
  {
   "cell_type": "code",
   "execution_count": 15,
   "metadata": {},
   "outputs": [
    {
     "data": {
      "text/html": [
       "<div>\n",
       "<style scoped>\n",
       "    .dataframe tbody tr th:only-of-type {\n",
       "        vertical-align: middle;\n",
       "    }\n",
       "\n",
       "    .dataframe tbody tr th {\n",
       "        vertical-align: top;\n",
       "    }\n",
       "\n",
       "    .dataframe thead th {\n",
       "        text-align: right;\n",
       "    }\n",
       "</style>\n",
       "<table border=\"1\" class=\"dataframe\">\n",
       "  <thead>\n",
       "    <tr style=\"text-align: right;\">\n",
       "      <th></th>\n",
       "      <th>MINTFach</th>\n",
       "      <th>Verbesserungsvorschläge</th>\n",
       "    </tr>\n",
       "  </thead>\n",
       "  <tbody>\n",
       "    <tr>\n",
       "      <th>76</th>\n",
       "      <td>ja</td>\n",
       "      <td>Die Lehrer an der Schule sollten aufhören den ...</td>\n",
       "    </tr>\n",
       "    <tr>\n",
       "      <th>352</th>\n",
       "      <td>nein</td>\n",
       "      <td>Mehr anwendungsbezogen</td>\n",
       "    </tr>\n",
       "    <tr>\n",
       "      <th>345</th>\n",
       "      <td>ja</td>\n",
       "      <td>Es ist natürlich sehr theoretisch, dennoch vie...</td>\n",
       "    </tr>\n",
       "    <tr>\n",
       "      <th>226</th>\n",
       "      <td>ja</td>\n",
       "      <td>Organisation von einem mint tag mit workshops.</td>\n",
       "    </tr>\n",
       "    <tr>\n",
       "      <th>132</th>\n",
       "      <td>ja</td>\n",
       "      <td>Sie werden attraktiver, wenn man den Quotensch...</td>\n",
       "    </tr>\n",
       "  </tbody>\n",
       "</table>\n",
       "</div>"
      ],
      "text/plain": [
       "    MINTFach                            Verbesserungsvorschläge\n",
       "76        ja  Die Lehrer an der Schule sollten aufhören den ...\n",
       "352     nein                             Mehr anwendungsbezogen\n",
       "345       ja  Es ist natürlich sehr theoretisch, dennoch vie...\n",
       "226       ja     Organisation von einem mint tag mit workshops.\n",
       "132       ja  Sie werden attraktiver, wenn man den Quotensch..."
      ]
     },
     "execution_count": 15,
     "metadata": {},
     "output_type": "execute_result"
    }
   ],
   "source": [
    "import sqlite3\n",
    "import pandas as pd\n",
    "import os.path\n",
    "\n",
    "dbPath = \"database/bachelor_umfrage.db\"\n",
    "\n",
    "def get_sentiment_suggestion_data(table_name=\"sentiment\"):\n",
    "    df = pd.DataFrame()\n",
    "    if os.path.isfile(dbPath):\n",
    "        conn = sqlite3.connect(dbPath)\n",
    "        sql = \"SELECT MINTFach, Verbesserungsvorschläge FROM \" + table_name\n",
    "        sql += \" WHERE Verbesserungsvorschläge IS NOT NULL\"\n",
    "        df = pd.read_sql_query(sql, conn)\n",
    "    else:\n",
    "        print(\"Datenbank oder Tabelle konnte nicht gefunden werden.\")\n",
    "    return df\n",
    "\n",
    "suggestion_df = get_sentiment_suggestion_data(table_name=\"sentiment\")\n",
    "suggestion_df.sample(5)"
   ]
  },
  {
   "cell_type": "markdown",
   "metadata": {},
   "source": [
    "## Sentiment Analyse"
   ]
  },
  {
   "cell_type": "code",
   "execution_count": 16,
   "metadata": {},
   "outputs": [],
   "source": [
    "from textblob_de import TextBlobDE\n",
    "\n",
    "def get_sentiment_polarity(text):\n",
    "    blob = TextBlobDE(text)\n",
    "\n",
    "    for sentence in blob.sentences:\n",
    "        return sentence.sentiment.polarity"
   ]
  },
  {
   "cell_type": "code",
   "execution_count": 17,
   "metadata": {},
   "outputs": [],
   "source": [
    "polarity_list = []\n",
    "\n",
    "for i, row in suggestion_df.iterrows():\n",
    "    polarity = get_sentiment_polarity(row[\"Verbesserungsvorschläge\"])\n",
    "    polarity_list.append(polarity)\n",
    "    \n",
    "suggestion_df[\"polarity\"] = polarity_list"
   ]
  },
  {
   "cell_type": "code",
   "execution_count": 18,
   "metadata": {},
   "outputs": [
    {
     "data": {
      "text/html": [
       "<div>\n",
       "<style scoped>\n",
       "    .dataframe tbody tr th:only-of-type {\n",
       "        vertical-align: middle;\n",
       "    }\n",
       "\n",
       "    .dataframe tbody tr th {\n",
       "        vertical-align: top;\n",
       "    }\n",
       "\n",
       "    .dataframe thead th {\n",
       "        text-align: right;\n",
       "    }\n",
       "</style>\n",
       "<table border=\"1\" class=\"dataframe\">\n",
       "  <thead>\n",
       "    <tr style=\"text-align: right;\">\n",
       "      <th></th>\n",
       "      <th>MINTFach</th>\n",
       "      <th>Verbesserungsvorschläge</th>\n",
       "      <th>polarity</th>\n",
       "      <th>sentiment</th>\n",
       "    </tr>\n",
       "  </thead>\n",
       "  <tbody>\n",
       "    <tr>\n",
       "      <th>86</th>\n",
       "      <td>nein</td>\n",
       "      <td>Nicht nur mit guten Job Aussichten werben sond...</td>\n",
       "      <td>1.000000</td>\n",
       "      <td>very positive</td>\n",
       "    </tr>\n",
       "    <tr>\n",
       "      <th>234</th>\n",
       "      <td>nein</td>\n",
       "      <td>Allgemein habe ich ich wenig für andere Studie...</td>\n",
       "      <td>0.350000</td>\n",
       "      <td>positive</td>\n",
       "    </tr>\n",
       "    <tr>\n",
       "      <th>127</th>\n",
       "      <td>ja</td>\n",
       "      <td>in der Schule besser darauf vorbereiten</td>\n",
       "      <td>0.000000</td>\n",
       "      <td>neutral</td>\n",
       "    </tr>\n",
       "    <tr>\n",
       "      <th>229</th>\n",
       "      <td>ja</td>\n",
       "      <td>Ich fände es super, wenn es mehr Module geben ...</td>\n",
       "      <td>0.466667</td>\n",
       "      <td>positive</td>\n",
       "    </tr>\n",
       "    <tr>\n",
       "      <th>211</th>\n",
       "      <td>nein</td>\n",
       "      <td>Nein</td>\n",
       "      <td>0.000000</td>\n",
       "      <td>neutral</td>\n",
       "    </tr>\n",
       "  </tbody>\n",
       "</table>\n",
       "</div>"
      ],
      "text/plain": [
       "    MINTFach                            Verbesserungsvorschläge  polarity  \\\n",
       "86      nein  Nicht nur mit guten Job Aussichten werben sond...  1.000000   \n",
       "234     nein  Allgemein habe ich ich wenig für andere Studie...  0.350000   \n",
       "127       ja            in der Schule besser darauf vorbereiten  0.000000   \n",
       "229       ja  Ich fände es super, wenn es mehr Module geben ...  0.466667   \n",
       "211     nein                                               Nein  0.000000   \n",
       "\n",
       "         sentiment  \n",
       "86   very positive  \n",
       "234       positive  \n",
       "127        neutral  \n",
       "229       positive  \n",
       "211        neutral  "
      ]
     },
     "execution_count": 18,
     "metadata": {},
     "output_type": "execute_result"
    }
   ],
   "source": [
    "suggestion_df['sentiment'] = suggestion_df.apply(label_polarity, axis=1)\n",
    "suggestion_df.sample(5)"
   ]
  },
  {
   "cell_type": "markdown",
   "metadata": {},
   "source": [
    "Negativster & Positivster Sentiment"
   ]
  },
  {
   "cell_type": "code",
   "execution_count": 19,
   "metadata": {},
   "outputs": [
    {
     "data": {
      "text/html": [
       "<div>\n",
       "<style scoped>\n",
       "    .dataframe tbody tr th:only-of-type {\n",
       "        vertical-align: middle;\n",
       "    }\n",
       "\n",
       "    .dataframe tbody tr th {\n",
       "        vertical-align: top;\n",
       "    }\n",
       "\n",
       "    .dataframe thead th {\n",
       "        text-align: right;\n",
       "    }\n",
       "</style>\n",
       "<table border=\"1\" class=\"dataframe\">\n",
       "  <thead>\n",
       "    <tr style=\"text-align: right;\">\n",
       "      <th></th>\n",
       "      <th>MINTFach</th>\n",
       "      <th>Verbesserungsvorschläge</th>\n",
       "      <th>polarity</th>\n",
       "      <th>sentiment</th>\n",
       "    </tr>\n",
       "  </thead>\n",
       "  <tbody>\n",
       "    <tr>\n",
       "      <th>44</th>\n",
       "      <td>ja</td>\n",
       "      <td>Jene Fächer attraktiver zu Gestalten sieht mei...</td>\n",
       "      <td>1.0</td>\n",
       "      <td>very positive</td>\n",
       "    </tr>\n",
       "    <tr>\n",
       "      <th>157</th>\n",
       "      <td>nein</td>\n",
       "      <td>Man muss die entsprechenden Fächer bereits in ...</td>\n",
       "      <td>1.0</td>\n",
       "      <td>very positive</td>\n",
       "    </tr>\n",
       "    <tr>\n",
       "      <th>105</th>\n",
       "      <td>nein</td>\n",
       "      <td>Mehr praktische Erfahrungen sammeln. Zb in Ele...</td>\n",
       "      <td>1.0</td>\n",
       "      <td>very positive</td>\n",
       "    </tr>\n",
       "    <tr>\n",
       "      <th>166</th>\n",
       "      <td>nein</td>\n",
       "      <td>Nein,  denn für mich sind diese interessant, i...</td>\n",
       "      <td>1.0</td>\n",
       "      <td>very positive</td>\n",
       "    </tr>\n",
       "    <tr>\n",
       "      <th>331</th>\n",
       "      <td>nein</td>\n",
       "      <td>Letztlich sind für mich MINT-Fächer nach wie v...</td>\n",
       "      <td>1.0</td>\n",
       "      <td>very positive</td>\n",
       "    </tr>\n",
       "  </tbody>\n",
       "</table>\n",
       "</div>"
      ],
      "text/plain": [
       "    MINTFach                            Verbesserungsvorschläge  polarity  \\\n",
       "44        ja  Jene Fächer attraktiver zu Gestalten sieht mei...       1.0   \n",
       "157     nein  Man muss die entsprechenden Fächer bereits in ...       1.0   \n",
       "105     nein  Mehr praktische Erfahrungen sammeln. Zb in Ele...       1.0   \n",
       "166     nein  Nein,  denn für mich sind diese interessant, i...       1.0   \n",
       "331     nein  Letztlich sind für mich MINT-Fächer nach wie v...       1.0   \n",
       "\n",
       "         sentiment  \n",
       "44   very positive  \n",
       "157  very positive  \n",
       "105  very positive  \n",
       "166  very positive  \n",
       "331  very positive  "
      ]
     },
     "execution_count": 19,
     "metadata": {},
     "output_type": "execute_result"
    },
    {
     "data": {
      "text/html": [
       "<div>\n",
       "<style scoped>\n",
       "    .dataframe tbody tr th:only-of-type {\n",
       "        vertical-align: middle;\n",
       "    }\n",
       "\n",
       "    .dataframe tbody tr th {\n",
       "        vertical-align: top;\n",
       "    }\n",
       "\n",
       "    .dataframe thead th {\n",
       "        text-align: right;\n",
       "    }\n",
       "</style>\n",
       "<table border=\"1\" class=\"dataframe\">\n",
       "  <thead>\n",
       "    <tr style=\"text-align: right;\">\n",
       "      <th></th>\n",
       "      <th>MINTFach</th>\n",
       "      <th>Verbesserungsvorschläge</th>\n",
       "      <th>polarity</th>\n",
       "      <th>sentiment</th>\n",
       "    </tr>\n",
       "  </thead>\n",
       "  <tbody>\n",
       "    <tr>\n",
       "      <th>48</th>\n",
       "      <td>nein</td>\n",
       "      <td>Ich finde es schade, dass die Fächer in der Sc...</td>\n",
       "      <td>-1.0</td>\n",
       "      <td>very negative</td>\n",
       "    </tr>\n",
       "    <tr>\n",
       "      <th>282</th>\n",
       "      <td>ja</td>\n",
       "      <td>Auf keinen Fall das Niveau herabsetzen, da hat...</td>\n",
       "      <td>-1.0</td>\n",
       "      <td>very negative</td>\n",
       "    </tr>\n",
       "    <tr>\n",
       "      <th>353</th>\n",
       "      <td>ja</td>\n",
       "      <td>Einer der wichtigsten Punkte ist es meiner Mei...</td>\n",
       "      <td>-1.0</td>\n",
       "      <td>very negative</td>\n",
       "    </tr>\n",
       "    <tr>\n",
       "      <th>68</th>\n",
       "      <td>ja</td>\n",
       "      <td>Naturwissenschaften dürfen nicht als 'langweil...</td>\n",
       "      <td>-1.0</td>\n",
       "      <td>very negative</td>\n",
       "    </tr>\n",
       "    <tr>\n",
       "      <th>272</th>\n",
       "      <td>ja</td>\n",
       "      <td>Besseren Einblick in verschiedene MINT-Studien...</td>\n",
       "      <td>-1.0</td>\n",
       "      <td>very negative</td>\n",
       "    </tr>\n",
       "  </tbody>\n",
       "</table>\n",
       "</div>"
      ],
      "text/plain": [
       "    MINTFach                            Verbesserungsvorschläge  polarity  \\\n",
       "48      nein  Ich finde es schade, dass die Fächer in der Sc...      -1.0   \n",
       "282       ja  Auf keinen Fall das Niveau herabsetzen, da hat...      -1.0   \n",
       "353       ja  Einer der wichtigsten Punkte ist es meiner Mei...      -1.0   \n",
       "68        ja  Naturwissenschaften dürfen nicht als 'langweil...      -1.0   \n",
       "272       ja  Besseren Einblick in verschiedene MINT-Studien...      -1.0   \n",
       "\n",
       "         sentiment  \n",
       "48   very negative  \n",
       "282  very negative  \n",
       "353  very negative  \n",
       "68   very negative  \n",
       "272  very negative  "
      ]
     },
     "execution_count": 19,
     "metadata": {},
     "output_type": "execute_result"
    }
   ],
   "source": [
    "suggestion_df[suggestion_df.polarity == suggestion_df.polarity.max()].sample(5)\n",
    "suggestion_df[suggestion_df.polarity == suggestion_df.polarity.min()].sample(5)"
   ]
  },
  {
   "cell_type": "markdown",
   "metadata": {},
   "source": [
    "## Visualisierung"
   ]
  },
  {
   "cell_type": "markdown",
   "metadata": {},
   "source": [
    "### Alle Studenten"
   ]
  },
  {
   "cell_type": "code",
   "execution_count": 20,
   "metadata": {},
   "outputs": [
    {
     "data": {
      "text/plain": [
       "0.11119543650793652"
      ]
     },
     "execution_count": 20,
     "metadata": {},
     "output_type": "execute_result"
    }
   ],
   "source": [
    "#calculate average\n",
    "polarity_sum = suggestion_df[\"polarity\"].sum()\n",
    "length = len(reason_df.index)\n",
    "average = polarity_sum / length\n",
    "average"
   ]
  },
  {
   "cell_type": "code",
   "execution_count": 21,
   "metadata": {},
   "outputs": [
    {
     "data": {
      "text/plain": [
       "<matplotlib.axes._subplots.AxesSubplot at 0x18b151e6080>"
      ]
     },
     "execution_count": 21,
     "metadata": {},
     "output_type": "execute_result"
    },
    {
     "data": {
      "text/plain": [
       "sentiment\n",
       "negative           4\n",
       "neutral          248\n",
       "positive          20\n",
       "very negative     19\n",
       "very positive     75\n",
       "Name: sentiment, dtype: int64"
      ]
     },
     "execution_count": 21,
     "metadata": {},
     "output_type": "execute_result"
    },
    {
     "data": {
      "image/png": "[encoded data removed]",
      "text/plain": [
       "<Figure size 576x432 with 1 Axes>"
      ]
     },
     "metadata": {
      "needs_background": "light"
     },
     "output_type": "display_data"
    }
   ],
   "source": [
    "%matplotlib inline\n",
    "\n",
    "import matplotlib.pyplot as plt\n",
    "fig = plt.figure(figsize=(8,6))\n",
    "suggestion_df.groupby(\"sentiment\")[\"sentiment\"].count().plot.bar(ylim=0);\n",
    "suggestion_df.groupby(\"sentiment\")[\"sentiment\"].count()"
   ]
  },
  {
   "cell_type": "markdown",
   "metadata": {},
   "source": [
    "### MINT-Studenten"
   ]
  },
  {
   "cell_type": "code",
   "execution_count": 22,
   "metadata": {},
   "outputs": [
    {
     "data": {
      "text/plain": [
       "212"
      ]
     },
     "execution_count": 22,
     "metadata": {},
     "output_type": "execute_result"
    },
    {
     "data": {
      "text/plain": [
       "0.13543632075471698"
      ]
     },
     "execution_count": 22,
     "metadata": {},
     "output_type": "execute_result"
    }
   ],
   "source": [
    "#calculate average of mint\n",
    "mint = suggestion_df[suggestion_df['MINTFach'] == \"ja\"]\n",
    "pol_sum_mint = mint[\"polarity\"].sum()\n",
    "length = len(mint.index)\n",
    "length\n",
    "average_mint = pol_sum_mint / length\n",
    "average_mint"
   ]
  },
  {
   "cell_type": "code",
   "execution_count": 23,
   "metadata": {},
   "outputs": [
    {
     "data": {
      "text/plain": [
       "<matplotlib.axes._subplots.AxesSubplot at 0x18b151c1940>"
      ]
     },
     "execution_count": 23,
     "metadata": {},
     "output_type": "execute_result"
    },
    {
     "data": {
      "text/plain": [
       "sentiment\n",
       "negative           3\n",
       "neutral          148\n",
       "positive          10\n",
       "very negative     11\n",
       "very positive     40\n",
       "Name: sentiment, dtype: int64"
      ]
     },
     "execution_count": 23,
     "metadata": {},
     "output_type": "execute_result"
    },
    {
     "data": {
      "image/png": "[encoded data removed]",
      "text/plain": [
       "<Figure size 576x432 with 1 Axes>"
      ]
     },
     "metadata": {
      "needs_background": "light"
     },
     "output_type": "display_data"
    }
   ],
   "source": [
    "%matplotlib inline\n",
    "\n",
    "import matplotlib.pyplot as plt\n",
    "fig = plt.figure(figsize=(8,6))\n",
    "mint.groupby(\"sentiment\")[\"sentiment\"].count().plot.bar(ylim=0);\n",
    "mint.groupby(\"sentiment\")[\"sentiment\"].count()"
   ]
  },
  {
   "cell_type": "markdown",
   "metadata": {},
   "source": [
    "### Nicht MINT-Studenten"
   ]
  },
  {
   "cell_type": "code",
   "execution_count": 26,
   "metadata": {},
   "outputs": [
    {
     "data": {
      "text/plain": [
       "154"
      ]
     },
     "execution_count": 26,
     "metadata": {},
     "output_type": "execute_result"
    },
    {
     "data": {
      "text/plain": [
       "0.17746753246753247"
      ]
     },
     "execution_count": 26,
     "metadata": {},
     "output_type": "execute_result"
    }
   ],
   "source": [
    "#calculate average of non mint\n",
    "none_mint = suggestion_df[suggestion_df['MINTFach'] == \"nein\"]\n",
    "pol_sum_none_mint = none_mint[\"polarity\"].sum()\n",
    "length = len(none_mint.index)\n",
    "length\n",
    "average_none_mint = pol_sum_none_mint / length\n",
    "average_none_mint"
   ]
  },
  {
   "cell_type": "code",
   "execution_count": 27,
   "metadata": {},
   "outputs": [
    {
     "data": {
      "text/plain": [
       "<matplotlib.axes._subplots.AxesSubplot at 0x18b151765f8>"
      ]
     },
     "execution_count": 27,
     "metadata": {},
     "output_type": "execute_result"
    },
    {
     "data": {
      "text/plain": [
       "sentiment\n",
       "negative           1\n",
       "neutral          100\n",
       "positive          10\n",
       "very negative      8\n",
       "very positive     35\n",
       "Name: sentiment, dtype: int64"
      ]
     },
     "execution_count": 27,
     "metadata": {},
     "output_type": "execute_result"
    },
    {
     "data": {
      "image/png": "[encoded data removed]",
      "text/plain": [
       "<Figure size 576x432 with 1 Axes>"
      ]
     },
     "metadata": {
      "needs_background": "light"
     },
     "output_type": "display_data"
    }
   ],
   "source": [
    "%matplotlib inline\n",
    "\n",
    "import matplotlib.pyplot as plt\n",
    "fig = plt.figure(figsize=(8,6))\n",
    "none_mint.groupby(\"sentiment\")[\"sentiment\"].count().plot.bar(ylim=0);\n",
    "none_mint.groupby(\"sentiment\")[\"sentiment\"].count()"
   ]
  }
 ],
 "metadata": {
  "kernelspec": {
   "display_name": "Python 3",
   "language": "python",
   "name": "python3"
  },
  "language_info": {
   "codemirror_mode": {
    "name": "ipython",
    "version": 3
   },
   "file_extension": ".py",
   "mimetype": "text/x-python",
   "name": "python",
   "nbconvert_exporter": "python",
   "pygments_lexer": "ipython3",
   "version": "3.7.1"
  },
  "toc": {
   "base_numbering": 1,
   "nav_menu": {},
   "number_sections": true,
   "sideBar": true,
   "skip_h1_title": false,
   "title_cell": "Table of Contents",
   "title_sidebar": "Contents",
   "toc_cell": true,
   "toc_position": {},
   "toc_section_display": true,
   "toc_window_display": true
  },
  "varInspector": {
   "cols": {
    "lenName": 16,
    "lenType": 16,
    "lenVar": 40
   },
   "kernels_config": {
    "python": {
     "delete_cmd_postfix": "",
     "delete_cmd_prefix": "del ",
     "library": "var_list.py",
     "varRefreshCmd": "print(var_dic_list())"
    },
    "r": {
     "delete_cmd_postfix": ") ",
     "delete_cmd_prefix": "rm(",
     "library": "var_list.r",
     "varRefreshCmd": "cat(var_dic_list()) "
    }
   },
   "types_to_exclude": [
    "module",
    "function",
    "builtin_function_or_method",
    "instance",
    "_Feature"
   ],
   "window_display": false
  }
 },
 "nbformat": 4,
 "nbformat_minor": 2
}
