{
 "cells": [
  {
   "cell_type": "markdown",
   "metadata": {},
   "source": [
    "**Klassifikation**"
   ]
  },
  {
   "cell_type": "markdown",
   "metadata": {},
   "source": [
    "Hilfsfunktionen & Einstellungen"
   ]
  },
  {
   "cell_type": "code",
   "execution_count": 1,
   "metadata": {},
   "outputs": [],
   "source": [
    "# for pretty printing\n",
    "import pprint as pp\n",
    "\n",
    "# IPython (Jupyter) setting: \n",
    "# Print out every value instead of just \"last_expr\" (default)\n",
    "from IPython.core.interactiveshell import InteractiveShell\n",
    "InteractiveShell.ast_node_interactivity = \"all\""
   ]
  },
  {
   "cell_type": "code",
   "execution_count": 2,
   "metadata": {},
   "outputs": [],
   "source": [
    "# Warnungen unterdrücken\n",
    "import warnings;\n",
    "warnings.filterwarnings('ignore');"
   ]
  },
  {
   "cell_type": "markdown",
   "metadata": {},
   "source": [
    "Daten mit get_poll_data aus DB laden.\n",
    "Für spätere Klassifikation wird noch die Spalte Kategorie zum Dataframe hinzugefügt."
   ]
  },
  {
   "cell_type": "code",
   "execution_count": 3,
   "metadata": {},
   "outputs": [
    {
     "data": {
      "text/html": [
       "<div>\n",
       "<style scoped>\n",
       "    .dataframe tbody tr th:only-of-type {\n",
       "        vertical-align: middle;\n",
       "    }\n",
       "\n",
       "    .dataframe tbody tr th {\n",
       "        vertical-align: top;\n",
       "    }\n",
       "\n",
       "    .dataframe thead th {\n",
       "        text-align: right;\n",
       "    }\n",
       "</style>\n",
       "<table border=\"1\" class=\"dataframe\">\n",
       "  <thead>\n",
       "    <tr style=\"text-align: right;\">\n",
       "      <th></th>\n",
       "      <th>Geschlecht</th>\n",
       "      <th>Studiengang</th>\n",
       "      <th>MINTFach</th>\n",
       "      <th>Qualifikation</th>\n",
       "      <th>GeborenAusland</th>\n",
       "      <th>ElternAusland</th>\n",
       "      <th>GeborenDeutschland</th>\n",
       "      <th>MINTStudiumEltern</th>\n",
       "      <th>StudiumEltern</th>\n",
       "      <th>MINTStudiumGeschwister</th>\n",
       "      <th>...</th>\n",
       "      <th>Gehalt</th>\n",
       "      <th>AnsehenGesellschaft</th>\n",
       "      <th>FamiliaereGründe</th>\n",
       "      <th>Partner</th>\n",
       "      <th>Kinder</th>\n",
       "      <th>Karriere</th>\n",
       "      <th>MINTGründe</th>\n",
       "      <th>NichtMINTGründe</th>\n",
       "      <th>Verbesserungsvorschläge</th>\n",
       "      <th>category</th>\n",
       "    </tr>\n",
       "  </thead>\n",
       "  <tbody>\n",
       "    <tr>\n",
       "      <th>338</th>\n",
       "      <td>Weiblich</td>\n",
       "      <td>Soziale Arbeit: Erziehung und Bildung im Leben...</td>\n",
       "      <td>nein</td>\n",
       "      <td>beruflich qualifiziert</td>\n",
       "      <td>None</td>\n",
       "      <td>None</td>\n",
       "      <td>1</td>\n",
       "      <td>None</td>\n",
       "      <td>None</td>\n",
       "      <td>None</td>\n",
       "      <td>...</td>\n",
       "      <td>3</td>\n",
       "      <td>2</td>\n",
       "      <td>1</td>\n",
       "      <td>4</td>\n",
       "      <td>3</td>\n",
       "      <td>2</td>\n",
       "      <td>None</td>\n",
       "      <td>noch nie in Erwägung gezogen</td>\n",
       "      <td>nein</td>\n",
       "      <td>nicht_MINT</td>\n",
       "    </tr>\n",
       "    <tr>\n",
       "      <th>70</th>\n",
       "      <td>Weiblich</td>\n",
       "      <td>Design</td>\n",
       "      <td>nein</td>\n",
       "      <td>allgemeine Hochschulreife</td>\n",
       "      <td>None</td>\n",
       "      <td>None</td>\n",
       "      <td>1</td>\n",
       "      <td>None</td>\n",
       "      <td>None</td>\n",
       "      <td>None</td>\n",
       "      <td>...</td>\n",
       "      <td>3</td>\n",
       "      <td>3</td>\n",
       "      <td>2</td>\n",
       "      <td>3</td>\n",
       "      <td>3</td>\n",
       "      <td>4</td>\n",
       "      <td>None</td>\n",
       "      <td>None</td>\n",
       "      <td>None</td>\n",
       "      <td>nicht_MINT</td>\n",
       "    </tr>\n",
       "    <tr>\n",
       "      <th>256</th>\n",
       "      <td>Männlich</td>\n",
       "      <td>Bauingenieurwesen</td>\n",
       "      <td>ja</td>\n",
       "      <td>allgemeine Hochschulreife</td>\n",
       "      <td>None</td>\n",
       "      <td>None</td>\n",
       "      <td>1</td>\n",
       "      <td>1</td>\n",
       "      <td>None</td>\n",
       "      <td>None</td>\n",
       "      <td>...</td>\n",
       "      <td>4</td>\n",
       "      <td>3</td>\n",
       "      <td>3</td>\n",
       "      <td>4</td>\n",
       "      <td>4</td>\n",
       "      <td>2</td>\n",
       "      <td>None</td>\n",
       "      <td>None</td>\n",
       "      <td>None</td>\n",
       "      <td>MINT</td>\n",
       "    </tr>\n",
       "    <tr>\n",
       "      <th>94</th>\n",
       "      <td>Männlich</td>\n",
       "      <td>Bauingenieurwesen</td>\n",
       "      <td>ja</td>\n",
       "      <td>fachgebundene Hochschulreife</td>\n",
       "      <td>None</td>\n",
       "      <td>None</td>\n",
       "      <td>1</td>\n",
       "      <td>None</td>\n",
       "      <td>None</td>\n",
       "      <td>None</td>\n",
       "      <td>...</td>\n",
       "      <td>3</td>\n",
       "      <td>2</td>\n",
       "      <td>1</td>\n",
       "      <td>4</td>\n",
       "      <td>4</td>\n",
       "      <td>3</td>\n",
       "      <td>ich wollte in nürnberg studieren, um pendeln z...</td>\n",
       "      <td>None</td>\n",
       "      <td>leider nicht, , ich bin dazu so eingestellt, d...</td>\n",
       "      <td>MINT</td>\n",
       "    </tr>\n",
       "    <tr>\n",
       "      <th>67</th>\n",
       "      <td>Divers</td>\n",
       "      <td>Design</td>\n",
       "      <td>nein</td>\n",
       "      <td>allgemeine Hochschulreife</td>\n",
       "      <td>1</td>\n",
       "      <td>1</td>\n",
       "      <td>None</td>\n",
       "      <td>None</td>\n",
       "      <td>None</td>\n",
       "      <td>None</td>\n",
       "      <td>...</td>\n",
       "      <td>1</td>\n",
       "      <td>1</td>\n",
       "      <td>1</td>\n",
       "      <td>1</td>\n",
       "      <td>1</td>\n",
       "      <td>1</td>\n",
       "      <td>None</td>\n",
       "      <td>- Die traditionelle Ausrichtung des Studiums u...</td>\n",
       "      <td>Ja.</td>\n",
       "      <td>nicht_MINT</td>\n",
       "    </tr>\n",
       "  </tbody>\n",
       "</table>\n",
       "<p>5 rows × 33 columns</p>\n",
       "</div>"
      ],
      "text/plain": [
       "    Geschlecht                                        Studiengang MINTFach  \\\n",
       "338   Weiblich  Soziale Arbeit: Erziehung und Bildung im Leben...     nein   \n",
       "70    Weiblich                                             Design     nein   \n",
       "256   Männlich                                  Bauingenieurwesen       ja   \n",
       "94    Männlich                                  Bauingenieurwesen       ja   \n",
       "67      Divers                                             Design     nein   \n",
       "\n",
       "                    Qualifikation GeborenAusland ElternAusland  \\\n",
       "338        beruflich qualifiziert           None          None   \n",
       "70      allgemeine Hochschulreife           None          None   \n",
       "256     allgemeine Hochschulreife           None          None   \n",
       "94   fachgebundene Hochschulreife           None          None   \n",
       "67      allgemeine Hochschulreife              1             1   \n",
       "\n",
       "    GeborenDeutschland MINTStudiumEltern StudiumEltern MINTStudiumGeschwister  \\\n",
       "338                  1              None          None                   None   \n",
       "70                   1              None          None                   None   \n",
       "256                  1                 1          None                   None   \n",
       "94                   1              None          None                   None   \n",
       "67                None              None          None                   None   \n",
       "\n",
       "        ...     Gehalt AnsehenGesellschaft FamiliaereGründe Partner Kinder  \\\n",
       "338     ...          3                   2                1       4      3   \n",
       "70      ...          3                   3                2       3      3   \n",
       "256     ...          4                   3                3       4      4   \n",
       "94      ...          3                   2                1       4      4   \n",
       "67      ...          1                   1                1       1      1   \n",
       "\n",
       "    Karriere                                         MINTGründe  \\\n",
       "338        2                                               None   \n",
       "70         4                                               None   \n",
       "256        2                                               None   \n",
       "94         3  ich wollte in nürnberg studieren, um pendeln z...   \n",
       "67         1                                               None   \n",
       "\n",
       "                                       NichtMINTGründe  \\\n",
       "338                       noch nie in Erwägung gezogen   \n",
       "70                                                None   \n",
       "256                                               None   \n",
       "94                                                None   \n",
       "67   - Die traditionelle Ausrichtung des Studiums u...   \n",
       "\n",
       "                               Verbesserungsvorschläge    category  \n",
       "338                                               nein  nicht_MINT  \n",
       "70                                                None  nicht_MINT  \n",
       "256                                               None        MINT  \n",
       "94   leider nicht, , ich bin dazu so eingestellt, d...        MINT  \n",
       "67                                                 Ja.  nicht_MINT  \n",
       "\n",
       "[5 rows x 33 columns]"
      ]
     },
     "execution_count": 3,
     "metadata": {},
     "output_type": "execute_result"
    }
   ],
   "source": [
    "import sqlite3\n",
    "import pandas as pd\n",
    "import os.path\n",
    "dbPath = \"database/bachelor_umfrage.db\"\n",
    "\n",
    "def get_poll_data(table_name=\"selektierte_ergebnisse\", where=None):\n",
    "    df = pd.DataFrame()\n",
    "    if os.path.isfile(dbPath):\n",
    "        conn = sqlite3.connect(dbPath)\n",
    "        sql = \"SELECT * FROM \" + table_name\n",
    "        if where:\n",
    "            sql += \" WHERE \" + where\n",
    "        df = pd.read_sql_query(sql, conn)\n",
    "    else:\n",
    "        print(\"Datenbank oder Tabelle konnte nicht gefunden werden.\")\n",
    "    return df\n",
    "\n",
    "def label_mint (row):\n",
    "    if row['MINTFach'] == \"ja\" :\n",
    "        return 'MINT'\n",
    "    elif row['MINTFach'] == \"nein\" :\n",
    "        return 'nicht_MINT'\n",
    "\n",
    "poll_df = get_poll_data(table_name=\"selektierte_ergebnisse\")\n",
    "poll_df['category'] = poll_df.apply(label_mint, axis=1)\n",
    "poll_df = poll_df.drop(columns=['Status'])\n",
    "poll_df = poll_df.drop(columns=['AntwortID'])\n",
    "poll_df.sample(5)"
   ]
  },
  {
   "cell_type": "markdown",
   "metadata": {},
   "source": [
    "Verteilung MINT- und nicht MINT-Studenten: mehr MINT -> evtl. später ein Problem"
   ]
  },
  {
   "cell_type": "code",
   "execution_count": 4,
   "metadata": {},
   "outputs": [
    {
     "data": {
      "text/plain": [
       "<matplotlib.axes._subplots.AxesSubplot at 0x198f22d5128>"
      ]
     },
     "execution_count": 4,
     "metadata": {},
     "output_type": "execute_result"
    },
    {
     "data": {
      "text/plain": [
       "category\n",
       "MINT          430\n",
       "nicht_MINT    279\n",
       "Name: category, dtype: int64"
      ]
     },
     "execution_count": 4,
     "metadata": {},
     "output_type": "execute_result"
    },
    {
     "data": {
      "image/png": "[encoded data removed]",
      "text/plain": [
       "<Figure size 576x432 with 1 Axes>"
      ]
     },
     "metadata": {
      "needs_background": "light"
     },
     "output_type": "display_data"
    }
   ],
   "source": [
    "%matplotlib inline\n",
    "\n",
    "import matplotlib.pyplot as plt\n",
    "fig = plt.figure(figsize=(8,6))\n",
    "poll_df.groupby(\"category\")[\"category\"].count().plot.bar(ylim=0);\n",
    "poll_df.groupby(\"category\")[\"category\"].count()"
   ]
  },
  {
   "cell_type": "code",
   "execution_count": 5,
   "metadata": {},
   "outputs": [
    {
     "data": {
      "text/html": [
       "<div>\n",
       "<style scoped>\n",
       "    .dataframe tbody tr th:only-of-type {\n",
       "        vertical-align: middle;\n",
       "    }\n",
       "\n",
       "    .dataframe tbody tr th {\n",
       "        vertical-align: top;\n",
       "    }\n",
       "\n",
       "    .dataframe thead th {\n",
       "        text-align: right;\n",
       "    }\n",
       "</style>\n",
       "<table border=\"1\" class=\"dataframe\">\n",
       "  <thead>\n",
       "    <tr style=\"text-align: right;\">\n",
       "      <th></th>\n",
       "      <th>category</th>\n",
       "      <th>category_id</th>\n",
       "    </tr>\n",
       "  </thead>\n",
       "  <tbody>\n",
       "    <tr>\n",
       "      <th>0</th>\n",
       "      <td>nicht_MINT</td>\n",
       "      <td>0</td>\n",
       "    </tr>\n",
       "    <tr>\n",
       "      <th>1</th>\n",
       "      <td>MINT</td>\n",
       "      <td>1</td>\n",
       "    </tr>\n",
       "  </tbody>\n",
       "</table>\n",
       "</div>"
      ],
      "text/plain": [
       "     category  category_id\n",
       "0  nicht_MINT            0\n",
       "1        MINT            1"
      ]
     },
     "execution_count": 5,
     "metadata": {},
     "output_type": "execute_result"
    }
   ],
   "source": [
    "poll_df[\"category_id\"] = poll_df[\"category\"].factorize()[0]\n",
    "category_id_df = poll_df[[\"category\", \"category_id\"]].drop_duplicates().sort_values(\"category_id\")\n",
    "category_id_df"
   ]
  },
  {
   "cell_type": "markdown",
   "metadata": {},
   "source": [
    "None Werte durch 0 ersetzen."
   ]
  },
  {
   "cell_type": "code",
   "execution_count": 17,
   "metadata": {},
   "outputs": [],
   "source": [
    "poll_df['MINTStudiumEltern'] = poll_df['MINTStudiumEltern'].replace([None], [0], regex=True)\n",
    "poll_df['StudiumEltern'] = poll_df['StudiumEltern'].replace([None], [0], regex=True)\n",
    "poll_df['MINTStudiumGeschwister'] = poll_df['MINTStudiumGeschwister'].replace([None], [0], regex=True)\n",
    "poll_df['StudiumGeschwister'] = poll_df['StudiumGeschwister'].replace([None], [0], regex=True)\n",
    "poll_df['Studienpionier'] = poll_df['Studienpionier'].replace([None], [0], regex=True)\n",
    "poll_df['MINTBerufEltern'] = poll_df['MINTBerufEltern'].replace([None], [0], regex=True)\n",
    "poll_df['MINTBerufGeschwister'] = poll_df['MINTBerufGeschwister'].replace([None], [0], regex=True)\n",
    "poll_df['KeinMINTBeruf'] = poll_df['KeinMINTBeruf'].replace([None], [0], regex=True)"
   ]
  },
  {
   "cell_type": "markdown",
   "metadata": {},
   "source": [
    "Aufteilung der Daten in 80% Trainingsdaten & 20% Testdaten\n",
    "- Datensätze: 709\n",
    "- MINT: 430 => Training: 430 * 0,8 = 344, Test: 86\n",
    "- Nicht MINT: 279 => Training: 279 * 0,8 = 223, Test: 56"
   ]
  },
  {
   "cell_type": "code",
   "execution_count": 43,
   "metadata": {},
   "outputs": [
    {
     "name": "stdout",
     "output_type": "stream",
     "text": [
      "Mint:\n",
      "(344,)\n",
      "(86,)\n",
      "(344,)\n",
      "(86,)\n",
      "Nicht Mint:\n",
      "(223,)\n",
      "(56,)\n",
      "(223,)\n",
      "(56,)\n"
     ]
    },
    {
     "data": {
      "text/plain": [
       "pandas.core.series.Series"
      ]
     },
     "execution_count": 43,
     "metadata": {},
     "output_type": "execute_result"
    },
    {
     "name": "stdout",
     "output_type": "stream",
     "text": [
      "(567,)\n",
      "(142,)\n",
      "(567,)\n",
      "(142,)\n"
     ]
    },
    {
     "data": {
      "text/plain": [
       "pandas.core.series.Series"
      ]
     },
     "execution_count": 43,
     "metadata": {},
     "output_type": "execute_result"
    }
   ],
   "source": [
    "from sklearn.model_selection import train_test_split\n",
    "mint_df = poll_df.loc[poll_df['category'] == 'MINT']\n",
    "mint_df[\"category_id\"] = mint_df[\"category\"].factorize()[0]\n",
    "mint_labels = mint_df[\"category_id\"]\n",
    "\n",
    "nicht_mint_df = poll_df.loc[poll_df['category'] == 'nicht_MINT']\n",
    "nicht_mint_df[\"category_id\"] = nicht_mint_df[\"category\"].factorize()[0]\n",
    "nicht_mint_labels = nicht_mint_df[\"category_id\"]\n",
    "\n",
    "mint_features = mint_df.apply(lambda x:'%s_%s_%s_%s_%s_%s_%s_%s' \n",
    "                         % (x['MINTStudiumEltern'],x['StudiumEltern'],\n",
    "                            x['MINTStudiumGeschwister'],x['StudiumGeschwister'],\n",
    "                            x['Studienpionier'], x['MINTBerufEltern'],\n",
    "                            x['MINTBerufGeschwister'], x['KeinMINTBeruf']),axis=1)\n",
    "\n",
    "nicht_mint_features = nicht_mint_df.apply(lambda x:'%s_%s_%s_%s_%s_%s_%s_%s' \n",
    "                         % (x['MINTStudiumEltern'],x['StudiumEltern'],\n",
    "                            x['MINTStudiumGeschwister'],x['StudiumGeschwister'],\n",
    "                            x['Studienpionier'], x['MINTBerufEltern'],\n",
    "                            x['MINTBerufGeschwister'], x['KeinMINTBeruf']),axis=1)\n",
    "\n",
    "X_train_m, X_test_m, y_train_m, y_test_m = train_test_split(mint_features, mint_labels, test_size=0.20)\n",
    "X_train_n, X_test_n, y_train_n, y_test_n = train_test_split(nicht_mint_features, nicht_mint_labels, test_size=0.20)\n",
    "\n",
    "print(\"Mint:\")\n",
    "print(X_train_m.shape)\n",
    "print(X_test_m.shape)\n",
    "print(y_train_m.shape)\n",
    "print(y_test_m.shape)\n",
    "print(\"Nicht Mint:\")\n",
    "print(X_train_n.shape)\n",
    "print(X_test_n.shape)\n",
    "print(y_train_n.shape)\n",
    "print(y_test_n.shape)\n",
    "type(X_train_m)\n",
    "\n",
    "X_train = X_train_m.append(X_train_n)\n",
    "X_test = X_test_m.append(X_test_n)\n",
    "y_train = y_train_m.append(y_train_n)\n",
    "y_test = y_test_m.append(y_test_n)\n",
    "\n",
    "print(X_train.shape)\n",
    "print(X_test.shape)\n",
    "print(y_train.shape)\n",
    "print(y_test.shape)\n",
    "type(X_train)"
   ]
  },
  {
   "cell_type": "code",
   "execution_count": 16,
   "metadata": {},
   "outputs": [],
   "source": [
    "#from sklearn.model_selection import train_test_split\n",
    "\n",
    "#features = poll_df.apply(lambda x:'%s_%s_%s_%s_%s_%s_%s_%s' \n",
    "#                         % (x['MINTStudiumEltern'],x['StudiumEltern'],\n",
    "#                            x['MINTStudiumGeschwister'],x['StudiumGeschwister'],\n",
    "#                            x['Studienpionier'], x['MINTBerufEltern'],\n",
    "#                            x['MINTBerufGeschwister'], x['KeinMINTBeruf']),axis=1)\n",
    "#labels = poll_df[\"category_id\"]\n",
    "\n",
    "#X_train, X_test, y_train, y_test = train_test_split(features, labels, test_size=0.20)\n",
    "\n",
    "#print(X_train.shape)\n",
    "#print(X_test.shape)\n",
    "#print(y_train.shape)\n",
    "#print(y_test.shape)"
   ]
  },
  {
   "cell_type": "markdown",
   "metadata": {},
   "source": [
    "Trainieren des Naive Bayes Modells"
   ]
  },
  {
   "cell_type": "code",
   "execution_count": 19,
   "metadata": {},
   "outputs": [],
   "source": [
    "from sklearn.pipeline import Pipeline\n",
    "from sklearn.feature_extraction.text import CountVectorizer\n",
    "from sklearn.feature_extraction.text import TfidfTransformer\n",
    "from sklearn.naive_bayes import MultinomialNB\n",
    "\n",
    "text_clf = Pipeline([(\"vect\", CountVectorizer(ngram_range=(1, 1), stop_words=None)),\n",
    "                     (\"tfidf\", TfidfTransformer(sublinear_tf=True, norm=\"l2\")),\n",
    "                     (\"nb_clf\", MultinomialNB()),])\n",
    "text_clf = text_clf.fit(X_train, y_train)"
   ]
  },
  {
   "cell_type": "code",
   "execution_count": 20,
   "metadata": {},
   "outputs": [
    {
     "name": "stdout",
     "output_type": "stream",
     "text": [
      "Wall time: 6.98 ms\n"
     ]
    },
    {
     "data": {
      "text/plain": [
       "Pipeline(memory=None,\n",
       "     steps=[('vect', CountVectorizer(analyzer='word', binary=False, decode_error='strict',\n",
       "        dtype=<class 'numpy.int64'>, encoding='utf-8', input='content',\n",
       "        lowercase=True, max_df=1.0, max_features=None, min_df=1,\n",
       "        ngram_range=(1, 1), preprocessor=None, stop_words=None,\n",
       "        strip...ear_tf=True, use_idf=True)), ('nb_clf', MultinomialNB(alpha=1.0, class_prior=None, fit_prior=True))])"
      ]
     },
     "execution_count": 20,
     "metadata": {},
     "output_type": "execute_result"
    }
   ],
   "source": [
    "%time text_clf.fit(X_train, y_train)"
   ]
  },
  {
   "cell_type": "code",
   "execution_count": 48,
   "metadata": {},
   "outputs": [
    {
     "data": {
      "text/plain": [
       "<matplotlib.collections.PathCollection at 0x198f594df60>"
      ]
     },
     "execution_count": 48,
     "metadata": {},
     "output_type": "execute_result"
    },
    {
     "data": {
      "text/plain": [
       "Text(0.5, 0, 'True Values')"
      ]
     },
     "execution_count": 48,
     "metadata": {},
     "output_type": "execute_result"
    },
    {
     "data": {
      "text/plain": [
       "Text(0, 0.5, 'Predictions')"
      ]
     },
     "execution_count": 48,
     "metadata": {},
     "output_type": "execute_result"
    },
    {
     "data": {
      "image/png": "[encoded data removed]",
      "text/plain": [
       "<Figure size 432x288 with 1 Axes>"
      ]
     },
     "metadata": {
      "needs_background": "light"
     },
     "output_type": "display_data"
    }
   ],
   "source": [
    "y_predicted = text_clf.predict(X_test)\n",
    "\n",
    "plt.scatter(y_test, y_predicted)\n",
    "plt.xlabel(\"True Values\")\n",
    "plt.ylabel(\"Predictions\")"
   ]
  },
  {
   "cell_type": "markdown",
   "metadata": {},
   "source": [
    "Berechnung Accuracy-Score"
   ]
  },
  {
   "cell_type": "code",
   "execution_count": 34,
   "metadata": {},
   "outputs": [
    {
     "data": {
      "text/plain": [
       "1.0"
      ]
     },
     "execution_count": 34,
     "metadata": {},
     "output_type": "execute_result"
    }
   ],
   "source": [
    "from sklearn import metrics\n",
    "metrics.accuracy_score(y_test, y_predicted)"
   ]
  },
  {
   "cell_type": "markdown",
   "metadata": {},
   "source": [
    "Berechnung Classification Report"
   ]
  },
  {
   "cell_type": "code",
   "execution_count": 23,
   "metadata": {},
   "outputs": [
    {
     "name": "stdout",
     "output_type": "stream",
     "text": [
      "              precision    recall  f1-score   support\n",
      "\n",
      "  nicht_MINT       1.00      1.00      1.00       142\n",
      "        MINT       0.00      0.00      0.00         0\n",
      "\n",
      "   micro avg       1.00      1.00      1.00       142\n",
      "   macro avg       0.50      0.50      0.50       142\n",
      "weighted avg       1.00      1.00      1.00       142\n",
      "\n"
     ]
    }
   ],
   "source": [
    "print(metrics.classification_report(y_test, y_predicted, \n",
    "                                    labels=category_id_df.category_id.values, \n",
    "                                    target_names=category_id_df.category.values))"
   ]
  },
  {
   "cell_type": "markdown",
   "metadata": {},
   "source": [
    "Confusion Matrix"
   ]
  },
  {
   "cell_type": "code",
   "execution_count": 24,
   "metadata": {},
   "outputs": [
    {
     "data": {
      "image/png": "[encoded data removed]",
      "text/plain": [
       "<Figure size 432x288 with 2 Axes>"
      ]
     },
     "metadata": {
      "needs_background": "light"
     },
     "output_type": "display_data"
    }
   ],
   "source": [
    "import matplotlib.pyplot as plt\n",
    "import seaborn as sns\n",
    "from sklearn.metrics import confusion_matrix\n",
    "\n",
    "conf_mat = confusion_matrix(y_test, y_predicted)\n",
    "fig, ax = plt.subplots(figsize=(6, 4))\n",
    "sns.heatmap(conf_mat, annot=True, fmt=\"d\", cmap=\"Blues\", cbar=True,\n",
    "            xticklabels=category_id_df.category.values, yticklabels=category_id_df.category.values)\n",
    "plt.ylabel(\"Actual\")\n",
    "plt.xlabel(\"Predicted\");"
   ]
  },
  {
   "cell_type": "code",
   "execution_count": null,
   "metadata": {},
   "outputs": [],
   "source": []
  }
 ],
 "metadata": {
  "kernelspec": {
   "display_name": "Python 3",
   "language": "python",
   "name": "python3"
  },
  "language_info": {
   "codemirror_mode": {
    "name": "ipython",
    "version": 3
   },
   "file_extension": ".py",
   "mimetype": "text/x-python",
   "name": "python",
   "nbconvert_exporter": "python",
   "pygments_lexer": "ipython3",
   "version": "3.7.1"
  }
 },
 "nbformat": 4,
 "nbformat_minor": 2
}
