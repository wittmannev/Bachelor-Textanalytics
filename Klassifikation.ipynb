{
 "cells": [
  {
   "cell_type": "markdown",
   "metadata": {
    "toc": true
   },
   "source": [
    "<h1>Table of Contents<span class=\"tocSkip\"></span></h1>\n",
    "<div class=\"toc\"><ul class=\"toc-item\"><li><span><a href=\"#Kategorie-MINT\" data-toc-modified-id=\"Kategorie-MINT-1\"><span class=\"toc-item-num\">1&nbsp;&nbsp;</span>Kategorie MINT</a></span><ul class=\"toc-item\"><li><span><a href=\"#Datenaufbereitung\" data-toc-modified-id=\"Datenaufbereitung-1.1\"><span class=\"toc-item-num\">1.1&nbsp;&nbsp;</span>Datenaufbereitung</a></span></li><li><span><a href=\"#Trainieren-des-Naive-Bayes-Modells-(NB)\" data-toc-modified-id=\"Trainieren-des-Naive-Bayes-Modells-(NB)-1.2\"><span class=\"toc-item-num\">1.2&nbsp;&nbsp;</span>Trainieren des Naive Bayes Modells (NB)</a></span></li><li><span><a href=\"#Ergebnisbewertung-NB\" data-toc-modified-id=\"Ergebnisbewertung-NB-1.3\"><span class=\"toc-item-num\">1.3&nbsp;&nbsp;</span>Ergebnisbewertung NB</a></span></li><li><span><a href=\"#Trainieren-eines-Support-Vector-Modells-(SVM)\" data-toc-modified-id=\"Trainieren-eines-Support-Vector-Modells-(SVM)-1.4\"><span class=\"toc-item-num\">1.4&nbsp;&nbsp;</span>Trainieren eines Support Vector Modells (SVM)</a></span></li><li><span><a href=\"#Ergebnisbewertung-SVM\" data-toc-modified-id=\"Ergebnisbewertung-SVM-1.5\"><span class=\"toc-item-num\">1.5&nbsp;&nbsp;</span>Ergebnisbewertung SVM</a></span></li><li><span><a href=\"#Optimierung-der-Parameter\" data-toc-modified-id=\"Optimierung-der-Parameter-1.6\"><span class=\"toc-item-num\">1.6&nbsp;&nbsp;</span>Optimierung der Parameter</a></span></li><li><span><a href=\"#Untersuchung-falsch-kategorisierter-Daten\" data-toc-modified-id=\"Untersuchung-falsch-kategorisierter-Daten-1.7\"><span class=\"toc-item-num\">1.7&nbsp;&nbsp;</span>Untersuchung falsch kategorisierter Daten</a></span></li><li><span><a href=\"#Fazit\" data-toc-modified-id=\"Fazit-1.8\"><span class=\"toc-item-num\">1.8&nbsp;&nbsp;</span>Fazit</a></span></li></ul></li><li><span><a href=\"#Kategorie-Frauen\" data-toc-modified-id=\"Kategorie-Frauen-2\"><span class=\"toc-item-num\">2&nbsp;&nbsp;</span>Kategorie Frauen</a></span><ul class=\"toc-item\"><li><span><a href=\"#Datenaufbereitung\" data-toc-modified-id=\"Datenaufbereitung-2.1\"><span class=\"toc-item-num\">2.1&nbsp;&nbsp;</span>Datenaufbereitung</a></span></li><li><span><a href=\"#Trainieren-des-Naive-Bayes-Modells-(NB)\" data-toc-modified-id=\"Trainieren-des-Naive-Bayes-Modells-(NB)-2.2\"><span class=\"toc-item-num\">2.2&nbsp;&nbsp;</span>Trainieren des Naive Bayes Modells (NB)</a></span></li><li><span><a href=\"#Ergebnisbewertung-NB\" data-toc-modified-id=\"Ergebnisbewertung-NB-2.3\"><span class=\"toc-item-num\">2.3&nbsp;&nbsp;</span>Ergebnisbewertung NB</a></span></li><li><span><a href=\"#Trainieren-eines-Support-Vector-Modells-(SVM)\" data-toc-modified-id=\"Trainieren-eines-Support-Vector-Modells-(SVM)-2.4\"><span class=\"toc-item-num\">2.4&nbsp;&nbsp;</span>Trainieren eines Support Vector Modells (SVM)</a></span></li><li><span><a href=\"#Ergebnisbewertung-SVM\" data-toc-modified-id=\"Ergebnisbewertung-SVM-2.5\"><span class=\"toc-item-num\">2.5&nbsp;&nbsp;</span>Ergebnisbewertung SVM</a></span></li><li><span><a href=\"#Optimierung-der-Parameter\" data-toc-modified-id=\"Optimierung-der-Parameter-2.6\"><span class=\"toc-item-num\">2.6&nbsp;&nbsp;</span>Optimierung der Parameter</a></span><ul class=\"toc-item\"><li><span><a href=\"#Naive-Bayes\" data-toc-modified-id=\"Naive-Bayes-2.6.1\"><span class=\"toc-item-num\">2.6.1&nbsp;&nbsp;</span>Naive Bayes</a></span></li><li><span><a href=\"#SVM\" data-toc-modified-id=\"SVM-2.6.2\"><span class=\"toc-item-num\">2.6.2&nbsp;&nbsp;</span>SVM</a></span></li></ul></li><li><span><a href=\"#Untersuchung-falsch-kategorisierter-Daten\" data-toc-modified-id=\"Untersuchung-falsch-kategorisierter-Daten-2.7\"><span class=\"toc-item-num\">2.7&nbsp;&nbsp;</span>Untersuchung falsch kategorisierter Daten</a></span></li><li><span><a href=\"#Fazit\" data-toc-modified-id=\"Fazit-2.8\"><span class=\"toc-item-num\">2.8&nbsp;&nbsp;</span>Fazit</a></span></li></ul></li></ul></div>"
   ]
  },
  {
   "cell_type": "markdown",
   "metadata": {},
   "source": [
    "Hilfsfunktionen & Einstellungen"
   ]
  },
  {
   "cell_type": "code",
   "execution_count": 1,
   "metadata": {},
   "outputs": [],
   "source": [
    "# for pretty printing\n",
    "import pprint as pp\n",
    "\n",
    "# IPython (Jupyter) setting: \n",
    "# Print out every value instead of just \"last_expr\" (default)\n",
    "from IPython.core.interactiveshell import InteractiveShell\n",
    "InteractiveShell.ast_node_interactivity = \"all\""
   ]
  },
  {
   "cell_type": "code",
   "execution_count": 2,
   "metadata": {},
   "outputs": [],
   "source": [
    "# Warnungen unterdrücken\n",
    "import warnings;\n",
    "warnings.filterwarnings('ignore');"
   ]
  },
  {
   "cell_type": "markdown",
   "metadata": {},
   "source": [
    "##  Kategorie MINT"
   ]
  },
  {
   "cell_type": "markdown",
   "metadata": {},
   "source": [
    "In diesem Kapitel sollen die Personendaten nach MINT- und nicht MINT-Studiengang unterteilt und klassifiziert werden. Dabei fließen folgende weitere Informationen mit ein:\n",
    "\n",
    "- Geschlecht\n",
    "- Studiengang\n",
    "- Qualifikation\n",
    "- Geburtsland (Deutschland / Ausland) der Person und deren Eltern\n",
    "- Haben Eltern / Geschwister bereits studiert, falls ja war es ein MINT-Fach?\n",
    "- Arbeiten Eltern / Geschwister in einem MINT-Beruf?\n",
    "- Beliebtheit bestimmter MINT Fächer in der Schule\n",
    "- Priorität folgender Faktoren bei der Wahl des Studiengangs:\n",
    "    - Fachinteresse\n",
    "    - Berufsaussichten\n",
    "    - Gehalt\n",
    "    - Familiäre Gründe\n",
    "- Priorität folgender Faktoren für die berufliche Zukunft:\n",
    "    - Partner\n",
    "    - Kinder\n",
    "    - Karriere\n",
    "    \n",
    "All diese Daten wurden in Textform in der Spalte \"Eigenschaften\" zusammengefasst. Diese wird später in Trainings- und Testdaten des Algorithmus geteilt und dient damit als Datengrundlage."
   ]
  },
  {
   "cell_type": "markdown",
   "metadata": {},
   "source": [
    "### Datenaufbereitung"
   ]
  },
  {
   "cell_type": "markdown",
   "metadata": {},
   "source": [
    "Daten mit get_poll_data aus DB laden. Für spätere Klassifikation wird noch die Spalte Kategorie zum Dataframe hinzugefügt."
   ]
  },
  {
   "cell_type": "code",
   "execution_count": 4,
   "metadata": {},
   "outputs": [
    {
     "data": {
      "text/html": [
       "<div>\n",
       "<style scoped>\n",
       "    .dataframe tbody tr th:only-of-type {\n",
       "        vertical-align: middle;\n",
       "    }\n",
       "\n",
       "    .dataframe tbody tr th {\n",
       "        vertical-align: top;\n",
       "    }\n",
       "\n",
       "    .dataframe thead th {\n",
       "        text-align: right;\n",
       "    }\n",
       "</style>\n",
       "<table border=\"1\" class=\"dataframe\">\n",
       "  <thead>\n",
       "    <tr style=\"text-align: right;\">\n",
       "      <th></th>\n",
       "      <th>Eigenschaften</th>\n",
       "      <th>category</th>\n",
       "    </tr>\n",
       "  </thead>\n",
       "  <tbody>\n",
       "    <tr>\n",
       "      <th>431</th>\n",
       "      <td>Weiblich, Informatik, beruflich qualifiziert, ...</td>\n",
       "      <td>MINT</td>\n",
       "    </tr>\n",
       "    <tr>\n",
       "      <th>281</th>\n",
       "      <td>Weiblich, Soziale Arbeit: Erziehung und Bildun...</td>\n",
       "      <td>nicht_MINT</td>\n",
       "    </tr>\n",
       "    <tr>\n",
       "      <th>234</th>\n",
       "      <td>Weiblich, Architektur, allgemeine Hochschulrei...</td>\n",
       "      <td>MINT</td>\n",
       "    </tr>\n",
       "    <tr>\n",
       "      <th>425</th>\n",
       "      <td>Weiblich, Wirtschaftsinformatik, fachgebundene...</td>\n",
       "      <td>MINT</td>\n",
       "    </tr>\n",
       "    <tr>\n",
       "      <th>589</th>\n",
       "      <td>Weiblich, Angewandte Mathematik und Physik, al...</td>\n",
       "      <td>MINT</td>\n",
       "    </tr>\n",
       "  </tbody>\n",
       "</table>\n",
       "</div>"
      ],
      "text/plain": [
       "                                         Eigenschaften    category\n",
       "431  Weiblich, Informatik, beruflich qualifiziert, ...        MINT\n",
       "281  Weiblich, Soziale Arbeit: Erziehung und Bildun...  nicht_MINT\n",
       "234  Weiblich, Architektur, allgemeine Hochschulrei...        MINT\n",
       "425  Weiblich, Wirtschaftsinformatik, fachgebundene...        MINT\n",
       "589  Weiblich, Angewandte Mathematik und Physik, al...        MINT"
      ]
     },
     "execution_count": 4,
     "metadata": {},
     "output_type": "execute_result"
    }
   ],
   "source": [
    "import sqlite3\n",
    "import pandas as pd\n",
    "import os.path\n",
    "dbPath = \"database/bachelor_umfrage.db\"\n",
    "\n",
    "def get_poll_data(table_name=\"klassifikation\", where=None):\n",
    "    df = pd.DataFrame()\n",
    "    if os.path.isfile(dbPath):\n",
    "        conn = sqlite3.connect(dbPath)\n",
    "        sql = \"SELECT MINTFach, Eigenschaften FROM \" + table_name\n",
    "        if where:\n",
    "            sql += \" WHERE \" + where\n",
    "        df = pd.read_sql_query(sql, conn)\n",
    "    else:\n",
    "        print(\"Datenbank oder Tabelle konnte nicht gefunden werden.\")\n",
    "    return df\n",
    "\n",
    "def label_mint (row):\n",
    "    if row['MINTFach'] == \"ja\" :\n",
    "        return 'MINT'\n",
    "    elif row['MINTFach'] == \"nein\" :\n",
    "        return 'nicht_MINT'\n",
    "\n",
    "poll_df = get_poll_data(table_name=\"klassifikation\")\n",
    "poll_df['category'] = poll_df.apply(label_mint, axis=1)\n",
    "poll_df = poll_df.drop(columns=['MINTFach'])\n",
    "poll_df.sample(5)"
   ]
  },
  {
   "cell_type": "markdown",
   "metadata": {},
   "source": [
    "Daten ohne Angabe des Studiengangs"
   ]
  },
  {
   "cell_type": "code",
   "execution_count": 34,
   "metadata": {},
   "outputs": [],
   "source": [
    "#Ohne Studiengang\n",
    "no_subject_df = poll_df\n",
    "no_subject_list = []\n",
    "\n",
    "for i, row in no_subject_df.iterrows():\n",
    "    split_list = row[\"Eigenschaften\"].split(',')\n",
    "    split_list.pop(1)\n",
    "    list_string = ', '.join(split_list)\n",
    "    no_subject_list.append(list_string)\n",
    "    \n",
    "no_subject_df[\"kein_Studiengang\"] = no_subject_list\n",
    "no_subject_df = no_subject_df.drop(columns=['Eigenschaften'])\n",
    "\n",
    "no_subject_df[\"category_id\"] = no_subject_df[\"category\"].factorize()[0]\n",
    "category_id_df = no_subject_df[[\"category\", \"category_id\"]].drop_duplicates().sort_values(\"category_id\")"
   ]
  },
  {
   "cell_type": "code",
   "execution_count": 35,
   "metadata": {},
   "outputs": [
    {
     "data": {
      "text/html": [
       "<div>\n",
       "<style scoped>\n",
       "    .dataframe tbody tr th:only-of-type {\n",
       "        vertical-align: middle;\n",
       "    }\n",
       "\n",
       "    .dataframe tbody tr th {\n",
       "        vertical-align: top;\n",
       "    }\n",
       "\n",
       "    .dataframe thead th {\n",
       "        text-align: right;\n",
       "    }\n",
       "</style>\n",
       "<table border=\"1\" class=\"dataframe\">\n",
       "  <thead>\n",
       "    <tr style=\"text-align: right;\">\n",
       "      <th></th>\n",
       "      <th>category</th>\n",
       "      <th>category_id</th>\n",
       "    </tr>\n",
       "  </thead>\n",
       "  <tbody>\n",
       "    <tr>\n",
       "      <th>0</th>\n",
       "      <td>nicht_MINT</td>\n",
       "      <td>0</td>\n",
       "    </tr>\n",
       "    <tr>\n",
       "      <th>1</th>\n",
       "      <td>MINT</td>\n",
       "      <td>1</td>\n",
       "    </tr>\n",
       "  </tbody>\n",
       "</table>\n",
       "</div>"
      ],
      "text/plain": [
       "     category  category_id\n",
       "0  nicht_MINT            0\n",
       "1        MINT            1"
      ]
     },
     "execution_count": 35,
     "metadata": {},
     "output_type": "execute_result"
    }
   ],
   "source": [
    "poll_df[\"category_id\"] = poll_df[\"category\"].factorize()[0]\n",
    "#Mit Studiengang\n",
    "#category_id_df = poll_df[[\"category\", \"category_id\"]].drop_duplicates().sort_values(\"category_id\")\n",
    "category_id_df"
   ]
  },
  {
   "cell_type": "markdown",
   "metadata": {},
   "source": [
    "Aufteilung in 80% Trainings- und 20% Testdaten."
   ]
  },
  {
   "cell_type": "code",
   "execution_count": 54,
   "metadata": {},
   "outputs": [
    {
     "name": "stdout",
     "output_type": "stream",
     "text": [
      "(567,)\n",
      "(142,)\n",
      "(567,)\n",
      "(142,)\n"
     ]
    }
   ],
   "source": [
    "from sklearn.model_selection import train_test_split\n",
    "\n",
    "#Mit Studiengang\n",
    "#features = poll_df['Eigenschaften']\n",
    "#labels = poll_df[\"category_id\"]\n",
    "\n",
    "#Ohne Studiengang\n",
    "features = no_subject_df['kein_Studiengang']\n",
    "labels = no_subject_df[\"category_id\"]\n",
    "\n",
    "X_train, X_test, y_train, y_test = train_test_split(features, labels, test_size=0.20)\n",
    "\n",
    "print(X_train.shape)\n",
    "print(X_test.shape)\n",
    "print(y_train.shape)\n",
    "print(y_test.shape)"
   ]
  },
  {
   "cell_type": "markdown",
   "metadata": {},
   "source": [
    "### Trainieren des Naive Bayes Modells (NB)"
   ]
  },
  {
   "cell_type": "code",
   "execution_count": 55,
   "metadata": {},
   "outputs": [],
   "source": [
    "from sklearn.pipeline import Pipeline\n",
    "from sklearn.feature_extraction.text import CountVectorizer\n",
    "from sklearn.feature_extraction.text import TfidfTransformer\n",
    "from sklearn.naive_bayes import MultinomialNB\n",
    "\n",
    "text_clf = Pipeline([(\"vect\", CountVectorizer(ngram_range=(1, 1), stop_words=None)),\n",
    "                     (\"tfidf\", TfidfTransformer(sublinear_tf=True, norm=\"l2\")),\n",
    "                     (\"nb_clf\", MultinomialNB()),])\n",
    "text_clf = text_clf.fit(X_train, y_train)"
   ]
  },
  {
   "cell_type": "code",
   "execution_count": 56,
   "metadata": {},
   "outputs": [
    {
     "name": "stdout",
     "output_type": "stream",
     "text": [
      "Wall time: 37.9 ms\n"
     ]
    },
    {
     "data": {
      "text/plain": [
       "Pipeline(memory=None,\n",
       "     steps=[('vect', CountVectorizer(analyzer='word', binary=False, decode_error='strict',\n",
       "        dtype=<class 'numpy.int64'>, encoding='utf-8', input='content',\n",
       "        lowercase=True, max_df=1.0, max_features=None, min_df=1,\n",
       "        ngram_range=(1, 1), preprocessor=None, stop_words=None,\n",
       "        strip...ear_tf=True, use_idf=True)), ('nb_clf', MultinomialNB(alpha=1.0, class_prior=None, fit_prior=True))])"
      ]
     },
     "execution_count": 56,
     "metadata": {},
     "output_type": "execute_result"
    }
   ],
   "source": [
    "%time text_clf.fit(X_train, y_train)"
   ]
  },
  {
   "cell_type": "code",
   "execution_count": 57,
   "metadata": {},
   "outputs": [],
   "source": [
    "y_predicted = text_clf.predict(X_test)"
   ]
  },
  {
   "cell_type": "markdown",
   "metadata": {},
   "source": [
    "### Ergebnisbewertung NB"
   ]
  },
  {
   "cell_type": "markdown",
   "metadata": {},
   "source": [
    "Berechnung Accuracy-Score"
   ]
  },
  {
   "cell_type": "code",
   "execution_count": 58,
   "metadata": {},
   "outputs": [
    {
     "data": {
      "text/plain": [
       "0.5985915492957746"
      ]
     },
     "execution_count": 58,
     "metadata": {},
     "output_type": "execute_result"
    }
   ],
   "source": [
    "from sklearn import metrics\n",
    "metrics.accuracy_score(y_test, y_predicted)"
   ]
  },
  {
   "cell_type": "markdown",
   "metadata": {},
   "source": [
    "Berechnung Classification Report"
   ]
  },
  {
   "cell_type": "code",
   "execution_count": 59,
   "metadata": {},
   "outputs": [
    {
     "name": "stdout",
     "output_type": "stream",
     "text": [
      "              precision    recall  f1-score   support\n",
      "\n",
      "  nicht_MINT       1.00      0.03      0.07        59\n",
      "        MINT       0.59      1.00      0.74        83\n",
      "\n",
      "   micro avg       0.60      0.60      0.60       142\n",
      "   macro avg       0.80      0.52      0.40       142\n",
      "weighted avg       0.76      0.60      0.46       142\n",
      "\n"
     ]
    }
   ],
   "source": [
    "print(metrics.classification_report(y_test, y_predicted, \n",
    "                                    labels=category_id_df.category_id.values, \n",
    "                                    target_names=category_id_df.category.values))"
   ]
  },
  {
   "cell_type": "markdown",
   "metadata": {},
   "source": [
    "Confusion Matrix"
   ]
  },
  {
   "cell_type": "code",
   "execution_count": 60,
   "metadata": {},
   "outputs": [
    {
     "data": {
      "image/png": "[encoded data removed]",
      "text/plain": [
       "<Figure size 432x288 with 2 Axes>"
      ]
     },
     "metadata": {
      "needs_background": "light"
     },
     "output_type": "display_data"
    }
   ],
   "source": [
    "import matplotlib.pyplot as plt\n",
    "import seaborn as sns\n",
    "from sklearn.metrics import confusion_matrix\n",
    "\n",
    "conf_mat = confusion_matrix(y_test, y_predicted)\n",
    "fig, ax = plt.subplots(figsize=(6, 4))\n",
    "sns.heatmap(conf_mat, annot=True, fmt=\"d\", cmap=\"Blues\", cbar=True,\n",
    "            xticklabels=category_id_df.category.values, yticklabels=category_id_df.category.values)\n",
    "plt.ylabel(\"Actual\")\n",
    "plt.xlabel(\"Predicted\");"
   ]
  },
  {
   "cell_type": "markdown",
   "metadata": {},
   "source": [
    "### Trainieren eines Support Vector Modells (SVM)"
   ]
  },
  {
   "cell_type": "code",
   "execution_count": 61,
   "metadata": {},
   "outputs": [],
   "source": [
    "from sklearn.pipeline import Pipeline\n",
    "from sklearn.feature_extraction.text import CountVectorizer\n",
    "from sklearn.feature_extraction.text import TfidfTransformer\n",
    "from sklearn.svm import SVC\n",
    "\n",
    "text_clf = Pipeline([(\"vect\", CountVectorizer(ngram_range=(1, 1), stop_words=None)),\n",
    "                     (\"tfidf\", TfidfTransformer(sublinear_tf=True, norm=\"l2\")),\n",
    "                     (\"sv_clf\", SVC(kernel=\"linear\"))])\n",
    "\n",
    "text_clf = text_clf.fit(X_train, y_train)"
   ]
  },
  {
   "cell_type": "code",
   "execution_count": 62,
   "metadata": {},
   "outputs": [],
   "source": [
    "y_predicted = text_clf.predict(X_test)"
   ]
  },
  {
   "cell_type": "markdown",
   "metadata": {},
   "source": [
    "### Ergebnisbewertung SVM"
   ]
  },
  {
   "cell_type": "markdown",
   "metadata": {},
   "source": [
    "Berechnung Acuracy-Score"
   ]
  },
  {
   "cell_type": "code",
   "execution_count": 63,
   "metadata": {},
   "outputs": [
    {
     "data": {
      "text/plain": [
       "0.704225352112676"
      ]
     },
     "execution_count": 63,
     "metadata": {},
     "output_type": "execute_result"
    }
   ],
   "source": [
    "from sklearn import metrics\n",
    "metrics.accuracy_score(y_test, y_predicted)"
   ]
  },
  {
   "cell_type": "markdown",
   "metadata": {},
   "source": [
    "Confusion-Matrix"
   ]
  },
  {
   "cell_type": "code",
   "execution_count": 65,
   "metadata": {},
   "outputs": [
    {
     "data": {
      "image/png": "[encoded data removed]",
      "text/plain": [
       "<Figure size 432x288 with 2 Axes>"
      ]
     },
     "metadata": {
      "needs_background": "light"
     },
     "output_type": "display_data"
    }
   ],
   "source": [
    "import matplotlib.pyplot as plt\n",
    "import seaborn as sns\n",
    "from sklearn.metrics import confusion_matrix\n",
    "\n",
    "conf_mat = confusion_matrix(y_test, y_predicted)\n",
    "fig, ax = plt.subplots(figsize=(6, 4))\n",
    "sns.heatmap(conf_mat, annot=True, fmt=\"d\", cmap=\"Blues\", cbar=True,\n",
    "            xticklabels=category_id_df.category.values, yticklabels=category_id_df.category.values)\n",
    "plt.ylabel(\"Actual\")\n",
    "plt.xlabel(\"Predicted\");"
   ]
  },
  {
   "cell_type": "markdown",
   "metadata": {},
   "source": [
    "Berechnung Classification Report"
   ]
  },
  {
   "cell_type": "code",
   "execution_count": 64,
   "metadata": {},
   "outputs": [
    {
     "name": "stdout",
     "output_type": "stream",
     "text": [
      "              precision    recall  f1-score   support\n",
      "\n",
      "  nicht_MINT       0.62      0.73      0.67        59\n",
      "        MINT       0.78      0.69      0.73        83\n",
      "\n",
      "   micro avg       0.70      0.70      0.70       142\n",
      "   macro avg       0.70      0.71      0.70       142\n",
      "weighted avg       0.72      0.70      0.71       142\n",
      "\n"
     ]
    }
   ],
   "source": [
    "print(metrics.classification_report(y_test, y_predicted, target_names=category_id_df.category.values))"
   ]
  },
  {
   "cell_type": "markdown",
   "metadata": {},
   "source": [
    "### Optimierung der Parameter"
   ]
  },
  {
   "cell_type": "markdown",
   "metadata": {},
   "source": [
    "Mit den folgenden Schritten wird nun versucht, die Parametrisierung der Pipeline des SVM zu optimieren:\n",
    "\n",
    "1. Aufbau der Pipeline\n",
    "2. Vorgabe möglicher Parameterwerte\n",
    "3. Optimierung\n",
    "4. Ausgabe des besten Parametersets"
   ]
  },
  {
   "cell_type": "code",
   "execution_count": 72,
   "metadata": {},
   "outputs": [],
   "source": [
    "import numpy as np \n",
    "from pprint import pprint\n",
    "from time import time \n",
    "\n",
    "from sklearn.pipeline import Pipeline\n",
    "from sklearn.feature_extraction.text import TfidfTransformer\n",
    "from sklearn.feature_extraction.text import CountVectorizer\n",
    "from sklearn.svm import SVC\n",
    "from sklearn.model_selection import GridSearchCV\n",
    "\n",
    "pipeline = Pipeline([\n",
    "    (\"vect\", CountVectorizer(stop_words=None)),\n",
    "    (\"tfidf\", TfidfTransformer()),\n",
    "    (\"sv_clf\", SVC()),\n",
    "])"
   ]
  },
  {
   "cell_type": "code",
   "execution_count": 76,
   "metadata": {},
   "outputs": [],
   "source": [
    "parameters = {\n",
    "    \"vect__max_df\": (0.2, 0.5, 0.75, 1.0), # Ignorieren von Termen mit relativer Document Frequency > max_df (filtert Korpusspezifische Stoppwörter)\n",
    "    \"vect__ngram_range\": ((1, 1), (1, 2)),  # Unigramme oder Bigramme\n",
    "    \"tfidf__use_idf\": (True, False), # Verwendung der Inverse Document Frequency\n",
    "    \"tfidf__norm\": (\"l1\", \"l2\"), # Art der Normalisierung\n",
    "    \"sv_clf__C\": (1., 1.1, 1.2, 1.3, 1.4, 1.5, 1.6), # Penalty Parameter des Fehlerterms (Default = 1.0)\n",
    "    \"sv_clf__kernel\": (\"rbf\", \"linear\"), # Art der Entscheidungsfunktion (rbf=Radial Basis Function)\n",
    "}"
   ]
  },
  {
   "cell_type": "code",
   "execution_count": 77,
   "metadata": {},
   "outputs": [
    {
     "name": "stdout",
     "output_type": "stream",
     "text": [
      "Pipeline: ['vect', 'tfidf', 'sv_clf']\n",
      "Übergebene Parameter:\n",
      "{'sv_clf__C': (1.0, 1.1, 1.2, 1.3, 1.4, 1.5, 1.6),\n",
      " 'sv_clf__kernel': ('rbf', 'linear'),\n",
      " 'tfidf__norm': ('l1', 'l2'),\n",
      " 'tfidf__use_idf': (True, False),\n",
      " 'vect__max_df': (0.2, 0.5, 0.75, 1.0),\n",
      " 'vect__ngram_range': ((1, 1), (1, 2))}\n",
      "Fitting 3 folds for each of 448 candidates, totalling 1344 fits\n"
     ]
    },
    {
     "name": "stderr",
     "output_type": "stream",
     "text": [
      "C:\\Users\\ewittmann\\Anaconda3\\lib\\site-packages\\sklearn\\model_selection\\_split.py:2053: FutureWarning: You should specify a value for 'cv' instead of relying on the default value. The default value will change from 3 to 5 in version 0.22.\n",
      "  warnings.warn(CV_WARNING, FutureWarning)\n",
      "[Parallel(n_jobs=-1)]: Using backend LokyBackend with 4 concurrent workers.\n",
      "[Parallel(n_jobs=-1)]: Done 144 tasks      | elapsed:    5.7s\n",
      "[Parallel(n_jobs=-1)]: Done 744 tasks      | elapsed:   27.1s\n"
     ]
    },
    {
     "name": "stdout",
     "output_type": "stream",
     "text": [
      "Fertig nach 50.706s\n"
     ]
    },
    {
     "name": "stderr",
     "output_type": "stream",
     "text": [
      "[Parallel(n_jobs=-1)]: Done 1344 out of 1344 | elapsed:   50.5s finished\n"
     ]
    }
   ],
   "source": [
    "grid_search = GridSearchCV(pipeline, parameters, n_jobs=-1, verbose=1)\n",
    "\n",
    "print(\"Pipeline:\", [name for name, _ in pipeline.steps])\n",
    "print(\"Übergebene Parameter:\")\n",
    "pprint(parameters)\n",
    "t0 = time()\n",
    "grid_search.fit(X_train, y_train)\n",
    "print(\"Fertig nach %0.3fs\" % (time() - t0))"
   ]
  },
  {
   "cell_type": "code",
   "execution_count": 78,
   "metadata": {},
   "outputs": [
    {
     "name": "stdout",
     "output_type": "stream",
     "text": [
      "Bester Score (hier Accuracy): 0.690\n",
      "Bestes Parameter Set:\n",
      "\tsv_clf__C: 1.2\n",
      "\tsv_clf__kernel: 'linear'\n",
      "\ttfidf__norm: 'l2'\n",
      "\ttfidf__use_idf: False\n",
      "\tvect__max_df: 0.5\n",
      "\tvect__ngram_range: (1, 1)\n"
     ]
    }
   ],
   "source": [
    "print(\"Bester Score (hier Accuracy): %0.3f\" % grid_search.best_score_)\n",
    "print(\"Bestes Parameter Set:\")\n",
    "best_parameters = grid_search.best_estimator_.get_params()\n",
    "for param_name in sorted(parameters.keys()):\n",
    "    print(\"\\t%s: %r\" % (param_name, best_parameters[param_name]))"
   ]
  },
  {
   "cell_type": "markdown",
   "metadata": {},
   "source": [
    "Anwenden der optimierten Parameter"
   ]
  },
  {
   "cell_type": "code",
   "execution_count": 99,
   "metadata": {},
   "outputs": [],
   "source": [
    "#Mit Studiengang\n",
    "#X_train, X_test, y_train, y_test, indices_train, indices_test = train_test_split(features, \n",
    "#                                                                                 labels, \n",
    "#                                                                                 poll_df.index, \n",
    "#                                                                                 test_size=0.20)\n",
    "\n",
    "#Ohne Studiengang\n",
    "X_train, X_test, y_train, y_test, indices_train, indices_test = train_test_split(features, \n",
    "                                                                                 labels, \n",
    "                                                                                 no_subject_df.index, \n",
    "                                                                                 test_size=0.20)"
   ]
  },
  {
   "cell_type": "code",
   "execution_count": 100,
   "metadata": {},
   "outputs": [],
   "source": [
    "from sklearn.pipeline import Pipeline\n",
    "from sklearn.feature_extraction.text import CountVectorizer\n",
    "from sklearn.feature_extraction.text import TfidfTransformer\n",
    "from sklearn.svm import SVC\n",
    "\n",
    "text_clf = Pipeline([(\"vect\", CountVectorizer(max_df=0.5, ngram_range=(1, 1), stop_words=None)),\n",
    "                     (\"tfidf\", TfidfTransformer(use_idf=False, sublinear_tf=True, norm=\"l2\")),\n",
    "                     (\"sv_clf\", SVC(C=1.2, kernel=\"linear\")),])\n",
    "\n",
    "text_clf = text_clf.fit(X_train, y_train)\n",
    "y_predicted = text_clf.predict(X_test)"
   ]
  },
  {
   "cell_type": "code",
   "execution_count": 101,
   "metadata": {},
   "outputs": [
    {
     "name": "stdout",
     "output_type": "stream",
     "text": [
      "              precision    recall  f1-score   support\n",
      "\n",
      "  nicht_MINT       0.58      0.50      0.54        52\n",
      "        MINT       0.73      0.79      0.76        90\n",
      "\n",
      "   micro avg       0.68      0.68      0.68       142\n",
      "   macro avg       0.65      0.64      0.65       142\n",
      "weighted avg       0.68      0.68      0.68       142\n",
      "\n"
     ]
    }
   ],
   "source": [
    "from sklearn import metrics\n",
    "metrics.accuracy_score(y_test, y_predicted)\n",
    "\n",
    "print(metrics.classification_report(y_test, y_predicted, \n",
    "                                    labels=category_id_df.category_id.values, \n",
    "                                    target_names=category_id_df.category.values))"
   ]
  },
  {
   "cell_type": "code",
   "execution_count": 102,
   "metadata": {},
   "outputs": [
    {
     "data": {
      "image/png": "[encoded data removed]",
      "text/plain": [
       "<Figure size 432x288 with 2 Axes>"
      ]
     },
     "metadata": {
      "needs_background": "light"
     },
     "output_type": "display_data"
    }
   ],
   "source": [
    "import matplotlib.pyplot as plt\n",
    "import seaborn as sns\n",
    "from sklearn.metrics import confusion_matrix\n",
    "\n",
    "conf_mat = confusion_matrix(y_test, y_predicted)\n",
    "fig, ax = plt.subplots(figsize=(6, 4))\n",
    "sns.heatmap(conf_mat, annot=True, fmt=\"d\", cmap=\"Blues\", cbar=True,\n",
    "            xticklabels=category_id_df.category.values, yticklabels=category_id_df.category.values)\n",
    "plt.ylabel(\"Actual\")\n",
    "plt.xlabel(\"Predicted\");"
   ]
  },
  {
   "cell_type": "markdown",
   "metadata": {},
   "source": [
    "Die Optimierung der Parameter führt zu einer Verbesserung der Ergebnisse für die MINT-Kategorie. Im Gegensatz dazu verschlechtern sich die Werte für die nicht_MINT-Kategorie."
   ]
  },
  {
   "cell_type": "markdown",
   "metadata": {},
   "source": [
    "### Untersuchung falsch kategorisierter Daten"
   ]
  },
  {
   "cell_type": "code",
   "execution_count": 93,
   "metadata": {},
   "outputs": [
    {
     "name": "stderr",
     "output_type": "stream",
     "text": [
      "C:\\Users\\ewittmann\\Anaconda3\\lib\\site-packages\\ipykernel_launcher.py:2: DeprecationWarning: \n",
      ".ix is deprecated. Please use\n",
      ".loc for label based indexing or\n",
      ".iloc for positional indexing\n",
      "\n",
      "See the documentation here:\n",
      "http://pandas.pydata.org/pandas-docs/stable/indexing.html#ix-indexer-is-deprecated\n",
      "  \n"
     ]
    },
    {
     "data": {
      "text/html": [
       "<div>\n",
       "<style scoped>\n",
       "    .dataframe tbody tr th:only-of-type {\n",
       "        vertical-align: middle;\n",
       "    }\n",
       "\n",
       "    .dataframe tbody tr th {\n",
       "        vertical-align: top;\n",
       "    }\n",
       "\n",
       "    .dataframe thead th {\n",
       "        text-align: right;\n",
       "    }\n",
       "</style>\n",
       "<table border=\"1\" class=\"dataframe\">\n",
       "  <thead>\n",
       "    <tr style=\"text-align: right;\">\n",
       "      <th></th>\n",
       "      <th>category</th>\n",
       "      <th>kein_Studiengang</th>\n",
       "      <th>category_id</th>\n",
       "    </tr>\n",
       "  </thead>\n",
       "  <tbody>\n",
       "    <tr>\n",
       "      <th>598</th>\n",
       "      <td>nicht_MINT</td>\n",
       "      <td>Weiblich,  fachgebundene Hochschulreife,  in D...</td>\n",
       "      <td>0</td>\n",
       "    </tr>\n",
       "    <tr>\n",
       "      <th>469</th>\n",
       "      <td>MINT</td>\n",
       "      <td>Weiblich,  allgemeine Hochschulreife,  in Deut...</td>\n",
       "      <td>1</td>\n",
       "    </tr>\n",
       "    <tr>\n",
       "      <th>198</th>\n",
       "      <td>nicht_MINT</td>\n",
       "      <td>Weiblich,  allgemeine Hochschulreife,  in Deut...</td>\n",
       "      <td>0</td>\n",
       "    </tr>\n",
       "    <tr>\n",
       "      <th>691</th>\n",
       "      <td>MINT</td>\n",
       "      <td>Männlich,  fachhochschulreife,  Eltern im Ausl...</td>\n",
       "      <td>1</td>\n",
       "    </tr>\n",
       "    <tr>\n",
       "      <th>500</th>\n",
       "      <td>nicht_MINT</td>\n",
       "      <td>Weiblich,  allgemeine Hochschulreife,  in Deut...</td>\n",
       "      <td>0</td>\n",
       "    </tr>\n",
       "    <tr>\n",
       "      <th>277</th>\n",
       "      <td>nicht_MINT</td>\n",
       "      <td>Männlich,  fachgebundene Hochschulreife,  in D...</td>\n",
       "      <td>0</td>\n",
       "    </tr>\n",
       "    <tr>\n",
       "      <th>642</th>\n",
       "      <td>nicht_MINT</td>\n",
       "      <td>Männlich,  fachgebundene Hochschulreife,  Elte...</td>\n",
       "      <td>0</td>\n",
       "    </tr>\n",
       "    <tr>\n",
       "      <th>120</th>\n",
       "      <td>MINT</td>\n",
       "      <td>Weiblich,  fachgebundene Hochschulreife,  Elte...</td>\n",
       "      <td>1</td>\n",
       "    </tr>\n",
       "    <tr>\n",
       "      <th>446</th>\n",
       "      <td>nicht_MINT</td>\n",
       "      <td>Männlich,  allgemeine Hochschulreife,  in Deut...</td>\n",
       "      <td>0</td>\n",
       "    </tr>\n",
       "    <tr>\n",
       "      <th>559</th>\n",
       "      <td>nicht_MINT</td>\n",
       "      <td>Weiblich,  allgemeine Hochschulreife,  in Deut...</td>\n",
       "      <td>0</td>\n",
       "    </tr>\n",
       "  </tbody>\n",
       "</table>\n",
       "</div>"
      ],
      "text/plain": [
       "       category                                   kein_Studiengang  \\\n",
       "598  nicht_MINT  Weiblich,  fachgebundene Hochschulreife,  in D...   \n",
       "469        MINT  Weiblich,  allgemeine Hochschulreife,  in Deut...   \n",
       "198  nicht_MINT  Weiblich,  allgemeine Hochschulreife,  in Deut...   \n",
       "691        MINT  Männlich,  fachhochschulreife,  Eltern im Ausl...   \n",
       "500  nicht_MINT  Weiblich,  allgemeine Hochschulreife,  in Deut...   \n",
       "277  nicht_MINT  Männlich,  fachgebundene Hochschulreife,  in D...   \n",
       "642  nicht_MINT  Männlich,  fachgebundene Hochschulreife,  Elte...   \n",
       "120        MINT  Weiblich,  fachgebundene Hochschulreife,  Elte...   \n",
       "446  nicht_MINT  Männlich,  allgemeine Hochschulreife,  in Deut...   \n",
       "559  nicht_MINT  Weiblich,  allgemeine Hochschulreife,  in Deut...   \n",
       "\n",
       "     category_id  \n",
       "598            0  \n",
       "469            1  \n",
       "198            0  \n",
       "691            1  \n",
       "500            0  \n",
       "277            0  \n",
       "642            0  \n",
       "120            1  \n",
       "446            0  \n",
       "559            0  "
      ]
     },
     "execution_count": 93,
     "metadata": {},
     "output_type": "execute_result"
    }
   ],
   "source": [
    "X_test.index\n",
    "test_df = no_subject_df.ix[X_test.index]\n",
    "test_df.sample(10)"
   ]
  },
  {
   "cell_type": "code",
   "execution_count": 94,
   "metadata": {},
   "outputs": [],
   "source": [
    "id_to_category = dict(category_id_df[['category_id', 'category']].values)\n",
    "id_to_category\n",
    "\n",
    "test_df['predicted_id'] = y_predicted\n",
    "test_df['predicted'] = test_df['predicted_id'].map(lambda id: id_to_category[id])"
   ]
  },
  {
   "cell_type": "code",
   "execution_count": 98,
   "metadata": {},
   "outputs": [
    {
     "data": {
      "text/html": [
       "<div>\n",
       "<style scoped>\n",
       "    .dataframe tbody tr th:only-of-type {\n",
       "        vertical-align: middle;\n",
       "    }\n",
       "\n",
       "    .dataframe tbody tr th {\n",
       "        vertical-align: top;\n",
       "    }\n",
       "\n",
       "    .dataframe thead th {\n",
       "        text-align: right;\n",
       "    }\n",
       "</style>\n",
       "<table border=\"1\" class=\"dataframe\">\n",
       "  <thead>\n",
       "    <tr style=\"text-align: right;\">\n",
       "      <th></th>\n",
       "      <th>category</th>\n",
       "      <th>predicted</th>\n",
       "      <th>kein_Studiengang</th>\n",
       "    </tr>\n",
       "  </thead>\n",
       "  <tbody>\n",
       "    <tr>\n",
       "      <th>120</th>\n",
       "      <td>MINT</td>\n",
       "      <td>nicht_MINT</td>\n",
       "      <td>Weiblich,  fachgebundene Hochschulreife,  Eltern im Ausland geboren,  Studienpionier,  kein MINT-Beruf,  Beliebtheit Mathematik: 4,  Beliebtheit Physik: 3,  Beliebtheit Informatik: 2,  Beliebtheit Chemie: 3,  Beliebtheit Biologie: 4,  Fachinteresse: 3,  Berufsaussichten: 3,  Gehalt: 3,  Gesellschaftliches Ansehen: 4,  Partner: 4,  Kinder: 1,  Karriere: 2</td>\n",
       "    </tr>\n",
       "    <tr>\n",
       "      <th>695</th>\n",
       "      <td>nicht_MINT</td>\n",
       "      <td>MINT</td>\n",
       "      <td>Männlich,  allgemeine Hochschulreife,  in Deutschland geboren,  Studienpionier,  kein MINT-Beruf,  Beliebtheit Mathematik: 3,  Beliebtheit Physik: 1,  Beliebtheit Informatik: 3,  Beliebtheit Chemie: 4,  Beliebtheit Biologie: 5,  Fachinteresse: 4,  Berufsaussichten: 4,  Gehalt: 2,  Gesellschaftliches Ansehen: 2,  Partner: 4,  Kinder: 1,  Karriere: 2</td>\n",
       "    </tr>\n",
       "    <tr>\n",
       "      <th>298</th>\n",
       "      <td>nicht_MINT</td>\n",
       "      <td>MINT</td>\n",
       "      <td>Weiblich,  allgemeine Hochschulreife,  in Deutschland geboren,  Studienpionier,  Elternteil übt MINT-Beruf aus,  Beliebtheit Mathematik: 1,  Beliebtheit Physik: 1,  Beliebtheit Informatik: 2,  Beliebtheit Chemie: 2,  Beliebtheit Biologie: 4,  Fachinteresse: 4,  Berufsaussichten: 3,  Gehalt: 1,  Gesellschaftliches Ansehen: 1,  Partner: 3,  Kinder: 3,  Karriere: 3</td>\n",
       "    </tr>\n",
       "    <tr>\n",
       "      <th>284</th>\n",
       "      <td>nicht_MINT</td>\n",
       "      <td>MINT</td>\n",
       "      <td>Weiblich,  allgemeine Hochschulreife,  in Deutschland geboren,  Elternteil hat MINT-Fach studiert,  Elternteil übt MINT-Beruf aus,  Beliebtheit Mathematik: 2,  Beliebtheit Physik: 1,  Beliebtheit Informatik: 2,  Beliebtheit Chemie: 3,  Beliebtheit Biologie: 4,  Fachinteresse: 3,  Berufsaussichten: 2,  Gehalt: 1,  Gesellschaftliches Ansehen: 2,  Partner: 2,  Kinder: 2,  Karriere: 2</td>\n",
       "    </tr>\n",
       "    <tr>\n",
       "      <th>305</th>\n",
       "      <td>MINT</td>\n",
       "      <td>nicht_MINT</td>\n",
       "      <td>Weiblich,  allgemeine Hochschulreife,  in Deutschland geboren,  Elternteil hat studiert,  kein MINT-Beruf,  Beliebtheit Mathematik: 2,  Beliebtheit Physik: 4,  Beliebtheit Informatik: 3,  Beliebtheit Chemie: 4,  Beliebtheit Biologie: 5,  Fachinteresse: 4,  Berufsaussichten: 3,  Gehalt: 2,  Gesellschaftliches Ansehen: 3,  Partner: 4,  Kinder: 3,  Karriere: 4</td>\n",
       "    </tr>\n",
       "    <tr>\n",
       "      <th>471</th>\n",
       "      <td>nicht_MINT</td>\n",
       "      <td>MINT</td>\n",
       "      <td>Weiblich,  allgemeine Hochschulreife,  in Deutschland geboren,  Elternteil hat MINT-Fach studiert,  Elternteil übt MINT-Beruf aus,  Geschwister üben MINT-Beruf aus,  Beliebtheit Mathematik: 4,  Beliebtheit Physik: 2,  Beliebtheit Informatik: 2,  Beliebtheit Chemie: 4,  Beliebtheit Biologie: 4,  Fachinteresse: 4,  Berufsaussichten: 3,  Gehalt: 3,  Gesellschaftliches Ansehen: 3,  Partner: 4,  Kinder: 4,  Karriere: 3</td>\n",
       "    </tr>\n",
       "    <tr>\n",
       "      <th>229</th>\n",
       "      <td>nicht_MINT</td>\n",
       "      <td>MINT</td>\n",
       "      <td>Weiblich,  Abitur,  im Ausland geboren,  Eltern im Ausland geboren,  Studienpionier,  Elternteil übt MINT-Beruf aus,  Beliebtheit Mathematik: 5,  Beliebtheit Physik: 4,  Beliebtheit Informatik: 4,  Beliebtheit Chemie: 3,  Beliebtheit Biologie: 5,  Fachinteresse: 3,  Berufsaussichten: 4,  Gehalt: 4,  Gesellschaftliches Ansehen: 2,  Partner: 3,  Kinder: 4,  Karriere: 4</td>\n",
       "    </tr>\n",
       "    <tr>\n",
       "      <th>348</th>\n",
       "      <td>nicht_MINT</td>\n",
       "      <td>MINT</td>\n",
       "      <td>Männlich,  allgemeine Hochschulreife,  in Deutschland geboren,  Elternteil hat MINT-Fach studiert,  Elternteil hat studiert,  Elternteil übt MINT-Beruf aus,  Beliebtheit Mathematik: 2,  Beliebtheit Physik: 2,  Beliebtheit Informatik: 2,  Beliebtheit Chemie: 2,  Beliebtheit Biologie: 2,  Fachinteresse: 4,  Berufsaussichten: 3,  Gehalt: 2,  Gesellschaftliches Ansehen: 2,  Partner: 4,  Kinder: 3,  Karriere: 4</td>\n",
       "    </tr>\n",
       "    <tr>\n",
       "      <th>86</th>\n",
       "      <td>MINT</td>\n",
       "      <td>nicht_MINT</td>\n",
       "      <td>Weiblich,  allgemeine Hochschulreife,  Eltern im Ausland geboren,  Studienpionier,  kein MINT-Beruf,  Beliebtheit Mathematik: 4,  Beliebtheit Physik: 5,  Beliebtheit Informatik: 3,  Beliebtheit Chemie: 2,  Beliebtheit Biologie: 4,  Fachinteresse: 3,  Berufsaussichten: 4,  Gehalt: 3,  Gesellschaftliches Ansehen: 2,  Partner: 4,  Kinder: 3,  Karriere: 4</td>\n",
       "    </tr>\n",
       "    <tr>\n",
       "      <th>694</th>\n",
       "      <td>nicht_MINT</td>\n",
       "      <td>MINT</td>\n",
       "      <td>Männlich,  allgemeine Hochschulreife,  in Deutschland geboren,  Elternteil hat MINT-Fach studiert,  Elternteil übt MINT-Beruf aus,  Beliebtheit Mathematik: 2,  Beliebtheit Physik: 2,  Beliebtheit Informatik: 1,  Beliebtheit Chemie: 2,  Beliebtheit Biologie: 4,  Fachinteresse: 4,  Berufsaussichten: 3,  Gehalt: 3,  Gesellschaftliches Ansehen: 2,  Partner: 4,  Kinder: 4,  Karriere: 3</td>\n",
       "    </tr>\n",
       "    <tr>\n",
       "      <th>196</th>\n",
       "      <td>nicht_MINT</td>\n",
       "      <td>MINT</td>\n",
       "      <td>Männlich,  fachgebundene Hochschulreife,  Eltern im Ausland geboren,  Elternteil hat studiert,  Geschwister haben studiert,  Elternteil übt MINT-Beruf aus,  Beliebtheit Mathematik: 3,  Beliebtheit Physik: 4,  Beliebtheit Informatik: 2,  Beliebtheit Chemie: 4,  Beliebtheit Biologie: 4,  Fachinteresse: 2,  Berufsaussichten: 3,  Gehalt: 2,  Gesellschaftliches Ansehen: 3,  Partner: 3,  Kinder: 3,  Karriere: 3</td>\n",
       "    </tr>\n",
       "    <tr>\n",
       "      <th>446</th>\n",
       "      <td>nicht_MINT</td>\n",
       "      <td>MINT</td>\n",
       "      <td>Männlich,  allgemeine Hochschulreife,  in Deutschland geboren,  Elternteil hat studiert,  kein MINT-Beruf,  Beliebtheit Mathematik: 4,  Beliebtheit Physik: 4,  Beliebtheit Informatik: 2,  Beliebtheit Chemie: 4,  Beliebtheit Biologie: 4,  Fachinteresse: 3,  Berufsaussichten: 2,  Gehalt: 1,  Gesellschaftliches Ansehen: 2,  Partner: 2,  Kinder: 2,  Karriere: 2</td>\n",
       "    </tr>\n",
       "    <tr>\n",
       "      <th>239</th>\n",
       "      <td>nicht_MINT</td>\n",
       "      <td>MINT</td>\n",
       "      <td>Männlich,  allgemeine Hochschulreife,  in Deutschland geboren,  Studienpionier,  kein MINT-Beruf</td>\n",
       "    </tr>\n",
       "    <tr>\n",
       "      <th>98</th>\n",
       "      <td>nicht_MINT</td>\n",
       "      <td>MINT</td>\n",
       "      <td>Männlich,  allgemeine Hochschulreife,  in Deutschland geboren,  Elternteil hat MINT-Fach studiert,  Geschwister haben studiert,  Elternteil übt MINT-Beruf aus,  Beliebtheit Mathematik: 4,  Beliebtheit Physik: 5,  Beliebtheit Informatik: 1,  Beliebtheit Chemie: 3,  Beliebtheit Biologie: 4,  Fachinteresse: 4,  Berufsaussichten: 3,  Gehalt: 3,  Gesellschaftliches Ansehen: 2,  Partner: 3,  Kinder: 2,  Karriere: 3</td>\n",
       "    </tr>\n",
       "    <tr>\n",
       "      <th>574</th>\n",
       "      <td>MINT</td>\n",
       "      <td>nicht_MINT</td>\n",
       "      <td>Weiblich,  allgemeine Hochschulreife,  in Deutschland geboren,  Elternteil hat studiert,  kein MINT-Beruf,  Beliebtheit Mathematik: 5,  Beliebtheit Physik: 4,  Beliebtheit Informatik: 2,  Beliebtheit Chemie: 4,  Beliebtheit Biologie: 5,  Fachinteresse: 4,  Berufsaussichten: 4,  Gehalt: 4,  Gesellschaftliches Ansehen: 4,  Partner: 4,  Kinder: 4,  Karriere: 3</td>\n",
       "    </tr>\n",
       "    <tr>\n",
       "      <th>57</th>\n",
       "      <td>nicht_MINT</td>\n",
       "      <td>MINT</td>\n",
       "      <td>Weiblich,  allgemeine Hochschulreife,  in Deutschland geboren,  Elternteil hat MINT-Fach studiert,  Elternteil übt MINT-Beruf aus,  Beliebtheit Mathematik: 4,  Beliebtheit Physik: 4,  Beliebtheit Informatik: 1,  Beliebtheit Chemie: 2,  Beliebtheit Biologie: 3,  Fachinteresse: 4,  Berufsaussichten: 2,  Gehalt: 2,  Gesellschaftliches Ansehen: 1,  Partner: 4,  Kinder: 1,  Karriere: 4</td>\n",
       "    </tr>\n",
       "    <tr>\n",
       "      <th>110</th>\n",
       "      <td>MINT</td>\n",
       "      <td>nicht_MINT</td>\n",
       "      <td>Weiblich,  allgemeine Hochschulreife,  in Deutschland geboren,  Elternteil hat MINT-Fach studiert,  Geschwister haben MINT-Fach studiert,  Geschwister üben MINT-Beruf aus,  Beliebtheit Mathematik: 4,  Beliebtheit Physik: 2,  Beliebtheit Informatik: 2,  Beliebtheit Chemie: 5,  Beliebtheit Biologie: 3,  Fachinteresse: 4,  Berufsaussichten: 4,  Gehalt: 2,  Gesellschaftliches Ansehen: 2,  Partner: 2,  Kinder: 2,  Karriere: 2</td>\n",
       "    </tr>\n",
       "    <tr>\n",
       "      <th>708</th>\n",
       "      <td>nicht_MINT</td>\n",
       "      <td>MINT</td>\n",
       "      <td>Männlich,  allgemeine Hochschulreife,  in Deutschland geboren,  Geschwister haben studiert,  kein MINT-Beruf,  Beliebtheit Mathematik: 4,  Beliebtheit Physik: 4,  Beliebtheit Informatik: 2,  Beliebtheit Chemie: 2,  Beliebtheit Biologie: 2,  Fachinteresse: 3,  Berufsaussichten: 2,  Gehalt: 2,  Gesellschaftliches Ansehen: 3,  Partner: 3,  Kinder: 3,  Karriere: 2</td>\n",
       "    </tr>\n",
       "    <tr>\n",
       "      <th>546</th>\n",
       "      <td>nicht_MINT</td>\n",
       "      <td>MINT</td>\n",
       "      <td>Männlich,  fachgebundene Hochschulreife,  im Ausland geboren,  Eltern im Ausland geboren,  Studienpionier,  kein MINT-Beruf,  Beliebtheit Mathematik: 2,  Beliebtheit Physik: 2,  Beliebtheit Informatik: 3,  Beliebtheit Chemie: 2,  Beliebtheit Biologie: 4,  Fachinteresse: 2,  Berufsaussichten: 3,  Gehalt: 3,  Gesellschaftliches Ansehen: 2,  Partner: 4,  Kinder: 2,  Karriere: 2</td>\n",
       "    </tr>\n",
       "    <tr>\n",
       "      <th>681</th>\n",
       "      <td>nicht_MINT</td>\n",
       "      <td>MINT</td>\n",
       "      <td>Weiblich,  allgemeine Hochschulreife,  im Ausland geboren,  Elternteil hat MINT-Fach studiert,  Elternteil übt MINT-Beruf aus,  Beliebtheit Mathematik: 4,  Beliebtheit Physik: 5,  Beliebtheit Informatik: 2,  Beliebtheit Chemie: 2,  Beliebtheit Biologie: 3,  Fachinteresse: 4,  Berufsaussichten: 3,  Gehalt: 2,  Gesellschaftliches Ansehen: 3,  Partner: 4,  Kinder: 2,  Karriere: 3</td>\n",
       "    </tr>\n",
       "    <tr>\n",
       "      <th>0</th>\n",
       "      <td>nicht_MINT</td>\n",
       "      <td>MINT</td>\n",
       "      <td>Männlich,  allgemeine Hochschulreife,  in Deutschland geboren,  Studienpionier,  kein MINT-Beruf,  Beliebtheit Mathematik: 4,  Beliebtheit Physik: 4,  Beliebtheit Informatik: 3,  Beliebtheit Chemie: 3,  Beliebtheit Biologie: 3,  Fachinteresse: 4,  Berufsaussichten: 4,  Gehalt: 4,  Gesellschaftliches Ansehen: 2,  Partner: 4,  Kinder: 4,  Karriere: 3</td>\n",
       "    </tr>\n",
       "    <tr>\n",
       "      <th>277</th>\n",
       "      <td>nicht_MINT</td>\n",
       "      <td>MINT</td>\n",
       "      <td>Männlich,  fachgebundene Hochschulreife,  in Deutschland geboren,  Elternteil hat studiert,  kein MINT-Beruf,  Beliebtheit Mathematik: 1,  Beliebtheit Physik: 2,  Beliebtheit Informatik: 1,  Beliebtheit Chemie: 4,  Beliebtheit Biologie: 4,  Fachinteresse: 3,  Berufsaussichten: 2,  Gehalt: 1,  Gesellschaftliches Ansehen: 1,  Partner: 4,  Kinder: 3,  Karriere: 2</td>\n",
       "    </tr>\n",
       "    <tr>\n",
       "      <th>190</th>\n",
       "      <td>MINT</td>\n",
       "      <td>nicht_MINT</td>\n",
       "      <td>Weiblich,  allgemeine Hochschulreife,  in Deutschland geboren,  Geschwister haben MINT-Fach studiert,  kein MINT-Beruf,  Beliebtheit Mathematik: 1,  Beliebtheit Physik: 1,  Beliebtheit Informatik: 2,  Beliebtheit Chemie: 2,  Beliebtheit Biologie: 4,  Fachinteresse: 4,  Berufsaussichten: 2,  Gehalt: 3,  Gesellschaftliches Ansehen: 1,  Partner: 4,  Kinder: 4,  Karriere: 3</td>\n",
       "    </tr>\n",
       "    <tr>\n",
       "      <th>616</th>\n",
       "      <td>nicht_MINT</td>\n",
       "      <td>MINT</td>\n",
       "      <td>Weiblich,  allgemeine Hochschulreife,  in Deutschland geboren,  Elternteil hat MINT-Fach studiert,  Elternteil übt MINT-Beruf aus,  Beliebtheit Mathematik: 1,  Beliebtheit Physik: 4,  Beliebtheit Informatik: 3,  Beliebtheit Chemie: 1,  Beliebtheit Biologie: 4,  Fachinteresse: 4,  Berufsaussichten: 3,  Gehalt: 3,  Gesellschaftliches Ansehen: 1,  Partner: 4,  Kinder: 2,  Karriere: 3</td>\n",
       "    </tr>\n",
       "    <tr>\n",
       "      <th>673</th>\n",
       "      <td>MINT</td>\n",
       "      <td>nicht_MINT</td>\n",
       "      <td>Weiblich,  allgemeine Hochschulreife,  in Deutschland geboren,  Elternteil hat studiert,  Geschwister üben MINT-Beruf aus,  Beliebtheit Mathematik: 4,  Beliebtheit Physik: 4,  Beliebtheit Informatik: 4,  Beliebtheit Chemie: 4,  Beliebtheit Biologie: 4,  Fachinteresse: 4,  Berufsaussichten: 3,  Gehalt: 2,  Gesellschaftliches Ansehen: 2,  Partner: 3,  Kinder: 3,  Karriere: 2</td>\n",
       "    </tr>\n",
       "    <tr>\n",
       "      <th>565</th>\n",
       "      <td>MINT</td>\n",
       "      <td>nicht_MINT</td>\n",
       "      <td>Weiblich,  allgemeine Hochschulreife,  Eltern im Ausland geboren,  Studienpionier,  kein MINT-Beruf,  Beliebtheit Mathematik: 4,  Beliebtheit Physik: 4,  Beliebtheit Informatik: 5,  Beliebtheit Chemie: 2,  Beliebtheit Biologie: 3,  Fachinteresse: 4,  Berufsaussichten: 4,  Gehalt: 4,  Gesellschaftliches Ansehen: 3,  Partner: 4,  Kinder: 3,  Karriere: 4</td>\n",
       "    </tr>\n",
       "    <tr>\n",
       "      <th>396</th>\n",
       "      <td>MINT</td>\n",
       "      <td>nicht_MINT</td>\n",
       "      <td>Weiblich,  allgemeine Hochschulreife,  in Deutschland geboren,  Studienpionier,  kein MINT-Beruf,  Beliebtheit Mathematik: 1,  Beliebtheit Physik: 1,  Beliebtheit Informatik: 3,  Beliebtheit Chemie: 1,  Beliebtheit Biologie: 3,  Fachinteresse: 2,  Berufsaussichten: 3,  Gehalt: 2,  Gesellschaftliches Ansehen: 2,  Partner: 4,  Kinder: 2,  Karriere: 3</td>\n",
       "    </tr>\n",
       "    <tr>\n",
       "      <th>537</th>\n",
       "      <td>nicht_MINT</td>\n",
       "      <td>MINT</td>\n",
       "      <td>Weiblich,  fachgebundene Hochschulreife,  in Deutschland geboren,  Elternteil hat MINT-Fach studiert,  Elternteil hat studiert,  Geschwister haben MINT-Fach studiert,  Elternteil übt MINT-Beruf aus,  Geschwister üben MINT-Beruf aus,  Beliebtheit Mathematik: 3,  Beliebtheit Physik: 3,  Beliebtheit Informatik: 3,  Beliebtheit Chemie: 3,  Beliebtheit Biologie: 3,  Fachinteresse: 4,  Berufsaussichten: 3,  Gehalt: 3,  Gesellschaftliches Ansehen: 2,  Partner: 3,  Kinder: 1,  Karriere: 4</td>\n",
       "    </tr>\n",
       "    <tr>\n",
       "      <th>221</th>\n",
       "      <td>MINT</td>\n",
       "      <td>nicht_MINT</td>\n",
       "      <td>Weiblich,  fachgebundene Hochschulreife,  Eltern im Ausland geboren,  Studienpionier,  kein MINT-Beruf,  Beliebtheit Mathematik: 2,  Beliebtheit Physik: 4,  Beliebtheit Informatik: 3,  Beliebtheit Chemie: 5,  Beliebtheit Biologie: 5,  Fachinteresse: 4,  Berufsaussichten: 3,  Gehalt: 3,  Gesellschaftliches Ansehen: 1,  Partner: 4,  Kinder: 4,  Karriere: 2</td>\n",
       "    </tr>\n",
       "    <tr>\n",
       "      <th>489</th>\n",
       "      <td>MINT</td>\n",
       "      <td>nicht_MINT</td>\n",
       "      <td>Weiblich,  allgemeine Hochschulreife,  in Deutschland geboren,  Geschwister haben studiert,  kein MINT-Beruf,  Beliebtheit Mathematik: 5,  Beliebtheit Physik: 4,  Beliebtheit Informatik: 3,  Beliebtheit Chemie: 3,  Beliebtheit Biologie: 2,  Fachinteresse: 4,  Berufsaussichten: 4,  Gehalt: 4,  Gesellschaftliches Ansehen: 3,  Partner: 2,  Kinder: 3,  Karriere: 2</td>\n",
       "    </tr>\n",
       "    <tr>\n",
       "      <th>491</th>\n",
       "      <td>nicht_MINT</td>\n",
       "      <td>MINT</td>\n",
       "      <td>Weiblich,  allgemeine Hochschulreife,  Eltern im Ausland geboren,  Geschwister haben studiert,  Elternteil übt MINT-Beruf aus,  Beliebtheit Mathematik: 3,  Beliebtheit Physik: 2,  Beliebtheit Informatik: 4,  Beliebtheit Chemie: 5,  Beliebtheit Biologie: 2,  Fachinteresse: 4,  Berufsaussichten: 3,  Gehalt: 2,  Gesellschaftliches Ansehen: 1,  Partner: 3,  Kinder: 4,  Karriere: 3</td>\n",
       "    </tr>\n",
       "    <tr>\n",
       "      <th>72</th>\n",
       "      <td>MINT</td>\n",
       "      <td>nicht_MINT</td>\n",
       "      <td>Weiblich,  allgemeine Hochschulreife,  in Deutschland geboren,  Studienpionier,  kein MINT-Beruf,  Beliebtheit Mathematik: 3,  Beliebtheit Physik: 4,  Beliebtheit Informatik: 2,  Beliebtheit Chemie: 5,  Beliebtheit Biologie: 5,  Fachinteresse: 4,  Berufsaussichten: 3,  Gehalt: 2,  Gesellschaftliches Ansehen: 2,  Partner: 4,  Kinder: 4,  Karriere: 2</td>\n",
       "    </tr>\n",
       "    <tr>\n",
       "      <th>646</th>\n",
       "      <td>nicht_MINT</td>\n",
       "      <td>MINT</td>\n",
       "      <td>Weiblich,  allgemeine Hochschulreife,  Eltern im Ausland geboren,  Studienpionier,  Geschwister üben MINT-Beruf aus</td>\n",
       "    </tr>\n",
       "    <tr>\n",
       "      <th>575</th>\n",
       "      <td>MINT</td>\n",
       "      <td>nicht_MINT</td>\n",
       "      <td>Weiblich,  allgemeine Hochschulreife,  Eltern im Ausland geboren,  Studienpionier,  kein MINT-Beruf,  Beliebtheit Mathematik: 4,  Beliebtheit Physik: 2,  Beliebtheit Informatik: 3,  Beliebtheit Chemie: 1,  Beliebtheit Biologie: 5,  Fachinteresse: 4,  Berufsaussichten: 3,  Gehalt: 3,  Gesellschaftliches Ansehen: 2,  Partner: 4,  Kinder: 4,  Karriere: 3</td>\n",
       "    </tr>\n",
       "    <tr>\n",
       "      <th>82</th>\n",
       "      <td>nicht_MINT</td>\n",
       "      <td>MINT</td>\n",
       "      <td>Männlich,  allgemeine Hochschulreife,  in Deutschland geboren,  Studienpionier,  kein MINT-Beruf,  Beliebtheit Mathematik: 4,  Beliebtheit Physik: 5,  Beliebtheit Informatik: 5,  Beliebtheit Chemie: 3,  Beliebtheit Biologie: 3,  Fachinteresse: 4,  Berufsaussichten: 4,  Gehalt: 3,  Gesellschaftliches Ansehen: 2,  Partner: 4,  Kinder: 4,  Karriere: 4</td>\n",
       "    </tr>\n",
       "    <tr>\n",
       "      <th>642</th>\n",
       "      <td>nicht_MINT</td>\n",
       "      <td>MINT</td>\n",
       "      <td>Männlich,  fachgebundene Hochschulreife,  Eltern im Ausland geboren,  Elternteil hat studiert,  Geschwister üben MINT-Beruf aus,  Beliebtheit Mathematik: 2,  Beliebtheit Physik: 3,  Beliebtheit Informatik: 3,  Beliebtheit Chemie: 4,  Beliebtheit Biologie: 4,  Fachinteresse: 3,  Berufsaussichten: 3,  Gehalt: 2,  Gesellschaftliches Ansehen: 2,  Partner: 3,  Kinder: 3,  Karriere: 2</td>\n",
       "    </tr>\n",
       "    <tr>\n",
       "      <th>443</th>\n",
       "      <td>MINT</td>\n",
       "      <td>nicht_MINT</td>\n",
       "      <td>Weiblich,  allgemeine Hochschulreife,  in Deutschland geboren,  Geschwister haben MINT-Fach studiert,  kein MINT-Beruf,  Beliebtheit Mathematik: 1,  Beliebtheit Physik: 1,  Beliebtheit Informatik: 5,  Beliebtheit Chemie: 1,  Beliebtheit Biologie: 3,  Fachinteresse: 3,  Berufsaussichten: 4,  Gehalt: 4,  Gesellschaftliches Ansehen: 4,  Partner: 3,  Kinder: 1,  Karriere: 4</td>\n",
       "    </tr>\n",
       "    <tr>\n",
       "      <th>568</th>\n",
       "      <td>nicht_MINT</td>\n",
       "      <td>MINT</td>\n",
       "      <td>Weiblich,  allgemeine Hochschulreife,  in Deutschland geboren,  Geschwister haben MINT-Fach studiert,  Geschwister üben MINT-Beruf aus,  Beliebtheit Mathematik: 2,  Beliebtheit Physik: 2,  Beliebtheit Informatik: 1,  Beliebtheit Chemie: 1,  Beliebtheit Biologie: 5,  Fachinteresse: 4,  Berufsaussichten: 3,  Gehalt: 2,  Gesellschaftliches Ansehen: 2,  Partner: 4,  Kinder: 3,  Karriere: 2</td>\n",
       "    </tr>\n",
       "    <tr>\n",
       "      <th>87</th>\n",
       "      <td>MINT</td>\n",
       "      <td>nicht_MINT</td>\n",
       "      <td>Weiblich,  allgemeine Hochschulreife,  in Deutschland geboren,  Geschwister haben studiert,  Geschwister üben MINT-Beruf aus,  Beliebtheit Mathematik: 5,  Beliebtheit Physik: 3,  Beliebtheit Informatik: 2,  Beliebtheit Chemie: 5,  Beliebtheit Biologie: 2,  Fachinteresse: 3,  Berufsaussichten: 3,  Gehalt: 3,  Gesellschaftliches Ansehen: 2,  Partner: 4,  Kinder: 4,  Karriere: 4</td>\n",
       "    </tr>\n",
       "    <tr>\n",
       "      <th>654</th>\n",
       "      <td>MINT</td>\n",
       "      <td>nicht_MINT</td>\n",
       "      <td>Weiblich,  fachgebundene Hochschulreife,  Eltern im Ausland geboren,  Studienpionier,  kein MINT-Beruf,  Beliebtheit Mathematik: 4,  Beliebtheit Physik: 2,  Beliebtheit Informatik: 5,  Beliebtheit Chemie: 1,  Beliebtheit Biologie: 1,  Fachinteresse: 3,  Berufsaussichten: 4,  Gehalt: 4,  Gesellschaftliches Ansehen: 2,  Partner: 4,  Kinder: 4,  Karriere: 4</td>\n",
       "    </tr>\n",
       "    <tr>\n",
       "      <th>381</th>\n",
       "      <td>nicht_MINT</td>\n",
       "      <td>MINT</td>\n",
       "      <td>Weiblich,  allgemeine Hochschulreife,  in Deutschland geboren,  Elternteil hat MINT-Fach studiert,  Geschwister haben MINT-Fach studiert,  Elternteil übt MINT-Beruf aus,  Beliebtheit Mathematik: 3,  Beliebtheit Physik: 1,  Beliebtheit Informatik: 1,  Beliebtheit Chemie: 2,  Beliebtheit Biologie: 4,  Fachinteresse: 4,  Berufsaussichten: 3,  Gehalt: 2,  Gesellschaftliches Ansehen: 1,  Partner: 3,  Kinder: 4,  Karriere: 2</td>\n",
       "    </tr>\n",
       "    <tr>\n",
       "      <th>49</th>\n",
       "      <td>MINT</td>\n",
       "      <td>nicht_MINT</td>\n",
       "      <td>Weiblich,  allgemeine Hochschulreife,  in Deutschland geboren,  Studienpionier,  kein MINT-Beruf,  Beliebtheit Mathematik: 4,  Beliebtheit Physik: 2,  Beliebtheit Informatik: 1,  Beliebtheit Chemie: 5,  Beliebtheit Biologie: 3,  Fachinteresse: 3,  Berufsaussichten: 4,  Gehalt: 2,  Gesellschaftliches Ansehen: 4,  Partner: 3,  Kinder: 2,  Karriere: 4</td>\n",
       "    </tr>\n",
       "    <tr>\n",
       "      <th>379</th>\n",
       "      <td>MINT</td>\n",
       "      <td>nicht_MINT</td>\n",
       "      <td>Männlich,  beruflich qualifiziert,  in Deutschland geboren,  Studienpionier,  kein MINT-Beruf,  Beliebtheit Mathematik: 4,  Beliebtheit Physik: 5,  Beliebtheit Informatik: 5,  Beliebtheit Chemie: 4,  Beliebtheit Biologie: 3,  Fachinteresse: 2,  Berufsaussichten: 4,  Gehalt: 3,  Gesellschaftliches Ansehen: 2,  Partner: 4,  Kinder: 4,  Karriere: 4</td>\n",
       "    </tr>\n",
       "    <tr>\n",
       "      <th>439</th>\n",
       "      <td>MINT</td>\n",
       "      <td>nicht_MINT</td>\n",
       "      <td>Weiblich,  FHR,  in Deutschland geboren,  Studienpionier,  kein MINT-Beruf,  Beliebtheit Mathematik: 4,  Beliebtheit Physik: 4,  Beliebtheit Informatik: 4,  Beliebtheit Chemie: 4,  Beliebtheit Biologie: 4,  Fachinteresse: 4,  Berufsaussichten: 4,  Gehalt: 2,  Gesellschaftliches Ansehen: 1,  Partner: 4,  Kinder: 3,  Karriere: 1</td>\n",
       "    </tr>\n",
       "    <tr>\n",
       "      <th>295</th>\n",
       "      <td>nicht_MINT</td>\n",
       "      <td>MINT</td>\n",
       "      <td>Weiblich,  fachgebundene Hochschulreife,  in Deutschland geboren,  Elternteil hat MINT-Fach studiert,  Elternteil hat studiert,  Elternteil übt MINT-Beruf aus,  Beliebtheit Mathematik: 5,  Beliebtheit Physik: 4,  Beliebtheit Informatik: 3,  Beliebtheit Chemie: 4,  Beliebtheit Biologie: 2,  Fachinteresse: 3,  Berufsaussichten: 3,  Gehalt: 2,  Gesellschaftliches Ansehen: 2,  Partner: 4,  Kinder: 2,  Karriere: 3</td>\n",
       "    </tr>\n",
       "    <tr>\n",
       "      <th>227</th>\n",
       "      <td>nicht_MINT</td>\n",
       "      <td>MINT</td>\n",
       "      <td>Männlich,  allgemeine Hochschulreife,  in Deutschland geboren,  Studienpionier,  Elternteil übt MINT-Beruf aus,  Beliebtheit Mathematik: 4,  Beliebtheit Physik: 3,  Beliebtheit Informatik: 2,  Beliebtheit Chemie: 4,  Beliebtheit Biologie: 2,  Fachinteresse: 3,  Berufsaussichten: 3,  Gehalt: 3,  Gesellschaftliches Ansehen: 2,  Partner: 4,  Kinder: 4,  Karriere: 4</td>\n",
       "    </tr>\n",
       "    <tr>\n",
       "      <th>360</th>\n",
       "      <td>nicht_MINT</td>\n",
       "      <td>MINT</td>\n",
       "      <td>Weiblich,  allgemeine Hochschulreife,  in Deutschland geboren,  Studienpionier,  Elternteil übt MINT-Beruf aus,  Beliebtheit Mathematik: 2,  Beliebtheit Physik: 2,  Beliebtheit Informatik: 1,  Beliebtheit Chemie: 4,  Beliebtheit Biologie: 5,  Fachinteresse: 4,  Berufsaussichten: 3,  Gehalt: 1,  Gesellschaftliches Ansehen: 1,  Partner: 4,  Kinder: 2,  Karriere: 3</td>\n",
       "    </tr>\n",
       "    <tr>\n",
       "      <th>56</th>\n",
       "      <td>MINT</td>\n",
       "      <td>nicht_MINT</td>\n",
       "      <td>Weiblich,  allgemeine Hochschulreife,  in Deutschland geboren,  Elternteil hat studiert,  Geschwister haben studiert,  Geschwister üben MINT-Beruf aus,  Beliebtheit Mathematik: 4,  Beliebtheit Physik: 3,  Beliebtheit Informatik: 2,  Beliebtheit Chemie: 5,  Beliebtheit Biologie: 5,  Fachinteresse: 4,  Berufsaussichten: 3,  Gehalt: 3,  Gesellschaftliches Ansehen: 3,  Partner: 4,  Kinder: 4,  Karriere: 2</td>\n",
       "    </tr>\n",
       "    <tr>\n",
       "      <th>454</th>\n",
       "      <td>MINT</td>\n",
       "      <td>nicht_MINT</td>\n",
       "      <td>Weiblich,  fachgebundene Hochschulreife,  in Deutschland geboren,  Studienpionier,  kein MINT-Beruf,  Beliebtheit Mathematik: 2,  Beliebtheit Physik: 3,  Beliebtheit Informatik: 3,  Beliebtheit Chemie: 3,  Beliebtheit Biologie: 3,  Fachinteresse: 4,  Berufsaussichten: 2,  Gehalt: 2,  Gesellschaftliches Ansehen: 1,  Partner: 4,  Kinder: 2,  Karriere: 2</td>\n",
       "    </tr>\n",
       "    <tr>\n",
       "      <th>481</th>\n",
       "      <td>nicht_MINT</td>\n",
       "      <td>MINT</td>\n",
       "      <td>Weiblich,  allgemeine Hochschulreife,  in Deutschland geboren,  Elternteil hat MINT-Fach studiert,  Elternteil übt MINT-Beruf aus,  Beliebtheit Mathematik: 1,  Beliebtheit Physik: 1,  Beliebtheit Informatik: 3,  Beliebtheit Chemie: 1,  Beliebtheit Biologie: 2,  Fachinteresse: 4,  Berufsaussichten: 4,  Gehalt: 4,  Gesellschaftliches Ansehen: 4,  Partner: 4,  Kinder: 4,  Karriere: 3</td>\n",
       "    </tr>\n",
       "    <tr>\n",
       "      <th>90</th>\n",
       "      <td>nicht_MINT</td>\n",
       "      <td>MINT</td>\n",
       "      <td>Männlich,  fachgebundene Hochschulreife,  in Deutschland geboren,  Geschwister haben MINT-Fach studiert,  Geschwister üben MINT-Beruf aus,  Beliebtheit Mathematik: 2,  Beliebtheit Physik: 3,  Beliebtheit Informatik: 5,  Beliebtheit Chemie: 3,  Beliebtheit Biologie: 4,  Fachinteresse: 4,  Berufsaussichten: 3,  Gehalt: 3,  Gesellschaftliches Ansehen: 2,  Partner: 3,  Kinder: 3,  Karriere: 3</td>\n",
       "    </tr>\n",
       "  </tbody>\n",
       "</table>\n",
       "</div>"
      ],
      "text/plain": [
       "       category   predicted  \\\n",
       "120        MINT  nicht_MINT   \n",
       "695  nicht_MINT        MINT   \n",
       "298  nicht_MINT        MINT   \n",
       "284  nicht_MINT        MINT   \n",
       "305        MINT  nicht_MINT   \n",
       "471  nicht_MINT        MINT   \n",
       "229  nicht_MINT        MINT   \n",
       "348  nicht_MINT        MINT   \n",
       "86         MINT  nicht_MINT   \n",
       "694  nicht_MINT        MINT   \n",
       "196  nicht_MINT        MINT   \n",
       "446  nicht_MINT        MINT   \n",
       "239  nicht_MINT        MINT   \n",
       "98   nicht_MINT        MINT   \n",
       "574        MINT  nicht_MINT   \n",
       "57   nicht_MINT        MINT   \n",
       "110        MINT  nicht_MINT   \n",
       "708  nicht_MINT        MINT   \n",
       "546  nicht_MINT        MINT   \n",
       "681  nicht_MINT        MINT   \n",
       "0    nicht_MINT        MINT   \n",
       "277  nicht_MINT        MINT   \n",
       "190        MINT  nicht_MINT   \n",
       "616  nicht_MINT        MINT   \n",
       "673        MINT  nicht_MINT   \n",
       "565        MINT  nicht_MINT   \n",
       "396        MINT  nicht_MINT   \n",
       "537  nicht_MINT        MINT   \n",
       "221        MINT  nicht_MINT   \n",
       "489        MINT  nicht_MINT   \n",
       "491  nicht_MINT        MINT   \n",
       "72         MINT  nicht_MINT   \n",
       "646  nicht_MINT        MINT   \n",
       "575        MINT  nicht_MINT   \n",
       "82   nicht_MINT        MINT   \n",
       "642  nicht_MINT        MINT   \n",
       "443        MINT  nicht_MINT   \n",
       "568  nicht_MINT        MINT   \n",
       "87         MINT  nicht_MINT   \n",
       "654        MINT  nicht_MINT   \n",
       "381  nicht_MINT        MINT   \n",
       "49         MINT  nicht_MINT   \n",
       "379        MINT  nicht_MINT   \n",
       "439        MINT  nicht_MINT   \n",
       "295  nicht_MINT        MINT   \n",
       "227  nicht_MINT        MINT   \n",
       "360  nicht_MINT        MINT   \n",
       "56         MINT  nicht_MINT   \n",
       "454        MINT  nicht_MINT   \n",
       "481  nicht_MINT        MINT   \n",
       "90   nicht_MINT        MINT   \n",
       "\n",
       "                                                                                                                                                                                                                                                                                                                                                                                                                                                                                          kein_Studiengang  \n",
       "120                                                                                                                                   Weiblich,  fachgebundene Hochschulreife,  Eltern im Ausland geboren,  Studienpionier,  kein MINT-Beruf,  Beliebtheit Mathematik: 4,  Beliebtheit Physik: 3,  Beliebtheit Informatik: 2,  Beliebtheit Chemie: 3,  Beliebtheit Biologie: 4,  Fachinteresse: 3,  Berufsaussichten: 3,  Gehalt: 3,  Gesellschaftliches Ansehen: 4,  Partner: 4,  Kinder: 1,  Karriere: 2  \n",
       "695                                                                                                                                         Männlich,  allgemeine Hochschulreife,  in Deutschland geboren,  Studienpionier,  kein MINT-Beruf,  Beliebtheit Mathematik: 3,  Beliebtheit Physik: 1,  Beliebtheit Informatik: 3,  Beliebtheit Chemie: 4,  Beliebtheit Biologie: 5,  Fachinteresse: 4,  Berufsaussichten: 4,  Gehalt: 2,  Gesellschaftliches Ansehen: 2,  Partner: 4,  Kinder: 1,  Karriere: 2  \n",
       "298                                                                                                                           Weiblich,  allgemeine Hochschulreife,  in Deutschland geboren,  Studienpionier,  Elternteil übt MINT-Beruf aus,  Beliebtheit Mathematik: 1,  Beliebtheit Physik: 1,  Beliebtheit Informatik: 2,  Beliebtheit Chemie: 2,  Beliebtheit Biologie: 4,  Fachinteresse: 4,  Berufsaussichten: 3,  Gehalt: 1,  Gesellschaftliches Ansehen: 1,  Partner: 3,  Kinder: 3,  Karriere: 3  \n",
       "284                                                                                                        Weiblich,  allgemeine Hochschulreife,  in Deutschland geboren,  Elternteil hat MINT-Fach studiert,  Elternteil übt MINT-Beruf aus,  Beliebtheit Mathematik: 2,  Beliebtheit Physik: 1,  Beliebtheit Informatik: 2,  Beliebtheit Chemie: 3,  Beliebtheit Biologie: 4,  Fachinteresse: 3,  Berufsaussichten: 2,  Gehalt: 1,  Gesellschaftliches Ansehen: 2,  Partner: 2,  Kinder: 2,  Karriere: 2  \n",
       "305                                                                                                                                Weiblich,  allgemeine Hochschulreife,  in Deutschland geboren,  Elternteil hat studiert,  kein MINT-Beruf,  Beliebtheit Mathematik: 2,  Beliebtheit Physik: 4,  Beliebtheit Informatik: 3,  Beliebtheit Chemie: 4,  Beliebtheit Biologie: 5,  Fachinteresse: 4,  Berufsaussichten: 3,  Gehalt: 2,  Gesellschaftliches Ansehen: 3,  Partner: 4,  Kinder: 3,  Karriere: 4  \n",
       "471                                                                      Weiblich,  allgemeine Hochschulreife,  in Deutschland geboren,  Elternteil hat MINT-Fach studiert,  Elternteil übt MINT-Beruf aus,  Geschwister üben MINT-Beruf aus,  Beliebtheit Mathematik: 4,  Beliebtheit Physik: 2,  Beliebtheit Informatik: 2,  Beliebtheit Chemie: 4,  Beliebtheit Biologie: 4,  Fachinteresse: 4,  Berufsaussichten: 3,  Gehalt: 3,  Gesellschaftliches Ansehen: 3,  Partner: 4,  Kinder: 4,  Karriere: 3  \n",
       "229                                                                                                                      Weiblich,  Abitur,  im Ausland geboren,  Eltern im Ausland geboren,  Studienpionier,  Elternteil übt MINT-Beruf aus,  Beliebtheit Mathematik: 5,  Beliebtheit Physik: 4,  Beliebtheit Informatik: 4,  Beliebtheit Chemie: 3,  Beliebtheit Biologie: 5,  Fachinteresse: 3,  Berufsaussichten: 4,  Gehalt: 4,  Gesellschaftliches Ansehen: 2,  Partner: 3,  Kinder: 4,  Karriere: 4  \n",
       "348                                                                              Männlich,  allgemeine Hochschulreife,  in Deutschland geboren,  Elternteil hat MINT-Fach studiert,  Elternteil hat studiert,  Elternteil übt MINT-Beruf aus,  Beliebtheit Mathematik: 2,  Beliebtheit Physik: 2,  Beliebtheit Informatik: 2,  Beliebtheit Chemie: 2,  Beliebtheit Biologie: 2,  Fachinteresse: 4,  Berufsaussichten: 3,  Gehalt: 2,  Gesellschaftliches Ansehen: 2,  Partner: 4,  Kinder: 3,  Karriere: 4  \n",
       "86                                                                                                                                       Weiblich,  allgemeine Hochschulreife,  Eltern im Ausland geboren,  Studienpionier,  kein MINT-Beruf,  Beliebtheit Mathematik: 4,  Beliebtheit Physik: 5,  Beliebtheit Informatik: 3,  Beliebtheit Chemie: 2,  Beliebtheit Biologie: 4,  Fachinteresse: 3,  Berufsaussichten: 4,  Gehalt: 3,  Gesellschaftliches Ansehen: 2,  Partner: 4,  Kinder: 3,  Karriere: 4  \n",
       "694                                                                                                        Männlich,  allgemeine Hochschulreife,  in Deutschland geboren,  Elternteil hat MINT-Fach studiert,  Elternteil übt MINT-Beruf aus,  Beliebtheit Mathematik: 2,  Beliebtheit Physik: 2,  Beliebtheit Informatik: 1,  Beliebtheit Chemie: 2,  Beliebtheit Biologie: 4,  Fachinteresse: 4,  Berufsaussichten: 3,  Gehalt: 3,  Gesellschaftliches Ansehen: 2,  Partner: 4,  Kinder: 4,  Karriere: 3  \n",
       "196                                                                               Männlich,  fachgebundene Hochschulreife,  Eltern im Ausland geboren,  Elternteil hat studiert,  Geschwister haben studiert,  Elternteil übt MINT-Beruf aus,  Beliebtheit Mathematik: 3,  Beliebtheit Physik: 4,  Beliebtheit Informatik: 2,  Beliebtheit Chemie: 4,  Beliebtheit Biologie: 4,  Fachinteresse: 2,  Berufsaussichten: 3,  Gehalt: 2,  Gesellschaftliches Ansehen: 3,  Partner: 3,  Kinder: 3,  Karriere: 3  \n",
       "446                                                                                                                                Männlich,  allgemeine Hochschulreife,  in Deutschland geboren,  Elternteil hat studiert,  kein MINT-Beruf,  Beliebtheit Mathematik: 4,  Beliebtheit Physik: 4,  Beliebtheit Informatik: 2,  Beliebtheit Chemie: 4,  Beliebtheit Biologie: 4,  Fachinteresse: 3,  Berufsaussichten: 2,  Gehalt: 1,  Gesellschaftliches Ansehen: 2,  Partner: 2,  Kinder: 2,  Karriere: 2  \n",
       "239                                                                                                                                                                                                                                                                                                                                                                                                       Männlich,  allgemeine Hochschulreife,  in Deutschland geboren,  Studienpionier,  kein MINT-Beruf  \n",
       "98                                                                            Männlich,  allgemeine Hochschulreife,  in Deutschland geboren,  Elternteil hat MINT-Fach studiert,  Geschwister haben studiert,  Elternteil übt MINT-Beruf aus,  Beliebtheit Mathematik: 4,  Beliebtheit Physik: 5,  Beliebtheit Informatik: 1,  Beliebtheit Chemie: 3,  Beliebtheit Biologie: 4,  Fachinteresse: 4,  Berufsaussichten: 3,  Gehalt: 3,  Gesellschaftliches Ansehen: 2,  Partner: 3,  Kinder: 2,  Karriere: 3  \n",
       "574                                                                                                                                Weiblich,  allgemeine Hochschulreife,  in Deutschland geboren,  Elternteil hat studiert,  kein MINT-Beruf,  Beliebtheit Mathematik: 5,  Beliebtheit Physik: 4,  Beliebtheit Informatik: 2,  Beliebtheit Chemie: 4,  Beliebtheit Biologie: 5,  Fachinteresse: 4,  Berufsaussichten: 4,  Gehalt: 4,  Gesellschaftliches Ansehen: 4,  Partner: 4,  Kinder: 4,  Karriere: 3  \n",
       "57                                                                                                         Weiblich,  allgemeine Hochschulreife,  in Deutschland geboren,  Elternteil hat MINT-Fach studiert,  Elternteil übt MINT-Beruf aus,  Beliebtheit Mathematik: 4,  Beliebtheit Physik: 4,  Beliebtheit Informatik: 1,  Beliebtheit Chemie: 2,  Beliebtheit Biologie: 3,  Fachinteresse: 4,  Berufsaussichten: 2,  Gehalt: 2,  Gesellschaftliches Ansehen: 1,  Partner: 4,  Kinder: 1,  Karriere: 4  \n",
       "110                                                               Weiblich,  allgemeine Hochschulreife,  in Deutschland geboren,  Elternteil hat MINT-Fach studiert,  Geschwister haben MINT-Fach studiert,  Geschwister üben MINT-Beruf aus,  Beliebtheit Mathematik: 4,  Beliebtheit Physik: 2,  Beliebtheit Informatik: 2,  Beliebtheit Chemie: 5,  Beliebtheit Biologie: 3,  Fachinteresse: 4,  Berufsaussichten: 4,  Gehalt: 2,  Gesellschaftliches Ansehen: 2,  Partner: 2,  Kinder: 2,  Karriere: 2  \n",
       "708                                                                                                                             Männlich,  allgemeine Hochschulreife,  in Deutschland geboren,  Geschwister haben studiert,  kein MINT-Beruf,  Beliebtheit Mathematik: 4,  Beliebtheit Physik: 4,  Beliebtheit Informatik: 2,  Beliebtheit Chemie: 2,  Beliebtheit Biologie: 2,  Fachinteresse: 3,  Berufsaussichten: 2,  Gehalt: 2,  Gesellschaftliches Ansehen: 3,  Partner: 3,  Kinder: 3,  Karriere: 2  \n",
       "546                                                                                                              Männlich,  fachgebundene Hochschulreife,  im Ausland geboren,  Eltern im Ausland geboren,  Studienpionier,  kein MINT-Beruf,  Beliebtheit Mathematik: 2,  Beliebtheit Physik: 2,  Beliebtheit Informatik: 3,  Beliebtheit Chemie: 2,  Beliebtheit Biologie: 4,  Fachinteresse: 2,  Berufsaussichten: 3,  Gehalt: 3,  Gesellschaftliches Ansehen: 2,  Partner: 4,  Kinder: 2,  Karriere: 2  \n",
       "681                                                                                                            Weiblich,  allgemeine Hochschulreife,  im Ausland geboren,  Elternteil hat MINT-Fach studiert,  Elternteil übt MINT-Beruf aus,  Beliebtheit Mathematik: 4,  Beliebtheit Physik: 5,  Beliebtheit Informatik: 2,  Beliebtheit Chemie: 2,  Beliebtheit Biologie: 3,  Fachinteresse: 4,  Berufsaussichten: 3,  Gehalt: 2,  Gesellschaftliches Ansehen: 3,  Partner: 4,  Kinder: 2,  Karriere: 3  \n",
       "0                                                                                                                                           Männlich,  allgemeine Hochschulreife,  in Deutschland geboren,  Studienpionier,  kein MINT-Beruf,  Beliebtheit Mathematik: 4,  Beliebtheit Physik: 4,  Beliebtheit Informatik: 3,  Beliebtheit Chemie: 3,  Beliebtheit Biologie: 3,  Fachinteresse: 4,  Berufsaussichten: 4,  Gehalt: 4,  Gesellschaftliches Ansehen: 2,  Partner: 4,  Kinder: 4,  Karriere: 3  \n",
       "277                                                                                                                             Männlich,  fachgebundene Hochschulreife,  in Deutschland geboren,  Elternteil hat studiert,  kein MINT-Beruf,  Beliebtheit Mathematik: 1,  Beliebtheit Physik: 2,  Beliebtheit Informatik: 1,  Beliebtheit Chemie: 4,  Beliebtheit Biologie: 4,  Fachinteresse: 3,  Berufsaussichten: 2,  Gehalt: 1,  Gesellschaftliches Ansehen: 1,  Partner: 4,  Kinder: 3,  Karriere: 2  \n",
       "190                                                                                                                   Weiblich,  allgemeine Hochschulreife,  in Deutschland geboren,  Geschwister haben MINT-Fach studiert,  kein MINT-Beruf,  Beliebtheit Mathematik: 1,  Beliebtheit Physik: 1,  Beliebtheit Informatik: 2,  Beliebtheit Chemie: 2,  Beliebtheit Biologie: 4,  Fachinteresse: 4,  Berufsaussichten: 2,  Gehalt: 3,  Gesellschaftliches Ansehen: 1,  Partner: 4,  Kinder: 4,  Karriere: 3  \n",
       "616                                                                                                        Weiblich,  allgemeine Hochschulreife,  in Deutschland geboren,  Elternteil hat MINT-Fach studiert,  Elternteil übt MINT-Beruf aus,  Beliebtheit Mathematik: 1,  Beliebtheit Physik: 4,  Beliebtheit Informatik: 3,  Beliebtheit Chemie: 1,  Beliebtheit Biologie: 4,  Fachinteresse: 4,  Berufsaussichten: 3,  Gehalt: 3,  Gesellschaftliches Ansehen: 1,  Partner: 4,  Kinder: 2,  Karriere: 3  \n",
       "673                                                                                                                Weiblich,  allgemeine Hochschulreife,  in Deutschland geboren,  Elternteil hat studiert,  Geschwister üben MINT-Beruf aus,  Beliebtheit Mathematik: 4,  Beliebtheit Physik: 4,  Beliebtheit Informatik: 4,  Beliebtheit Chemie: 4,  Beliebtheit Biologie: 4,  Fachinteresse: 4,  Berufsaussichten: 3,  Gehalt: 2,  Gesellschaftliches Ansehen: 2,  Partner: 3,  Kinder: 3,  Karriere: 2  \n",
       "565                                                                                                                                      Weiblich,  allgemeine Hochschulreife,  Eltern im Ausland geboren,  Studienpionier,  kein MINT-Beruf,  Beliebtheit Mathematik: 4,  Beliebtheit Physik: 4,  Beliebtheit Informatik: 5,  Beliebtheit Chemie: 2,  Beliebtheit Biologie: 3,  Fachinteresse: 4,  Berufsaussichten: 4,  Gehalt: 4,  Gesellschaftliches Ansehen: 3,  Partner: 4,  Kinder: 3,  Karriere: 4  \n",
       "396                                                                                                                                         Weiblich,  allgemeine Hochschulreife,  in Deutschland geboren,  Studienpionier,  kein MINT-Beruf,  Beliebtheit Mathematik: 1,  Beliebtheit Physik: 1,  Beliebtheit Informatik: 3,  Beliebtheit Chemie: 1,  Beliebtheit Biologie: 3,  Fachinteresse: 2,  Berufsaussichten: 3,  Gehalt: 2,  Gesellschaftliches Ansehen: 2,  Partner: 4,  Kinder: 2,  Karriere: 3  \n",
       "537  Weiblich,  fachgebundene Hochschulreife,  in Deutschland geboren,  Elternteil hat MINT-Fach studiert,  Elternteil hat studiert,  Geschwister haben MINT-Fach studiert,  Elternteil übt MINT-Beruf aus,  Geschwister üben MINT-Beruf aus,  Beliebtheit Mathematik: 3,  Beliebtheit Physik: 3,  Beliebtheit Informatik: 3,  Beliebtheit Chemie: 3,  Beliebtheit Biologie: 3,  Fachinteresse: 4,  Berufsaussichten: 3,  Gehalt: 3,  Gesellschaftliches Ansehen: 2,  Partner: 3,  Kinder: 1,  Karriere: 4  \n",
       "221                                                                                                                                   Weiblich,  fachgebundene Hochschulreife,  Eltern im Ausland geboren,  Studienpionier,  kein MINT-Beruf,  Beliebtheit Mathematik: 2,  Beliebtheit Physik: 4,  Beliebtheit Informatik: 3,  Beliebtheit Chemie: 5,  Beliebtheit Biologie: 5,  Fachinteresse: 4,  Berufsaussichten: 3,  Gehalt: 3,  Gesellschaftliches Ansehen: 1,  Partner: 4,  Kinder: 4,  Karriere: 2  \n",
       "489                                                                                                                             Weiblich,  allgemeine Hochschulreife,  in Deutschland geboren,  Geschwister haben studiert,  kein MINT-Beruf,  Beliebtheit Mathematik: 5,  Beliebtheit Physik: 4,  Beliebtheit Informatik: 3,  Beliebtheit Chemie: 3,  Beliebtheit Biologie: 2,  Fachinteresse: 4,  Berufsaussichten: 4,  Gehalt: 4,  Gesellschaftliches Ansehen: 3,  Partner: 2,  Kinder: 3,  Karriere: 2  \n",
       "491                                                                                                            Weiblich,  allgemeine Hochschulreife,  Eltern im Ausland geboren,  Geschwister haben studiert,  Elternteil übt MINT-Beruf aus,  Beliebtheit Mathematik: 3,  Beliebtheit Physik: 2,  Beliebtheit Informatik: 4,  Beliebtheit Chemie: 5,  Beliebtheit Biologie: 2,  Fachinteresse: 4,  Berufsaussichten: 3,  Gehalt: 2,  Gesellschaftliches Ansehen: 1,  Partner: 3,  Kinder: 4,  Karriere: 3  \n",
       "72                                                                                                                                          Weiblich,  allgemeine Hochschulreife,  in Deutschland geboren,  Studienpionier,  kein MINT-Beruf,  Beliebtheit Mathematik: 3,  Beliebtheit Physik: 4,  Beliebtheit Informatik: 2,  Beliebtheit Chemie: 5,  Beliebtheit Biologie: 5,  Fachinteresse: 4,  Berufsaussichten: 3,  Gehalt: 2,  Gesellschaftliches Ansehen: 2,  Partner: 4,  Kinder: 4,  Karriere: 2  \n",
       "646                                                                                                                                                                                                                                                                                                                                                                                    Weiblich,  allgemeine Hochschulreife,  Eltern im Ausland geboren,  Studienpionier,  Geschwister üben MINT-Beruf aus  \n",
       "575                                                                                                                                      Weiblich,  allgemeine Hochschulreife,  Eltern im Ausland geboren,  Studienpionier,  kein MINT-Beruf,  Beliebtheit Mathematik: 4,  Beliebtheit Physik: 2,  Beliebtheit Informatik: 3,  Beliebtheit Chemie: 1,  Beliebtheit Biologie: 5,  Fachinteresse: 4,  Berufsaussichten: 3,  Gehalt: 3,  Gesellschaftliches Ansehen: 2,  Partner: 4,  Kinder: 4,  Karriere: 3  \n",
       "82                                                                                                                                          Männlich,  allgemeine Hochschulreife,  in Deutschland geboren,  Studienpionier,  kein MINT-Beruf,  Beliebtheit Mathematik: 4,  Beliebtheit Physik: 5,  Beliebtheit Informatik: 5,  Beliebtheit Chemie: 3,  Beliebtheit Biologie: 3,  Fachinteresse: 4,  Berufsaussichten: 4,  Gehalt: 3,  Gesellschaftliches Ansehen: 2,  Partner: 4,  Kinder: 4,  Karriere: 4  \n",
       "642                                                                                                          Männlich,  fachgebundene Hochschulreife,  Eltern im Ausland geboren,  Elternteil hat studiert,  Geschwister üben MINT-Beruf aus,  Beliebtheit Mathematik: 2,  Beliebtheit Physik: 3,  Beliebtheit Informatik: 3,  Beliebtheit Chemie: 4,  Beliebtheit Biologie: 4,  Fachinteresse: 3,  Berufsaussichten: 3,  Gehalt: 2,  Gesellschaftliches Ansehen: 2,  Partner: 3,  Kinder: 3,  Karriere: 2  \n",
       "443                                                                                                                   Weiblich,  allgemeine Hochschulreife,  in Deutschland geboren,  Geschwister haben MINT-Fach studiert,  kein MINT-Beruf,  Beliebtheit Mathematik: 1,  Beliebtheit Physik: 1,  Beliebtheit Informatik: 5,  Beliebtheit Chemie: 1,  Beliebtheit Biologie: 3,  Fachinteresse: 3,  Berufsaussichten: 4,  Gehalt: 4,  Gesellschaftliches Ansehen: 4,  Partner: 3,  Kinder: 1,  Karriere: 4  \n",
       "568                                                                                                   Weiblich,  allgemeine Hochschulreife,  in Deutschland geboren,  Geschwister haben MINT-Fach studiert,  Geschwister üben MINT-Beruf aus,  Beliebtheit Mathematik: 2,  Beliebtheit Physik: 2,  Beliebtheit Informatik: 1,  Beliebtheit Chemie: 1,  Beliebtheit Biologie: 5,  Fachinteresse: 4,  Berufsaussichten: 3,  Gehalt: 2,  Gesellschaftliches Ansehen: 2,  Partner: 4,  Kinder: 3,  Karriere: 2  \n",
       "87                                                                                                              Weiblich,  allgemeine Hochschulreife,  in Deutschland geboren,  Geschwister haben studiert,  Geschwister üben MINT-Beruf aus,  Beliebtheit Mathematik: 5,  Beliebtheit Physik: 3,  Beliebtheit Informatik: 2,  Beliebtheit Chemie: 5,  Beliebtheit Biologie: 2,  Fachinteresse: 3,  Berufsaussichten: 3,  Gehalt: 3,  Gesellschaftliches Ansehen: 2,  Partner: 4,  Kinder: 4,  Karriere: 4  \n",
       "654                                                                                                                                   Weiblich,  fachgebundene Hochschulreife,  Eltern im Ausland geboren,  Studienpionier,  kein MINT-Beruf,  Beliebtheit Mathematik: 4,  Beliebtheit Physik: 2,  Beliebtheit Informatik: 5,  Beliebtheit Chemie: 1,  Beliebtheit Biologie: 1,  Fachinteresse: 3,  Berufsaussichten: 4,  Gehalt: 4,  Gesellschaftliches Ansehen: 2,  Partner: 4,  Kinder: 4,  Karriere: 4  \n",
       "381                                                                 Weiblich,  allgemeine Hochschulreife,  in Deutschland geboren,  Elternteil hat MINT-Fach studiert,  Geschwister haben MINT-Fach studiert,  Elternteil übt MINT-Beruf aus,  Beliebtheit Mathematik: 3,  Beliebtheit Physik: 1,  Beliebtheit Informatik: 1,  Beliebtheit Chemie: 2,  Beliebtheit Biologie: 4,  Fachinteresse: 4,  Berufsaussichten: 3,  Gehalt: 2,  Gesellschaftliches Ansehen: 1,  Partner: 3,  Kinder: 4,  Karriere: 2  \n",
       "49                                                                                                                                          Weiblich,  allgemeine Hochschulreife,  in Deutschland geboren,  Studienpionier,  kein MINT-Beruf,  Beliebtheit Mathematik: 4,  Beliebtheit Physik: 2,  Beliebtheit Informatik: 1,  Beliebtheit Chemie: 5,  Beliebtheit Biologie: 3,  Fachinteresse: 3,  Berufsaussichten: 4,  Gehalt: 2,  Gesellschaftliches Ansehen: 4,  Partner: 3,  Kinder: 2,  Karriere: 4  \n",
       "379                                                                                                                                            Männlich,  beruflich qualifiziert,  in Deutschland geboren,  Studienpionier,  kein MINT-Beruf,  Beliebtheit Mathematik: 4,  Beliebtheit Physik: 5,  Beliebtheit Informatik: 5,  Beliebtheit Chemie: 4,  Beliebtheit Biologie: 3,  Fachinteresse: 2,  Berufsaussichten: 4,  Gehalt: 3,  Gesellschaftliches Ansehen: 2,  Partner: 4,  Kinder: 4,  Karriere: 4  \n",
       "439                                                                                                                                                               Weiblich,  FHR,  in Deutschland geboren,  Studienpionier,  kein MINT-Beruf,  Beliebtheit Mathematik: 4,  Beliebtheit Physik: 4,  Beliebtheit Informatik: 4,  Beliebtheit Chemie: 4,  Beliebtheit Biologie: 4,  Fachinteresse: 4,  Berufsaussichten: 4,  Gehalt: 2,  Gesellschaftliches Ansehen: 1,  Partner: 4,  Kinder: 3,  Karriere: 1  \n",
       "295                                                                           Weiblich,  fachgebundene Hochschulreife,  in Deutschland geboren,  Elternteil hat MINT-Fach studiert,  Elternteil hat studiert,  Elternteil übt MINT-Beruf aus,  Beliebtheit Mathematik: 5,  Beliebtheit Physik: 4,  Beliebtheit Informatik: 3,  Beliebtheit Chemie: 4,  Beliebtheit Biologie: 2,  Fachinteresse: 3,  Berufsaussichten: 3,  Gehalt: 2,  Gesellschaftliches Ansehen: 2,  Partner: 4,  Kinder: 2,  Karriere: 3  \n",
       "227                                                                                                                           Männlich,  allgemeine Hochschulreife,  in Deutschland geboren,  Studienpionier,  Elternteil übt MINT-Beruf aus,  Beliebtheit Mathematik: 4,  Beliebtheit Physik: 3,  Beliebtheit Informatik: 2,  Beliebtheit Chemie: 4,  Beliebtheit Biologie: 2,  Fachinteresse: 3,  Berufsaussichten: 3,  Gehalt: 3,  Gesellschaftliches Ansehen: 2,  Partner: 4,  Kinder: 4,  Karriere: 4  \n",
       "360                                                                                                                           Weiblich,  allgemeine Hochschulreife,  in Deutschland geboren,  Studienpionier,  Elternteil übt MINT-Beruf aus,  Beliebtheit Mathematik: 2,  Beliebtheit Physik: 2,  Beliebtheit Informatik: 1,  Beliebtheit Chemie: 4,  Beliebtheit Biologie: 5,  Fachinteresse: 4,  Berufsaussichten: 3,  Gehalt: 1,  Gesellschaftliches Ansehen: 1,  Partner: 4,  Kinder: 2,  Karriere: 3  \n",
       "56                                                                                    Weiblich,  allgemeine Hochschulreife,  in Deutschland geboren,  Elternteil hat studiert,  Geschwister haben studiert,  Geschwister üben MINT-Beruf aus,  Beliebtheit Mathematik: 4,  Beliebtheit Physik: 3,  Beliebtheit Informatik: 2,  Beliebtheit Chemie: 5,  Beliebtheit Biologie: 5,  Fachinteresse: 4,  Berufsaussichten: 3,  Gehalt: 3,  Gesellschaftliches Ansehen: 3,  Partner: 4,  Kinder: 4,  Karriere: 2  \n",
       "454                                                                                                                                      Weiblich,  fachgebundene Hochschulreife,  in Deutschland geboren,  Studienpionier,  kein MINT-Beruf,  Beliebtheit Mathematik: 2,  Beliebtheit Physik: 3,  Beliebtheit Informatik: 3,  Beliebtheit Chemie: 3,  Beliebtheit Biologie: 3,  Fachinteresse: 4,  Berufsaussichten: 2,  Gehalt: 2,  Gesellschaftliches Ansehen: 1,  Partner: 4,  Kinder: 2,  Karriere: 2  \n",
       "481                                                                                                        Weiblich,  allgemeine Hochschulreife,  in Deutschland geboren,  Elternteil hat MINT-Fach studiert,  Elternteil übt MINT-Beruf aus,  Beliebtheit Mathematik: 1,  Beliebtheit Physik: 1,  Beliebtheit Informatik: 3,  Beliebtheit Chemie: 1,  Beliebtheit Biologie: 2,  Fachinteresse: 4,  Berufsaussichten: 4,  Gehalt: 4,  Gesellschaftliches Ansehen: 4,  Partner: 4,  Kinder: 4,  Karriere: 3  \n",
       "90                                                                                                 Männlich,  fachgebundene Hochschulreife,  in Deutschland geboren,  Geschwister haben MINT-Fach studiert,  Geschwister üben MINT-Beruf aus,  Beliebtheit Mathematik: 2,  Beliebtheit Physik: 3,  Beliebtheit Informatik: 5,  Beliebtheit Chemie: 3,  Beliebtheit Biologie: 4,  Fachinteresse: 4,  Berufsaussichten: 3,  Gehalt: 3,  Gesellschaftliches Ansehen: 2,  Partner: 3,  Kinder: 3,  Karriere: 3  "
      ]
     },
     "execution_count": 98,
     "metadata": {},
     "output_type": "execute_result"
    }
   ],
   "source": [
    "# Spaltenbreite kann ggf. damit verbreitert werden, damit mehr Text sichtbar wird\n",
    "pd.set_option('max_colwidth', 600)\n",
    "\n",
    "test_df[['category', 'predicted', 'kein_Studiengang']][(test_df.category_id != test_df.predicted_id)]"
   ]
  },
  {
   "cell_type": "markdown",
   "metadata": {},
   "source": [
    "### Fazit"
   ]
  },
  {
   "cell_type": "markdown",
   "metadata": {},
   "source": [
    "Mit Angabe des Studiengangs:\n",
    "- Beide Modelle liefern sehr gute Ergebnisse\n",
    "- Das Support Vector Modell ist jedoch nochmal um einiges genauer\n",
    "- NB Acuracy von ca 88%\n",
    "- SVM Acuracy von ca 93%\n",
    "\n",
    "Ohne Angabe des Studiengangs:\n",
    "- NB liefert nur ca 60% Acuracy\n",
    "- SVM Acuracy von ca 70%\n",
    "\n",
    "-> Deutlich schlechtere Ergebnisse als mit Studiengang\n",
    "\n",
    "Bei Betrachtung der Vorhersagen anhand der Eigenschaften fällt auf, dass trotz typischer MINT-Merkmalen es sich nicht immer um ein MINT-Fach handelt. Eine Person bei der die MINT-Fächer in der Schule beliebt waren und mit Eltern, die ein MINT-Fach studiert haben und einen MINT-Beruf ausüben, kann trotz diese Voraussetzungen einen nicht MINT-Studiengang gewählt haben.\n",
    "\n",
    "Dies zeigt, dass sich die Studenten anhand ihrer Eigenschaften nicht gut klassifizieren lassen. Gerade wenn man die sehr guten Ergebnisse nimmt, die durch die Angabe des Studiengangs entstanden. Der Algorithmus kann lernen welcher Studiengang ein MINT-Fach ist, jedoch nur bedingt ob eine Person mit bestimmten Eigenschaften und Umfeld ein MINT-Student ist."
   ]
  },
  {
   "cell_type": "markdown",
   "metadata": {},
   "source": [
    "## Kategorie Frauen"
   ]
  },
  {
   "cell_type": "markdown",
   "metadata": {},
   "source": [
    "In diesem Kapitel sollen die Personendaten in Geschlecht unterteilt und klassifiziert werden. Als Datengrundlage dient die Begründung für bzw. gegen die Wahl eines MINT-Fachs."
   ]
  },
  {
   "cell_type": "markdown",
   "metadata": {},
   "source": [
    "### Datenaufbereitung"
   ]
  },
  {
   "cell_type": "markdown",
   "metadata": {},
   "source": [
    "Daten mit get_multilabel_data aus DB laden. Für spätere Klassifikation wird noch die Spalte Kategorie zum Dataframe hinzugefügt. Bei den Schritten der Datenaufbereitung werden für die beiden Kategorien Frauen und Migranten jeweils unterschiedliche Dataframes erstellt."
   ]
  },
  {
   "cell_type": "code",
   "execution_count": 2,
   "metadata": {},
   "outputs": [
    {
     "data": {
      "text/html": [
       "<div>\n",
       "<style scoped>\n",
       "    .dataframe tbody tr th:only-of-type {\n",
       "        vertical-align: middle;\n",
       "    }\n",
       "\n",
       "    .dataframe tbody tr th {\n",
       "        vertical-align: top;\n",
       "    }\n",
       "\n",
       "    .dataframe thead th {\n",
       "        text-align: right;\n",
       "    }\n",
       "</style>\n",
       "<table border=\"1\" class=\"dataframe\">\n",
       "  <thead>\n",
       "    <tr style=\"text-align: right;\">\n",
       "      <th></th>\n",
       "      <th>Gründe</th>\n",
       "      <th>category</th>\n",
       "    </tr>\n",
       "  </thead>\n",
       "  <tbody>\n",
       "    <tr>\n",
       "      <th>101</th>\n",
       "      <td>Ich hab es nie in Erwägung gezogen</td>\n",
       "      <td>Weiblich</td>\n",
       "    </tr>\n",
       "    <tr>\n",
       "      <th>316</th>\n",
       "      <td>Ja, ich hatte nach meinem Realschulabschluss i...</td>\n",
       "      <td>Männlich</td>\n",
       "    </tr>\n",
       "    <tr>\n",
       "      <th>95</th>\n",
       "      <td>vorherige Ausbildung zur Speditionskauffrau ha...</td>\n",
       "      <td>Weiblich</td>\n",
       "    </tr>\n",
       "    <tr>\n",
       "      <th>363</th>\n",
       "      <td>Ich hab mich schon immer für technische Fächer...</td>\n",
       "      <td>Männlich</td>\n",
       "    </tr>\n",
       "    <tr>\n",
       "      <th>70</th>\n",
       "      <td>Ich habe mich schon immer für Bauwerke interes...</td>\n",
       "      <td>Weiblich</td>\n",
       "    </tr>\n",
       "  </tbody>\n",
       "</table>\n",
       "</div>"
      ],
      "text/plain": [
       "                                                Gründe  category\n",
       "101                 Ich hab es nie in Erwägung gezogen  Weiblich\n",
       "316  Ja, ich hatte nach meinem Realschulabschluss i...  Männlich\n",
       "95   vorherige Ausbildung zur Speditionskauffrau ha...  Weiblich\n",
       "363  Ich hab mich schon immer für technische Fächer...  Männlich\n",
       "70   Ich habe mich schon immer für Bauwerke interes...  Weiblich"
      ]
     },
     "execution_count": 2,
     "metadata": {},
     "output_type": "execute_result"
    }
   ],
   "source": [
    "import sqlite3\n",
    "import pandas as pd\n",
    "import os.path\n",
    "dbPath = \"database/bachelor_umfrage.db\"\n",
    "\n",
    "def get_reason_data(table_name=\"klassifikation\"):\n",
    "    df = pd.DataFrame()\n",
    "    if os.path.isfile(dbPath):\n",
    "        conn = sqlite3.connect(dbPath)\n",
    "        sql = \"\"\"SELECT Geschlecht, Gründe FROM \"\"\" + table_name\n",
    "        sql += \" WHERE Gründe IS NOT NULL\"\n",
    "        df = pd.read_sql_query(sql, conn)\n",
    "    else:\n",
    "        print(\"Datenbank oder Tabelle konnte nicht gefunden werden.\")\n",
    "    return df\n",
    "\n",
    "def get_stopwords():\n",
    "    with open(\"stopwords_de.txt\", encoding='utf-8') as file:\n",
    "        stopwords = file.read().splitlines()\n",
    "    return stopwords\n",
    "\n",
    "reason_df = get_reason_data(table_name=\"klassifikation\")\n",
    "reason_df['category'] = reason_df['Geschlecht']\n",
    "reason_df = reason_df.drop(columns=['Geschlecht'])\n",
    "reason_df.drop(reason_df[reason_df.category == 'Divers'].index, inplace=True)\n",
    "reason_df.sample(5)"
   ]
  },
  {
   "cell_type": "code",
   "execution_count": 3,
   "metadata": {},
   "outputs": [
    {
     "data": {
      "text/html": [
       "<div>\n",
       "<style scoped>\n",
       "    .dataframe tbody tr th:only-of-type {\n",
       "        vertical-align: middle;\n",
       "    }\n",
       "\n",
       "    .dataframe tbody tr th {\n",
       "        vertical-align: top;\n",
       "    }\n",
       "\n",
       "    .dataframe thead th {\n",
       "        text-align: right;\n",
       "    }\n",
       "</style>\n",
       "<table border=\"1\" class=\"dataframe\">\n",
       "  <thead>\n",
       "    <tr style=\"text-align: right;\">\n",
       "      <th></th>\n",
       "      <th>category</th>\n",
       "      <th>category_id</th>\n",
       "    </tr>\n",
       "  </thead>\n",
       "  <tbody>\n",
       "    <tr>\n",
       "      <th>0</th>\n",
       "      <td>Weiblich</td>\n",
       "      <td>0</td>\n",
       "    </tr>\n",
       "    <tr>\n",
       "      <th>3</th>\n",
       "      <td>Männlich</td>\n",
       "      <td>1</td>\n",
       "    </tr>\n",
       "  </tbody>\n",
       "</table>\n",
       "</div>"
      ],
      "text/plain": [
       "   category  category_id\n",
       "0  Weiblich            0\n",
       "3  Männlich            1"
      ]
     },
     "execution_count": 3,
     "metadata": {},
     "output_type": "execute_result"
    }
   ],
   "source": [
    "reason_df[\"category_id\"] = reason_df[\"category\"].factorize()[0]\n",
    "category_id_df = reason_df[[\"category\", \"category_id\"]].drop_duplicates().sort_values(\"category_id\")\n",
    "category_id_df"
   ]
  },
  {
   "cell_type": "markdown",
   "metadata": {},
   "source": [
    "Aufteilung in 80% Trainings- und 20% Testdaten."
   ]
  },
  {
   "cell_type": "code",
   "execution_count": 4,
   "metadata": {},
   "outputs": [
    {
     "name": "stdout",
     "output_type": "stream",
     "text": [
      "(402,)\n",
      "(101,)\n",
      "(402,)\n",
      "(101,)\n"
     ]
    }
   ],
   "source": [
    "from sklearn.model_selection import train_test_split\n",
    "\n",
    "features = reason_df['Gründe']\n",
    "labels = reason_df[\"category_id\"]\n",
    "\n",
    "X_train, X_test, y_train, y_test = train_test_split(features, labels, test_size=0.20)\n",
    "\n",
    "print(X_train.shape)\n",
    "print(X_test.shape)\n",
    "print(y_train.shape)\n",
    "print(y_test.shape)"
   ]
  },
  {
   "cell_type": "markdown",
   "metadata": {},
   "source": [
    "### Trainieren des Naive Bayes Modells (NB)"
   ]
  },
  {
   "cell_type": "code",
   "execution_count": 5,
   "metadata": {},
   "outputs": [],
   "source": [
    "from sklearn.pipeline import Pipeline\n",
    "from sklearn.feature_extraction.text import CountVectorizer\n",
    "from sklearn.feature_extraction.text import TfidfTransformer\n",
    "from sklearn.naive_bayes import MultinomialNB\n",
    "\n",
    "text_clf = Pipeline([(\"vect\", CountVectorizer(ngram_range=(1, 1), stop_words=get_stopwords())),\n",
    "                     (\"tfidf\", TfidfTransformer(sublinear_tf=True, norm=\"l2\")),\n",
    "                     (\"nb_clf\", MultinomialNB()),])\n",
    "text_clf = text_clf.fit(X_train, y_train)"
   ]
  },
  {
   "cell_type": "code",
   "execution_count": 6,
   "metadata": {},
   "outputs": [
    {
     "name": "stdout",
     "output_type": "stream",
     "text": [
      "Wall time: 28.9 ms\n"
     ]
    },
    {
     "data": {
      "text/plain": [
       "Pipeline(memory=None,\n",
       "     steps=[('vect', CountVectorizer(analyzer='word', binary=False, decode_error='strict',\n",
       "        dtype=<class 'numpy.int64'>, encoding='utf-8', input='content',\n",
       "        lowercase=True, max_df=1.0, max_features=None, min_df=1,\n",
       "        ngram_range=(1, 1), preprocessor=None,\n",
       "        stop_words=['a', 'ab',...ear_tf=True, use_idf=True)), ('nb_clf', MultinomialNB(alpha=1.0, class_prior=None, fit_prior=True))])"
      ]
     },
     "execution_count": 6,
     "metadata": {},
     "output_type": "execute_result"
    }
   ],
   "source": [
    "%time text_clf.fit(X_train, y_train)"
   ]
  },
  {
   "cell_type": "code",
   "execution_count": 7,
   "metadata": {},
   "outputs": [],
   "source": [
    "y_predicted = text_clf.predict(X_test)"
   ]
  },
  {
   "cell_type": "markdown",
   "metadata": {},
   "source": [
    "### Ergebnisbewertung NB"
   ]
  },
  {
   "cell_type": "markdown",
   "metadata": {},
   "source": [
    "Berechnung Accuracy-Score"
   ]
  },
  {
   "cell_type": "code",
   "execution_count": 8,
   "metadata": {},
   "outputs": [
    {
     "data": {
      "text/plain": [
       "0.6237623762376238"
      ]
     },
     "execution_count": 8,
     "metadata": {},
     "output_type": "execute_result"
    }
   ],
   "source": [
    "from sklearn import metrics\n",
    "metrics.accuracy_score(y_test, y_predicted)"
   ]
  },
  {
   "cell_type": "markdown",
   "metadata": {},
   "source": [
    "Confusion Matrix"
   ]
  },
  {
   "cell_type": "code",
   "execution_count": 11,
   "metadata": {},
   "outputs": [
    {
     "data": {
      "image/png": "[encoded data removed]",
      "text/plain": [
       "<Figure size 432x288 with 2 Axes>"
      ]
     },
     "metadata": {
      "needs_background": "light"
     },
     "output_type": "display_data"
    }
   ],
   "source": [
    "import matplotlib.pyplot as plt\n",
    "import seaborn as sns\n",
    "from sklearn.metrics import confusion_matrix\n",
    "\n",
    "conf_mat = confusion_matrix(y_test, y_predicted)\n",
    "fig, ax = plt.subplots(figsize=(6, 4))\n",
    "sns.heatmap(conf_mat, annot=True, fmt=\"d\", cmap=\"Blues\", cbar=True,\n",
    "            xticklabels=category_id_df.category.values, yticklabels=category_id_df.category.values)\n",
    "plt.ylabel(\"Actual\")\n",
    "plt.xlabel(\"Predicted\");"
   ]
  },
  {
   "cell_type": "markdown",
   "metadata": {},
   "source": [
    "Berechnung Classification Report"
   ]
  },
  {
   "cell_type": "code",
   "execution_count": 10,
   "metadata": {},
   "outputs": [
    {
     "name": "stdout",
     "output_type": "stream",
     "text": [
      "              precision    recall  f1-score   support\n",
      "\n",
      "    Weiblich       0.62      0.95      0.75        59\n",
      "    Männlich       0.70      0.17      0.27        42\n",
      "\n",
      "   micro avg       0.62      0.62      0.62       101\n",
      "   macro avg       0.66      0.56      0.51       101\n",
      "weighted avg       0.65      0.62      0.55       101\n",
      "\n"
     ]
    }
   ],
   "source": [
    "print(metrics.classification_report(y_test, y_predicted, \n",
    "                                    labels=category_id_df.category_id.values, \n",
    "                                    target_names=category_id_df.category.values))"
   ]
  },
  {
   "cell_type": "markdown",
   "metadata": {},
   "source": [
    "### Trainieren eines Support Vector Modells (SVM)"
   ]
  },
  {
   "cell_type": "code",
   "execution_count": 12,
   "metadata": {},
   "outputs": [],
   "source": [
    "from sklearn.pipeline import Pipeline\n",
    "from sklearn.feature_extraction.text import CountVectorizer\n",
    "from sklearn.feature_extraction.text import TfidfTransformer\n",
    "from sklearn.svm import SVC\n",
    "\n",
    "text_clf = Pipeline([(\"vect\", CountVectorizer(ngram_range=(1, 1), stop_words=get_stopwords())),\n",
    "                     (\"tfidf\", TfidfTransformer(sublinear_tf=True, norm=\"l2\")),\n",
    "                     (\"sv_clf\", SVC(kernel=\"linear\"))])\n",
    "\n",
    "text_clf = text_clf.fit(X_train, y_train)"
   ]
  },
  {
   "cell_type": "code",
   "execution_count": 13,
   "metadata": {},
   "outputs": [],
   "source": [
    "y_predicted = text_clf.predict(X_test)"
   ]
  },
  {
   "cell_type": "markdown",
   "metadata": {},
   "source": [
    "### Ergebnisbewertung SVM"
   ]
  },
  {
   "cell_type": "markdown",
   "metadata": {},
   "source": [
    "Berechnung Acuracy-Score"
   ]
  },
  {
   "cell_type": "code",
   "execution_count": 14,
   "metadata": {},
   "outputs": [
    {
     "data": {
      "text/plain": [
       "0.6633663366336634"
      ]
     },
     "execution_count": 14,
     "metadata": {},
     "output_type": "execute_result"
    }
   ],
   "source": [
    "from sklearn import metrics\n",
    "metrics.accuracy_score(y_test, y_predicted)"
   ]
  },
  {
   "cell_type": "markdown",
   "metadata": {},
   "source": [
    "Berechnung Classification Report"
   ]
  },
  {
   "cell_type": "code",
   "execution_count": 15,
   "metadata": {},
   "outputs": [
    {
     "name": "stdout",
     "output_type": "stream",
     "text": [
      "              precision    recall  f1-score   support\n",
      "\n",
      "    Weiblich       0.69      0.78      0.73        59\n",
      "    Männlich       0.62      0.50      0.55        42\n",
      "\n",
      "   micro avg       0.66      0.66      0.66       101\n",
      "   macro avg       0.65      0.64      0.64       101\n",
      "weighted avg       0.66      0.66      0.66       101\n",
      "\n"
     ]
    }
   ],
   "source": [
    "print(metrics.classification_report(y_test, y_predicted, target_names=category_id_df.category.values))"
   ]
  },
  {
   "cell_type": "markdown",
   "metadata": {},
   "source": [
    "Confusion-Matrix"
   ]
  },
  {
   "cell_type": "code",
   "execution_count": 16,
   "metadata": {},
   "outputs": [
    {
     "data": {
      "image/png": "[encoded data removed]",
      "text/plain": [
       "<Figure size 432x288 with 2 Axes>"
      ]
     },
     "metadata": {
      "needs_background": "light"
     },
     "output_type": "display_data"
    }
   ],
   "source": [
    "import matplotlib.pyplot as plt\n",
    "import seaborn as sns\n",
    "from sklearn.metrics import confusion_matrix\n",
    "\n",
    "conf_mat = confusion_matrix(y_test, y_predicted)\n",
    "fig, ax = plt.subplots(figsize=(6, 4))\n",
    "sns.heatmap(conf_mat, annot=True, fmt=\"d\", cmap=\"Blues\", cbar=True,\n",
    "            xticklabels=category_id_df.category.values, yticklabels=category_id_df.category.values)\n",
    "plt.ylabel(\"Actual\")\n",
    "plt.xlabel(\"Predicted\");"
   ]
  },
  {
   "cell_type": "markdown",
   "metadata": {},
   "source": [
    "### Optimierung der Parameter"
   ]
  },
  {
   "cell_type": "markdown",
   "metadata": {},
   "source": [
    "Mit den folgenden Schritten wird nun versucht, die Parametrisierung der Pipeline zu optimieren:\n",
    "\n",
    "1. Aufbau der Pipeline\n",
    "2. Vorgabe möglicher Parameterwerte\n",
    "3. Optimierung\n",
    "4. Ausgabe des besten Parametersets"
   ]
  },
  {
   "cell_type": "markdown",
   "metadata": {},
   "source": [
    "#### Naive Bayes"
   ]
  },
  {
   "cell_type": "code",
   "execution_count": 17,
   "metadata": {},
   "outputs": [],
   "source": [
    "from pprint import pprint\n",
    "from time import time\n",
    "\n",
    "from sklearn.pipeline import Pipeline\n",
    "from sklearn.feature_extraction.text import TfidfTransformer\n",
    "from sklearn.feature_extraction.text import CountVectorizer\n",
    "from sklearn.naive_bayes import MultinomialNB\n",
    "from sklearn.model_selection import GridSearchCV\n",
    "\n",
    "pipeline = Pipeline([\n",
    "    (\"vect\", CountVectorizer(stop_words=get_stopwords())),\n",
    "    (\"tfidf\", TfidfTransformer()),\n",
    "    (\"nb_clf\", MultinomialNB()),\n",
    "])"
   ]
  },
  {
   "cell_type": "code",
   "execution_count": 18,
   "metadata": {},
   "outputs": [],
   "source": [
    "parameters = {\n",
    "    \"vect__max_df\": (0.2, 0.5, 0.75, 1.0), # Ignorieren von Termen mit relativer Document Frequency > max_df (filtert Korpusspezifische Stoppwörter)\n",
    "    \"vect__ngram_range\": ((1, 1), (1, 2)),  # Unigramme oder Bigramme\n",
    "    \"tfidf__use_idf\": (True, False), # Verwendung der Inverse Document Frequency\n",
    "    \"tfidf__norm\": (\"l1\", \"l2\"), # Art der Normalisierung\n",
    "}"
   ]
  },
  {
   "cell_type": "code",
   "execution_count": 19,
   "metadata": {},
   "outputs": [
    {
     "name": "stdout",
     "output_type": "stream",
     "text": [
      "Pipeline: ['vect', 'tfidf', 'nb_clf']\n",
      "Übergebene Parameter:\n",
      "{'tfidf__norm': ('l1', 'l2'),\n",
      " 'tfidf__use_idf': (True, False),\n",
      " 'vect__max_df': (0.2, 0.5, 0.75, 1.0),\n",
      " 'vect__ngram_range': ((1, 1), (1, 2))}\n",
      "Fitting 3 folds for each of 32 candidates, totalling 96 fits\n"
     ]
    },
    {
     "name": "stderr",
     "output_type": "stream",
     "text": [
      "C:\\Users\\ewittmann\\Anaconda3\\lib\\site-packages\\sklearn\\model_selection\\_split.py:2053: FutureWarning: You should specify a value for 'cv' instead of relying on the default value. The default value will change from 3 to 5 in version 0.22.\n",
      "  warnings.warn(CV_WARNING, FutureWarning)\n",
      "[Parallel(n_jobs=-1)]: Using backend LokyBackend with 4 concurrent workers.\n",
      "[Parallel(n_jobs=-1)]: Done  46 tasks      | elapsed:    6.4s\n"
     ]
    },
    {
     "name": "stdout",
     "output_type": "stream",
     "text": [
      "Fertig nach 7.560s\n"
     ]
    },
    {
     "name": "stderr",
     "output_type": "stream",
     "text": [
      "[Parallel(n_jobs=-1)]: Done  96 out of  96 | elapsed:    7.4s finished\n",
      "C:\\Users\\ewittmann\\Anaconda3\\lib\\site-packages\\sklearn\\model_selection\\_search.py:841: DeprecationWarning: The default of the `iid` parameter will change from True to False in version 0.22 and will be removed in 0.24. This will change numeric results when test-set sizes are unequal.\n",
      "  DeprecationWarning)\n"
     ]
    }
   ],
   "source": [
    "grid_search = GridSearchCV(pipeline, parameters, n_jobs=-1, verbose=1)\n",
    "\n",
    "print(\"Pipeline:\", [name for name, _ in pipeline.steps])\n",
    "print(\"Übergebene Parameter:\")\n",
    "pprint(parameters)\n",
    "t0 = time()\n",
    "grid_search.fit(X_train, y_train)\n",
    "print(\"Fertig nach %0.3fs\" % (time() - t0))"
   ]
  },
  {
   "cell_type": "code",
   "execution_count": 20,
   "metadata": {},
   "outputs": [
    {
     "name": "stdout",
     "output_type": "stream",
     "text": [
      "Bester Score (hier Accuracy): 0.634\n",
      "Bestes Parameter Set:\n",
      "\ttfidf__norm: 'l2'\n",
      "\ttfidf__use_idf: False\n",
      "\tvect__max_df: 0.2\n",
      "\tvect__ngram_range: (1, 1)\n"
     ]
    }
   ],
   "source": [
    "print(\"Bester Score (hier Accuracy): %0.3f\" % grid_search.best_score_)\n",
    "print(\"Bestes Parameter Set:\")\n",
    "best_parameters = grid_search.best_estimator_.get_params()\n",
    "for param_name in sorted(parameters.keys()):\n",
    "    print(\"\\t%s: %r\" % (param_name, best_parameters[param_name]))"
   ]
  },
  {
   "cell_type": "code",
   "execution_count": 21,
   "metadata": {},
   "outputs": [],
   "source": [
    "from sklearn.pipeline import Pipeline\n",
    "from sklearn.feature_extraction.text import CountVectorizer\n",
    "from sklearn.feature_extraction.text import TfidfTransformer\n",
    "from sklearn.naive_bayes import MultinomialNB\n",
    "\n",
    "text_clf = Pipeline([(\"vect\", CountVectorizer(max_df=0.2, ngram_range=(1, 1), stop_words=get_stopwords())),\n",
    "                     (\"tfidf\", TfidfTransformer( sublinear_tf=True, norm=\"l2\")),\n",
    "                     (\"nb_clf\", MultinomialNB()),])\n",
    "\n",
    "text_clf = text_clf.fit(X_train, y_train)\n",
    "y_predicted = text_clf.predict(X_test)"
   ]
  },
  {
   "cell_type": "code",
   "execution_count": 22,
   "metadata": {},
   "outputs": [
    {
     "data": {
      "text/plain": [
       "0.6336633663366337"
      ]
     },
     "execution_count": 22,
     "metadata": {},
     "output_type": "execute_result"
    }
   ],
   "source": [
    "from sklearn import metrics\n",
    "metrics.accuracy_score(y_test, y_predicted)"
   ]
  },
  {
   "cell_type": "code",
   "execution_count": 23,
   "metadata": {},
   "outputs": [
    {
     "data": {
      "image/png": "[encoded data removed]",
      "text/plain": [
       "<Figure size 432x288 with 2 Axes>"
      ]
     },
     "metadata": {
      "needs_background": "light"
     },
     "output_type": "display_data"
    }
   ],
   "source": [
    "import matplotlib.pyplot as plt\n",
    "import seaborn as sns\n",
    "from sklearn.metrics import confusion_matrix\n",
    "\n",
    "conf_mat = confusion_matrix(y_test, y_predicted)\n",
    "fig, ax = plt.subplots(figsize=(6, 4))\n",
    "sns.heatmap(conf_mat, annot=True, fmt=\"d\", cmap=\"Blues\", cbar=True,\n",
    "            xticklabels=category_id_df.category.values, yticklabels=category_id_df.category.values)\n",
    "plt.ylabel(\"Actual\")\n",
    "plt.xlabel(\"Predicted\");"
   ]
  },
  {
   "cell_type": "markdown",
   "metadata": {},
   "source": [
    "Parameteroptimiereung liefert keine wesentlichen Verbesserungen."
   ]
  },
  {
   "cell_type": "markdown",
   "metadata": {},
   "source": [
    "#### SVM"
   ]
  },
  {
   "cell_type": "code",
   "execution_count": 103,
   "metadata": {},
   "outputs": [],
   "source": [
    "import numpy as np \n",
    "from pprint import pprint\n",
    "from time import time \n",
    "\n",
    "from sklearn.pipeline import Pipeline\n",
    "from sklearn.feature_extraction.text import TfidfTransformer\n",
    "from sklearn.feature_extraction.text import CountVectorizer\n",
    "from sklearn.svm import SVC\n",
    "from sklearn.model_selection import GridSearchCV\n",
    "\n",
    "pipeline = Pipeline([\n",
    "    (\"vect\", CountVectorizer(stop_words=get_stopwords())),\n",
    "    (\"tfidf\", TfidfTransformer()),\n",
    "    (\"sv_clf\", SVC()),\n",
    "])"
   ]
  },
  {
   "cell_type": "code",
   "execution_count": 104,
   "metadata": {},
   "outputs": [],
   "source": [
    "parameters = {\n",
    "    \"vect__max_df\": (0.2, 0.5, 0.75, 1.0), # Ignorieren von Termen mit relativer Document Frequency > max_df (filtert Korpusspezifische Stoppwörter)\n",
    "    \"vect__ngram_range\": ((1, 1), (1, 2)),  # Unigramme oder Bigramme\n",
    "    \"tfidf__use_idf\": (True, False), # Verwendung der Inverse Document Frequency\n",
    "    \"tfidf__norm\": (\"l1\", \"l2\"), # Art der Normalisierung\n",
    "    \"sv_clf__C\": (1., 1.1, 1.2, 1.3, 1.4, 1.5, 1.6), # Penalty Parameter des Fehlerterms (Default = 1.0)\n",
    "    \"sv_clf__kernel\": (\"rbf\", \"linear\"), # Art der Entscheidungsfunktion (rbf=Radial Basis Function)\n",
    "}"
   ]
  },
  {
   "cell_type": "code",
   "execution_count": 105,
   "metadata": {},
   "outputs": [
    {
     "name": "stdout",
     "output_type": "stream",
     "text": [
      "Pipeline: ['vect', 'tfidf', 'sv_clf']\n",
      "Übergebene Parameter:\n",
      "{'sv_clf__C': (1.0, 1.1, 1.2, 1.3, 1.4, 1.5, 1.6),\n",
      " 'sv_clf__kernel': ('rbf', 'linear'),\n",
      " 'tfidf__norm': ('l1', 'l2'),\n",
      " 'tfidf__use_idf': (True, False),\n",
      " 'vect__max_df': (0.2, 0.5, 0.75, 1.0),\n",
      " 'vect__ngram_range': ((1, 1), (1, 2))}\n",
      "Fitting 3 folds for each of 448 candidates, totalling 1344 fits\n"
     ]
    },
    {
     "name": "stderr",
     "output_type": "stream",
     "text": [
      "C:\\Users\\ewittmann\\Anaconda3\\lib\\site-packages\\sklearn\\model_selection\\_split.py:2053: FutureWarning: You should specify a value for 'cv' instead of relying on the default value. The default value will change from 3 to 5 in version 0.22.\n",
      "  warnings.warn(CV_WARNING, FutureWarning)\n",
      "[Parallel(n_jobs=-1)]: Using backend LokyBackend with 4 concurrent workers.\n",
      "[Parallel(n_jobs=-1)]: Done  42 tasks      | elapsed:    9.3s\n",
      "[Parallel(n_jobs=-1)]: Done 342 tasks      | elapsed:   16.4s\n",
      "[Parallel(n_jobs=-1)]: Done 842 tasks      | elapsed:   27.6s\n"
     ]
    },
    {
     "name": "stdout",
     "output_type": "stream",
     "text": [
      "Fertig nach 39.697s\n"
     ]
    },
    {
     "name": "stderr",
     "output_type": "stream",
     "text": [
      "[Parallel(n_jobs=-1)]: Done 1344 out of 1344 | elapsed:   39.5s finished\n",
      "C:\\Users\\ewittmann\\Anaconda3\\lib\\site-packages\\sklearn\\model_selection\\_search.py:841: DeprecationWarning: The default of the `iid` parameter will change from True to False in version 0.22 and will be removed in 0.24. This will change numeric results when test-set sizes are unequal.\n",
      "  DeprecationWarning)\n"
     ]
    }
   ],
   "source": [
    "grid_search = GridSearchCV(pipeline, parameters, n_jobs=-1, verbose=1)\n",
    "\n",
    "print(\"Pipeline:\", [name for name, _ in pipeline.steps])\n",
    "print(\"Übergebene Parameter:\")\n",
    "pprint(parameters)\n",
    "t0 = time()\n",
    "grid_search.fit(X_train, y_train)\n",
    "print(\"Fertig nach %0.3fs\" % (time() - t0))"
   ]
  },
  {
   "cell_type": "code",
   "execution_count": 106,
   "metadata": {},
   "outputs": [
    {
     "name": "stdout",
     "output_type": "stream",
     "text": [
      "Bester Score (hier Accuracy): 0.677\n",
      "Bestes Parameter Set:\n",
      "\tsv_clf__C: 1.3\n",
      "\tsv_clf__kernel: 'linear'\n",
      "\ttfidf__norm: 'l2'\n",
      "\ttfidf__use_idf: True\n",
      "\tvect__max_df: 0.5\n",
      "\tvect__ngram_range: (1, 2)\n"
     ]
    }
   ],
   "source": [
    "print(\"Bester Score (hier Accuracy): %0.3f\" % grid_search.best_score_)\n",
    "print(\"Bestes Parameter Set:\")\n",
    "best_parameters = grid_search.best_estimator_.get_params()\n",
    "for param_name in sorted(parameters.keys()):\n",
    "    print(\"\\t%s: %r\" % (param_name, best_parameters[param_name]))"
   ]
  },
  {
   "cell_type": "markdown",
   "metadata": {},
   "source": [
    "Anwenden der optimierten Parameter"
   ]
  },
  {
   "cell_type": "code",
   "execution_count": 107,
   "metadata": {},
   "outputs": [],
   "source": [
    "X_train, X_test, y_train, y_test, indices_train, indices_test = train_test_split(features, \n",
    "                                                                                 labels, \n",
    "                                                                                 reason_df.index, \n",
    "                                                                                 test_size=0.20)"
   ]
  },
  {
   "cell_type": "code",
   "execution_count": 108,
   "metadata": {},
   "outputs": [],
   "source": [
    "from sklearn.pipeline import Pipeline\n",
    "from sklearn.feature_extraction.text import CountVectorizer\n",
    "from sklearn.feature_extraction.text import TfidfTransformer\n",
    "from sklearn.svm import SVC\n",
    "\n",
    "text_clf = Pipeline([(\"vect\", CountVectorizer(max_df=0.5, ngram_range=(1, 2), stop_words=get_stopwords())),\n",
    "                     (\"tfidf\", TfidfTransformer(use_idf=True, sublinear_tf=True, norm=\"l2\")),\n",
    "                     (\"sv_clf\", SVC(C=1.3, kernel=\"linear\")),])\n",
    "\n",
    "text_clf = text_clf.fit(X_train, y_train)\n",
    "y_predicted = text_clf.predict(X_test)"
   ]
  },
  {
   "cell_type": "code",
   "execution_count": 109,
   "metadata": {},
   "outputs": [
    {
     "name": "stdout",
     "output_type": "stream",
     "text": [
      "              precision    recall  f1-score   support\n",
      "\n",
      "    Weiblich       0.62      0.78      0.69        58\n",
      "    Männlich       0.54      0.35      0.42        43\n",
      "\n",
      "   micro avg       0.59      0.59      0.59       101\n",
      "   macro avg       0.58      0.56      0.55       101\n",
      "weighted avg       0.58      0.59      0.57       101\n",
      "\n"
     ]
    }
   ],
   "source": [
    "from sklearn import metrics\n",
    "metrics.accuracy_score(y_test, y_predicted)\n",
    "\n",
    "print(metrics.classification_report(y_test, y_predicted, \n",
    "                                    labels=category_id_df.category_id.values, \n",
    "                                    target_names=category_id_df.category.values))"
   ]
  },
  {
   "cell_type": "code",
   "execution_count": 110,
   "metadata": {},
   "outputs": [
    {
     "data": {
      "image/png": "[encoded data removed]",
      "text/plain": [
       "<Figure size 432x288 with 2 Axes>"
      ]
     },
     "metadata": {
      "needs_background": "light"
     },
     "output_type": "display_data"
    }
   ],
   "source": [
    "import matplotlib.pyplot as plt\n",
    "import seaborn as sns\n",
    "from sklearn.metrics import confusion_matrix\n",
    "\n",
    "conf_mat = confusion_matrix(y_test, y_predicted)\n",
    "fig, ax = plt.subplots(figsize=(6, 4))\n",
    "sns.heatmap(conf_mat, annot=True, fmt=\"d\", cmap=\"Blues\", cbar=True,\n",
    "            xticklabels=category_id_df.category.values, yticklabels=category_id_df.category.values)\n",
    "plt.ylabel(\"Actual\")\n",
    "plt.xlabel(\"Predicted\");"
   ]
  },
  {
   "cell_type": "markdown",
   "metadata": {},
   "source": [
    "Die Optimierung der Parameter führt kaum zu einer Verbesserung der Ergebnisse."
   ]
  },
  {
   "cell_type": "markdown",
   "metadata": {},
   "source": [
    "### Untersuchung falsch kategorisierter Daten"
   ]
  },
  {
   "cell_type": "code",
   "execution_count": 72,
   "metadata": {},
   "outputs": [
    {
     "name": "stderr",
     "output_type": "stream",
     "text": [
      "C:\\Users\\ewittmann\\Anaconda3\\lib\\site-packages\\ipykernel_launcher.py:2: DeprecationWarning: \n",
      ".ix is deprecated. Please use\n",
      ".loc for label based indexing or\n",
      ".iloc for positional indexing\n",
      "\n",
      "See the documentation here:\n",
      "http://pandas.pydata.org/pandas-docs/stable/indexing.html#ix-indexer-is-deprecated\n",
      "  \n"
     ]
    },
    {
     "data": {
      "text/html": [
       "<div>\n",
       "<style scoped>\n",
       "    .dataframe tbody tr th:only-of-type {\n",
       "        vertical-align: middle;\n",
       "    }\n",
       "\n",
       "    .dataframe tbody tr th {\n",
       "        vertical-align: top;\n",
       "    }\n",
       "\n",
       "    .dataframe thead th {\n",
       "        text-align: right;\n",
       "    }\n",
       "</style>\n",
       "<table border=\"1\" class=\"dataframe\">\n",
       "  <thead>\n",
       "    <tr style=\"text-align: right;\">\n",
       "      <th></th>\n",
       "      <th>Gründe</th>\n",
       "      <th>category</th>\n",
       "      <th>category_id</th>\n",
       "    </tr>\n",
       "  </thead>\n",
       "  <tbody>\n",
       "    <tr>\n",
       "      <th>258</th>\n",
       "      <td>Habe viele Freunde in der Branche</td>\n",
       "      <td>Männlich</td>\n",
       "      <td>1</td>\n",
       "    </tr>\n",
       "    <tr>\n",
       "      <th>86</th>\n",
       "      <td>Bereits vorher in der Branche gearbeitet, Neug...</td>\n",
       "      <td>Weiblich</td>\n",
       "      <td>0</td>\n",
       "    </tr>\n",
       "    <tr>\n",
       "      <th>206</th>\n",
       "      <td>Diese Fächer liegen nicht in meinem Interessen...</td>\n",
       "      <td>Weiblich</td>\n",
       "      <td>0</td>\n",
       "    </tr>\n",
       "    <tr>\n",
       "      <th>175</th>\n",
       "      <td>Ich mochte schon immer die Naturwissenschaften...</td>\n",
       "      <td>Männlich</td>\n",
       "      <td>1</td>\n",
       "    </tr>\n",
       "    <tr>\n",
       "      <th>444</th>\n",
       "      <td>Fachliches Interesse bereits in der Schule. In...</td>\n",
       "      <td>Weiblich</td>\n",
       "      <td>0</td>\n",
       "    </tr>\n",
       "    <tr>\n",
       "      <th>286</th>\n",
       "      <td>Kein Interesse</td>\n",
       "      <td>Weiblich</td>\n",
       "      <td>0</td>\n",
       "    </tr>\n",
       "    <tr>\n",
       "      <th>440</th>\n",
       "      <td>Ich habe mich einfach für das entschieden, das...</td>\n",
       "      <td>Weiblich</td>\n",
       "      <td>0</td>\n",
       "    </tr>\n",
       "    <tr>\n",
       "      <th>211</th>\n",
       "      <td>Angst</td>\n",
       "      <td>Weiblich</td>\n",
       "      <td>0</td>\n",
       "    </tr>\n",
       "    <tr>\n",
       "      <th>193</th>\n",
       "      <td>Da ich schon in einer MINT-Branche gearbeitet ...</td>\n",
       "      <td>Weiblich</td>\n",
       "      <td>0</td>\n",
       "    </tr>\n",
       "    <tr>\n",
       "      <th>331</th>\n",
       "      <td>Ich habe mich bewusst gegen den Studiengang in...</td>\n",
       "      <td>Weiblich</td>\n",
       "      <td>0</td>\n",
       "    </tr>\n",
       "  </tbody>\n",
       "</table>\n",
       "</div>"
      ],
      "text/plain": [
       "                                                Gründe  category  category_id\n",
       "258                  Habe viele Freunde in der Branche  Männlich            1\n",
       "86   Bereits vorher in der Branche gearbeitet, Neug...  Weiblich            0\n",
       "206  Diese Fächer liegen nicht in meinem Interessen...  Weiblich            0\n",
       "175  Ich mochte schon immer die Naturwissenschaften...  Männlich            1\n",
       "444  Fachliches Interesse bereits in der Schule. In...  Weiblich            0\n",
       "286                                     Kein Interesse  Weiblich            0\n",
       "440  Ich habe mich einfach für das entschieden, das...  Weiblich            0\n",
       "211                                              Angst  Weiblich            0\n",
       "193  Da ich schon in einer MINT-Branche gearbeitet ...  Weiblich            0\n",
       "331  Ich habe mich bewusst gegen den Studiengang in...  Weiblich            0"
      ]
     },
     "execution_count": 72,
     "metadata": {},
     "output_type": "execute_result"
    }
   ],
   "source": [
    "X_test.index\n",
    "test_df = reason_df.ix[X_test.index]\n",
    "test_df.sample(10)"
   ]
  },
  {
   "cell_type": "code",
   "execution_count": 73,
   "metadata": {},
   "outputs": [],
   "source": [
    "id_to_category = dict(category_id_df[['category_id', 'category']].values)\n",
    "id_to_category\n",
    "\n",
    "test_df['predicted_id'] = y_predicted\n",
    "test_df['predicted'] = test_df['predicted_id'].map(lambda id: id_to_category[id])"
   ]
  },
  {
   "cell_type": "code",
   "execution_count": 75,
   "metadata": {},
   "outputs": [
    {
     "data": {
      "text/html": [
       "<div>\n",
       "<style scoped>\n",
       "    .dataframe tbody tr th:only-of-type {\n",
       "        vertical-align: middle;\n",
       "    }\n",
       "\n",
       "    .dataframe tbody tr th {\n",
       "        vertical-align: top;\n",
       "    }\n",
       "\n",
       "    .dataframe thead th {\n",
       "        text-align: right;\n",
       "    }\n",
       "</style>\n",
       "<table border=\"1\" class=\"dataframe\">\n",
       "  <thead>\n",
       "    <tr style=\"text-align: right;\">\n",
       "      <th></th>\n",
       "      <th>category</th>\n",
       "      <th>predicted</th>\n",
       "      <th>Gründe</th>\n",
       "    </tr>\n",
       "  </thead>\n",
       "  <tbody>\n",
       "    <tr>\n",
       "      <th>407</th>\n",
       "      <td>Männlich</td>\n",
       "      <td>Weiblich</td>\n",
       "      <td>Ich habe es nie in Erwägung gezogen. Zwar finde ich Mathematik, Physik und Chemie sehr interessant, aber dies zu studieren, wollte ich nicht: die Algebra in der Schule (die integraler Bestandteil nicht nur in Mathematik war, sondern oft auch das einzige, was eigentlich in Physik-Klausuren abgeprüft wurde) hat mir nicht gefallen. Ich war schlichtweg zu langsam.</td>\n",
       "    </tr>\n",
       "    <tr>\n",
       "      <th>337</th>\n",
       "      <td>Männlich</td>\n",
       "      <td>Weiblich</td>\n",
       "      <td>ich habe mich schon immer für Naturwissenschaften interessiert. Somit war die entscheidung zu einem MINT-Fach leicht.Letztendlich habe ich mich zwischen Physik und Informatik entschieden, wobei ich wegen der besseren Berufsaussichten Informatik gewählt habe.</td>\n",
       "    </tr>\n",
       "    <tr>\n",
       "      <th>136</th>\n",
       "      <td>Männlich</td>\n",
       "      <td>Weiblich</td>\n",
       "      <td>Zu theoretisch, meist schwer zu folgen</td>\n",
       "    </tr>\n",
       "    <tr>\n",
       "      <th>269</th>\n",
       "      <td>Männlich</td>\n",
       "      <td>Weiblich</td>\n",
       "      <td>Programmieren war der Teil der Ausbildung, der mir am besten gefallen hat.</td>\n",
       "    </tr>\n",
       "    <tr>\n",
       "      <th>58</th>\n",
       "      <td>Weiblich</td>\n",
       "      <td>Männlich</td>\n",
       "      <td>Praxisbezug während des Studiums, sehr gute Berufsaussichten im Vergleich zu vielen andern Studiengängen, die Affinität zum Handwerklichen, gute Karrierechancen</td>\n",
       "    </tr>\n",
       "    <tr>\n",
       "      <th>479</th>\n",
       "      <td>Männlich</td>\n",
       "      <td>Weiblich</td>\n",
       "      <td>Mathe und Physik macht Spaß., Tüfteln und Knobeln am Rande der Verzweiflung führt zu einem großartigen Erfolgserlebnis, sobald man ein Problem gelöst hat.</td>\n",
       "    </tr>\n",
       "    <tr>\n",
       "      <th>316</th>\n",
       "      <td>Männlich</td>\n",
       "      <td>Weiblich</td>\n",
       "      <td>Ja, ich hatte nach meinem Realschulabschluss in Erwägung gezogen, Bauzeichner zu werden. Habe mich dann dagegen entschieden, da ich zum einen gerne irgendetwas machen wollte, bei welchem ich viel Abwechslung habe, zum anderen da meine Eltern mir eine Begabung im Umgang mit Menschen zugesprochen haben.</td>\n",
       "    </tr>\n",
       "    <tr>\n",
       "      <th>138</th>\n",
       "      <td>Männlich</td>\n",
       "      <td>Weiblich</td>\n",
       "      <td>Bauingenieurwesen ist für mich ein 'ordentlicher' Studiengang., Bis auf meine Eltern haben meine Verwandten eine eher negative Einstellung gegenüber dem Studieren., Als Bauingenieur arbeitet man allerdings trotzdem sehr praxisorientiert und leistet einen sinnvolle Beitrag zur Gesellschaft., Dieser sinnvolle Beitrag ist bei manch anderen Studiengängen auf den ersten Blick nicht so deutlich zu erkennen. (z.B. BWL, weil Leute das oft studieren, wenn sie nicht wissen, was sie sonst machen sollen)</td>\n",
       "    </tr>\n",
       "    <tr>\n",
       "      <th>20</th>\n",
       "      <td>Männlich</td>\n",
       "      <td>Weiblich</td>\n",
       "      <td>Ich war nie gut in Deutsch, Geschichte, Sozialkunde und anderen nicht-MINT-Fächern. Ich war gut in MINT und in Musik und stand während meiner Schulzeit vor der Wahl professioneller Musiker zu werden. Allerdings war mir dieser Weg zu Riskant, da dort kleinste Verletzungen alles kaputt machen können. Für die Chemie an sich habe ich mich entschieden, da Biologie weniger Perspektiven hatte.</td>\n",
       "    </tr>\n",
       "    <tr>\n",
       "      <th>444</th>\n",
       "      <td>Weiblich</td>\n",
       "      <td>Männlich</td>\n",
       "      <td>Fachliches Interesse bereits in der Schule. Interesse am basteln</td>\n",
       "    </tr>\n",
       "    <tr>\n",
       "      <th>211</th>\n",
       "      <td>Weiblich</td>\n",
       "      <td>Männlich</td>\n",
       "      <td>Angst</td>\n",
       "    </tr>\n",
       "    <tr>\n",
       "      <th>233</th>\n",
       "      <td>Weiblich</td>\n",
       "      <td>Männlich</td>\n",
       "      <td>Wegen der Schulischen Leistung in den Fächern</td>\n",
       "    </tr>\n",
       "    <tr>\n",
       "      <th>129</th>\n",
       "      <td>Männlich</td>\n",
       "      <td>Weiblich</td>\n",
       "      <td>Etwas soziales oder wirtschaftliches hätte mir überhauptnicht zugesagt., MINT-Fächer sind viel interessanter., Gutes Gehalt und gute Berufsaussichten.</td>\n",
       "    </tr>\n",
       "    <tr>\n",
       "      <th>275</th>\n",
       "      <td>Männlich</td>\n",
       "      <td>Weiblich</td>\n",
       "      <td>keine große Freunde an naturwissenschaftlichen Fächern gehabt, keine guten Zensuren.</td>\n",
       "    </tr>\n",
       "    <tr>\n",
       "      <th>30</th>\n",
       "      <td>Männlich</td>\n",
       "      <td>Weiblich</td>\n",
       "      <td>Schon immer kompetenter in naturwissenschaftlichen Fächern als in anderen, da vor allem auch größeres Interesse vorzufinden war.</td>\n",
       "    </tr>\n",
       "    <tr>\n",
       "      <th>267</th>\n",
       "      <td>Weiblich</td>\n",
       "      <td>Männlich</td>\n",
       "      <td>Mein Partner ist Informatiker und hat mir gezeigt, dass programmieren Spaß macht., Logisches Denken/Knobeln beim Programmieren</td>\n",
       "    </tr>\n",
       "    <tr>\n",
       "      <th>419</th>\n",
       "      <td>Weiblich</td>\n",
       "      <td>Männlich</td>\n",
       "      <td>geringes Interesse</td>\n",
       "    </tr>\n",
       "    <tr>\n",
       "      <th>338</th>\n",
       "      <td>Weiblich</td>\n",
       "      <td>Männlich</td>\n",
       "      <td>Ich fand das Fachgebiet interessant und wollte mehr in dem Bereich lernen, da meine Vorkenntnisse sehr gering waren.</td>\n",
       "    </tr>\n",
       "    <tr>\n",
       "      <th>185</th>\n",
       "      <td>Männlich</td>\n",
       "      <td>Weiblich</td>\n",
       "      <td>Ich war vorab bereits in dem Bereich tätig, es war nur die logische Folge meines bisherigen Berufes.</td>\n",
       "    </tr>\n",
       "    <tr>\n",
       "      <th>49</th>\n",
       "      <td>Weiblich</td>\n",
       "      <td>Männlich</td>\n",
       "      <td>Der Bezug zur Praxis fehlt während des Unterrichts in diesen Fächern, vieles ist sehr abstrakt, daher fällt es schwer komplexe Sachverhalte zu verstehen., Kein Schüler versteht wirklich, in welchen Bereichen dieses Wissen tatsächlich angewendet werden kann. Aus Mathematikern werden Matheprofessoren, aus Chemikern Leute, die mit bunten Flüssigkeiten pantschen, Physiker werden Albert Einsteins und Technikbegeisterte zu Daniel Düsentriebs, so denkt man. Da sieht keiner so wirklich die Chance den Anforderungen zu genügen oder versteht, dass man in diesen Bereichen vielleicht auch einmal Produk...</td>\n",
       "    </tr>\n",
       "    <tr>\n",
       "      <th>176</th>\n",
       "      <td>Weiblich</td>\n",
       "      <td>Männlich</td>\n",
       "      <td>In meinem ersten Studoum hat mich besonders der Bereich Prothetik interessiert, weswegen ich mich auf Materialien spezialisieren wollte</td>\n",
       "    </tr>\n",
       "    <tr>\n",
       "      <th>7</th>\n",
       "      <td>Männlich</td>\n",
       "      <td>Weiblich</td>\n",
       "      <td>Persönliches Interesse, mein schulischer Werdegang war darauf ausgelegt</td>\n",
       "    </tr>\n",
       "    <tr>\n",
       "      <th>86</th>\n",
       "      <td>Weiblich</td>\n",
       "      <td>Männlich</td>\n",
       "      <td>Bereits vorher in der Branche gearbeitet, Neugier etwas neues zu lernen und neue Kompetenzen zu erlangen</td>\n",
       "    </tr>\n",
       "    <tr>\n",
       "      <th>104</th>\n",
       "      <td>Männlich</td>\n",
       "      <td>Weiblich</td>\n",
       "      <td>Unstimmigkeiten in der Abteilung (Job) haben zur Weiterbildung geführt</td>\n",
       "    </tr>\n",
       "    <tr>\n",
       "      <th>161</th>\n",
       "      <td>Männlich</td>\n",
       "      <td>Weiblich</td>\n",
       "      <td>Mein Vater hat Bauingenieurswesen studiert und ich habe diesen Themenbereich interessant gefunden und mich dazu entschlossen diesen ebenfalls einzuschlagen.</td>\n",
       "    </tr>\n",
       "    <tr>\n",
       "      <th>0</th>\n",
       "      <td>Weiblich</td>\n",
       "      <td>Männlich</td>\n",
       "      <td>Warum habe ich das studiert?, - das Gefühl haben, etwas Gutes für die Gesellschaft zu machen (einen sinnvollen Beruf zu erlernen), - die Umwelt zu schützen und die Energiewende positiv zu beeinflussen, - wollte mehr über naturwissenschaftliche Themen erfahren, , Was hat mich dazu bewegt?, - großes Interesse schon zu Schulzeiten, - aktuelles Thema (es gibt kein aktuelleres / dringenderes Thema als Klimawandel und wie man diesen mit fortschreitenden Technologien stoppen kann)</td>\n",
       "    </tr>\n",
       "    <tr>\n",
       "      <th>80</th>\n",
       "      <td>Männlich</td>\n",
       "      <td>Weiblich</td>\n",
       "      <td>Nach der Schule wusste ich nicht, wohin meine weitere berufliche Reise gehen soll. Nach dem Grundwehrdienst und längerem Überlegen kamen kurzerhand Maschinenbau- und Bauingenieurwesen in die engere Auswahl. Der Grund hierfür: Ich habe früher gerne mit Lego gespielt und Sachen gebaut...das war wirklich der einzige Grund. ^^, Am Ende ist es dann Bauingenieurwesen geworden. Zu der Zeit war die berufliche Zukunft für Maschinenbauingenieure angeblich weniger gut. Alles in allem waren es damals also gute Erinnerungen und Vorlieben aus der Vergangenheit und berufliche Sicherheit.</td>\n",
       "    </tr>\n",
       "    <tr>\n",
       "      <th>114</th>\n",
       "      <td>Männlich</td>\n",
       "      <td>Weiblich</td>\n",
       "      <td>Die Erfahrungen aus der Schule waren meine einzige Grundlage und da dort sowohl Erfolg und Interesse (beeinflusst sich gegenseitig) in den MINT-Fächern am größten war, entschied ich mich für ein Ingenieursstudium in dem 'alle' MINT-Fächer abgedeckt werden.</td>\n",
       "    </tr>\n",
       "    <tr>\n",
       "      <th>22</th>\n",
       "      <td>Weiblich</td>\n",
       "      <td>Männlich</td>\n",
       "      <td>Reines Interesse. Bekannte die dieses Fach studiert haben und nun in diesem Bereich arbeiten.</td>\n",
       "    </tr>\n",
       "    <tr>\n",
       "      <th>197</th>\n",
       "      <td>Männlich</td>\n",
       "      <td>Weiblich</td>\n",
       "      <td>Erstes Studium (Medieninformatik) gescheitert. Neues Studium demnach nicht mehr im MINT-Bereich.</td>\n",
       "    </tr>\n",
       "    <tr>\n",
       "      <th>191</th>\n",
       "      <td>Weiblich</td>\n",
       "      <td>Männlich</td>\n",
       "      <td>Weil Mathe blöd ist. Nein.</td>\n",
       "    </tr>\n",
       "    <tr>\n",
       "      <th>232</th>\n",
       "      <td>Männlich</td>\n",
       "      <td>Weiblich</td>\n",
       "      <td>Ich habe das nie in Erwägung gezogen, vor Allem, da Informatik in der Schule mein absolutes Hassfach war, was aber auch am Lehrer lag. Des Weiteren fehl mir einfach das mathematische Verständnis. Chemie hat mich jedoch trotzdem sehr interessiert, besonders organische Chemie. Leider kommt man auch dort nicht ohne Mathematik aus.</td>\n",
       "    </tr>\n",
       "    <tr>\n",
       "      <th>258</th>\n",
       "      <td>Männlich</td>\n",
       "      <td>Weiblich</td>\n",
       "      <td>Habe viele Freunde in der Branche</td>\n",
       "    </tr>\n",
       "    <tr>\n",
       "      <th>153</th>\n",
       "      <td>Männlich</td>\n",
       "      <td>Weiblich</td>\n",
       "      <td>Während meiner Schulzeit an der BON (FOS) absolvierte ich den Technik-Zweig. Teil der schulischen Ausbildung war unter anderem auch das Fach 'Technik', das mir großen Spaß gemacht hat und als Vorbereitung für mein WT-Studium super war.</td>\n",
       "    </tr>\n",
       "    <tr>\n",
       "      <th>493</th>\n",
       "      <td>Männlich</td>\n",
       "      <td>Weiblich</td>\n",
       "      <td>Weil ich schon immer sehr interessiert an Physik, Chemie, Biologie, Mathematik und Informatik war. Physik gehörte zu einer meiner besten Fächer in der Sekundarstufe und Oberstufe. Problemlösungen finden, Experimentieren und Arbeiten am PC machten mir zudem stets Spaß.</td>\n",
       "    </tr>\n",
       "    <tr>\n",
       "      <th>448</th>\n",
       "      <td>Männlich</td>\n",
       "      <td>Weiblich</td>\n",
       "      <td>Wollte Lehrer werden, habe ein Jahr lang Erste-Hilfe Kurse gegeben und habe keine Lust mehr auf Menschen gehabt</td>\n",
       "    </tr>\n",
       "    <tr>\n",
       "      <th>327</th>\n",
       "      <td>Weiblich</td>\n",
       "      <td>Männlich</td>\n",
       "      <td>Gute Berufschancen, Beruf, der immerwieder Neues zu bieten hat, gutes Gehalt, Weiterentwicklung</td>\n",
       "    </tr>\n",
       "    <tr>\n",
       "      <th>87</th>\n",
       "      <td>Weiblich</td>\n",
       "      <td>Männlich</td>\n",
       "      <td>Ich möchte Dinge gestalten, das sie ansprechend auf andere Personen wirken. Ich werde verrückt mit den Forschungssoftwaredesigns. Ich denk mir jedesmal die könnte doch wohl etwas schöner ansprechender und übersichtlicher sein.</td>\n",
       "    </tr>\n",
       "    <tr>\n",
       "      <th>195</th>\n",
       "      <td>Männlich</td>\n",
       "      <td>Weiblich</td>\n",
       "      <td>Nach der Schule wollte ich Chemie studieren habe aber die Ausbildung zur Fachinformatikerin entschieden. Studieren wollte ich Informatik nicht, weil ich es mir damals nicht zugetraut hatte.</td>\n",
       "    </tr>\n",
       "    <tr>\n",
       "      <th>21</th>\n",
       "      <td>Weiblich</td>\n",
       "      <td>Männlich</td>\n",
       "      <td>Interesse an Wissenschaft, ihren Anwendungen und Technik allgemein.</td>\n",
       "    </tr>\n",
       "    <tr>\n",
       "      <th>306</th>\n",
       "      <td>Weiblich</td>\n",
       "      <td>Männlich</td>\n",
       "      <td>Interesse an Naturwissenschaften und gute Noten in diesen während der Schulzeit. Ich war in der FOS im technischen Zweig.</td>\n",
       "    </tr>\n",
       "    <tr>\n",
       "      <th>420</th>\n",
       "      <td>Weiblich</td>\n",
       "      <td>Männlich</td>\n",
       "      <td>Interesse an Informatik in der Schule, Lust mehr zu erfahren.</td>\n",
       "    </tr>\n",
       "    <tr>\n",
       "      <th>2</th>\n",
       "      <td>Weiblich</td>\n",
       "      <td>Männlich</td>\n",
       "      <td>Immer gut in Mathe und Naturwissenschaften., Allgemeines Interesse an Energiethemen</td>\n",
       "    </tr>\n",
       "  </tbody>\n",
       "</table>\n",
       "</div>"
      ],
      "text/plain": [
       "     category predicted  \\\n",
       "407  Männlich  Weiblich   \n",
       "337  Männlich  Weiblich   \n",
       "136  Männlich  Weiblich   \n",
       "269  Männlich  Weiblich   \n",
       "58   Weiblich  Männlich   \n",
       "479  Männlich  Weiblich   \n",
       "316  Männlich  Weiblich   \n",
       "138  Männlich  Weiblich   \n",
       "20   Männlich  Weiblich   \n",
       "444  Weiblich  Männlich   \n",
       "211  Weiblich  Männlich   \n",
       "233  Weiblich  Männlich   \n",
       "129  Männlich  Weiblich   \n",
       "275  Männlich  Weiblich   \n",
       "30   Männlich  Weiblich   \n",
       "267  Weiblich  Männlich   \n",
       "419  Weiblich  Männlich   \n",
       "338  Weiblich  Männlich   \n",
       "185  Männlich  Weiblich   \n",
       "49   Weiblich  Männlich   \n",
       "176  Weiblich  Männlich   \n",
       "7    Männlich  Weiblich   \n",
       "86   Weiblich  Männlich   \n",
       "104  Männlich  Weiblich   \n",
       "161  Männlich  Weiblich   \n",
       "0    Weiblich  Männlich   \n",
       "80   Männlich  Weiblich   \n",
       "114  Männlich  Weiblich   \n",
       "22   Weiblich  Männlich   \n",
       "197  Männlich  Weiblich   \n",
       "191  Weiblich  Männlich   \n",
       "232  Männlich  Weiblich   \n",
       "258  Männlich  Weiblich   \n",
       "153  Männlich  Weiblich   \n",
       "493  Männlich  Weiblich   \n",
       "448  Männlich  Weiblich   \n",
       "327  Weiblich  Männlich   \n",
       "87   Weiblich  Männlich   \n",
       "195  Männlich  Weiblich   \n",
       "21   Weiblich  Männlich   \n",
       "306  Weiblich  Männlich   \n",
       "420  Weiblich  Männlich   \n",
       "2    Weiblich  Männlich   \n",
       "\n",
       "                                                                                                                                                                                                                                                                                                                                                                                                                                                                                                                                                                                                                      Gründe  \n",
       "407                                                                                                                                                                                                                                               Ich habe es nie in Erwägung gezogen. Zwar finde ich Mathematik, Physik und Chemie sehr interessant, aber dies zu studieren, wollte ich nicht: die Algebra in der Schule (die integraler Bestandteil nicht nur in Mathematik war, sondern oft auch das einzige, was eigentlich in Physik-Klausuren abgeprüft wurde) hat mir nicht gefallen. Ich war schlichtweg zu langsam.  \n",
       "337                                                                                                                                                                                                                                                                                                                                                       ich habe mich schon immer für Naturwissenschaften interessiert. Somit war die entscheidung zu einem MINT-Fach leicht.Letztendlich habe ich mich zwischen Physik und Informatik entschieden, wobei ich wegen der besseren Berufsaussichten Informatik gewählt habe.  \n",
       "136                                                                                                                                                                                                                                                                                                                                                                                                                                                                                                                                                                                   Zu theoretisch, meist schwer zu folgen  \n",
       "269                                                                                                                                                                                                                                                                                                                                                                                                                                                                                                                                               Programmieren war der Teil der Ausbildung, der mir am besten gefallen hat.  \n",
       "58                                                                                                                                                                                                                                                                                                                                                                                                                                                          Praxisbezug während des Studiums, sehr gute Berufsaussichten im Vergleich zu vielen andern Studiengängen, die Affinität zum Handwerklichen, gute Karrierechancen  \n",
       "479                                                                                                                                                                                                                                                                                                                                                                                                                                                               Mathe und Physik macht Spaß., Tüfteln und Knobeln am Rande der Verzweiflung führt zu einem großartigen Erfolgserlebnis, sobald man ein Problem gelöst hat.  \n",
       "316                                                                                                                                                                                                                                                                                                           Ja, ich hatte nach meinem Realschulabschluss in Erwägung gezogen, Bauzeichner zu werden. Habe mich dann dagegen entschieden, da ich zum einen gerne irgendetwas machen wollte, bei welchem ich viel Abwechslung habe, zum anderen da meine Eltern mir eine Begabung im Umgang mit Menschen zugesprochen haben.  \n",
       "138                                                                                                        Bauingenieurwesen ist für mich ein 'ordentlicher' Studiengang., Bis auf meine Eltern haben meine Verwandten eine eher negative Einstellung gegenüber dem Studieren., Als Bauingenieur arbeitet man allerdings trotzdem sehr praxisorientiert und leistet einen sinnvolle Beitrag zur Gesellschaft., Dieser sinnvolle Beitrag ist bei manch anderen Studiengängen auf den ersten Blick nicht so deutlich zu erkennen. (z.B. BWL, weil Leute das oft studieren, wenn sie nicht wissen, was sie sonst machen sollen)  \n",
       "20                                                                                                                                                                                                                     Ich war nie gut in Deutsch, Geschichte, Sozialkunde und anderen nicht-MINT-Fächern. Ich war gut in MINT und in Musik und stand während meiner Schulzeit vor der Wahl professioneller Musiker zu werden. Allerdings war mir dieser Weg zu Riskant, da dort kleinste Verletzungen alles kaputt machen können. Für die Chemie an sich habe ich mich entschieden, da Biologie weniger Perspektiven hatte.  \n",
       "444                                                                                                                                                                                                                                                                                                                                                                                                                                                                                                                                                         Fachliches Interesse bereits in der Schule. Interesse am basteln  \n",
       "211                                                                                                                                                                                                                                                                                                                                                                                                                                                                                                                                                                                                                    Angst  \n",
       "233                                                                                                                                                                                                                                                                                                                                                                                                                                                                                                                                                                            Wegen der Schulischen Leistung in den Fächern  \n",
       "129                                                                                                                                                                                                                                                                                                                                                                                                                                                                   Etwas soziales oder wirtschaftliches hätte mir überhauptnicht zugesagt., MINT-Fächer sind viel interessanter., Gutes Gehalt und gute Berufsaussichten.  \n",
       "275                                                                                                                                                                                                                                                                                                                                                                                                                                                                                                                                     keine große Freunde an naturwissenschaftlichen Fächern gehabt, keine guten Zensuren.  \n",
       "30                                                                                                                                                                                                                                                                                                                                                                                                                                                                                          Schon immer kompetenter in naturwissenschaftlichen Fächern als in anderen, da vor allem auch größeres Interesse vorzufinden war.  \n",
       "267                                                                                                                                                                                                                                                                                                                                                                                                                                                                                           Mein Partner ist Informatiker und hat mir gezeigt, dass programmieren Spaß macht., Logisches Denken/Knobeln beim Programmieren  \n",
       "419                                                                                                                                                                                                                                                                                                                                                                                                                                                                                                                                                                                                       geringes Interesse  \n",
       "338                                                                                                                                                                                                                                                                                                                                                                                                                                                                                                     Ich fand das Fachgebiet interessant und wollte mehr in dem Bereich lernen, da meine Vorkenntnisse sehr gering waren.  \n",
       "185                                                                                                                                                                                                                                                                                                                                                                                                                                                                                                                     Ich war vorab bereits in dem Bereich tätig, es war nur die logische Folge meines bisherigen Berufes.  \n",
       "49   Der Bezug zur Praxis fehlt während des Unterrichts in diesen Fächern, vieles ist sehr abstrakt, daher fällt es schwer komplexe Sachverhalte zu verstehen., Kein Schüler versteht wirklich, in welchen Bereichen dieses Wissen tatsächlich angewendet werden kann. Aus Mathematikern werden Matheprofessoren, aus Chemikern Leute, die mit bunten Flüssigkeiten pantschen, Physiker werden Albert Einsteins und Technikbegeisterte zu Daniel Düsentriebs, so denkt man. Da sieht keiner so wirklich die Chance den Anforderungen zu genügen oder versteht, dass man in diesen Bereichen vielleicht auch einmal Produk...  \n",
       "176                                                                                                                                                                                                                                                                                                                                                                                                                                                                                  In meinem ersten Studoum hat mich besonders der Bereich Prothetik interessiert, weswegen ich mich auf Materialien spezialisieren wollte  \n",
       "7                                                                                                                                                                                                                                                                                                                                                                                                                                                                                                                                                    Persönliches Interesse, mein schulischer Werdegang war darauf ausgelegt  \n",
       "86                                                                                                                                                                                                                                                                                                                                                                                                                                                                                                                  Bereits vorher in der Branche gearbeitet, Neugier etwas neues zu lernen und neue Kompetenzen zu erlangen  \n",
       "104                                                                                                                                                                                                                                                                                                                                                                                                                                                                                                                                                   Unstimmigkeiten in der Abteilung (Job) haben zur Weiterbildung geführt  \n",
       "161                                                                                                                                                                                                                                                                                                                                                                                                                                                             Mein Vater hat Bauingenieurswesen studiert und ich habe diesen Themenbereich interessant gefunden und mich dazu entschlossen diesen ebenfalls einzuschlagen.  \n",
       "0                                                                                                                             Warum habe ich das studiert?, - das Gefühl haben, etwas Gutes für die Gesellschaft zu machen (einen sinnvollen Beruf zu erlernen), - die Umwelt zu schützen und die Energiewende positiv zu beeinflussen, - wollte mehr über naturwissenschaftliche Themen erfahren, , Was hat mich dazu bewegt?, - großes Interesse schon zu Schulzeiten, - aktuelles Thema (es gibt kein aktuelleres / dringenderes Thema als Klimawandel und wie man diesen mit fortschreitenden Technologien stoppen kann)  \n",
       "80                       Nach der Schule wusste ich nicht, wohin meine weitere berufliche Reise gehen soll. Nach dem Grundwehrdienst und längerem Überlegen kamen kurzerhand Maschinenbau- und Bauingenieurwesen in die engere Auswahl. Der Grund hierfür: Ich habe früher gerne mit Lego gespielt und Sachen gebaut...das war wirklich der einzige Grund. ^^, Am Ende ist es dann Bauingenieurwesen geworden. Zu der Zeit war die berufliche Zukunft für Maschinenbauingenieure angeblich weniger gut. Alles in allem waren es damals also gute Erinnerungen und Vorlieben aus der Vergangenheit und berufliche Sicherheit.  \n",
       "114                                                                                                                                                                                                                                                                                                                                                         Die Erfahrungen aus der Schule waren meine einzige Grundlage und da dort sowohl Erfolg und Interesse (beeinflusst sich gegenseitig) in den MINT-Fächern am größten war, entschied ich mich für ein Ingenieursstudium in dem 'alle' MINT-Fächer abgedeckt werden.  \n",
       "22                                                                                                                                                                                                                                                                                                                                                                                                                                                                                                                             Reines Interesse. Bekannte die dieses Fach studiert haben und nun in diesem Bereich arbeiten.  \n",
       "197                                                                                                                                                                                                                                                                                                                                                                                                                                                                                                                         Erstes Studium (Medieninformatik) gescheitert. Neues Studium demnach nicht mehr im MINT-Bereich.  \n",
       "191                                                                                                                                                                                                                                                                                                                                                                                                                                                                                                                                                                                               Weil Mathe blöd ist. Nein.  \n",
       "232                                                                                                                                                                                                                                                                                Ich habe das nie in Erwägung gezogen, vor Allem, da Informatik in der Schule mein absolutes Hassfach war, was aber auch am Lehrer lag. Des Weiteren fehl mir einfach das mathematische Verständnis. Chemie hat mich jedoch trotzdem sehr interessiert, besonders organische Chemie. Leider kommt man auch dort nicht ohne Mathematik aus.  \n",
       "258                                                                                                                                                                                                                                                                                                                                                                                                                                                                                                                                                                                        Habe viele Freunde in der Branche  \n",
       "153                                                                                                                                                                                                                                                                                                                                                                              Während meiner Schulzeit an der BON (FOS) absolvierte ich den Technik-Zweig. Teil der schulischen Ausbildung war unter anderem auch das Fach 'Technik', das mir großen Spaß gemacht hat und als Vorbereitung für mein WT-Studium super war.  \n",
       "493                                                                                                                                                                                                                                                                                                                                             Weil ich schon immer sehr interessiert an Physik, Chemie, Biologie, Mathematik und Informatik war. Physik gehörte zu einer meiner besten Fächer in der Sekundarstufe und Oberstufe. Problemlösungen finden, Experimentieren und Arbeiten am PC machten mir zudem stets Spaß.  \n",
       "448                                                                                                                                                                                                                                                                                                                                                                                                                                                                                                          Wollte Lehrer werden, habe ein Jahr lang Erste-Hilfe Kurse gegeben und habe keine Lust mehr auf Menschen gehabt  \n",
       "327                                                                                                                                                                                                                                                                                                                                                                                                                                                                                                                          Gute Berufschancen, Beruf, der immerwieder Neues zu bieten hat, gutes Gehalt, Weiterentwicklung  \n",
       "87                                                                                                                                                                                                                                                                                                                                                                                        Ich möchte Dinge gestalten, das sie ansprechend auf andere Personen wirken. Ich werde verrückt mit den Forschungssoftwaredesigns. Ich denk mir jedesmal die könnte doch wohl etwas schöner ansprechender und übersichtlicher sein.  \n",
       "195                                                                                                                                                                                                                                                                                                                                                                                                                            Nach der Schule wollte ich Chemie studieren habe aber die Ausbildung zur Fachinformatikerin entschieden. Studieren wollte ich Informatik nicht, weil ich es mir damals nicht zugetraut hatte.  \n",
       "21                                                                                                                                                                                                                                                                                                                                                                                                                                                                                                                                                       Interesse an Wissenschaft, ihren Anwendungen und Technik allgemein.  \n",
       "306                                                                                                                                                                                                                                                                                                                                                                                                                                                                                                Interesse an Naturwissenschaften und gute Noten in diesen während der Schulzeit. Ich war in der FOS im technischen Zweig.  \n",
       "420                                                                                                                                                                                                                                                                                                                                                                                                                                                                                                                                                            Interesse an Informatik in der Schule, Lust mehr zu erfahren.  \n",
       "2                                                                                                                                                                                                                                                                                                                                                                                                                                                                                                                                        Immer gut in Mathe und Naturwissenschaften., Allgemeines Interesse an Energiethemen  "
      ]
     },
     "execution_count": 75,
     "metadata": {},
     "output_type": "execute_result"
    }
   ],
   "source": [
    "# Spaltenbreite kann ggf. damit verbreitert werden, damit mehr Text sichtbar wird\n",
    "pd.set_option('max_colwidth', 600)\n",
    "\n",
    "test_df[['category', 'predicted', 'Gründe']][(test_df.category_id != test_df.predicted_id)]"
   ]
  },
  {
   "cell_type": "markdown",
   "metadata": {},
   "source": [
    "### Fazit"
   ]
  },
  {
   "cell_type": "markdown",
   "metadata": {},
   "source": [
    "Beide Modelle liefern keine guten Ergebnisse auch nach der Parameteroptimierung nicht.\n",
    "Daraus lässt sich schließen, dass Anhand der Begründung und deren Schreibstil oder verwendeter Worte keine grobe Unterscheidung stattfinden kann ob der Verfasser männlich oder weiblich ist. Generell ist jedoch festzustellen, dass weibliche Authoren wesentlich besser als solche erkannt werden als männliche.\n",
    "\n",
    "Genauere Einsicht in die Wortwahl könnte in der Sentiment-Analyse gewährt werden."
   ]
  }
 ],
 "metadata": {
  "kernelspec": {
   "display_name": "Python 3",
   "language": "python",
   "name": "python3"
  },
  "language_info": {
   "codemirror_mode": {
    "name": "ipython",
    "version": 3
   },
   "file_extension": ".py",
   "mimetype": "text/x-python",
   "name": "python",
   "nbconvert_exporter": "python",
   "pygments_lexer": "ipython3",
   "version": "3.7.1"
  },
  "toc": {
   "base_numbering": 1,
   "nav_menu": {
    "height": "56px",
    "width": "329px"
   },
   "number_sections": true,
   "sideBar": true,
   "skip_h1_title": false,
   "title_cell": "Table of Contents",
   "title_sidebar": "Contents",
   "toc_cell": true,
   "toc_position": {
    "height": "calc(100% - 180px)",
    "left": "10px",
    "top": "150px",
    "width": "165px"
   },
   "toc_section_display": true,
   "toc_window_display": true
  },
  "varInspector": {
   "cols": {
    "lenName": 16,
    "lenType": 16,
    "lenVar": 40
   },
   "kernels_config": {
    "python": {
     "delete_cmd_postfix": "",
     "delete_cmd_prefix": "del ",
     "library": "var_list.py",
     "varRefreshCmd": "print(var_dic_list())"
    },
    "r": {
     "delete_cmd_postfix": ") ",
     "delete_cmd_prefix": "rm(",
     "library": "var_list.r",
     "varRefreshCmd": "cat(var_dic_list()) "
    }
   },
   "types_to_exclude": [
    "module",
    "function",
    "builtin_function_or_method",
    "instance",
    "_Feature"
   ],
   "window_display": false
  }
 },
 "nbformat": 4,
 "nbformat_minor": 2
}
